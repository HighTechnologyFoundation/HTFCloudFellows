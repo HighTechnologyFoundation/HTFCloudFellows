{
 "cells": [
  {
   "cell_type": "markdown",
   "metadata": {},
   "source": [
    "# Climate-Informed Cybersecurity Preparedness in North Carolina\n",
    "\n",
    "This notebook demonstrates how to use NOAA Climate Data Products to identify areas of high risk for cybersecurity threats related to natural disasters like Hurricane Helene in North Carolina, focusing on Asheville and Greenville.\n",
    "\n",
    "**Objectives:**\n",
    "- **Identify Critical Infrastructure**: Locate data centers throughout North Carolina with the aid of publicly-available websites and web scraping tools.\n",
    "- **Determine High Risk Zones**: Assess flood-prone areas and identify data centers most vulnerable to flooding and damage.\n",
    "\n",
    "\n",
    "> ### Disclaimer: Understanding the Complexity of Hydrologic Physics\n",
    "> \n",
    "> Hydrology, the branch of science dedicated to understanding water movement and distribution, involves a range of factors that influence flood risk and water resource management. Additional factors may include soil saturation, watershed characteristics, river flow dynamics, evaporation rates, and topography. While this example uses precipitation totals as an indicator, it is important to note that **precipitation totals alone are not sufficient for a comprehensive climate-adjacent risk assessment**.\n",
    "> \n",
    "> \n",
    "> This example represents a simplified approach to climate-related risk assessment. Students are encouraged to build on this foundation by adding more complex variables from various datasets. Explore more NOAA datasets [here](https://www.arcgis.com/home/search.html?restrict=false&sortField=relevance&sortOrder=desc&searchTerm=owner%3A%22NWS.NCEP.CPC_noaa%22#content).\n",
    "\n",
    "\n"
   ]
  },
  {
   "cell_type": "markdown",
   "metadata": {},
   "source": [
    "## Case Study\n",
    "\n",
    "In the face of increasing flooding volatility due to climate change, you are apart of a technology firm that is proactively assessing potential risks to data centers across its North Carolina footprint, especially in light of unprecedented damage brought by Hurricane Helene. The firm needs to conduct a preliminary analysis to evaluate the need for redundant data centers in safer locations. As part of this assessment, we need to identifying potential weaknesses in our Asheville data center's network infrastructure, which might be at greater risk for cyber attacks if physical damage from flooding were to occur again. Our goal is to develop a robust strategy to strengthen our resilience against climate-related cyber threats and ensure the continuity of our operations."
   ]
  },
  {
   "cell_type": "code",
   "execution_count": null,
   "metadata": {},
   "outputs": [],
   "source": [
    "# Let's install all python packages we need.\n",
    "!pip install geopandas pandas matplotlib shapely contextily branca"
   ]
  },
  {
   "cell_type": "code",
   "execution_count": 2,
   "metadata": {},
   "outputs": [],
   "source": [
    "# Import necessary libraries\n",
    "import geopandas as gpd\n",
    "import pandas as pd\n",
    "import matplotlib.pyplot as plt\n",
    "from shapely.geometry import Point\n",
    "import contextily as ctx\n"
   ]
  },
  {
   "cell_type": "markdown",
   "metadata": {},
   "source": [
    "## Data Center Locations: Generating the CSV File\n",
    "\n",
    "For this example, I generated a CSV file of North Carolina data center locations to simulate a fictitious infrastructure footprint. I used the ParseHub app, which is a tool for web scraping, to extract data from the following website:\n",
    "\n",
    "[Data Centers in North Carolina - DataCenters.com](https://www.datacenters.com/locations/united-states/north-carolina)\n",
    "\n",
    "[ParseHub](https://www.parsehub.com/quickstart) allowed us to automate the process of collecting relevant information, such as the names and addresses of data centers listed on the website. I then exported this data into a CSV format. This dataset will serve as the foundation for our analysis, where we'll explore the cybersecurity preparedness of critical infrastructure in North Carolina.\n",
    "\n"
   ]
  },
  {
   "cell_type": "code",
   "execution_count": null,
   "metadata": {},
   "outputs": [],
   "source": [
    "# 4. Read Data Center Locations from the CSV File\n",
    "\n",
    "# Replace 'data_centers.csv' with the path to your CSV file\n",
    "infra_df = pd.read_csv('data_centers.csv')\n",
    "\n",
    "# Display the DataFrame\n",
    "print(\"Data Centers from CSV:\")\n",
    "infra_df\n"
   ]
  },
  {
   "cell_type": "markdown",
   "metadata": {},
   "source": [
    "## Visualizing Data Centers and GEFS Precipitation Forecast on a Map\n",
    "\n",
    "In this map, we will display the locations of data centers across North Carolina alongside the **Global Ensemble Forecast System (GEFS)** Day 12 precipitation forecast. The GEFS dataset, produced by the National Oceanic and Atmospheric Administration (NOAA), is a global weather forecast model that combines multiple weather simulations (or “ensemble members”) to predict conditions over a 16-day period.\n",
    "\n",
    "The **Day 12 forecast** specifically provides precipitation predictions 12 days into the future. This forecast is valuable for assessing potential rainfall, especially during extreme weather events, allowing organizations to plan and respond to anticipated conditions. By overlaying this data with data center locations, we can evaluate areas at risk from forecasted precipitation levels.\n"
   ]
  },
  {
   "cell_type": "code",
   "execution_count": null,
   "metadata": {},
   "outputs": [],
   "source": [
    "import folium\n",
    "\n",
    "\n",
    "\n",
    "# Define the center point for the map (Asheville, NC)\n",
    "map_center = [35.5951, -82.5515]\n",
    "\n",
    "# Create a Folium map centered on Asheville, using CartoDB Positron as a base layer\n",
    "m = folium.Map(location=map_center, zoom_start=8, tiles=\"CartoDB positron\", name=\"United States Boundaries\")\n",
    "\n",
    "# Add the ArcGIS MapServer as a tile layer. You can copy and paste the two lines of code below \n",
    "# and subsitute the url with anyweb map server endpoint of your choice. [Look here to find more datasets](https://www.arcgis.com/home/search.html?restrict=false&sortField=relevance&sortOrder=desc&searchTerm=owner%3A%22NWS.NCEP.CPC_noaa%22#content)\n",
    "arcgis_tile_url = \"https://tiles.arcgis.com/tiles/C8EMgrsFcRFL6LrL/arcgis/rest/services/prcp_gefs_day12_thresh_2/MapServer/tile/{z}/{y}/{x}\"\n",
    "folium.TileLayer(arcgis_tile_url, name=\"Precipitation Totals\", attr=\"ArcGIS\").add_to(m)\n",
    "\n",
    "# Add each data center as a marker on the map\n",
    "for _, row in infra_df.iterrows():\n",
    "    folium.Marker(\n",
    "        location=[row['latitude'], row['longitude']],\n",
    "        popup=row['datacenter_name_name'],\n",
    "        icon=folium.Icon(color=\"blue\", icon=\"cloud\")\n",
    "    ).add_to(m)\n",
    "\n",
    "# Display the map with infrastructure and precipitation data\n",
    "m\n"
   ]
  },
  {
   "cell_type": "markdown",
   "metadata": {},
   "source": [
    "The 20%, 40%, 60% values in the GEFS Day 12 precipitation forecast represent probability contours for receiving a certain amount of precipitation. For this demostration, we chose to look at areas recieving more than 2 inches of rainfall. These contours indicate the likelihood, based on the ensemble of forecast models, that a given area will experience precipitation above a specified threshold of 2 inches.\n",
    "\n",
    "Here's a breakdown:\n",
    "\n",
    "- 20% Contour: There’s a 20% chance that this area will receive at least the threshold amount of precipitation (e.g., 2 inches) within the forecast period.\n",
    "- 40% Contour: A 40% chance of meeting or exceeding the precipitation threshold.\n",
    "- 60% Contour (and higher): Higher probabilities, indicating areas with a greater likelihood of substantial rainfall.\n"
   ]
  },
  {
   "cell_type": "markdown",
   "metadata": {},
   "source": [
    "## Conclusion\n",
    "\n",
    "As of October 2024, there is currently no predicted rainfall greater than 2 inches for the North Carolina region. Instead, all significant rainfall predictions are concentrated around the tail of Central America.\n",
    "\n",
    "While this may be the case now, it’s important to remember that the GEFS model updates regularly, providing new forecasts as weather conditions evolve. This notebook serves as a quick and easily executable tool, allowing for rapid assessment of forecasted precipitation alongside critical infrastructure locations when locally volatile weather is anticipated.\n"
   ]
  }
 ],
 "metadata": {
  "kernelspec": {
   "display_name": "wvu_mj_2024_demo",
   "language": "python",
   "name": "python3"
  },
  "language_info": {
   "codemirror_mode": {
    "name": "ipython",
    "version": 3
   },
   "file_extension": ".py",
   "mimetype": "text/x-python",
   "name": "python",
   "nbconvert_exporter": "python",
   "pygments_lexer": "ipython3",
   "version": "3.13.0"
  }
 },
 "nbformat": 4,
 "nbformat_minor": 2
}
