{
 "cells": [
  {
   "cell_type": "markdown",
   "id": "4b391eef",
   "metadata": {},
   "source": [
    "## .csv file"
   ]
  },
  {
   "cell_type": "code",
   "execution_count": null,
   "id": "29d2c6f3",
   "metadata": {},
   "outputs": [],
   "source": [
    "import pandas as pd\n",
    "\n",
    "AZ_GHCN_URL = \"https://ghcn.blob.core.windows.net/ghcn/csv/daily/by_year/2024.csv\"\n",
    "\n",
    "new_columns = ['ID', 'YearMonthDay', 'Element', 'Value', 'M-Flag', 'Q-Flag', 'S-Flag', 'OBS-Time']\n",
    "\n",
    "df = pd.read_csv(AZ_GHCN_URL, names = new_columns)\n",
    "\n",
    "df\n"
   ]
  },
  {
   "cell_type": "markdown",
   "id": "372c4877",
   "metadata": {},
   "source": [
    "## .nc file"
   ]
  },
  {
   "cell_type": "code",
   "execution_count": null,
   "id": "68790d66",
   "metadata": {},
   "outputs": [],
   "source": [
    "import xarray as xr\n",
    "from adlfs import AzureBlobFileSystem\n",
    "\n",
    "storage_account_name = 'noaacdr'\n",
    "fs = AzureBlobFileSystem(\n",
    "    account_name = storage_account_name\n",
    ")\n",
    "\n",
    "file = fs.open(\"sea-ice-concentration/data/final/north/aggregate/seaice_conc_daily_nh_2023_v04r00.nc\")\n",
    "AZ_ds = xr.open_dataset(file, engine=\"h5netcdf\")\n",
    "AZ_ds"
   ]
  },
  {
   "cell_type": "markdown",
   "id": "d4c568d5",
   "metadata": {},
   "source": [
    "## .zarr file"
   ]
  },
  {
   "cell_type": "code",
   "execution_count": null,
   "id": "cb7601d9",
   "metadata": {},
   "outputs": [],
   "source": [
    "import fsspec\n",
    "\n",
    "Zarr_URL = 'https://daymeteuwest.blob.core.windows.net/daymet-zarr/daily/hi.zarr'\n",
    "\n",
    "store = fsspec.get_mapper(Zarr_URL)\n",
    "ds = xr.open_zarr(store)\n",
    "ds"
   ]
  },
  {
   "cell_type": "markdown",
   "id": "15fe4131",
   "metadata": {},
   "source": [
    "## .grib2 file"
   ]
  },
  {
   "cell_type": "code",
   "execution_count": null,
   "id": "9425e9bd",
   "metadata": {},
   "outputs": [],
   "source": [
    "import urllib.request\n",
    "import xarray as xr\n",
    "\n",
    "URL = 'https://noaahrrr.blob.core.windows.net/hrrr/hrrr.20210323/conus/hrrr.t00z.wrfnatf05.grib2'\n",
    "\n",
    "filename, _ = urllib.request.urlretrieve(URL)\n",
    "\n",
    "ds = xr.open_dataset(filename, engine=\"cfgrib\",  filter_by_keys={'typeOfLevel': 'meanSea'})\n",
    "\n",
    "ds"
   ]
  },
  {
   "cell_type": "markdown",
   "id": "188ba2a2",
   "metadata": {},
   "source": [
    "## .tif file"
   ]
  },
  {
   "cell_type": "code",
   "execution_count": null,
   "id": "a9e37755",
   "metadata": {},
   "outputs": [],
   "source": [
    "import rioxarray\n",
    "\n",
    "tif_url = 'https://ai4edataeuwest.blob.core.windows.net/alos-dem/AW3D30_global/ALPSMLC30_N061W147_DSM.tif'\n",
    "\n",
    "ds = rioxarray.open_rasterio(tif_url)\n",
    "\n",
    "ds"
   ]
  }
 ],
 "metadata": {
  "kernelspec": {
   "display_name": "testenv",
   "language": "python",
   "name": "python3"
  },
  "language_info": {
   "codemirror_mode": {
    "name": "ipython",
    "version": 3
   },
   "file_extension": ".py",
   "mimetype": "text/x-python",
   "name": "python",
   "nbconvert_exporter": "python",
   "pygments_lexer": "ipython3",
   "version": "3.11.8"
  }
 },
 "nbformat": 4,
 "nbformat_minor": 5
}
