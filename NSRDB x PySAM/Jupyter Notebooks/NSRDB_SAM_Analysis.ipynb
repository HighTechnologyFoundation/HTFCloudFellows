{
 "cells": [
  {
   "cell_type": "markdown",
   "id": "48efb814",
   "metadata": {},
   "source": [
    "# Solar Simulation Application with National Solar Radiation Database and System Advisor Model\n",
    "\n",
    "### Introducing students to:\n",
    "#### 1. Solar irradiance data along with other important meteorological variables in NSRDB\n",
    "#### 2. Solar power simulation functionality from System Advisor Model \n",
    "\n",
    "### This notebook demonstrates the following process:\n",
    "- Construct a configuration json file that specifies the information in each dataset\n",
    "- Create dropdown user interface to customize input variables \n",
    "- Fetch the URLs given input parameters \n",
    "- Access the data with the URLs through NREL developer API\n",
    "- Run solar simulation through PySAM modules\n",
    "- Visualize the results aggregated daily, monthly, and yearly\n",
    "\n",
    "\n",
    "### Prerequisites:\n",
    "This notebook assumes the following:\n",
    "- Understand the dataset in NSRDB through the official website : https://nsrdb.nrel.gov\n",
    "    * [Different Ways of Accessing NSRDB data.ipynb](https://github.com/HighTechnologyFoundation/HTFCloudFellows/blob/Justin-Lin/Solar%20Simulation%20Analysis/Jupyter%20Notebooks/Different%20Ways%20of%20Accessing%20NSRDB%20data.ipynb) This notebook demonstrates how to access NSRDB data from different sources including: \n",
    "        * Azure Blob Storage\n",
    "        * Google Cloud Storage \n",
    "        * AWS S3 Buckets\n",
    "        * NREL developer API\n",
    "        * AWS HDF Group's Highly Scalable Data Service (HSDS)\n",
    "    * List the characteristics for different datasets in NSRDB in `DatasetInfo.json` file under `Configuration Files` folder\n",
    "- Get NSRDB API Key: https://developer.nrel.gov/signup/\n",
    "    * Store the key in `API_Key.json` file under `Configuration Files` folder\n",
    "- The geographical lat lon information is stored in the `Areas_lat_lon.json` file under `Configuration Files` folder\n",
    "- The following packages need to be installed into your python environment: \n",
    "    - `pandas`  `numpy`  `matplotlib`  `ipywidgets`  `alive_progress`  `nrel-pysam`\n"
   ]
  },
  {
   "cell_type": "code",
   "execution_count": 1,
   "id": "6e38e262",
   "metadata": {},
   "outputs": [
    {
     "name": "stdout",
     "output_type": "stream",
     "text": [
      "Defaulting to user installation because normal site-packages is not writeable\n",
      "Requirement already satisfied: pandas in c:\\users\\ken\\appdata\\roaming\\python\\python311\\site-packages (2.2.2)\n",
      "Requirement already satisfied: numpy>=1.23.2 in c:\\users\\ken\\appdata\\roaming\\python\\python311\\site-packages (from pandas) (1.26.4)\n",
      "Requirement already satisfied: python-dateutil>=2.8.2 in c:\\users\\ken\\appdata\\roaming\\python\\python311\\site-packages (from pandas) (2.8.2)\n",
      "Requirement already satisfied: pytz>=2020.1 in c:\\users\\ken\\appdata\\roaming\\python\\python311\\site-packages (from pandas) (2023.4)\n",
      "Requirement already satisfied: tzdata>=2022.7 in c:\\users\\ken\\appdata\\roaming\\python\\python311\\site-packages (from pandas) (2023.4)\n",
      "Requirement already satisfied: six>=1.5 in c:\\users\\ken\\appdata\\roaming\\python\\python311\\site-packages (from python-dateutil>=2.8.2->pandas) (1.16.0)\n",
      "Note: you may need to restart the kernel to use updated packages.\n"
     ]
    },
    {
     "name": "stderr",
     "output_type": "stream",
     "text": [
      "DEPRECATION: Loading egg at c:\\program files\\python311\\lib\\site-packages\\vboxapi-1.0-py3.11.egg is deprecated. pip 24.3 will enforce this behaviour change. A possible replacement is to use pip for package installation. Discussion can be found at https://github.com/pypa/pip/issues/12330\n"
     ]
    },
    {
     "name": "stdout",
     "output_type": "stream",
     "text": [
      "Defaulting to user installation because normal site-packages is not writeable\n",
      "Requirement already satisfied: numpy in c:\\users\\ken\\appdata\\roaming\\python\\python311\\site-packages (1.26.4)\n",
      "Note: you may need to restart the kernel to use updated packages.\n"
     ]
    },
    {
     "name": "stderr",
     "output_type": "stream",
     "text": [
      "DEPRECATION: Loading egg at c:\\program files\\python311\\lib\\site-packages\\vboxapi-1.0-py3.11.egg is deprecated. pip 24.3 will enforce this behaviour change. A possible replacement is to use pip for package installation. Discussion can be found at https://github.com/pypa/pip/issues/12330\n"
     ]
    },
    {
     "name": "stdout",
     "output_type": "stream",
     "text": [
      "Defaulting to user installation because normal site-packages is not writeable\n",
      "Requirement already satisfied: matplotlib in c:\\users\\ken\\appdata\\roaming\\python\\python311\\site-packages (3.8.2)\n",
      "Requirement already satisfied: contourpy>=1.0.1 in c:\\users\\ken\\appdata\\roaming\\python\\python311\\site-packages (from matplotlib) (1.2.0)\n",
      "Requirement already satisfied: cycler>=0.10 in c:\\users\\ken\\appdata\\roaming\\python\\python311\\site-packages (from matplotlib) (0.12.1)\n",
      "Requirement already satisfied: fonttools>=4.22.0 in c:\\users\\ken\\appdata\\roaming\\python\\python311\\site-packages (from matplotlib) (4.47.2)\n",
      "Requirement already satisfied: kiwisolver>=1.3.1 in c:\\users\\ken\\appdata\\roaming\\python\\python311\\site-packages (from matplotlib) (1.4.5)\n",
      "Requirement already satisfied: numpy<2,>=1.21 in c:\\users\\ken\\appdata\\roaming\\python\\python311\\site-packages (from matplotlib) (1.26.4)\n",
      "Requirement already satisfied: packaging>=20.0 in c:\\users\\ken\\appdata\\roaming\\python\\python311\\site-packages (from matplotlib) (23.2)\n",
      "Requirement already satisfied: pillow>=8 in c:\\users\\ken\\appdata\\roaming\\python\\python311\\site-packages (from matplotlib) (10.2.0)\n",
      "Requirement already satisfied: pyparsing>=2.3.1 in c:\\users\\ken\\appdata\\roaming\\python\\python311\\site-packages (from matplotlib) (3.1.1)\n",
      "Requirement already satisfied: python-dateutil>=2.7 in c:\\users\\ken\\appdata\\roaming\\python\\python311\\site-packages (from matplotlib) (2.8.2)\n",
      "Requirement already satisfied: six>=1.5 in c:\\users\\ken\\appdata\\roaming\\python\\python311\\site-packages (from python-dateutil>=2.7->matplotlib) (1.16.0)\n",
      "Note: you may need to restart the kernel to use updated packages.\n"
     ]
    },
    {
     "name": "stderr",
     "output_type": "stream",
     "text": [
      "DEPRECATION: Loading egg at c:\\program files\\python311\\lib\\site-packages\\vboxapi-1.0-py3.11.egg is deprecated. pip 24.3 will enforce this behaviour change. A possible replacement is to use pip for package installation. Discussion can be found at https://github.com/pypa/pip/issues/12330\n"
     ]
    },
    {
     "name": "stdout",
     "output_type": "stream",
     "text": [
      "Defaulting to user installation because normal site-packages is not writeable\n",
      "Requirement already satisfied: ipywidgets in c:\\users\\ken\\appdata\\roaming\\python\\python311\\site-packages (8.1.1)\n",
      "Requirement already satisfied: comm>=0.1.3 in c:\\users\\ken\\appdata\\roaming\\python\\python311\\site-packages (from ipywidgets) (0.2.1)\n",
      "Requirement already satisfied: ipython>=6.1.0 in c:\\users\\ken\\appdata\\roaming\\python\\python311\\site-packages (from ipywidgets) (8.20.0)\n",
      "Requirement already satisfied: traitlets>=4.3.1 in c:\\users\\ken\\appdata\\roaming\\python\\python311\\site-packages (from ipywidgets) (5.14.1)\n",
      "Requirement already satisfied: widgetsnbextension~=4.0.9 in c:\\users\\ken\\appdata\\roaming\\python\\python311\\site-packages (from ipywidgets) (4.0.9)\n",
      "Requirement already satisfied: jupyterlab-widgets~=3.0.9 in c:\\users\\ken\\appdata\\roaming\\python\\python311\\site-packages (from ipywidgets) (3.0.9)\n",
      "Requirement already satisfied: decorator in c:\\users\\ken\\appdata\\roaming\\python\\python311\\site-packages (from ipython>=6.1.0->ipywidgets) (4.4.2)\n",
      "Requirement already satisfied: jedi>=0.16 in c:\\users\\ken\\appdata\\roaming\\python\\python311\\site-packages (from ipython>=6.1.0->ipywidgets) (0.19.1)\n",
      "Requirement already satisfied: matplotlib-inline in c:\\users\\ken\\appdata\\roaming\\python\\python311\\site-packages (from ipython>=6.1.0->ipywidgets) (0.1.6)\n",
      "Requirement already satisfied: prompt-toolkit<3.1.0,>=3.0.41 in c:\\users\\ken\\appdata\\roaming\\python\\python311\\site-packages (from ipython>=6.1.0->ipywidgets) (3.0.43)\n",
      "Requirement already satisfied: pygments>=2.4.0 in c:\\users\\ken\\appdata\\roaming\\python\\python311\\site-packages (from ipython>=6.1.0->ipywidgets) (2.17.2)\n",
      "Requirement already satisfied: stack-data in c:\\users\\ken\\appdata\\roaming\\python\\python311\\site-packages (from ipython>=6.1.0->ipywidgets) (0.6.3)\n",
      "Requirement already satisfied: colorama in c:\\users\\ken\\appdata\\roaming\\python\\python311\\site-packages (from ipython>=6.1.0->ipywidgets) (0.4.6)\n",
      "Requirement already satisfied: parso<0.9.0,>=0.8.3 in c:\\users\\ken\\appdata\\roaming\\python\\python311\\site-packages (from jedi>=0.16->ipython>=6.1.0->ipywidgets) (0.8.3)\n",
      "Requirement already satisfied: wcwidth in c:\\users\\ken\\appdata\\roaming\\python\\python311\\site-packages (from prompt-toolkit<3.1.0,>=3.0.41->ipython>=6.1.0->ipywidgets) (0.2.13)\n",
      "Requirement already satisfied: executing>=1.2.0 in c:\\users\\ken\\appdata\\roaming\\python\\python311\\site-packages (from stack-data->ipython>=6.1.0->ipywidgets) (2.0.1)\n",
      "Requirement already satisfied: asttokens>=2.1.0 in c:\\users\\ken\\appdata\\roaming\\python\\python311\\site-packages (from stack-data->ipython>=6.1.0->ipywidgets) (2.4.1)\n",
      "Requirement already satisfied: pure-eval in c:\\users\\ken\\appdata\\roaming\\python\\python311\\site-packages (from stack-data->ipython>=6.1.0->ipywidgets) (0.2.2)\n",
      "Requirement already satisfied: six>=1.12.0 in c:\\users\\ken\\appdata\\roaming\\python\\python311\\site-packages (from asttokens>=2.1.0->stack-data->ipython>=6.1.0->ipywidgets) (1.16.0)\n",
      "Note: you may need to restart the kernel to use updated packages.\n"
     ]
    },
    {
     "name": "stderr",
     "output_type": "stream",
     "text": [
      "DEPRECATION: Loading egg at c:\\program files\\python311\\lib\\site-packages\\vboxapi-1.0-py3.11.egg is deprecated. pip 24.3 will enforce this behaviour change. A possible replacement is to use pip for package installation. Discussion can be found at https://github.com/pypa/pip/issues/12330\n"
     ]
    },
    {
     "name": "stdout",
     "output_type": "stream",
     "text": [
      "Defaulting to user installation because normal site-packages is not writeable\n",
      "Requirement already satisfied: alive_progress in c:\\users\\ken\\appdata\\roaming\\python\\python311\\site-packages (3.1.5)\n",
      "Requirement already satisfied: about-time==4.2.1 in c:\\users\\ken\\appdata\\roaming\\python\\python311\\site-packages (from alive_progress) (4.2.1)\n",
      "Requirement already satisfied: grapheme==0.6.0 in c:\\users\\ken\\appdata\\roaming\\python\\python311\\site-packages (from alive_progress) (0.6.0)\n",
      "Note: you may need to restart the kernel to use updated packages.\n"
     ]
    },
    {
     "name": "stderr",
     "output_type": "stream",
     "text": [
      "DEPRECATION: Loading egg at c:\\program files\\python311\\lib\\site-packages\\vboxapi-1.0-py3.11.egg is deprecated. pip 24.3 will enforce this behaviour change. A possible replacement is to use pip for package installation. Discussion can be found at https://github.com/pypa/pip/issues/12330\n"
     ]
    },
    {
     "name": "stdout",
     "output_type": "stream",
     "text": [
      "Defaulting to user installation because normal site-packages is not writeable\n",
      "Requirement already satisfied: nrel-pysam in c:\\users\\ken\\appdata\\roaming\\python\\python311\\site-packages (5.1.0)\n",
      "Requirement already satisfied: pandas in c:\\users\\ken\\appdata\\roaming\\python\\python311\\site-packages (from nrel-pysam) (2.2.2)\n",
      "Requirement already satisfied: python-dotenv in c:\\users\\ken\\appdata\\roaming\\python\\python311\\site-packages (from nrel-pysam) (1.0.1)\n",
      "Requirement already satisfied: requests in c:\\users\\ken\\appdata\\roaming\\python\\python311\\site-packages (from nrel-pysam) (2.31.0)\n",
      "Requirement already satisfied: numpy>=1.23.2 in c:\\users\\ken\\appdata\\roaming\\python\\python311\\site-packages (from pandas->nrel-pysam) (1.26.4)\n",
      "Requirement already satisfied: python-dateutil>=2.8.2 in c:\\users\\ken\\appdata\\roaming\\python\\python311\\site-packages (from pandas->nrel-pysam) (2.8.2)\n",
      "Requirement already satisfied: pytz>=2020.1 in c:\\users\\ken\\appdata\\roaming\\python\\python311\\site-packages (from pandas->nrel-pysam) (2023.4)\n",
      "Requirement already satisfied: tzdata>=2022.7 in c:\\users\\ken\\appdata\\roaming\\python\\python311\\site-packages (from pandas->nrel-pysam) (2023.4)\n",
      "Requirement already satisfied: charset-normalizer<4,>=2 in c:\\users\\ken\\appdata\\roaming\\python\\python311\\site-packages (from requests->nrel-pysam) (3.3.2)\n",
      "Requirement already satisfied: idna<4,>=2.5 in c:\\users\\ken\\appdata\\roaming\\python\\python311\\site-packages (from requests->nrel-pysam) (3.6)\n",
      "Requirement already satisfied: urllib3<3,>=1.21.1 in c:\\users\\ken\\appdata\\roaming\\python\\python311\\site-packages (from requests->nrel-pysam) (2.0.7)\n",
      "Requirement already satisfied: certifi>=2017.4.17 in c:\\users\\ken\\appdata\\roaming\\python\\python311\\site-packages (from requests->nrel-pysam) (2023.11.17)\n",
      "Requirement already satisfied: six>=1.5 in c:\\users\\ken\\appdata\\roaming\\python\\python311\\site-packages (from python-dateutil>=2.8.2->pandas->nrel-pysam) (1.16.0)\n",
      "Note: you may need to restart the kernel to use updated packages.\n"
     ]
    },
    {
     "name": "stderr",
     "output_type": "stream",
     "text": [
      "DEPRECATION: Loading egg at c:\\program files\\python311\\lib\\site-packages\\vboxapi-1.0-py3.11.egg is deprecated. pip 24.3 will enforce this behaviour change. A possible replacement is to use pip for package installation. Discussion can be found at https://github.com/pypa/pip/issues/12330\n"
     ]
    }
   ],
   "source": [
    "# Executing this cell will install the required packages for the notebook\n",
    "%pip install pandas\n",
    "%pip install numpy\n",
    "%pip install matplotlib\n",
    "%pip install ipywidgets\n",
    "%pip install alive_progress\n",
    "%pip install nrel-pysam"
   ]
  },
  {
   "cell_type": "markdown",
   "id": "1cde4322",
   "metadata": {},
   "source": [
    "\n",
    "\n",
    "### References:\n",
    "- [NSRDB download instructions using API](https://developer.nrel.gov/docs/solar/nsrdb/)\n",
    "- [PySAM module references](https://nrel-pysam.readthedocs.io/en/main/py-modindex.html)\n",
    "\n",
    "#### Differences Between DNI, DHI, GHI:\n",
    "- Direct Normal Irradiance (DNI) is the amount of solar radiation received per unit area by a surface that is always held perpendicular (or normal) to the rays that come in a straight line from the direction of the sun at its current position in the sky. Typically, you can maximize the amount of irradiance annually received by a surface by keeping it normal to incoming radiation. This quantity is of particular interest to concentrating solar thermal installations and installations that track the position of the sun.\n",
    "\n",
    "- Diffuse Horizontal Irradiance (DHI) is the amount of radiation received per unit area by a surface (not subject to any shade or shadow) that does not arrive on a direct path from the sun, but has been scattered by molecules and particles in the atmosphere and comes equally from all directions.\n",
    "\n",
    "- Global Horizontal Irradiance (GHI) is the total amount of shortwave radiation received from above by a surface horizontal to the ground. This value is of particular interest to photovoltaic installations and includes both Direct Normal Irradiance (DNI) and Diffuse Horizontal Irradiance (DHI).\n",
    "\n",
    "<div align=center>\n",
    "<img src=\"..\\SolarIrradianceChart.png\" width=\"600\"/>\n",
    "</div>"
   ]
  },
  {
   "cell_type": "markdown",
   "id": "50f5d773",
   "metadata": {},
   "source": [
    "---\n",
    "### Create Dropdown Interfaces\n",
    "\n",
    "Design GUI components in dropdown format for users to choose the input variables. "
   ]
  },
  {
   "cell_type": "code",
   "execution_count": 2,
   "id": "d28f5853",
   "metadata": {},
   "outputs": [],
   "source": [
    "from ipywidgets import interact, Dropdown, Layout\n",
    "\n",
    "# Formatting settings for drop-down menus\n",
    "style = {'description_width': '200px'}\n",
    "layout = Layout(width='325px')\n",
    "\n",
    "# Create drop-down menus with pre defined formats\n",
    "InOrOutUS = Dropdown(description = 'Inside or Outside the US:', style=style, layout=layout)\n",
    "Area = Dropdown(description = 'Area:', style=style, layout=layout)\n",
    "StartYear = Dropdown(description = 'Start Year:', style=style, layout=layout)\n",
    "EndYear = Dropdown(description = 'End Year:', style=style, layout=layout)\n",
    "Interval = Dropdown(description = 'Temporal Resolution (in Minutes):', style=style, layout=layout)\n",
    "Capacity = Dropdown(description = 'Your System Capacity (in MW):', style=style, layout=layout)"
   ]
  },
  {
   "cell_type": "markdown",
   "id": "7654f1b3",
   "metadata": {},
   "source": [
    "### Define relationship between input variables\n",
    "\n",
    "Create dictionary that specifies the relationship between input variables from the configuration `DatasetInfo.json` file.\n",
    "- `InOutArea` - Given the option inside or outside the US, what areas are available for users to choose.\n",
    "- `AllAreaYear` - Given the areas, what are the years of the data covered in NSRDB.\n",
    "- `OutUSAreaRes` - Given the countries that is outside the US, what is the temporal resolution. "
   ]
  },
  {
   "cell_type": "code",
   "execution_count": null,
   "id": "97b14366",
   "metadata": {},
   "outputs": [],
   "source": [
    "from itertools import product\n",
    "from pathlib import Path\n",
    "import json\n",
    "import pandas as pd\n",
    "pd.set_option('display.max_columns', None)\n",
    "\n",
    "# Define file path\n",
    "ConfigFileDirectory = Path(\"..\") / \"Configuration Files\"\n",
    "DatasetInfoFile = \"DatasetInfo.json\"\n",
    "AreasLatLonFile = \"Areas_lat_lon.json\"\n",
    "ApiKeyFile = \"API_Key.json\"\n",
    "\n",
    "# Read json file\n",
    "with open(ConfigFileDirectory / DatasetInfoFile) as f:\n",
    "    DatasetInfo = json.load(f)\n",
    "\n",
    "with open(ConfigFileDirectory / AreasLatLonFile) as f:\n",
    "    GeoInfo = json.load(f)\n",
    "    \n",
    "# Get names for the states and countries\n",
    "InUSName = GeoInfo[\"States\"].keys()\n",
    "OutUSName = GeoInfo[\"Countries\"].keys()\n",
    "\n",
    "# Construct dictionary for user interface options purpose \n",
    "InOutArea = {'United States': InUSName, 'International': OutUSName}\n",
    "OutUSAreaYear = {}\n",
    "OutUSAreaRes = {}\n",
    "\n",
    "for key, value in DatasetInfo['OutTheUS'].items():\n",
    "    OutUSAreaYear[key] = [str(i) for i in range(int(value['StartYear']), int(value['EndYear']) + 1)]\n",
    "    OutUSAreaRes[key] = value['Resolution']\n",
    "\n",
    "# Define a function that converts tuple to dictionary\n",
    "def ConvertTupletoDict(tup, di):\n",
    "    for a, b in tup:\n",
    "        di.setdefault(a, []).append(b)\n",
    "    return di\n",
    "\n",
    "InUSAreaYear = ConvertTupletoDict([i for i in product(InUSName,\n",
    "                                                      [str(i) for i in range(int(DatasetInfo[\"InTheUS\"][\"LowResoluion\"][\"StartYear\"]), \n",
    "                                                                             int(DatasetInfo[\"InTheUS\"][\"LowResoluion\"][\"EndYear\"]) + 1)])], {})\n",
    "\n",
    "# Combine two dictionaries\n",
    "AllAreaYear = OutUSAreaYear | InUSAreaYear"
   ]
  },
  {
   "cell_type": "markdown",
   "id": "751ae49c",
   "metadata": {},
   "source": [
    "### Create function to fetch URLs given user inputs\n",
    "\n",
    "`Get_URLs_From_NSRDB()` - This function runs a loop to construct a list of valid URLs following the NSRDB API format.\n",
    "- Variables that change based on user inputs include : `lat` `lon` `year` `interval` `dataset` `attributes` \n"
   ]
  },
  {
   "cell_type": "code",
   "execution_count": null,
   "id": "8392319e",
   "metadata": {},
   "outputs": [],
   "source": [
    "from typing import List\n",
    "\n",
    "def Get_URLs_From_NSRDB() -> List[str]:\n",
    "    \n",
    "    UrlList = []\n",
    "    global lat, lon\n",
    "\n",
    "    # get API Key credentials\n",
    "    with open(ConfigFileDirectory / ApiKeyFile) as f:\n",
    "        Cred = json.load(f)\n",
    "    \n",
    "    # url parameters\n",
    "    interval = str(Interval.value)\n",
    "    leap_year = 'false'\n",
    "    utc = 'false'\n",
    "    mailing_list = 'false'\n",
    "\n",
    "    #TODO: Make this information anonymous\n",
    "    # this is my credentials, but you should replace them with your own\n",
    "    api_key = Cred[\"key\"]\n",
    "    your_name = 'Justin+Lin'\n",
    "    reason_for_use = 'beta+testing'\n",
    "    your_affiliation = 'HTF'\n",
    "    your_email = 'slin@wvhtf.org'\n",
    "\n",
    "    # get lat, lon, dataset, attributes for URLs inputs\n",
    "    if Area.value not in OutUSName:\n",
    "        lat = GeoInfo[\"States\"][Area.value]['latitude']\n",
    "        lon = GeoInfo[\"States\"][Area.value]['longitude']\n",
    "        dataset = DatasetInfo['InTheUS']['HighResolution']['Dataset'] if (Interval.value == \"5\") or (Interval.value == \"15\") else DatasetInfo['InTheUS']['LowResoluion']['Dataset']\n",
    "        attributes = DatasetInfo['InTheUS']['HighResolution']['Attributes']\n",
    "    else:\n",
    "        lat = GeoInfo['Countries'][Area.value]['latitude']\n",
    "        lon = GeoInfo['Countries'][Area.value]['longitude']\n",
    "        dataset = ', '.join(map(str, [v['Dataset'] for k, v in DatasetInfo['OutTheUS'].items() if Area.value == k]))\n",
    "        attributes = ', '.join(map(str, [v['Attributes'] for k, v in DatasetInfo['OutTheUS'].items() if Area.value == k]))\n",
    "\n",
    "    # we need to construct a url for each year in the range\n",
    "    for year in range(int(StartYear.value), EndYear.value+1):\n",
    "        url = f\"https://developer.nrel.gov/api/nsrdb/v2/solar/{dataset}.csv?\"\\\n",
    "                f\"wkt=POINT({lon}%20{lat})&names={year}&leap_day={leap_year}&interval={interval}\"\\\n",
    "                f\"&utc={utc}&full_name={your_name}&email={your_email}&affiliation={your_affiliation}\"\\\n",
    "                f\"&mailing_list={mailing_list}&reason={reason_for_use}&api_key={api_key}&attributes={attributes}\"\n",
    "\n",
    "        UrlList.append(url)\n",
    "\n",
    "    return UrlList"
   ]
  },
  {
   "cell_type": "markdown",
   "id": "4ccfd342",
   "metadata": {},
   "source": [
    "### Create function to run solar simulation through PySAM modules\n",
    "\n",
    "`Solar_Power_Simulation()` - This function does the following:\n",
    "- Read data from the URLs just created \n",
    "- Construct a SAM model \n",
    "- Set parameters for climate information and solar system configuration\n",
    "    - Parameters that are not defined by the user use the default value from SAM module\n",
    "- Execute the model to run simulation to get solar power generation data\n",
    "- Combine data for each year and return it\n",
    "- Create a progress bar while running this function"
   ]
  },
  {
   "cell_type": "code",
   "execution_count": null,
   "id": "c43febf3",
   "metadata": {},
   "outputs": [],
   "source": [
    "import numpy as np\n",
    "import PySAM.PySSC as pssc\n",
    "import warnings\n",
    "warnings.simplefilter(action='ignore', category=FutureWarning)\n",
    "from alive_progress import alive_bar\n",
    "\n",
    "\n",
    "def Solar_Power_Simulation(NSRDB_urls:List[str]) -> None:\n",
    "\n",
    "    global final_data\n",
    "    appended_data = []\n",
    "\n",
    "    with alive_bar(len(NSRDB_urls), force_tty=True, title='Simulating', length=20, bar = 'smooth') as bar:\n",
    "\n",
    "        for url in NSRDB_urls:\n",
    "\n",
    "            info = pd.read_csv(url, nrows=1)\n",
    "            # get timezone and elevation data for simulation model inputs\n",
    "            timezone, elevation = info['Local Time Zone'], info['Elevation']\n",
    "\n",
    "            df = pd.read_csv(url, skiprows=2)\n",
    "\n",
    "            # SAM Model for solar simulation\n",
    "            ssc = pssc.PySSC()\n",
    "\n",
    "            # Resource inputs for SAM model:\n",
    "            # Must be byte strings\n",
    "            wfd = ssc.data_create()\n",
    "            ssc.data_set_number(wfd, b'lat', lat)\n",
    "            ssc.data_set_number(wfd, b'lon', lon)\n",
    "            ssc.data_set_number(wfd, b'tz', timezone)\n",
    "            ssc.data_set_number(wfd, b'elev', elevation)\n",
    "            ssc.data_set_array(wfd, b'year', df['Year'])\n",
    "            ssc.data_set_array(wfd, b'month', df['Month'])\n",
    "            ssc.data_set_array(wfd, b'day', df['Day'])\n",
    "            ssc.data_set_array(wfd, b'hour', df['Hour'])\n",
    "            ssc.data_set_array(wfd, b'minute', df['Minute'])\n",
    "            ssc.data_set_array(wfd, b'dn', df['DNI'])\n",
    "            ssc.data_set_array(wfd, b'df', df['DHI'])\n",
    "            ssc.data_set_array(wfd, b'wspd', df['Wind Speed'])\n",
    "            if Area.value == 'Puerto Rico':\n",
    "                ssc.data_set_array(wfd, b'tdry', df['Air Temperature'])\n",
    "            else:\n",
    "                ssc.data_set_array(wfd, b'tdry', df['Temperature'])\n",
    "\n",
    "            # Create SAM compliant object  \n",
    "            dat = ssc.data_create()\n",
    "            ssc.data_set_table(dat, b'solar_resource_data', wfd)\n",
    "            ssc.data_free(wfd)\n",
    "\n",
    "            # Specify the system Configuration\n",
    "            # Set system capacity in MW\n",
    "            ssc.data_set_number(dat, b'system_capacity', Capacity.value)\n",
    "            # Set DC/AC ratio (or power ratio).\n",
    "            ssc.data_set_number(dat, b'dc_ac_ratio', 1.1)\n",
    "            # Set tilt of system in degrees\n",
    "            ssc.data_set_number(dat, b'tilt', 25)\n",
    "            # Set azimuth angle (in degrees) from north (0 degrees)\n",
    "            ssc.data_set_number(dat, b'azimuth', 180)\n",
    "            # Set the inverter efficency\n",
    "            ssc.data_set_number(dat, b'inv_eff', 96)\n",
    "            # Set the system losses, in percent\n",
    "            ssc.data_set_number(dat, b'losses', 14.0757)\n",
    "            # Specify fixed tilt system (0=Fixed, 1=Fixed Roof, 2=1 Axis Tracker, 3=Backtracted, 4=2 Axis Tracker)\n",
    "            ssc.data_set_number(dat, b'array_type', 0)\n",
    "            # Set ground coverage ratio\n",
    "            ssc.data_set_number(dat, b'gcr', 0.4)\n",
    "            # Set constant loss adjustment\n",
    "            ssc.data_set_number(dat, b'adjust:constant', 0)\n",
    "\n",
    "            # execute and put generation results back into dataframe\n",
    "            mod = ssc.module_create(b'pvwattsv5')\n",
    "            ssc.module_exec(mod, dat)\n",
    "            df[b'generation'] = np.array(ssc.data_get_array(dat, b'gen'))\n",
    "\n",
    "            # free the memory\n",
    "            ssc.data_free(dat)\n",
    "            ssc.module_free(mod)\n",
    "\n",
    "            appended_data.append(df)\n",
    "\n",
    "            bar()\n",
    "\n",
    "    final_data = pd.concat(appended_data)\n",
    "\n",
    "    print(f'\\033[1mThis dataset has {final_data.shape[0]} rows and {final_data.shape[1]} columns\\033[0m')\n",
    "    return final_data.head(20)"
   ]
  },
  {
   "cell_type": "markdown",
   "id": "cdffe3f0",
   "metadata": {},
   "source": [
    "### Create functions to visualize the results \n",
    "\n",
    "`daily_plot(df)` - This function creates chart with dual axes to compare daily changes for solar radiance data (GHI, DNI, DHI) and solar zenith angle to simulated solar generation data given the `final_data` just created. "
   ]
  },
  {
   "cell_type": "code",
   "execution_count": null,
   "id": "4b646e7c",
   "metadata": {},
   "outputs": [],
   "source": [
    "from matplotlib import pyplot as plt\n",
    "\n",
    "# specify the style for the chart\n",
    "plt.style.use('Solarize_Light2')\n",
    "\n",
    "def daily_plot(df):\n",
    "    \n",
    "    # specify chart size and create twin ax\n",
    "    fig = plt.figure(figsize=(15,8))\n",
    "    ax = fig.add_subplot(111)\n",
    "    ax2 = ax.twinx()\n",
    "    \n",
    "    # Vietnam and Philippines don't have `Solar Zenith Angle` data\n",
    "    # aggregate the data by hour and sum it up\n",
    "    # specify the line style for each attributes\n",
    "    if (Area.value == 'Vietnam') or (Area.value == 'Philippines'):\n",
    "        df = df.groupby('Hour').sum()[['GHI', 'DNI', 'DHI', b'generation']]\n",
    "        df[['GHI', 'DNI', 'DHI']].plot(ax=ax, style={'DNI': 'c-o', 'DHI': '-o', 'GHI': 'r-o'}, legend=False)\n",
    "    else:\n",
    "        df = df.groupby('Hour').sum()[['GHI', 'DNI', 'DHI', 'Solar Zenith Angle', b'generation']]\n",
    "        df[['GHI', 'DNI', 'DHI', 'Solar Zenith Angle']].plot(ax=ax, style={'Solar Zenith Angle': 'm-o', 'DNI': 'c-o', 'DHI': 'y-o', 'GHI': 'r-o'}, legend=False)\n",
    "    df[b'generation'].plot(ax=ax2, style={b'generation': '-D'})\n",
    "\n",
    "    # specify ylabels, grid, legend, xticks, and title to make the chart more clear\n",
    "    ax.set_ylabel('W/m2')\n",
    "    ax2.set_ylabel('kW')\n",
    "    ax.grid()\n",
    "    ax.legend(loc=2, ncol=4, frameon=False)\n",
    "    ax2.legend(loc=1, labels = ['Solar Power Generation'], frameon=False)\n",
    "    ax.set_xticks([i for i in range(1, 25, 2)])\n",
    "    if StartYear.value != EndYear.value:\n",
    "        plt.title(f'Aggregated daily solar simulation results with {Interval.value} min temporal resolution in {Area.value} from {StartYear.value} to {EndYear.value}')\n",
    "    else:\n",
    "        plt.title(f'Aggregated daily solar simulation results with {Interval.value} min temporal resolution in {Area.value} in {StartYear.value}')\n"
   ]
  },
  {
   "cell_type": "markdown",
   "id": "8e674ed6",
   "metadata": {},
   "source": [
    "`monthly_plot(df)` - This function creates chart with dual axes to compare monthly changes for solar radiance data (GHI) and simulated solar generation data given the `final_data` just created. "
   ]
  },
  {
   "cell_type": "code",
   "execution_count": null,
   "id": "fbd9bb63",
   "metadata": {},
   "outputs": [],
   "source": [
    "def monthly_plot(df):\n",
    "    \n",
    "    fig = plt.figure(figsize=(15,8))\n",
    "    ax = fig.add_subplot(111)\n",
    "    ax2 = ax.twinx()\n",
    "\n",
    "    df = df.groupby('Month').sum()[['GHI', b'generation']]\n",
    "    df['GHI'].plot(ax=ax, color = 'tab:red', style={'GHI': '-o'}, legend=False)\n",
    "    df[b'generation'].plot(ax=ax2, style={b'generation': '-D'})\n",
    "    \n",
    "    ax.set_ylabel('W/m2')\n",
    "    ax2.set_ylabel('kW')\n",
    "    ax.grid()\n",
    "    ax.legend(loc=2, frameon=False)\n",
    "    ax2.legend(loc=1, labels = ['Solar Power Generation'], frameon=False)\n",
    "    ax.set_xticks(df.index)\n",
    "    if StartYear.value != EndYear.value:\n",
    "        plt.title(f'Aggregated monthly solar simulation results with {Interval.value} min temporal resolution in {Area.value} from {StartYear.value} to {EndYear.value}')\n",
    "    else:\n",
    "        plt.title(f'Aggregated monthly solar simulation results with {Interval.value} min temporal resolution in {Area.value} in {StartYear.value}')"
   ]
  },
  {
   "cell_type": "markdown",
   "id": "cd8580ba",
   "metadata": {},
   "source": [
    "`yearly_plot(df)` - This function creates chart with dual axes to compare yearly changes for solar radiance data (GHI) and simulated solar generation data given the `final_data` just created. "
   ]
  },
  {
   "cell_type": "code",
   "execution_count": null,
   "id": "81325788",
   "metadata": {},
   "outputs": [],
   "source": [
    "def yearly_plot(df):\n",
    "    \n",
    "    fig = plt.figure(figsize=(15,8))\n",
    "    ax = fig.add_subplot(111)\n",
    "    ax2 = ax.twinx()\n",
    "\n",
    "    df = df.groupby('Year').sum()[['GHI', b'generation']]\n",
    "    df['GHI'].plot(ax=ax, color = 'tab:red', style = {'GHI' : '-o'}, legend=False)\n",
    "    df[b'generation'].plot(ax=ax2, style={b'generation': '-D'})\n",
    "    \n",
    "    ax.grid()\n",
    "    ax.set_ylabel('W/m2')\n",
    "    ax2.set_ylabel('kW')\n",
    "    ax.legend(loc=2, frameon=False)\n",
    "    ax2.legend(loc=1, labels = ['Solar Power Generation'], frameon=False)\n",
    "    ax.set_xticks(df.index)\n",
    "    if StartYear.value != EndYear.value:\n",
    "        plt.title(f'Aggregated yearly solar simulation results with {Interval.value} min temporal resolution in {Area.value} from {StartYear.value} to {EndYear.value}')\n",
    "    else:\n",
    "        plt.title(f'Aggregated yearly solar simulation results with {Interval.value} min temporal resolution in {Area.value} in {StartYear.value}')"
   ]
  },
  {
   "cell_type": "markdown",
   "id": "e9bdb858",
   "metadata": {},
   "source": [
    "---\n",
    "### User Interface for parameters input\n",
    "\n",
    "Define a function to present the user with their options for the analysis.  This includes:\n",
    "- `InOrOutUS`\n",
    "- `Area`\n",
    "- `StartYear`\n",
    "- `EndYear`\n",
    "- `Interval`\n",
    "- `Capacity` "
   ]
  },
  {
   "cell_type": "code",
   "execution_count": null,
   "id": "a972d662",
   "metadata": {},
   "outputs": [],
   "source": [
    "@interact(inout = InOrOutUS, area = Area, start = StartYear, end = EndYear, interval = Interval, capacity = Capacity)\n",
    "def display_interface(inout, area, start, end, interval, capacity):\n",
    "    \n",
    "    try:\n",
    "        InOrOutUS.options = ['United States', 'International']\n",
    "        Area.options = InOutArea[inout]\n",
    "        StartYear.options = AllAreaYear[Area.value]\n",
    "        EndYear.options = [i for i in range(int(StartYear.value), int(AllAreaYear[Area.value][-1]) + 1)]\n",
    "        if (StartYear.value >= DatasetInfo['InTheUS']['HighResolution']['StartYear']) and (inout == 'United States'):\n",
    "            resolution = DatasetInfo[\"InTheUS\"][\"HighResolution\"][\"Resolution\"]\n",
    "        elif inout == 'United States':\n",
    "            resolution = DatasetInfo[\"InTheUS\"][\"LowResoluion\"][\"Resolution\"]\n",
    "        else:\n",
    "            resolution = OutUSAreaRes[Area.value]\n",
    "        Interval.options = resolution\n",
    "        Capacity.options = [i / 10 for i in range(1, 101)]\n",
    "        \n",
    "        print(inout, area, start, end, interval, capacity)\n",
    "    \n",
    "    except KeyError:\n",
    "        print('Please choose an area')\n",
    "    except TypeError: \n",
    "        print('Please choose a start year')"
   ]
  },
  {
   "cell_type": "markdown",
   "id": "34768b24",
   "metadata": {},
   "source": [
    "### Fetch URLs "
   ]
  },
  {
   "cell_type": "code",
   "execution_count": null,
   "id": "780ab3bc",
   "metadata": {},
   "outputs": [],
   "source": [
    "# Construct URLs to retrieve data from NREL\n",
    "data_urls = Get_URLs_From_NSRDB()\n",
    "\n",
    "data_urls"
   ]
  },
  {
   "cell_type": "markdown",
   "id": "22fb1b46",
   "metadata": {},
   "source": [
    "### Run simulations"
   ]
  },
  {
   "cell_type": "code",
   "execution_count": null,
   "id": "78eb3bc1",
   "metadata": {},
   "outputs": [],
   "source": [
    "Solar_Power_Simulation(data_urls)"
   ]
  },
  {
   "cell_type": "markdown",
   "id": "e8d26b51",
   "metadata": {},
   "source": [
    "### Visualization for the simulation results aggregated daily, monthly, and yearly"
   ]
  },
  {
   "cell_type": "code",
   "execution_count": null,
   "id": "20763934",
   "metadata": {},
   "outputs": [],
   "source": [
    "daily_plot(final_data)"
   ]
  },
  {
   "cell_type": "code",
   "execution_count": null,
   "id": "10b617ba",
   "metadata": {},
   "outputs": [],
   "source": [
    "monthly_plot(final_data)"
   ]
  },
  {
   "cell_type": "code",
   "execution_count": null,
   "id": "f4cae138",
   "metadata": {},
   "outputs": [],
   "source": [
    "yearly_plot(final_data)"
   ]
  }
 ],
 "metadata": {
  "kernelspec": {
   "display_name": "myenv",
   "language": "python",
   "name": "python3"
  },
  "language_info": {
   "codemirror_mode": {
    "name": "ipython",
    "version": 3
   },
   "file_extension": ".py",
   "mimetype": "text/x-python",
   "name": "python",
   "nbconvert_exporter": "python",
   "pygments_lexer": "ipython3",
   "version": "3.11.6"
  }
 },
 "nbformat": 4,
 "nbformat_minor": 5
}
