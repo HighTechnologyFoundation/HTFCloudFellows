{
 "cells": [
  {
   "cell_type": "markdown",
   "id": "2bdaafde",
   "metadata": {},
   "source": [
    "# Creating drop down menus to visualize four different types of risk data in the United States or in West Virginia\n",
    "\n",
    "The use of this notebook assumes you have performed the following:\n",
    "* Followed the directions in the \"How to access data on AWS.docx\" document for \"Processing Data Via Amazon S3 Buckets\".\n",
    "* Recorded your AWS access credentials in the `credentials.json` file\n",
    "* To be fully functional, you must download the data sets for fire, flood, heat, and wind into your S3 bucket from First Street.\n",
    "\n",
    "---"
   ]
  },
  {
   "cell_type": "code",
   "execution_count": null,
   "id": "00de4ac2",
   "metadata": {},
   "outputs": [],
   "source": [
    "# Executing this cell will install the required packages for the notebook\n",
    "%pip install pandas\n",
    "%pip install numpy\n",
    "%pip install matplotlib\n",
    "%pip install folium\n",
    "%pip install mapclassify\n",
    "%pip install branca\n",
    "%pip install ipywidgets\n",
    "%pip install geopandas\n",
    "%pip install seaborn\n",
    "%pip install json\n",
    "%pip install fsspec\n",
    "%pip install s3fs"
   ]
  },
  {
   "cell_type": "code",
   "execution_count": null,
   "id": "9f30ab77",
   "metadata": {},
   "outputs": [],
   "source": [
    "# Configure the following variables to match your environment\n",
    "auxilliaryDataDirectory = \"..\\\\Climate Risk data\\\\Auxiliary Data\\\\\"\n",
    "\n",
    "# This is your AWS S3 bucket name\n",
    "s3_URI_prefix = \"s3://justindemo123\""
   ]
  },
  {
   "cell_type": "markdown",
   "id": "23fa62ec",
   "metadata": {},
   "source": [
    "\n",
    "`createDisasterRiskWidget()` - Generates a GUI component for selecting different disaster risk options."
   ]
  },
  {
   "cell_type": "code",
   "execution_count": null,
   "id": "14f2971c",
   "metadata": {},
   "outputs": [],
   "source": [
    "import ipywidgets as widgets\n",
    "\n",
    "def createDisasterRiskWidget():\n",
    "    # Formatting settings for drop-down menus\n",
    "    style = {'description_width': '120px'}\n",
    "    layout = widgets.Layout(width='325px')\n",
    "\n",
    "    # Create drop-down menu for disaster type\n",
    "    return widgets.Dropdown(options=['fire', 'flood', 'heat', 'wind'], \n",
    "                            description='Disaster:', style=style, layout=layout)\n"
   ]
  },
  {
   "cell_type": "markdown",
   "id": "bd62444c",
   "metadata": {},
   "source": [
    "This function, `getRegionRiskWidget()`, serves a similar purpose to the previous function. It creates a GUI component for selecting different regions to be analyzed."
   ]
  },
  {
   "cell_type": "code",
   "execution_count": null,
   "id": "43f1d4bb",
   "metadata": {},
   "outputs": [],
   "source": [
    "def getRegionRiskWidget():\n",
    "    # Formatting settings for drop-down menus\n",
    "    style = {'description_width': '120px'}\n",
    "    layout = widgets.Layout(width='325px')\n",
    "\n",
    "    return widgets.Dropdown(options=['United States', 'West Virginia'],\n",
    "                            description='Region:', style=style, layout=layout)\n"
   ]
  },
  {
   "cell_type": "markdown",
   "id": "99dd385c",
   "metadata": {},
   "source": [
    "\n",
    "`risk_data(disaster_type, region)` - Retrieves and processes risk data for a selected disaster type and region.  \n",
    "\n",
    "Handles data retrieval, processing, and geo-processing to analyze risk factors associated with the chosen disaster.  \n",
    "Returns processed data, including FIPS code, region name, average risk, and geometry."
   ]
  },
  {
   "cell_type": "code",
   "execution_count": null,
   "id": "eb3447b0",
   "metadata": {},
   "outputs": [],
   "source": [
    "import pandas as pd\n",
    "import geopandas as gpd\n",
    "import json\n",
    "\n",
    "def risk_data(disaster_type, region):\n",
    "    if region == 'United States':\n",
    "        reg = \"state\"\n",
    "    else:\n",
    "        reg = \"county\"\n",
    "\n",
    "    # Determine the version of the data to use based on the disaster type\n",
    "    match disaster_type:\n",
    "        case \"fire\":\n",
    "            version = \"v2.0\"\n",
    "        case \"flood\":\n",
    "            version = \"v3.0\"\n",
    "        case \"heat\":\n",
    "            version = \"v1.2\"\n",
    "        case _:\n",
    "            version = \"v1.1\"\n",
    "\n",
    "    # Construct the URI to the data in the S3 bucket\n",
    "    S3_URI = f\"{s3_URI_prefix}/{disaster_type}/{version}/summary/fsf_{disaster_type}_{reg}_summary.csv\"\n",
    "\n",
    "    # Retrieve credentials from a local file\n",
    "    with open('credentials.json') as f:\n",
    "        creds = json.load(f)\n",
    "\n",
    "    # Read the data from the S3 bucket\n",
    "    # NOTE: This will fail if the credentials are not set up correctly in the 'credential.json' file.\n",
    "    #       See 'How to access data on AWS.docx' for more information.\n",
    "    risk_data = pd.read_csv(\n",
    "        S3_URI,\n",
    "        storage_options={\n",
    "            \"key\": creds['key'],\n",
    "            \"secret\": creds['secret']\n",
    "        })\n",
    "\n",
    "    # Calculate the average risk per region\n",
    "    risk_data['average_risk'] = 0\n",
    "    for i in range(1, 11):\n",
    "        risk_data['average_risk'] += risk_data[f'count_{disaster_type}factor{i}'] * i\n",
    "        \n",
    "    # These lines normalize the average risk per property and standardize \n",
    "    # the formatting of FIPS codes in the data frame.\n",
    "    risk_data['average_risk'] /= risk_data['count_property']\n",
    "    risk_data.fips = risk_data['fips'].astype(str).str.zfill(2)\n",
    "\n",
    "    if region == 'United States':\n",
    "        # EPSG (European Petroleum Survey Group) is a standard for defining coordinate systems.\n",
    "        df_geo_US = gpd.read_file(f\"{auxilliaryDataDirectory}cb_2018_us_state_500k.shp\").to_crs(\"EPSG:4326\")\n",
    "        df_geo_US = df_geo_US.rename(columns={'GEOID': 'fips'})\n",
    "        \n",
    "        result_US = pd.merge(risk_data, df_geo_US, on='fips')\n",
    "        final_data_US = result_US[['fips', 'name', 'average_risk', 'geometry']]\n",
    "        return final_data_US\n",
    "    else:\n",
    "        df_geo_WV = gpd.read_file(f\"{auxilliaryDataDirectory}WV_County_Boundaries.geojson\").to_crs(\"EPSG:4326\")\n",
    "        df_geo_WV = df_geo_WV.rename(columns={'FIPS': 'fips'})\n",
    "\n",
    "        # converting fips codes to strings is done for WV (and not the US) as part of the data cleaning process.\n",
    "        df_geo_WV.fips = df_geo_WV['fips'].astype(str)\n",
    "\n",
    "        result_WV = pd.merge(risk_data, df_geo_WV, on='fips')\n",
    "        final_data_WV = result_WV[['fips', 'namelsad', 'average_risk', 'geometry']].rename(columns={'namelsad': 'name'})\n",
    "        return final_data_WV"
   ]
  },
  {
   "cell_type": "markdown",
   "id": "94eb572f",
   "metadata": {},
   "source": [
    "\n",
    "`top5HighRiskPlot(disaster_type, region)` - Generates a bar plot displaying the top five at risk regions with the highest risk factor for the chosen disaster type."
   ]
  },
  {
   "cell_type": "code",
   "execution_count": null,
   "id": "7d1ad5e9",
   "metadata": {},
   "outputs": [],
   "source": [
    "import matplotlib.pyplot as plt\n",
    "import seaborn as sns\n",
    "\n",
    "def top5HighRiskPlot(disaster_type, region):\n",
    "    # make the data global so that it doesn't have to be reloaded\n",
    "    global data\n",
    "\n",
    "    # fetch the data\n",
    "    data = risk_data(disaster_type, region)\n",
    "\n",
    "    sorted_data = data.sort_values(by='average_risk', ascending=False)\n",
    "\n",
    "    plt.figure(figsize=(8, 5))\n",
    "    if region == 'United States':\n",
    "        plt.title(f'Top five states with highest {disaster_type} risk')\n",
    "        if (disaster_type == 'heat' or disaster_type == 'fire'):\n",
    "            palette = sns.color_palette(\"OrRd\", as_cmap=True)\n",
    "        else:\n",
    "            palette = sns.color_palette(\"Blues\", as_cmap = True)\n",
    "    else:\n",
    "        plt.title(f'Top five counties in WV with highest {disaster_type} risk')\n",
    "        if (disaster_type == 'heat' or disaster_type == 'fire'):\n",
    "            palette = sns.color_palette(\"OrRd\", as_cmap=True)\n",
    "        else:\n",
    "            palette = sns.color_palette(\"Blues\", as_cmap = True)\n",
    "        \n",
    "    ax = sns.barplot(data=sorted_data.head(), x='name', y='average_risk', hue=\"average_risk\", legend=False, palette = palette)\n",
    "    ax.set(xlabel=None)\n",
    "    plt.tight_layout()\n",
    "    plt.show()"
   ]
  },
  {
   "cell_type": "markdown",
   "id": "de9dc748",
   "metadata": {},
   "source": [
    "`riskDistributionMap(disaster_type)` - Generates an interactive map showing the distribution of risk associated with a specific disaster."
   ]
  },
  {
   "cell_type": "code",
   "execution_count": null,
   "id": "0aa08575",
   "metadata": {},
   "outputs": [],
   "source": [
    "def riskDistributionMap(disaster_type):\n",
    "    # Choose a color map based on the disaster type\n",
    "    if (disaster_type == 'heat' or disaster_type == 'fire'):\n",
    "        colorMap = 'OrRd'\n",
    "    else:\n",
    "        colorMap = 'Blues'\n",
    "\n",
    "    # Create a GeoDataFrame from the data using the EPSG:4326 coordinate reference system\n",
    "    crs = {'init': 'EPSG:4326'}\n",
    "    geo_df = gpd.GeoDataFrame(data, crs=crs, geometry=data.geometry)\n",
    "\n",
    "    # Return an interactive map widget\n",
    "    return geo_df.explore(\n",
    "        column=\"average_risk\",\n",
    "        tooltip=\"name\",\n",
    "        popup=True,\n",
    "        tiles=\"CartoDB positron\",\n",
    "        cmap=colorMap,\n",
    "        style_kwds=dict(color=\"black\"),\n",
    "        legend_kwds=dict(caption=f\"{disaster_type} Risk\")\n",
    "    )"
   ]
  },
  {
   "cell_type": "code",
   "execution_count": null,
   "id": "95765a39",
   "metadata": {},
   "outputs": [],
   "source": [
    "# Display the disaster risk options to the user\n",
    "riskChoicesWidget = createDisasterRiskWidget()\n",
    "riskChoicesWidget"
   ]
  },
  {
   "cell_type": "code",
   "execution_count": null,
   "id": "75a51698",
   "metadata": {},
   "outputs": [],
   "source": [
    "# Display the user's choice.\n",
    "#   Note: The embedded '\\033[1m' and '\\033[0m' are for bolding the displayed text, and are not functional or required.\n",
    "print(f\"Risk Selection: \\033[1m{riskChoicesWidget.value}\\033[0m\")"
   ]
  },
  {
   "cell_type": "code",
   "execution_count": null,
   "id": "28525714",
   "metadata": {},
   "outputs": [],
   "source": [
    "# Display the region options to the user\n",
    "regionChoiceWidget = getRegionRiskWidget()\n",
    "regionChoiceWidget"
   ]
  },
  {
   "cell_type": "code",
   "execution_count": null,
   "id": "c22f8e3d",
   "metadata": {},
   "outputs": [],
   "source": [
    "print(f\"Region Selection: \\033[1m{regionChoiceWidget.value}\\033[0m\")"
   ]
  },
  {
   "cell_type": "code",
   "execution_count": null,
   "id": "12b01ae4",
   "metadata": {},
   "outputs": [],
   "source": [
    "# Display the risk plot\n",
    "top5HighRiskPlot(riskChoicesWidget.value, regionChoiceWidget.value)"
   ]
  },
  {
   "cell_type": "code",
   "execution_count": null,
   "id": "501e6086",
   "metadata": {},
   "outputs": [],
   "source": [
    "# Display the risk distribution map\n",
    "riskDistributionMap(riskChoicesWidget.value)"
   ]
  }
 ],
 "metadata": {
  "kernelspec": {
   "display_name": "testenv",
   "language": "python",
   "name": "testenv"
  },
  "language_info": {
   "codemirror_mode": {
    "name": "ipython",
    "version": 3
   },
   "file_extension": ".py",
   "mimetype": "text/x-python",
   "name": "python",
   "nbconvert_exporter": "python",
   "pygments_lexer": "ipython3",
   "version": "3.11.8"
  }
 },
 "nbformat": 4,
 "nbformat_minor": 5
}
