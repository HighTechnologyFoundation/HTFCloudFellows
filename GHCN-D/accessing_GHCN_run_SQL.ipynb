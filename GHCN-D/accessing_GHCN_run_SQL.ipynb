{
 "cells": [
  {
   "cell_type": "markdown",
   "metadata": {},
   "source": [
    "# Accessing GHCN-D in Databricks\n",
    "\n",
    "### This notebook provides a quick overview of accessing GHCN - Daily data from Azure Blob Storage URL in Databricks. It then demonstrates some examples of writing queries to interact with the data stored in tables and come up with visualizations.\n",
    "\n",
    "[References for the GHCN-D metadata](https://github.com/awslabs/open-data-docs/tree/main/docs/noaa/noaa-ghcn)\n",
    "\n",
    "### Requirements:\n",
    "- Run `station_metadata_processing.ipynb` to have the table `station_metadata` in schema `ghcn`"
   ]
  },
  {
   "cell_type": "markdown",
   "metadata": {
    "application/vnd.databricks.v1+cell": {
     "cellMetadata": {},
     "inputWidgets": {},
     "nuid": "c41f1d8a-8e41-4051-8e37-6dbee96253b9",
     "showTitle": false,
     "title": ""
    }
   },
   "source": [
    "#### 1. Add `start_year` and `end_year` parameters for job workflows usage"
   ]
  },
  {
   "cell_type": "code",
   "execution_count": null,
   "metadata": {
    "application/vnd.databricks.v1+cell": {
     "cellMetadata": {
      "byteLimit": 2048000,
      "rowLimit": 10000
     },
     "inputWidgets": {},
     "nuid": "d7893ccd-cbb9-4f57-ba34-024a8f2b4f9d",
     "showTitle": false,
     "title": ""
    }
   },
   "outputs": [],
   "source": [
    "dbutils.widgets.text(\"start_year\", \"\")\n",
    "dbutils.widgets.text(\"end_year\", \"\")"
   ]
  },
  {
   "cell_type": "markdown",
   "metadata": {
    "application/vnd.databricks.v1+cell": {
     "cellMetadata": {},
     "inputWidgets": {},
     "nuid": "ef56b784-fafb-4b85-a8ff-876a6aa0a3e2",
     "showTitle": false,
     "title": ""
    }
   },
   "source": [
    "#### 2. Read GHCN-daily data from azure blob storage URL into pandas dataframe, improve date time format, and write it into `ghcn.ghcn_{year}`table\n"
   ]
  },
  {
   "cell_type": "code",
   "execution_count": null,
   "metadata": {
    "application/vnd.databricks.v1+cell": {
     "cellMetadata": {
      "byteLimit": 2048000,
      "rowLimit": 10000
     },
     "inputWidgets": {},
     "nuid": "6f7ad617-5ab3-45eb-bfbc-ab3bd760f3c6",
     "showTitle": false,
     "title": ""
    }
   },
   "outputs": [],
   "source": [
    "import pandas as pd\n",
    "\n",
    "new_columns = ['ID', 'Time', 'Element', 'Value', 'M-Flag', 'Q-Flag', 'S-Flag', 'OBS-Time']\n",
    "\n",
    "for year in range(int(dbutils.widgets.get(\"start_year\")), int(dbutils.widgets.get(\"end_year\")) + 1):\n",
    "    \n",
    "    URL = f'https://ghcn.blob.core.windows.net/ghcn/csv/daily/by_year/{year}.csv'\n",
    "\n",
    "    df = pd.read_csv(URL, names = new_columns)\n",
    "    \n",
    "    df['Time'] = pd.to_datetime(df.Time, format='%Y%m%d')\n",
    "    \n",
    "    spark.createDataFrame(df).write.mode(\"overwrite\").saveAsTable(f\"ghcn.ghcn_{year}\")\n"
   ]
  },
  {
   "cell_type": "markdown",
   "metadata": {
    "application/vnd.databricks.v1+cell": {
     "cellMetadata": {},
     "inputWidgets": {},
     "nuid": "a68301de-ab54-49d7-8a8d-f3a76495bad2",
     "showTitle": false,
     "title": ""
    }
   },
   "source": [
    "#### Query and Process the results into `ghcn_pivot_2024` table for dynamic dashboard usage"
   ]
  },
  {
   "cell_type": "code",
   "execution_count": null,
   "metadata": {
    "application/vnd.databricks.v1+cell": {
     "cellMetadata": {
      "byteLimit": 2048000,
      "rowLimit": 10000
     },
     "inputWidgets": {},
     "nuid": "249d0bb6-f497-4b9c-bc3c-71998888c949",
     "showTitle": false,
     "title": ""
    }
   },
   "outputs": [
    {
     "data": {
      "text/html": [
       "<div>\n",
       "<style scoped>\n",
       "    .dataframe tbody tr th:only-of-type {\n",
       "        vertical-align: middle;\n",
       "    }\n",
       "\n",
       "    .dataframe tbody tr th {\n",
       "        vertical-align: top;\n",
       "    }\n",
       "\n",
       "    .dataframe thead th {\n",
       "        text-align: right;\n",
       "    }\n",
       "</style>\n",
       "<table border=\"1\" class=\"dataframe\">\n",
       "  <thead>\n",
       "    <tr style=\"text-align: right;\">\n",
       "      <th>Element</th>\n",
       "      <th>Time</th>\n",
       "      <th>AWND</th>\n",
       "      <th>PRCP</th>\n",
       "      <th>SNOW</th>\n",
       "      <th>SNWD</th>\n",
       "      <th>TAVG</th>\n",
       "      <th>TMAX</th>\n",
       "      <th>TMIN</th>\n",
       "    </tr>\n",
       "  </thead>\n",
       "  <tbody>\n",
       "    <tr>\n",
       "      <th>0</th>\n",
       "      <td>2023-01-01</td>\n",
       "      <td>30.341571</td>\n",
       "      <td>38.608815</td>\n",
       "      <td>4.114291</td>\n",
       "      <td>163.480394</td>\n",
       "      <td>10.893327</td>\n",
       "      <td>87.219584</td>\n",
       "      <td>-0.663062</td>\n",
       "    </tr>\n",
       "    <tr>\n",
       "      <th>1</th>\n",
       "      <td>2023-01-02</td>\n",
       "      <td>29.601762</td>\n",
       "      <td>16.615280</td>\n",
       "      <td>5.752842</td>\n",
       "      <td>163.848451</td>\n",
       "      <td>-6.660801</td>\n",
       "      <td>79.502864</td>\n",
       "      <td>-5.078730</td>\n",
       "    </tr>\n",
       "    <tr>\n",
       "      <th>2</th>\n",
       "      <td>2023-01-03</td>\n",
       "      <td>33.545215</td>\n",
       "      <td>60.318453</td>\n",
       "      <td>8.591561</td>\n",
       "      <td>165.747986</td>\n",
       "      <td>-7.374890</td>\n",
       "      <td>73.878717</td>\n",
       "      <td>-5.901605</td>\n",
       "    </tr>\n",
       "    <tr>\n",
       "      <th>3</th>\n",
       "      <td>2023-01-04</td>\n",
       "      <td>34.746678</td>\n",
       "      <td>69.100191</td>\n",
       "      <td>8.563363</td>\n",
       "      <td>169.238464</td>\n",
       "      <td>-0.521356</td>\n",
       "      <td>76.695178</td>\n",
       "      <td>-10.295297</td>\n",
       "    </tr>\n",
       "    <tr>\n",
       "      <th>4</th>\n",
       "      <td>2023-01-05</td>\n",
       "      <td>30.766990</td>\n",
       "      <td>41.318529</td>\n",
       "      <td>4.923307</td>\n",
       "      <td>171.269034</td>\n",
       "      <td>7.154489</td>\n",
       "      <td>75.146978</td>\n",
       "      <td>-22.133913</td>\n",
       "    </tr>\n",
       "    <tr>\n",
       "      <th>...</th>\n",
       "      <td>...</td>\n",
       "      <td>...</td>\n",
       "      <td>...</td>\n",
       "      <td>...</td>\n",
       "      <td>...</td>\n",
       "      <td>...</td>\n",
       "      <td>...</td>\n",
       "      <td>...</td>\n",
       "    </tr>\n",
       "    <tr>\n",
       "      <th>360</th>\n",
       "      <td>2023-12-27</td>\n",
       "      <td>27.823839</td>\n",
       "      <td>38.640980</td>\n",
       "      <td>2.220655</td>\n",
       "      <td>65.116453</td>\n",
       "      <td>7.039578</td>\n",
       "      <td>73.251189</td>\n",
       "      <td>-14.364476</td>\n",
       "    </tr>\n",
       "    <tr>\n",
       "      <th>361</th>\n",
       "      <td>2023-12-28</td>\n",
       "      <td>28.728147</td>\n",
       "      <td>42.078535</td>\n",
       "      <td>0.749653</td>\n",
       "      <td>63.099165</td>\n",
       "      <td>13.276165</td>\n",
       "      <td>75.248744</td>\n",
       "      <td>-16.066061</td>\n",
       "    </tr>\n",
       "    <tr>\n",
       "      <th>362</th>\n",
       "      <td>2023-12-29</td>\n",
       "      <td>29.498236</td>\n",
       "      <td>15.808059</td>\n",
       "      <td>1.057905</td>\n",
       "      <td>61.236553</td>\n",
       "      <td>14.364355</td>\n",
       "      <td>74.082328</td>\n",
       "      <td>-21.630974</td>\n",
       "    </tr>\n",
       "    <tr>\n",
       "      <th>363</th>\n",
       "      <td>2023-12-30</td>\n",
       "      <td>27.469496</td>\n",
       "      <td>14.230746</td>\n",
       "      <td>0.460726</td>\n",
       "      <td>59.977047</td>\n",
       "      <td>10.763828</td>\n",
       "      <td>72.514484</td>\n",
       "      <td>-27.665112</td>\n",
       "    </tr>\n",
       "    <tr>\n",
       "      <th>364</th>\n",
       "      <td>2023-12-31</td>\n",
       "      <td>27.117857</td>\n",
       "      <td>4.787564</td>\n",
       "      <td>1.014296</td>\n",
       "      <td>58.323665</td>\n",
       "      <td>3.538251</td>\n",
       "      <td>68.392898</td>\n",
       "      <td>-32.688717</td>\n",
       "    </tr>\n",
       "  </tbody>\n",
       "</table>\n",
       "<p>365 rows × 8 columns</p>\n",
       "</div>"
      ],
      "text/plain": [
       "Element        Time       AWND       PRCP  ...       TAVG       TMAX       TMIN\n",
       "0        2023-01-01  30.341571  38.608815  ...  10.893327  87.219584  -0.663062\n",
       "1        2023-01-02  29.601762  16.615280  ...  -6.660801  79.502864  -5.078730\n",
       "2        2023-01-03  33.545215  60.318453  ...  -7.374890  73.878717  -5.901605\n",
       "3        2023-01-04  34.746678  69.100191  ...  -0.521356  76.695178 -10.295297\n",
       "4        2023-01-05  30.766990  41.318529  ...   7.154489  75.146978 -22.133913\n",
       "..              ...        ...        ...  ...        ...        ...        ...\n",
       "360      2023-12-27  27.823839  38.640980  ...   7.039578  73.251189 -14.364476\n",
       "361      2023-12-28  28.728147  42.078535  ...  13.276165  75.248744 -16.066061\n",
       "362      2023-12-29  29.498236  15.808059  ...  14.364355  74.082328 -21.630974\n",
       "363      2023-12-30  27.469496  14.230746  ...  10.763828  72.514484 -27.665112\n",
       "364      2023-12-31  27.117857   4.787564  ...   3.538251  68.392898 -32.688717\n",
       "\n",
       "[365 rows x 8 columns]"
      ]
     },
     "execution_count": 19,
     "metadata": {},
     "output_type": "execute_result"
    }
   ],
   "source": [
    "# query the data in US and specific climate attributes\n",
    "merge_df = spark.sql(f'select date(g.Time), g.Element, mean(g.Value) as Value\\\n",
    "                              from ghcn.ghcn_{dbutils.widgets.get(\"end_year\")} g\\\n",
    "                              join ghcn.station_metadata s\\\n",
    "                              on g.ID = s.ID\\\n",
    "                              where s.FIPS == \"US\" and g.Element in (\"PRCP\", \"SNOW\", \"SNWD\", \"TMAX\", \"TMIN\", \"TAVG\", \"AWND\")\\\n",
    "                              group by g.Time, g.Element\\\n",
    "                              order by g.Time')\n",
    "\n",
    "# using `pivot_table()` to reshape the result\n",
    "merge_df = merge_df.toPandas()\n",
    "pivot_df = merge_df.pivot_table(index = 'Time', columns = 'Element', values = 'Value').reset_index()\n",
    "spark.createDataFrame(pivot_df).write.mode(\"overwrite\").saveAsTable(f'ghcn.ghcn_pivot_{dbutils.widgets.get(\"end_year\")}')\n",
    "pivot_df\n"
   ]
  },
  {
   "cell_type": "markdown",
   "metadata": {
    "application/vnd.databricks.v1+cell": {
     "cellMetadata": {},
     "inputWidgets": {},
     "nuid": "17acc52d-faea-42e6-a9bb-c3194babc973",
     "showTitle": false,
     "title": ""
    }
   },
   "source": [
    "#### 3. In SQL, join `ghcn.station_metadata` and `ghcn.ghcn_{year}` tables to query the results you are interested in\n",
    "- Aggregated monthly precipitation data from weather stations in Central and South America"
   ]
  },
  {
   "cell_type": "code",
   "execution_count": null,
   "metadata": {
    "application/vnd.databricks.v1+cell": {
     "cellMetadata": {
      "byteLimit": 2048000,
      "implicitDf": true,
      "rowLimit": 10000
     },
     "inputWidgets": {},
     "nuid": "1b97c434-848e-44f1-857b-03d1680f57e4",
     "showTitle": false,
     "title": ""
    }
   },
   "outputs": [
    {
     "data": {
      "text/html": [
       "<style scoped>\n",
       "  .table-result-container {\n",
       "    max-height: 300px;\n",
       "    overflow: auto;\n",
       "  }\n",
       "  table, th, td {\n",
       "    border: 1px solid black;\n",
       "    border-collapse: collapse;\n",
       "  }\n",
       "  th, td {\n",
       "    padding: 5px;\n",
       "  }\n",
       "  th {\n",
       "    text-align: left;\n",
       "  }\n",
       "</style><div class='table-result-container'><table class='table-result'><thead style='background-color: white'><tr><th>Month</th><th>Precipitation</th></tr></thead><tbody><tr><td>1</td><td>3.64</td></tr><tr><td>2</td><td>3.4</td></tr><tr><td>3</td><td>4.22</td></tr><tr><td>4</td><td>4.33</td></tr><tr><td>5</td><td>4.92</td></tr><tr><td>6</td><td>2.63</td></tr><tr><td>7</td><td>3.44</td></tr><tr><td>8</td><td>3.34</td></tr><tr><td>9</td><td>3.13</td></tr><tr><td>10</td><td>4.33</td></tr><tr><td>11</td><td>4.57</td></tr><tr><td>12</td><td>4.22</td></tr></tbody></table></div>"
      ]
     },
     "metadata": {
      "application/vnd.databricks.v1+output": {
       "addedWidgets": {},
       "aggData": [],
       "aggError": "",
       "aggOverflow": false,
       "aggSchema": [],
       "aggSeriesLimitReached": false,
       "aggType": "",
       "arguments": {},
       "columnCustomDisplayInfos": {},
       "data": [
        [
         1,
         3.64
        ],
        [
         2,
         3.4
        ],
        [
         3,
         4.22
        ],
        [
         4,
         4.33
        ],
        [
         5,
         4.92
        ],
        [
         6,
         2.63
        ],
        [
         7,
         3.44
        ],
        [
         8,
         3.34
        ],
        [
         9,
         3.13
        ],
        [
         10,
         4.33
        ],
        [
         11,
         4.57
        ],
        [
         12,
         4.22
        ]
       ],
       "datasetInfos": [],
       "dbfsResultPath": null,
       "isJsonSchema": true,
       "metadata": {
        "dataframeName": "_sqldf",
        "executionCount": 4
       },
       "overflow": false,
       "plotOptions": {
        "customPlotOptions": {},
        "displayType": "table",
        "pivotAggregation": null,
        "pivotColumns": null,
        "xColumns": null,
        "yColumns": null
       },
       "removedWidgets": [],
       "schema": [
        {
         "metadata": "{}",
         "name": "Month",
         "type": "\"integer\""
        },
        {
         "metadata": "{}",
         "name": "Precipitation",
         "type": "\"double\""
        }
       ],
       "type": "table"
      }
     },
     "output_type": "display_data"
    },
    {
     "data": {
      "text/plain": [
       "Databricks visualization. Run in Databricks to view."
      ]
     },
     "metadata": {
      "application/vnd.databricks.v1.subcommand+json": {
       "baseErrorDetails": null,
       "bindings": {
        "end_year": "2023"
       },
       "collapsed": false,
       "command": "%sql WITH q AS (SELECT DISTINCT month(g.Time) as Month, round(mean(g.Value) / 10, 2) as Precipitation\nFROM ghcn.ghcn_${end_year} g\nJOIN ghcn.station_metadata s\nON g.ID = s.ID \nWHERE s.Region IN ('Central America', 'South America') AND g.Element == 'PRCP'\nGROUP BY Month\nORDER BY Month) SELECT `Month`,SUM(`Precipitation`) `column_ed4f0add24` FROM q GROUP BY `Month`",
       "commandTitle": "mothly precipitation bar chart in Central and South America",
       "commandType": "auto",
       "commandVersion": 0,
       "commentThread": [],
       "commentsVisible": false,
       "contentSha256Hex": null,
       "customPlotOptions": {
        "redashChart": [
         {
          "key": "type",
          "value": "CHART"
         },
         {
          "key": "options",
          "value": {
           "alignYAxesAtZero": true,
           "coefficient": 1,
           "columnConfigurationMap": {
            "x": {
             "column": "Month",
             "id": "column_ed4f0add23"
            },
            "y": [
             {
              "column": "Precipitation",
              "id": "column_ed4f0add24",
              "transform": "SUM"
             }
            ]
           },
           "dateTimeFormat": "DD/MM/YYYY HH:mm",
           "direction": {
            "type": "counterclockwise"
           },
           "error_y": {
            "type": "data",
            "visible": true
           },
           "globalSeriesType": "column",
           "isAggregationOn": true,
           "legend": {
            "traceorder": "normal"
           },
           "missingValuesAsZero": true,
           "numberFormat": "0,0.[00000]",
           "percentFormat": "0[.]00%",
           "series": {
            "error_y": {
             "type": "data",
             "visible": true
            },
            "stacking": null
           },
           "seriesOptions": {
            "column_ed4f0add24": {
             "color": "#8BCAE7",
             "name": "Precipitation",
             "type": "column",
             "yAxis": 0
            }
           },
           "showDataLabels": false,
           "sizemode": "diameter",
           "sortX": true,
           "sortY": true,
           "swappedAxes": false,
           "textFormat": "",
           "useAggregationsUi": true,
           "valuesOptions": {},
           "version": 2,
           "xAxis": {
            "labels": {
             "enabled": true
            },
            "type": "-"
           },
           "yAxis": [
            {
             "type": "-"
            },
            {
             "opposite": true,
             "type": "-"
            }
           ]
          }
         }
        ]
       },
       "datasetPreviewNameToCmdIdMap": {},
       "diffDeletes": [],
       "diffInserts": [],
       "displayType": "redashChart",
       "error": null,
       "errorDetails": null,
       "errorSummary": null,
       "errorTraceType": null,
       "finishTime": 0,
       "globalVars": {},
       "guid": "",
       "height": "auto",
       "hideCommandCode": false,
       "hideCommandResult": false,
       "iPythonMetadata": null,
       "inputWidgets": {},
       "isLockedInExamMode": false,
       "latestUser": "a user",
       "latestUserId": null,
       "listResultMetadata": null,
       "metadata": {},
       "nuid": "434bd9a2-28c6-4f6c-a471-b686e63b48ae",
       "origId": 0,
       "parentHierarchy": [],
       "pivotAggregation": null,
       "pivotColumns": null,
       "position": 8,
       "resultDbfsErrorMessage": null,
       "resultDbfsStatus": "INLINED_IN_TREE",
       "results": null,
       "showCommandTitle": false,
       "startTime": 0,
       "state": "input",
       "streamStates": {},
       "subcommandOptions": {
        "queryPlan": {
         "groups": [
          {
           "column": "Month",
           "type": "column"
          }
         ],
         "selects": [
          {
           "column": "Month",
           "type": "column"
          },
          {
           "alias": "column_ed4f0add24",
           "args": [
            {
             "column": "Precipitation",
             "type": "column"
            }
           ],
           "function": "SUM",
           "type": "function"
          }
         ]
        }
       },
       "submitTime": 0,
       "subtype": "tableResultSubCmd.visualization",
       "tableResultIndex": 0,
       "useConsistentColors": false,
       "version": "CommandV1",
       "width": "auto",
       "workflows": [],
       "xColumns": null,
       "yColumns": null
      }
     },
     "output_type": "display_data"
    }
   ],
   "source": [
    "%sql\n",
    "SELECT DISTINCT month(g.Time) as Month, round(mean(g.Value) / 10, 2) as Precipitation\n",
    "FROM ghcn.ghcn_${end_year} g\n",
    "JOIN ghcn.station_metadata s\n",
    "ON g.ID = s.ID \n",
    "WHERE s.Region IN ('Central America', 'South America') AND g.Element == 'PRCP'\n",
    "GROUP BY Month\n",
    "ORDER BY Month"
   ]
  },
  {
   "cell_type": "markdown",
   "metadata": {
    "application/vnd.databricks.v1+cell": {
     "cellMetadata": {},
     "inputWidgets": {},
     "nuid": "4ca2ab6f-ef3a-4ba9-9074-3431d2b4beb4",
     "showTitle": false,
     "title": ""
    }
   },
   "source": [
    "- Aggregated daily average temperature data from weather stations in North America"
   ]
  },
  {
   "cell_type": "code",
   "execution_count": null,
   "metadata": {
    "application/vnd.databricks.v1+cell": {
     "cellMetadata": {
      "byteLimit": 2048000,
      "implicitDf": true,
      "rowLimit": 10000
     },
     "inputWidgets": {},
     "nuid": "b5fe3931-e8b6-4592-97e1-cfa56f6d1dd8",
     "showTitle": false,
     "title": ""
    }
   },
   "outputs": [
    {
     "data": {
      "text/html": [
       "<style scoped>\n",
       "  .table-result-container {\n",
       "    max-height: 300px;\n",
       "    overflow: auto;\n",
       "  }\n",
       "  table, th, td {\n",
       "    border: 1px solid black;\n",
       "    border-collapse: collapse;\n",
       "  }\n",
       "  th, td {\n",
       "    padding: 5px;\n",
       "  }\n",
       "  th {\n",
       "    text-align: left;\n",
       "  }\n",
       "</style><div class='table-result-container'><table class='table-result'><thead style='background-color: white'><tr><th>Date</th><th>AvgTemperature</th></tr></thead><tbody><tr><td>2023-01-01</td><td>-0.87</td></tr><tr><td>2023-01-02</td><td>-2.33</td></tr><tr><td>2023-01-03</td><td>-2.56</td></tr><tr><td>2023-01-04</td><td>-2.2</td></tr><tr><td>2023-01-05</td><td>-1.98</td></tr><tr><td>2023-01-06</td><td>-1.78</td></tr><tr><td>2023-01-07</td><td>-1.93</td></tr><tr><td>2023-01-08</td><td>-1.71</td></tr><tr><td>2023-01-09</td><td>-1.06</td></tr><tr><td>2023-01-10</td><td>-1.2</td></tr><tr><td>2023-01-11</td><td>-1.94</td></tr><tr><td>2023-01-12</td><td>-0.88</td></tr><tr><td>2023-01-13</td><td>-0.23</td></tr><tr><td>2023-01-14</td><td>-1.01</td></tr><tr><td>2023-01-15</td><td>-1.84</td></tr><tr><td>2023-01-16</td><td>-1.79</td></tr><tr><td>2023-01-17</td><td>-1.84</td></tr><tr><td>2023-01-18</td><td>-2.6</td></tr><tr><td>2023-01-19</td><td>-2.92</td></tr><tr><td>2023-01-20</td><td>-3.67</td></tr><tr><td>2023-01-21</td><td>-3.38</td></tr><tr><td>2023-01-22</td><td>-3.97</td></tr><tr><td>2023-01-23</td><td>-3.86</td></tr><tr><td>2023-01-24</td><td>-3.37</td></tr><tr><td>2023-01-25</td><td>-3.05</td></tr><tr><td>2023-01-26</td><td>-2.28</td></tr><tr><td>2023-01-27</td><td>-3.05</td></tr><tr><td>2023-01-28</td><td>-5.57</td></tr><tr><td>2023-01-29</td><td>-8.28</td></tr><tr><td>2023-01-30</td><td>-8.83</td></tr><tr><td>2023-01-31</td><td>-7.69</td></tr><tr><td>2023-02-01</td><td>-6.17</td></tr><tr><td>2023-02-02</td><td>-4.73</td></tr><tr><td>2023-02-03</td><td>-3.85</td></tr><tr><td>2023-02-04</td><td>-2.79</td></tr><tr><td>2023-02-05</td><td>-1.39</td></tr><tr><td>2023-02-06</td><td>-1.64</td></tr><tr><td>2023-02-07</td><td>-1.27</td></tr><tr><td>2023-02-08</td><td>-1.38</td></tr><tr><td>2023-02-09</td><td>-2.42</td></tr><tr><td>2023-02-10</td><td>-1.22</td></tr><tr><td>2023-02-11</td><td>-1.22</td></tr><tr><td>2023-02-12</td><td>-0.56</td></tr><tr><td>2023-02-13</td><td>-0.95</td></tr><tr><td>2023-02-14</td><td>-3.94</td></tr><tr><td>2023-02-15</td><td>-4.75</td></tr><tr><td>2023-02-16</td><td>-4.27</td></tr><tr><td>2023-02-17</td><td>-3.51</td></tr><tr><td>2023-02-18</td><td>-3.06</td></tr><tr><td>2023-02-19</td><td>-1.53</td></tr><tr><td>2023-02-20</td><td>-0.21</td></tr><tr><td>2023-02-21</td><td>-3.05</td></tr><tr><td>2023-02-22</td><td>-7.97</td></tr><tr><td>2023-02-23</td><td>-8.89</td></tr><tr><td>2023-02-24</td><td>-7.69</td></tr><tr><td>2023-02-25</td><td>-4.44</td></tr><tr><td>2023-02-26</td><td>-3.42</td></tr><tr><td>2023-02-27</td><td>-3.96</td></tr><tr><td>2023-02-28</td><td>-4.24</td></tr><tr><td>2023-03-01</td><td>-3.77</td></tr><tr><td>2023-03-02</td><td>-2.43</td></tr><tr><td>2023-03-03</td><td>-2.73</td></tr><tr><td>2023-03-04</td><td>-3.22</td></tr><tr><td>2023-03-05</td><td>-3.01</td></tr><tr><td>2023-03-06</td><td>-2.7</td></tr><tr><td>2023-03-07</td><td>-1.96</td></tr><tr><td>2023-03-08</td><td>-1.84</td></tr><tr><td>2023-03-09</td><td>-2.0</td></tr><tr><td>2023-03-10</td><td>-1.01</td></tr><tr><td>2023-03-11</td><td>-1.42</td></tr><tr><td>2023-03-12</td><td>-1.55</td></tr><tr><td>2023-03-13</td><td>-0.77</td></tr><tr><td>2023-03-14</td><td>-0.66</td></tr><tr><td>2023-03-15</td><td>-1.0</td></tr><tr><td>2023-03-16</td><td>-1.72</td></tr><tr><td>2023-03-17</td><td>-1.84</td></tr><tr><td>2023-03-18</td><td>-1.11</td></tr><tr><td>2023-03-19</td><td>-0.74</td></tr><tr><td>2023-03-20</td><td>-0.65</td></tr><tr><td>2023-03-21</td><td>-0.32</td></tr><tr><td>2023-03-22</td><td>0.5</td></tr><tr><td>2023-03-23</td><td>0.77</td></tr><tr><td>2023-03-24</td><td>-0.59</td></tr><tr><td>2023-03-25</td><td>-1.8</td></tr><tr><td>2023-03-26</td><td>-1.72</td></tr><tr><td>2023-03-27</td><td>-1.47</td></tr><tr><td>2023-03-28</td><td>-0.22</td></tr><tr><td>2023-03-29</td><td>0.7</td></tr><tr><td>2023-03-30</td><td>0.3</td></tr><tr><td>2023-03-31</td><td>0.99</td></tr><tr><td>2023-04-01</td><td>3.62</td></tr><tr><td>2023-04-02</td><td>2.99</td></tr><tr><td>2023-04-03</td><td>1.59</td></tr><tr><td>2023-04-04</td><td>0.43</td></tr><tr><td>2023-04-05</td><td>0.69</td></tr><tr><td>2023-04-06</td><td>2.34</td></tr><tr><td>2023-04-07</td><td>3.92</td></tr><tr><td>2023-04-08</td><td>4.87</td></tr><tr><td>2023-04-09</td><td>6.75</td></tr><tr><td>2023-04-10</td><td>8.78</td></tr><tr><td>2023-04-11</td><td>8.5</td></tr><tr><td>2023-04-12</td><td>7.21</td></tr><tr><td>2023-04-13</td><td>5.18</td></tr><tr><td>2023-04-14</td><td>4.59</td></tr><tr><td>2023-04-15</td><td>5.83</td></tr><tr><td>2023-04-16</td><td>6.95</td></tr><tr><td>2023-04-17</td><td>6.14</td></tr><tr><td>2023-04-18</td><td>4.39</td></tr><tr><td>2023-04-19</td><td>3.38</td></tr><tr><td>2023-04-20</td><td>4.22</td></tr><tr><td>2023-04-21</td><td>5.88</td></tr><tr><td>2023-04-22</td><td>5.96</td></tr><tr><td>2023-04-23</td><td>5.9</td></tr><tr><td>2023-04-24</td><td>6.18</td></tr><tr><td>2023-04-25</td><td>6.72</td></tr><tr><td>2023-04-26</td><td>8.9</td></tr><tr><td>2023-04-27</td><td>9.96</td></tr><tr><td>2023-04-28</td><td>10.8</td></tr><tr><td>2023-04-29</td><td>11.09</td></tr><tr><td>2023-04-30</td><td>10.79</td></tr><tr><td>2023-05-01</td><td>9.97</td></tr><tr><td>2023-05-02</td><td>9.98</td></tr><tr><td>2023-05-03</td><td>10.53</td></tr><tr><td>2023-05-04</td><td>9.93</td></tr><tr><td>2023-05-05</td><td>8.78</td></tr><tr><td>2023-05-06</td><td>8.5</td></tr><tr><td>2023-05-07</td><td>9.03</td></tr><tr><td>2023-05-08</td><td>9.46</td></tr><tr><td>2023-05-09</td><td>9.89</td></tr><tr><td>2023-05-10</td><td>10.42</td></tr><tr><td>2023-05-11</td><td>11.32</td></tr><tr><td>2023-05-12</td><td>12.88</td></tr><tr><td>2023-05-13</td><td>13.4</td></tr><tr><td>2023-05-14</td><td>13.47</td></tr><tr><td>2023-05-15</td><td>14.12</td></tr><tr><td>2023-05-16</td><td>13.94</td></tr><tr><td>2023-05-17</td><td>12.86</td></tr><tr><td>2023-05-18</td><td>12.66</td></tr><tr><td>2023-05-19</td><td>14.01</td></tr><tr><td>2023-05-20</td><td>14.51</td></tr><tr><td>2023-05-21</td><td>13.96</td></tr><tr><td>2023-05-22</td><td>13.01</td></tr><tr><td>2023-05-23</td><td>12.72</td></tr><tr><td>2023-05-24</td><td>12.49</td></tr><tr><td>2023-05-25</td><td>12.63</td></tr><tr><td>2023-05-26</td><td>12.78</td></tr><tr><td>2023-05-27</td><td>13.14</td></tr><tr><td>2023-05-28</td><td>13.78</td></tr><tr><td>2023-05-29</td><td>14.2</td></tr><tr><td>2023-05-30</td><td>14.2</td></tr><tr><td>2023-05-31</td><td>13.99</td></tr><tr><td>2023-06-01</td><td>13.78</td></tr><tr><td>2023-06-02</td><td>13.91</td></tr><tr><td>2023-06-03</td><td>14.62</td></tr><tr><td>2023-06-04</td><td>15.03</td></tr><tr><td>2023-06-05</td><td>15.4</td></tr><tr><td>2023-06-06</td><td>15.56</td></tr><tr><td>2023-06-07</td><td>15.35</td></tr><tr><td>2023-06-08</td><td>15.16</td></tr><tr><td>2023-06-09</td><td>14.71</td></tr><tr><td>2023-06-10</td><td>14.58</td></tr><tr><td>2023-06-11</td><td>14.95</td></tr><tr><td>2023-06-12</td><td>15.03</td></tr><tr><td>2023-06-13</td><td>14.8</td></tr><tr><td>2023-06-14</td><td>13.96</td></tr><tr><td>2023-06-15</td><td>13.77</td></tr><tr><td>2023-06-16</td><td>14.66</td></tr><tr><td>2023-06-17</td><td>14.91</td></tr><tr><td>2023-06-18</td><td>14.25</td></tr><tr><td>2023-06-19</td><td>13.8</td></tr><tr><td>2023-06-20</td><td>13.76</td></tr><tr><td>2023-06-21</td><td>14.71</td></tr><tr><td>2023-06-22</td><td>15.71</td></tr><tr><td>2023-06-23</td><td>15.99</td></tr><tr><td>2023-06-24</td><td>16.52</td></tr><tr><td>2023-06-25</td><td>17.01</td></tr><tr><td>2023-06-26</td><td>17.01</td></tr><tr><td>2023-06-27</td><td>17.05</td></tr><tr><td>2023-06-28</td><td>17.45</td></tr><tr><td>2023-06-29</td><td>18.24</td></tr><tr><td>2023-06-30</td><td>19.15</td></tr><tr><td>2023-07-01</td><td>19.62</td></tr><tr><td>2023-07-02</td><td>19.71</td></tr><tr><td>2023-07-03</td><td>19.3</td></tr><tr><td>2023-07-04</td><td>18.47</td></tr><tr><td>2023-07-05</td><td>18.51</td></tr><tr><td>2023-07-06</td><td>18.78</td></tr><tr><td>2023-07-07</td><td>18.45</td></tr><tr><td>2023-07-08</td><td>18.49</td></tr><tr><td>2023-07-09</td><td>19.26</td></tr><tr><td>2023-07-10</td><td>18.83</td></tr><tr><td>2023-07-11</td><td>18.78</td></tr><tr><td>2023-07-12</td><td>19.14</td></tr><tr><td>2023-07-13</td><td>19.57</td></tr><tr><td>2023-07-14</td><td>19.8</td></tr><tr><td>2023-07-15</td><td>20.44</td></tr><tr><td>2023-07-16</td><td>21.03</td></tr><tr><td>2023-07-17</td><td>20.51</td></tr><tr><td>2023-07-18</td><td>20.01</td></tr><tr><td>2023-07-19</td><td>20.12</td></tr><tr><td>2023-07-20</td><td>20.52</td></tr><tr><td>2023-07-21</td><td>20.93</td></tr><tr><td>2023-07-22</td><td>21.23</td></tr><tr><td>2023-07-23</td><td>21.34</td></tr><tr><td>2023-07-24</td><td>20.86</td></tr><tr><td>2023-07-25</td><td>20.36</td></tr><tr><td>2023-07-26</td><td>20.24</td></tr><tr><td>2023-07-27</td><td>19.92</td></tr><tr><td>2023-07-28</td><td>20.1</td></tr><tr><td>2023-07-29</td><td>20.07</td></tr><tr><td>2023-07-30</td><td>19.83</td></tr><tr><td>2023-07-31</td><td>19.45</td></tr><tr><td>2023-08-01</td><td>19.22</td></tr><tr><td>2023-08-02</td><td>19.03</td></tr><tr><td>2023-08-03</td><td>18.79</td></tr><tr><td>2023-08-04</td><td>18.69</td></tr><tr><td>2023-08-05</td><td>18.79</td></tr><tr><td>2023-08-06</td><td>18.67</td></tr><tr><td>2023-08-07</td><td>18.39</td></tr><tr><td>2023-08-08</td><td>17.91</td></tr><tr><td>2023-08-09</td><td>18.0</td></tr><tr><td>2023-08-10</td><td>17.99</td></tr><tr><td>2023-08-11</td><td>18.25</td></tr><tr><td>2023-08-12</td><td>18.77</td></tr><tr><td>2023-08-13</td><td>19.24</td></tr><tr><td>2023-08-14</td><td>20.14</td></tr><tr><td>2023-08-15</td><td>20.72</td></tr><tr><td>2023-08-16</td><td>20.5</td></tr><tr><td>2023-08-17</td><td>20.36</td></tr><tr><td>2023-08-18</td><td>18.73</td></tr><tr><td>2023-08-19</td><td>17.73</td></tr><tr><td>2023-08-20</td><td>17.47</td></tr><tr><td>2023-08-21</td><td>17.41</td></tr><tr><td>2023-08-22</td><td>17.17</td></tr><tr><td>2023-08-23</td><td>17.35</td></tr><tr><td>2023-08-24</td><td>17.94</td></tr><tr><td>2023-08-25</td><td>17.87</td></tr><tr><td>2023-08-26</td><td>18.52</td></tr><tr><td>2023-08-27</td><td>18.69</td></tr><tr><td>2023-08-28</td><td>18.55</td></tr><tr><td>2023-08-29</td><td>18.19</td></tr><tr><td>2023-08-30</td><td>17.13</td></tr><tr><td>2023-08-31</td><td>16.76</td></tr><tr><td>2023-09-01</td><td>16.41</td></tr><tr><td>2023-09-02</td><td>16.95</td></tr><tr><td>2023-09-03</td><td>16.27</td></tr><tr><td>2023-09-04</td><td>14.91</td></tr><tr><td>2023-09-05</td><td>15.47</td></tr><tr><td>2023-09-06</td><td>16.08</td></tr><tr><td>2023-09-07</td><td>16.11</td></tr><tr><td>2023-09-08</td><td>16.11</td></tr><tr><td>2023-09-09</td><td>16.37</td></tr><tr><td>2023-09-10</td><td>16.0</td></tr><tr><td>2023-09-11</td><td>15.63</td></tr><tr><td>2023-09-12</td><td>15.2</td></tr><tr><td>2023-09-13</td><td>14.66</td></tr><tr><td>2023-09-14</td><td>14.36</td></tr><tr><td>2023-09-15</td><td>14.68</td></tr><tr><td>2023-09-16</td><td>15.24</td></tr><tr><td>2023-09-17</td><td>15.34</td></tr><tr><td>2023-09-18</td><td>14.25</td></tr><tr><td>2023-09-19</td><td>13.0</td></tr><tr><td>2023-09-20</td><td>12.32</td></tr><tr><td>2023-09-21</td><td>11.79</td></tr><tr><td>2023-09-22</td><td>11.95</td></tr><tr><td>2023-09-23</td><td>12.25</td></tr><tr><td>2023-09-24</td><td>12.77</td></tr><tr><td>2023-09-25</td><td>13.42</td></tr><tr><td>2023-09-26</td><td>13.45</td></tr><tr><td>2023-09-27</td><td>12.63</td></tr><tr><td>2023-09-28</td><td>12.12</td></tr><tr><td>2023-09-29</td><td>11.88</td></tr><tr><td>2023-09-30</td><td>11.36</td></tr><tr><td>2023-10-01</td><td>10.85</td></tr><tr><td>2023-10-02</td><td>10.74</td></tr><tr><td>2023-10-03</td><td>10.99</td></tr><tr><td>2023-10-04</td><td>11.41</td></tr><tr><td>2023-10-05</td><td>11.67</td></tr><tr><td>2023-10-06</td><td>12.08</td></tr><tr><td>2023-10-07</td><td>12.31</td></tr><tr><td>2023-10-08</td><td>11.96</td></tr><tr><td>2023-10-09</td><td>11.28</td></tr><tr><td>2023-10-10</td><td>10.21</td></tr><tr><td>2023-10-11</td><td>8.39</td></tr><tr><td>2023-10-12</td><td>7.66</td></tr><tr><td>2023-10-13</td><td>8.27</td></tr><tr><td>2023-10-14</td><td>8.84</td></tr><tr><td>2023-10-15</td><td>10.04</td></tr><tr><td>2023-10-16</td><td>10.36</td></tr><tr><td>2023-10-17</td><td>10.06</td></tr><tr><td>2023-10-18</td><td>10.98</td></tr><tr><td>2023-10-19</td><td>12.14</td></tr><tr><td>2023-10-20</td><td>11.54</td></tr><tr><td>2023-10-21</td><td>10.11</td></tr><tr><td>2023-10-22</td><td>8.64</td></tr><tr><td>2023-10-23</td><td>6.87</td></tr><tr><td>2023-10-24</td><td>5.74</td></tr><tr><td>2023-10-25</td><td>5.11</td></tr><tr><td>2023-10-26</td><td>3.61</td></tr><tr><td>2023-10-27</td><td>3.36</td></tr><tr><td>2023-10-28</td><td>2.11</td></tr><tr><td>2023-10-29</td><td>1.16</td></tr><tr><td>2023-10-30</td><td>1.5</td></tr><tr><td>2023-10-31</td><td>2.55</td></tr><tr><td>2023-11-01</td><td>3.4</td></tr><tr><td>2023-11-02</td><td>4.87</td></tr><tr><td>2023-11-03</td><td>6.13</td></tr><tr><td>2023-11-04</td><td>6.6</td></tr><tr><td>2023-11-05</td><td>6.43</td></tr><tr><td>2023-11-06</td><td>5.72</td></tr><tr><td>2023-11-07</td><td>4.68</td></tr><tr><td>2023-11-08</td><td>3.12</td></tr><tr><td>2023-11-09</td><td>2.48</td></tr><tr><td>2023-11-10</td><td>2.56</td></tr><tr><td>2023-11-11</td><td>3.17</td></tr><tr><td>2023-11-12</td><td>3.92</td></tr><tr><td>2023-11-13</td><td>4.45</td></tr><tr><td>2023-11-14</td><td>4.22</td></tr><tr><td>2023-11-15</td><td>4.66</td></tr><tr><td>2023-11-16</td><td>4.15</td></tr><tr><td>2023-11-17</td><td>4.47</td></tr><tr><td>2023-11-18</td><td>3.69</td></tr><tr><td>2023-11-19</td><td>2.0</td></tr><tr><td>2023-11-20</td><td>1.05</td></tr><tr><td>2023-11-21</td><td>1.94</td></tr><tr><td>2023-11-22</td><td>2.13</td></tr><tr><td>2023-11-23</td><td>0.45</td></tr><tr><td>2023-11-24</td><td>-1.56</td></tr><tr><td>2023-11-25</td><td>-2.14</td></tr><tr><td>2023-11-26</td><td>-1.93</td></tr><tr><td>2023-11-27</td><td>-1.24</td></tr><tr><td>2023-11-28</td><td>-0.49</td></tr><tr><td>2023-11-29</td><td>-0.82</td></tr><tr><td>2023-11-30</td><td>-1.25</td></tr><tr><td>2023-12-01</td><td>-1.16</td></tr><tr><td>2023-12-02</td><td>-0.39</td></tr><tr><td>2023-12-03</td><td>0.81</td></tr><tr><td>2023-12-04</td><td>1.93</td></tr><tr><td>2023-12-05</td><td>2.83</td></tr><tr><td>2023-12-06</td><td>2.44</td></tr><tr><td>2023-12-07</td><td>0.45</td></tr><tr><td>2023-12-08</td><td>-1.33</td></tr><tr><td>2023-12-09</td><td>-1.83</td></tr><tr><td>2023-12-10</td><td>0.23</td></tr><tr><td>2023-12-11</td><td>0.31</td></tr><tr><td>2023-12-12</td><td>-0.86</td></tr><tr><td>2023-12-13</td><td>-0.54</td></tr><tr><td>2023-12-14</td><td>-0.26</td></tr><tr><td>2023-12-15</td><td>0.47</td></tr><tr><td>2023-12-16</td><td>1.42</td></tr><tr><td>2023-12-17</td><td>1.5</td></tr><tr><td>2023-12-18</td><td>1.67</td></tr><tr><td>2023-12-19</td><td>1.22</td></tr><tr><td>2023-12-20</td><td>1.29</td></tr><tr><td>2023-12-21</td><td>1.23</td></tr><tr><td>2023-12-22</td><td>0.79</td></tr><tr><td>2023-12-23</td><td>-0.45</td></tr><tr><td>2023-12-24</td><td>-1.75</td></tr><tr><td>2023-12-25</td><td>-1.65</td></tr><tr><td>2023-12-26</td><td>-0.49</td></tr><tr><td>2023-12-27</td><td>-0.05</td></tr><tr><td>2023-12-28</td><td>0.54</td></tr><tr><td>2023-12-29</td><td>0.35</td></tr><tr><td>2023-12-30</td><td>-0.06</td></tr><tr><td>2023-12-31</td><td>-0.84</td></tr></tbody></table></div>"
      ]
     },
     "metadata": {
      "application/vnd.databricks.v1+output": {
       "addedWidgets": {},
       "aggData": [],
       "aggError": "",
       "aggOverflow": false,
       "aggSchema": [],
       "aggSeriesLimitReached": false,
       "aggType": "",
       "arguments": {},
       "columnCustomDisplayInfos": {},
       "data": [
        [
         "2023-01-01",
         -0.87
        ],
        [
         "2023-01-02",
         -2.33
        ],
        [
         "2023-01-03",
         -2.56
        ],
        [
         "2023-01-04",
         -2.2
        ],
        [
         "2023-01-05",
         -1.98
        ],
        [
         "2023-01-06",
         -1.78
        ],
        [
         "2023-01-07",
         -1.93
        ],
        [
         "2023-01-08",
         -1.71
        ],
        [
         "2023-01-09",
         -1.06
        ],
        [
         "2023-01-10",
         -1.2
        ],
        [
         "2023-01-11",
         -1.94
        ],
        [
         "2023-01-12",
         -0.88
        ],
        [
         "2023-01-13",
         -0.23
        ],
        [
         "2023-01-14",
         -1.01
        ],
        [
         "2023-01-15",
         -1.84
        ],
        [
         "2023-01-16",
         -1.79
        ],
        [
         "2023-01-17",
         -1.84
        ],
        [
         "2023-01-18",
         -2.6
        ],
        [
         "2023-01-19",
         -2.92
        ],
        [
         "2023-01-20",
         -3.67
        ],
        [
         "2023-01-21",
         -3.38
        ],
        [
         "2023-01-22",
         -3.97
        ],
        [
         "2023-01-23",
         -3.86
        ],
        [
         "2023-01-24",
         -3.37
        ],
        [
         "2023-01-25",
         -3.05
        ],
        [
         "2023-01-26",
         -2.28
        ],
        [
         "2023-01-27",
         -3.05
        ],
        [
         "2023-01-28",
         -5.57
        ],
        [
         "2023-01-29",
         -8.28
        ],
        [
         "2023-01-30",
         -8.83
        ],
        [
         "2023-01-31",
         -7.69
        ],
        [
         "2023-02-01",
         -6.17
        ],
        [
         "2023-02-02",
         -4.73
        ],
        [
         "2023-02-03",
         -3.85
        ],
        [
         "2023-02-04",
         -2.79
        ],
        [
         "2023-02-05",
         -1.39
        ],
        [
         "2023-02-06",
         -1.64
        ],
        [
         "2023-02-07",
         -1.27
        ],
        [
         "2023-02-08",
         -1.38
        ],
        [
         "2023-02-09",
         -2.42
        ],
        [
         "2023-02-10",
         -1.22
        ],
        [
         "2023-02-11",
         -1.22
        ],
        [
         "2023-02-12",
         -0.56
        ],
        [
         "2023-02-13",
         -0.95
        ],
        [
         "2023-02-14",
         -3.94
        ],
        [
         "2023-02-15",
         -4.75
        ],
        [
         "2023-02-16",
         -4.27
        ],
        [
         "2023-02-17",
         -3.51
        ],
        [
         "2023-02-18",
         -3.06
        ],
        [
         "2023-02-19",
         -1.53
        ],
        [
         "2023-02-20",
         -0.21
        ],
        [
         "2023-02-21",
         -3.05
        ],
        [
         "2023-02-22",
         -7.97
        ],
        [
         "2023-02-23",
         -8.89
        ],
        [
         "2023-02-24",
         -7.69
        ],
        [
         "2023-02-25",
         -4.44
        ],
        [
         "2023-02-26",
         -3.42
        ],
        [
         "2023-02-27",
         -3.96
        ],
        [
         "2023-02-28",
         -4.24
        ],
        [
         "2023-03-01",
         -3.77
        ],
        [
         "2023-03-02",
         -2.43
        ],
        [
         "2023-03-03",
         -2.73
        ],
        [
         "2023-03-04",
         -3.22
        ],
        [
         "2023-03-05",
         -3.01
        ],
        [
         "2023-03-06",
         -2.7
        ],
        [
         "2023-03-07",
         -1.96
        ],
        [
         "2023-03-08",
         -1.84
        ],
        [
         "2023-03-09",
         -2
        ],
        [
         "2023-03-10",
         -1.01
        ],
        [
         "2023-03-11",
         -1.42
        ],
        [
         "2023-03-12",
         -1.55
        ],
        [
         "2023-03-13",
         -0.77
        ],
        [
         "2023-03-14",
         -0.66
        ],
        [
         "2023-03-15",
         -1
        ],
        [
         "2023-03-16",
         -1.72
        ],
        [
         "2023-03-17",
         -1.84
        ],
        [
         "2023-03-18",
         -1.11
        ],
        [
         "2023-03-19",
         -0.74
        ],
        [
         "2023-03-20",
         -0.65
        ],
        [
         "2023-03-21",
         -0.32
        ],
        [
         "2023-03-22",
         0.5
        ],
        [
         "2023-03-23",
         0.77
        ],
        [
         "2023-03-24",
         -0.59
        ],
        [
         "2023-03-25",
         -1.8
        ],
        [
         "2023-03-26",
         -1.72
        ],
        [
         "2023-03-27",
         -1.47
        ],
        [
         "2023-03-28",
         -0.22
        ],
        [
         "2023-03-29",
         0.7
        ],
        [
         "2023-03-30",
         0.3
        ],
        [
         "2023-03-31",
         0.99
        ],
        [
         "2023-04-01",
         3.62
        ],
        [
         "2023-04-02",
         2.99
        ],
        [
         "2023-04-03",
         1.59
        ],
        [
         "2023-04-04",
         0.43
        ],
        [
         "2023-04-05",
         0.69
        ],
        [
         "2023-04-06",
         2.34
        ],
        [
         "2023-04-07",
         3.92
        ],
        [
         "2023-04-08",
         4.87
        ],
        [
         "2023-04-09",
         6.75
        ],
        [
         "2023-04-10",
         8.78
        ],
        [
         "2023-04-11",
         8.5
        ],
        [
         "2023-04-12",
         7.21
        ],
        [
         "2023-04-13",
         5.18
        ],
        [
         "2023-04-14",
         4.59
        ],
        [
         "2023-04-15",
         5.83
        ],
        [
         "2023-04-16",
         6.95
        ],
        [
         "2023-04-17",
         6.14
        ],
        [
         "2023-04-18",
         4.39
        ],
        [
         "2023-04-19",
         3.38
        ],
        [
         "2023-04-20",
         4.22
        ],
        [
         "2023-04-21",
         5.88
        ],
        [
         "2023-04-22",
         5.96
        ],
        [
         "2023-04-23",
         5.9
        ],
        [
         "2023-04-24",
         6.18
        ],
        [
         "2023-04-25",
         6.72
        ],
        [
         "2023-04-26",
         8.9
        ],
        [
         "2023-04-27",
         9.96
        ],
        [
         "2023-04-28",
         10.8
        ],
        [
         "2023-04-29",
         11.09
        ],
        [
         "2023-04-30",
         10.79
        ],
        [
         "2023-05-01",
         9.97
        ],
        [
         "2023-05-02",
         9.98
        ],
        [
         "2023-05-03",
         10.53
        ],
        [
         "2023-05-04",
         9.93
        ],
        [
         "2023-05-05",
         8.78
        ],
        [
         "2023-05-06",
         8.5
        ],
        [
         "2023-05-07",
         9.03
        ],
        [
         "2023-05-08",
         9.46
        ],
        [
         "2023-05-09",
         9.89
        ],
        [
         "2023-05-10",
         10.42
        ],
        [
         "2023-05-11",
         11.32
        ],
        [
         "2023-05-12",
         12.88
        ],
        [
         "2023-05-13",
         13.4
        ],
        [
         "2023-05-14",
         13.47
        ],
        [
         "2023-05-15",
         14.12
        ],
        [
         "2023-05-16",
         13.94
        ],
        [
         "2023-05-17",
         12.86
        ],
        [
         "2023-05-18",
         12.66
        ],
        [
         "2023-05-19",
         14.01
        ],
        [
         "2023-05-20",
         14.51
        ],
        [
         "2023-05-21",
         13.96
        ],
        [
         "2023-05-22",
         13.01
        ],
        [
         "2023-05-23",
         12.72
        ],
        [
         "2023-05-24",
         12.49
        ],
        [
         "2023-05-25",
         12.63
        ],
        [
         "2023-05-26",
         12.78
        ],
        [
         "2023-05-27",
         13.14
        ],
        [
         "2023-05-28",
         13.78
        ],
        [
         "2023-05-29",
         14.2
        ],
        [
         "2023-05-30",
         14.2
        ],
        [
         "2023-05-31",
         13.99
        ],
        [
         "2023-06-01",
         13.78
        ],
        [
         "2023-06-02",
         13.91
        ],
        [
         "2023-06-03",
         14.62
        ],
        [
         "2023-06-04",
         15.03
        ],
        [
         "2023-06-05",
         15.4
        ],
        [
         "2023-06-06",
         15.56
        ],
        [
         "2023-06-07",
         15.35
        ],
        [
         "2023-06-08",
         15.16
        ],
        [
         "2023-06-09",
         14.71
        ],
        [
         "2023-06-10",
         14.58
        ],
        [
         "2023-06-11",
         14.95
        ],
        [
         "2023-06-12",
         15.03
        ],
        [
         "2023-06-13",
         14.8
        ],
        [
         "2023-06-14",
         13.96
        ],
        [
         "2023-06-15",
         13.77
        ],
        [
         "2023-06-16",
         14.66
        ],
        [
         "2023-06-17",
         14.91
        ],
        [
         "2023-06-18",
         14.25
        ],
        [
         "2023-06-19",
         13.8
        ],
        [
         "2023-06-20",
         13.76
        ],
        [
         "2023-06-21",
         14.71
        ],
        [
         "2023-06-22",
         15.71
        ],
        [
         "2023-06-23",
         15.99
        ],
        [
         "2023-06-24",
         16.52
        ],
        [
         "2023-06-25",
         17.01
        ],
        [
         "2023-06-26",
         17.01
        ],
        [
         "2023-06-27",
         17.05
        ],
        [
         "2023-06-28",
         17.45
        ],
        [
         "2023-06-29",
         18.24
        ],
        [
         "2023-06-30",
         19.15
        ],
        [
         "2023-07-01",
         19.62
        ],
        [
         "2023-07-02",
         19.71
        ],
        [
         "2023-07-03",
         19.3
        ],
        [
         "2023-07-04",
         18.47
        ],
        [
         "2023-07-05",
         18.51
        ],
        [
         "2023-07-06",
         18.78
        ],
        [
         "2023-07-07",
         18.45
        ],
        [
         "2023-07-08",
         18.49
        ],
        [
         "2023-07-09",
         19.26
        ],
        [
         "2023-07-10",
         18.83
        ],
        [
         "2023-07-11",
         18.78
        ],
        [
         "2023-07-12",
         19.14
        ],
        [
         "2023-07-13",
         19.57
        ],
        [
         "2023-07-14",
         19.8
        ],
        [
         "2023-07-15",
         20.44
        ],
        [
         "2023-07-16",
         21.03
        ],
        [
         "2023-07-17",
         20.51
        ],
        [
         "2023-07-18",
         20.01
        ],
        [
         "2023-07-19",
         20.12
        ],
        [
         "2023-07-20",
         20.52
        ],
        [
         "2023-07-21",
         20.93
        ],
        [
         "2023-07-22",
         21.23
        ],
        [
         "2023-07-23",
         21.34
        ],
        [
         "2023-07-24",
         20.86
        ],
        [
         "2023-07-25",
         20.36
        ],
        [
         "2023-07-26",
         20.24
        ],
        [
         "2023-07-27",
         19.92
        ],
        [
         "2023-07-28",
         20.1
        ],
        [
         "2023-07-29",
         20.07
        ],
        [
         "2023-07-30",
         19.83
        ],
        [
         "2023-07-31",
         19.45
        ],
        [
         "2023-08-01",
         19.22
        ],
        [
         "2023-08-02",
         19.03
        ],
        [
         "2023-08-03",
         18.79
        ],
        [
         "2023-08-04",
         18.69
        ],
        [
         "2023-08-05",
         18.79
        ],
        [
         "2023-08-06",
         18.67
        ],
        [
         "2023-08-07",
         18.39
        ],
        [
         "2023-08-08",
         17.91
        ],
        [
         "2023-08-09",
         18
        ],
        [
         "2023-08-10",
         17.99
        ],
        [
         "2023-08-11",
         18.25
        ],
        [
         "2023-08-12",
         18.77
        ],
        [
         "2023-08-13",
         19.24
        ],
        [
         "2023-08-14",
         20.14
        ],
        [
         "2023-08-15",
         20.72
        ],
        [
         "2023-08-16",
         20.5
        ],
        [
         "2023-08-17",
         20.36
        ],
        [
         "2023-08-18",
         18.73
        ],
        [
         "2023-08-19",
         17.73
        ],
        [
         "2023-08-20",
         17.47
        ],
        [
         "2023-08-21",
         17.41
        ],
        [
         "2023-08-22",
         17.17
        ],
        [
         "2023-08-23",
         17.35
        ],
        [
         "2023-08-24",
         17.94
        ],
        [
         "2023-08-25",
         17.87
        ],
        [
         "2023-08-26",
         18.52
        ],
        [
         "2023-08-27",
         18.69
        ],
        [
         "2023-08-28",
         18.55
        ],
        [
         "2023-08-29",
         18.19
        ],
        [
         "2023-08-30",
         17.13
        ],
        [
         "2023-08-31",
         16.76
        ],
        [
         "2023-09-01",
         16.41
        ],
        [
         "2023-09-02",
         16.95
        ],
        [
         "2023-09-03",
         16.27
        ],
        [
         "2023-09-04",
         14.91
        ],
        [
         "2023-09-05",
         15.47
        ],
        [
         "2023-09-06",
         16.08
        ],
        [
         "2023-09-07",
         16.11
        ],
        [
         "2023-09-08",
         16.11
        ],
        [
         "2023-09-09",
         16.37
        ],
        [
         "2023-09-10",
         16
        ],
        [
         "2023-09-11",
         15.63
        ],
        [
         "2023-09-12",
         15.2
        ],
        [
         "2023-09-13",
         14.66
        ],
        [
         "2023-09-14",
         14.36
        ],
        [
         "2023-09-15",
         14.68
        ],
        [
         "2023-09-16",
         15.24
        ],
        [
         "2023-09-17",
         15.34
        ],
        [
         "2023-09-18",
         14.25
        ],
        [
         "2023-09-19",
         13
        ],
        [
         "2023-09-20",
         12.32
        ],
        [
         "2023-09-21",
         11.79
        ],
        [
         "2023-09-22",
         11.95
        ],
        [
         "2023-09-23",
         12.25
        ],
        [
         "2023-09-24",
         12.77
        ],
        [
         "2023-09-25",
         13.42
        ],
        [
         "2023-09-26",
         13.45
        ],
        [
         "2023-09-27",
         12.63
        ],
        [
         "2023-09-28",
         12.12
        ],
        [
         "2023-09-29",
         11.88
        ],
        [
         "2023-09-30",
         11.36
        ],
        [
         "2023-10-01",
         10.85
        ],
        [
         "2023-10-02",
         10.74
        ],
        [
         "2023-10-03",
         10.99
        ],
        [
         "2023-10-04",
         11.41
        ],
        [
         "2023-10-05",
         11.67
        ],
        [
         "2023-10-06",
         12.08
        ],
        [
         "2023-10-07",
         12.31
        ],
        [
         "2023-10-08",
         11.96
        ],
        [
         "2023-10-09",
         11.28
        ],
        [
         "2023-10-10",
         10.21
        ],
        [
         "2023-10-11",
         8.39
        ],
        [
         "2023-10-12",
         7.66
        ],
        [
         "2023-10-13",
         8.27
        ],
        [
         "2023-10-14",
         8.84
        ],
        [
         "2023-10-15",
         10.04
        ],
        [
         "2023-10-16",
         10.36
        ],
        [
         "2023-10-17",
         10.06
        ],
        [
         "2023-10-18",
         10.98
        ],
        [
         "2023-10-19",
         12.14
        ],
        [
         "2023-10-20",
         11.54
        ],
        [
         "2023-10-21",
         10.11
        ],
        [
         "2023-10-22",
         8.64
        ],
        [
         "2023-10-23",
         6.87
        ],
        [
         "2023-10-24",
         5.74
        ],
        [
         "2023-10-25",
         5.11
        ],
        [
         "2023-10-26",
         3.61
        ],
        [
         "2023-10-27",
         3.36
        ],
        [
         "2023-10-28",
         2.11
        ],
        [
         "2023-10-29",
         1.16
        ],
        [
         "2023-10-30",
         1.5
        ],
        [
         "2023-10-31",
         2.55
        ],
        [
         "2023-11-01",
         3.4
        ],
        [
         "2023-11-02",
         4.87
        ],
        [
         "2023-11-03",
         6.13
        ],
        [
         "2023-11-04",
         6.6
        ],
        [
         "2023-11-05",
         6.43
        ],
        [
         "2023-11-06",
         5.72
        ],
        [
         "2023-11-07",
         4.68
        ],
        [
         "2023-11-08",
         3.12
        ],
        [
         "2023-11-09",
         2.48
        ],
        [
         "2023-11-10",
         2.56
        ],
        [
         "2023-11-11",
         3.17
        ],
        [
         "2023-11-12",
         3.92
        ],
        [
         "2023-11-13",
         4.45
        ],
        [
         "2023-11-14",
         4.22
        ],
        [
         "2023-11-15",
         4.66
        ],
        [
         "2023-11-16",
         4.15
        ],
        [
         "2023-11-17",
         4.47
        ],
        [
         "2023-11-18",
         3.69
        ],
        [
         "2023-11-19",
         2
        ],
        [
         "2023-11-20",
         1.05
        ],
        [
         "2023-11-21",
         1.94
        ],
        [
         "2023-11-22",
         2.13
        ],
        [
         "2023-11-23",
         0.45
        ],
        [
         "2023-11-24",
         -1.56
        ],
        [
         "2023-11-25",
         -2.14
        ],
        [
         "2023-11-26",
         -1.93
        ],
        [
         "2023-11-27",
         -1.24
        ],
        [
         "2023-11-28",
         -0.49
        ],
        [
         "2023-11-29",
         -0.82
        ],
        [
         "2023-11-30",
         -1.25
        ],
        [
         "2023-12-01",
         -1.16
        ],
        [
         "2023-12-02",
         -0.39
        ],
        [
         "2023-12-03",
         0.81
        ],
        [
         "2023-12-04",
         1.93
        ],
        [
         "2023-12-05",
         2.83
        ],
        [
         "2023-12-06",
         2.44
        ],
        [
         "2023-12-07",
         0.45
        ],
        [
         "2023-12-08",
         -1.33
        ],
        [
         "2023-12-09",
         -1.83
        ],
        [
         "2023-12-10",
         0.23
        ],
        [
         "2023-12-11",
         0.31
        ],
        [
         "2023-12-12",
         -0.86
        ],
        [
         "2023-12-13",
         -0.54
        ],
        [
         "2023-12-14",
         -0.26
        ],
        [
         "2023-12-15",
         0.47
        ],
        [
         "2023-12-16",
         1.42
        ],
        [
         "2023-12-17",
         1.5
        ],
        [
         "2023-12-18",
         1.67
        ],
        [
         "2023-12-19",
         1.22
        ],
        [
         "2023-12-20",
         1.29
        ],
        [
         "2023-12-21",
         1.23
        ],
        [
         "2023-12-22",
         0.79
        ],
        [
         "2023-12-23",
         -0.45
        ],
        [
         "2023-12-24",
         -1.75
        ],
        [
         "2023-12-25",
         -1.65
        ],
        [
         "2023-12-26",
         -0.49
        ],
        [
         "2023-12-27",
         -0.05
        ],
        [
         "2023-12-28",
         0.54
        ],
        [
         "2023-12-29",
         0.35
        ],
        [
         "2023-12-30",
         -0.06
        ],
        [
         "2023-12-31",
         -0.84
        ]
       ],
       "datasetInfos": [],
       "dbfsResultPath": null,
       "isJsonSchema": true,
       "metadata": {
        "dataframeName": "_sqldf",
        "executionCount": 5
       },
       "overflow": false,
       "plotOptions": {
        "customPlotOptions": {},
        "displayType": "table",
        "pivotAggregation": null,
        "pivotColumns": null,
        "xColumns": null,
        "yColumns": null
       },
       "removedWidgets": [],
       "schema": [
        {
         "metadata": "{}",
         "name": "Date",
         "type": "\"date\""
        },
        {
         "metadata": "{}",
         "name": "AvgTemperature",
         "type": "\"double\""
        }
       ],
       "type": "table"
      }
     },
     "output_type": "display_data"
    },
    {
     "data": {
      "text/plain": [
       "Databricks visualization. Run in Databricks to view."
      ]
     },
     "metadata": {
      "application/vnd.databricks.v1.subcommand+json": {
       "baseErrorDetails": null,
       "bindings": {
        "end_year": "2023"
       },
       "collapsed": false,
       "command": "%sql WITH q AS (SELECT DISTINCT date(g.Time) as Date, round(mean(g.Value) / 10, 2) as AvgTemperature\nFROM ghcn.ghcn_${end_year} g\nJOIN ghcn.station_metadata s\nON g.ID = s.ID \nWHERE s.Region = 'North America' AND g.Element = 'TAVG'\nGROUP BY Date\nORDER BY Date) SELECT `Date`,SUM(`AvgTemperature`) `column_ed4f0add15` FROM q GROUP BY `Date`",
       "commandTitle": "daily temperature line chart in US",
       "commandType": "auto",
       "commandVersion": 0,
       "commentThread": [],
       "commentsVisible": false,
       "contentSha256Hex": null,
       "customPlotOptions": {
        "redashChart": [
         {
          "key": "type",
          "value": "CHART"
         },
         {
          "key": "options",
          "value": {
           "alignYAxesAtZero": true,
           "coefficient": 1,
           "columnConfigurationMap": {
            "x": {
             "column": "Date",
             "id": "column_ed4f0add14"
            },
            "y": [
             {
              "column": "AvgTemperature",
              "id": "column_ed4f0add15",
              "transform": "SUM"
             }
            ]
           },
           "dateTimeFormat": "DD/MM/YYYY HH:mm",
           "direction": {
            "type": "counterclockwise"
           },
           "error_y": {
            "type": "data",
            "visible": true
           },
           "globalSeriesType": "line",
           "isAggregationOn": true,
           "legend": {
            "traceorder": "normal"
           },
           "missingValuesAsZero": true,
           "numberFormat": "0,0.[00000]",
           "percentFormat": "0[.]00%",
           "series": {
            "error_y": {
             "type": "data",
             "visible": true
            },
            "stacking": null
           },
           "seriesOptions": {
            "column_ed4f0add15": {
             "color": "#077A9D",
             "name": "AvgTemperature",
             "yAxis": 0
            }
           },
           "showDataLabels": false,
           "sizemode": "diameter",
           "sortX": true,
           "sortY": true,
           "swappedAxes": false,
           "textFormat": "",
           "useAggregationsUi": true,
           "valuesOptions": {},
           "version": 2,
           "xAxis": {
            "labels": {
             "enabled": true
            },
            "type": "-"
           },
           "yAxis": [
            {
             "type": "-"
            },
            {
             "opposite": true,
             "type": "-"
            }
           ]
          }
         }
        ]
       },
       "datasetPreviewNameToCmdIdMap": {},
       "diffDeletes": [],
       "diffInserts": [],
       "displayType": "redashChart",
       "error": null,
       "errorDetails": null,
       "errorSummary": null,
       "errorTraceType": null,
       "finishTime": 0,
       "globalVars": {},
       "guid": "",
       "height": "auto",
       "hideCommandCode": false,
       "hideCommandResult": false,
       "iPythonMetadata": null,
       "inputWidgets": {},
       "isLockedInExamMode": false,
       "latestUser": "a user",
       "latestUserId": null,
       "listResultMetadata": null,
       "metadata": {},
       "nuid": "d08c4596-e36d-4a7c-b22b-77fca81dc0d8",
       "origId": 0,
       "parentHierarchy": [],
       "pivotAggregation": null,
       "pivotColumns": null,
       "position": 10,
       "resultDbfsErrorMessage": null,
       "resultDbfsStatus": "INLINED_IN_TREE",
       "results": null,
       "showCommandTitle": false,
       "startTime": 0,
       "state": "input",
       "streamStates": {},
       "subcommandOptions": {
        "queryPlan": {
         "groups": [
          {
           "column": "Date",
           "type": "column"
          }
         ],
         "selects": [
          {
           "column": "Date",
           "type": "column"
          },
          {
           "alias": "column_ed4f0add15",
           "args": [
            {
             "column": "AvgTemperature",
             "type": "column"
            }
           ],
           "function": "SUM",
           "type": "function"
          }
         ]
        }
       },
       "submitTime": 0,
       "subtype": "tableResultSubCmd.visualization",
       "tableResultIndex": 0,
       "useConsistentColors": false,
       "version": "CommandV1",
       "width": "auto",
       "workflows": [],
       "xColumns": null,
       "yColumns": null
      }
     },
     "output_type": "display_data"
    }
   ],
   "source": [
    "%sql\n",
    "SELECT DISTINCT date(g.Time) as Date, round(mean(g.Value) / 10, 2) as AvgTemperature\n",
    "FROM ghcn.ghcn_${end_year} g\n",
    "JOIN ghcn.station_metadata s\n",
    "ON g.ID = s.ID \n",
    "WHERE s.Region = 'North America' AND g.Element = 'TAVG'\n",
    "GROUP BY Date\n",
    "ORDER BY Date"
   ]
  },
  {
   "cell_type": "markdown",
   "metadata": {
    "application/vnd.databricks.v1+cell": {
     "cellMetadata": {},
     "inputWidgets": {},
     "nuid": "9d8687a3-9513-44d4-b637-0f50e692dbe1",
     "showTitle": false,
     "title": ""
    }
   },
   "source": [
    "- Temperature map in July `end_year` in the United States"
   ]
  },
  {
   "cell_type": "code",
   "execution_count": null,
   "metadata": {
    "application/vnd.databricks.v1+cell": {
     "cellMetadata": {
      "byteLimit": 2048000,
      "implicitDf": true,
      "rowLimit": 10000
     },
     "inputWidgets": {},
     "nuid": "1ca6dc0c-22d5-4b52-bff9-00722d7938d5",
     "showTitle": false,
     "title": ""
    }
   },
   "outputs": [
    {
     "data": {
      "text/html": [
       "<style scoped>\n",
       "  .table-result-container {\n",
       "    max-height: 300px;\n",
       "    overflow: auto;\n",
       "  }\n",
       "  table, th, td {\n",
       "    border: 1px solid black;\n",
       "    border-collapse: collapse;\n",
       "  }\n",
       "  th, td {\n",
       "    padding: 5px;\n",
       "  }\n",
       "  th {\n",
       "    text-align: left;\n",
       "  }\n",
       "</style><div class='table-result-container'><table class='table-result'><thead style='background-color: white'><tr><th>State</th><th>AvgTemperature</th></tr></thead><tbody><tr><td>AK</td><td>6.23</td></tr><tr><td>AL</td><td>21.37</td></tr><tr><td>AR</td><td>20.73</td></tr><tr><td>AZ</td><td>15.64</td></tr><tr><td>CA</td><td>13.89</td></tr><tr><td>CO</td><td>7.95</td></tr><tr><td>CT</td><td>15.47</td></tr><tr><td>FL</td><td>24.46</td></tr><tr><td>GA</td><td>20.38</td></tr><tr><td>HI</td><td>20.37</td></tr><tr><td>IA</td><td>18.27</td></tr><tr><td>ID</td><td>10.84</td></tr><tr><td>IL</td><td>18.72</td></tr><tr><td>IN</td><td>17.41</td></tr><tr><td>KS</td><td>19.13</td></tr><tr><td>KY</td><td>18.3</td></tr><tr><td>LA</td><td>23.79</td></tr><tr><td>MA</td><td>15.07</td></tr><tr><td>MD</td><td>17.15</td></tr><tr><td>ME</td><td>12.84</td></tr><tr><td>MI</td><td>13.09</td></tr><tr><td>MN</td><td>15.08</td></tr><tr><td>MO</td><td>19.55</td></tr><tr><td>MS</td><td>22.76</td></tr><tr><td>MT</td><td>10.8</td></tr><tr><td>NC</td><td>18.2</td></tr><tr><td>ND</td><td>16.38</td></tr><tr><td>NE</td><td>17.01</td></tr><tr><td>NH</td><td>9.59</td></tr><tr><td>NJ</td><td>16.69</td></tr><tr><td>NM</td><td>10.06</td></tr><tr><td>NV</td><td>10.88</td></tr><tr><td>NY</td><td>14.31</td></tr><tr><td>OH</td><td>15.96</td></tr><tr><td>OK</td><td>20.58</td></tr><tr><td>OR</td><td>11.3</td></tr><tr><td>PA</td><td>15.1</td></tr><tr><td>RI</td><td>14.05</td></tr><tr><td>SC</td><td>19.78</td></tr><tr><td>SD</td><td>15.25</td></tr><tr><td>TN</td><td>18.83</td></tr><tr><td>TX</td><td>23.48</td></tr><tr><td>UT</td><td>9.26</td></tr><tr><td>VA</td><td>17.12</td></tr><tr><td>VT</td><td>13.16</td></tr><tr><td>WA</td><td>11.41</td></tr><tr><td>WI</td><td>15.19</td></tr><tr><td>WV</td><td>15.44</td></tr><tr><td>WY</td><td>7.7</td></tr></tbody></table></div>"
      ]
     },
     "metadata": {
      "application/vnd.databricks.v1+output": {
       "addedWidgets": {},
       "aggData": [],
       "aggError": "",
       "aggOverflow": false,
       "aggSchema": [],
       "aggSeriesLimitReached": false,
       "aggType": "",
       "arguments": {},
       "columnCustomDisplayInfos": {},
       "data": [
        [
         "AK",
         6.23
        ],
        [
         "AL",
         21.37
        ],
        [
         "AR",
         20.73
        ],
        [
         "AZ",
         15.64
        ],
        [
         "CA",
         13.89
        ],
        [
         "CO",
         7.95
        ],
        [
         "CT",
         15.47
        ],
        [
         "FL",
         24.46
        ],
        [
         "GA",
         20.38
        ],
        [
         "HI",
         20.37
        ],
        [
         "IA",
         18.27
        ],
        [
         "ID",
         10.84
        ],
        [
         "IL",
         18.72
        ],
        [
         "IN",
         17.41
        ],
        [
         "KS",
         19.13
        ],
        [
         "KY",
         18.3
        ],
        [
         "LA",
         23.79
        ],
        [
         "MA",
         15.07
        ],
        [
         "MD",
         17.15
        ],
        [
         "ME",
         12.84
        ],
        [
         "MI",
         13.09
        ],
        [
         "MN",
         15.08
        ],
        [
         "MO",
         19.55
        ],
        [
         "MS",
         22.76
        ],
        [
         "MT",
         10.8
        ],
        [
         "NC",
         18.2
        ],
        [
         "ND",
         16.38
        ],
        [
         "NE",
         17.01
        ],
        [
         "NH",
         9.59
        ],
        [
         "NJ",
         16.69
        ],
        [
         "NM",
         10.06
        ],
        [
         "NV",
         10.88
        ],
        [
         "NY",
         14.31
        ],
        [
         "OH",
         15.96
        ],
        [
         "OK",
         20.58
        ],
        [
         "OR",
         11.3
        ],
        [
         "PA",
         15.1
        ],
        [
         "RI",
         14.05
        ],
        [
         "SC",
         19.78
        ],
        [
         "SD",
         15.25
        ],
        [
         "TN",
         18.83
        ],
        [
         "TX",
         23.48
        ],
        [
         "UT",
         9.26
        ],
        [
         "VA",
         17.12
        ],
        [
         "VT",
         13.16
        ],
        [
         "WA",
         11.41
        ],
        [
         "WI",
         15.19
        ],
        [
         "WV",
         15.44
        ],
        [
         "WY",
         7.7
        ]
       ],
       "datasetInfos": [],
       "dbfsResultPath": null,
       "isJsonSchema": true,
       "metadata": {
        "dataframeName": "_sqldf",
        "executionCount": 11
       },
       "overflow": false,
       "plotOptions": {
        "customPlotOptions": {},
        "displayType": "table",
        "pivotAggregation": null,
        "pivotColumns": null,
        "xColumns": null,
        "yColumns": null
       },
       "removedWidgets": [],
       "schema": [
        {
         "metadata": "{}",
         "name": "State",
         "type": "\"string\""
        },
        {
         "metadata": "{}",
         "name": "AvgTemperature",
         "type": "\"double\""
        }
       ],
       "type": "table"
      }
     },
     "output_type": "display_data"
    },
    {
     "data": {
      "text/plain": [
       "Databricks visualization. Run in Databricks to view."
      ]
     },
     "metadata": {
      "application/vnd.databricks.v1.subcommand+json": {
       "baseErrorDetails": null,
       "bindings": {},
       "collapsed": false,
       "command": "%sql\nSELECT s.State, round(mean(g.Value) / 10, 2) as AvgTemperature\nFROM ghcn.ghcn_${end_year} g\nJOIN ghcn.station_metadata s\nON g.ID = s.ID \nWHERE s.FIPS == 'US' AND g.Element = 'TAVG' AND month(g.Time) == '7'\nGROUP BY s.State\nORDER BY s.State",
       "commandTitle": "Temperature in May in US",
       "commandType": "auto",
       "commandVersion": 0,
       "commentThread": [],
       "commentsVisible": false,
       "contentSha256Hex": null,
       "customPlotOptions": {
        "redashChart": [
         {
          "key": "type",
          "value": "CHOROPLETH"
         },
         {
          "key": "options",
          "value": {
           "clusteringMode": "e",
           "colors": {
            "background": "#DDDDDD",
            "borders": "#000000",
            "max": "#981717",
            "min": "#FB8D3D",
            "noValue": "#dddddd"
           },
           "keyColumn": "State",
           "legend": {
            "alignText": "right",
            "position": "bottom-left",
            "visible": true
           },
           "mapType": "usa",
           "noValuePlaceholder": "N/A",
           "popup": {
            "enabled": true,
            "template": "Region: <b>{{ @@name }}</b>\n<br>\nValue: <b>{{ @@value }}</b>"
           },
           "steps": 5,
           "targetField": "usps_abbrev",
           "tooltip": {
            "enabled": true,
            "template": "<b>{{ @@name }}</b>: {{ @@value }}"
           },
           "valueColumn": "AvgTemperature",
           "valueFormat": "0,0.00"
          }
         }
        ]
       },
       "datasetPreviewNameToCmdIdMap": {},
       "diffDeletes": [],
       "diffInserts": [],
       "displayType": "redashChart",
       "error": null,
       "errorDetails": null,
       "errorSummary": null,
       "errorTraceType": null,
       "finishTime": 0,
       "globalVars": {},
       "guid": "",
       "height": "auto",
       "hideCommandCode": false,
       "hideCommandResult": false,
       "iPythonMetadata": null,
       "inputWidgets": {},
       "isLockedInExamMode": false,
       "latestUser": "a user",
       "latestUserId": null,
       "listResultMetadata": null,
       "metadata": {},
       "nuid": "f2653a0c-b1fe-4df2-b8f1-eb5a292b841c",
       "origId": 0,
       "parentHierarchy": [],
       "pivotAggregation": null,
       "pivotColumns": null,
       "position": 11,
       "resultDbfsErrorMessage": null,
       "resultDbfsStatus": "INLINED_IN_TREE",
       "results": null,
       "showCommandTitle": false,
       "startTime": 0,
       "state": "input",
       "streamStates": {},
       "subcommandOptions": {},
       "submitTime": 0,
       "subtype": "tableResultSubCmd.visualization",
       "tableResultIndex": 0,
       "useConsistentColors": false,
       "version": "CommandV1",
       "width": "auto",
       "workflows": [],
       "xColumns": null,
       "yColumns": null
      }
     },
     "output_type": "display_data"
    }
   ],
   "source": [
    "%sql\n",
    "SELECT s.State, round(mean(g.Value) / 10, 2) as AvgTemperature\n",
    "FROM ghcn.ghcn_${end_year} g\n",
    "JOIN ghcn.station_metadata s\n",
    "ON g.ID = s.ID \n",
    "WHERE s.FIPS == 'US' AND g.Element = 'TAVG' AND month(g.Time) == '5'\n",
    "GROUP BY s.State\n",
    "ORDER BY s.State"
   ]
  },
  {
   "cell_type": "markdown",
   "metadata": {
    "application/vnd.databricks.v1+cell": {
     "cellMetadata": {},
     "inputWidgets": {},
     "nuid": "af19b287-0598-4943-b6a9-efd9e99e9d3a",
     "showTitle": false,
     "title": ""
    }
   },
   "source": [
    "- Temperature map in Jan `end_year` in the world"
   ]
  },
  {
   "cell_type": "code",
   "execution_count": null,
   "metadata": {
    "application/vnd.databricks.v1+cell": {
     "cellMetadata": {
      "byteLimit": 2048000,
      "implicitDf": true,
      "rowLimit": 10000
     },
     "inputWidgets": {},
     "nuid": "2694bfb8-1f1c-4b91-a3d7-d8c0e23e9e1b",
     "showTitle": false,
     "title": ""
    }
   },
   "outputs": [
    {
     "data": {
      "text/html": [
       "<style scoped>\n",
       "  .table-result-container {\n",
       "    max-height: 300px;\n",
       "    overflow: auto;\n",
       "  }\n",
       "  table, th, td {\n",
       "    border: 1px solid black;\n",
       "    border-collapse: collapse;\n",
       "  }\n",
       "  th, td {\n",
       "    padding: 5px;\n",
       "  }\n",
       "  th {\n",
       "    text-align: left;\n",
       "  }\n",
       "</style><div class='table-result-container'><table class='table-result'><thead style='background-color: white'><tr><th>ISO-2</th><th>AvgTemperature</th></tr></thead><tbody><tr><td>MM</td><td>24.29</td></tr><tr><td>DZ</td><td>9.73</td></tr><tr><td>LT</td><td>0.49</td></tr><tr><td>CI</td><td>26.8</td></tr><tr><td>PM</td><td>0.83</td></tr><tr><td>SC</td><td>26.75</td></tr><tr><td>AZ</td><td>2.52</td></tr><tr><td>UA</td><td>0.66</td></tr><tr><td>RO</td><td>3.6</td></tr><tr><td>KI</td><td>28.15</td></tr><tr><td>SL</td><td>27.26</td></tr><tr><td>NL</td><td>5.71</td></tr><tr><td>SB</td><td>27.18</td></tr><tr><td>LA</td><td>22.81</td></tr><tr><td>BW</td><td>25.7</td></tr><tr><td>BS</td><td>22.93</td></tr><tr><td>MN</td><td>-19.84</td></tr><tr><td>PL</td><td>2.82</td></tr><tr><td>RE</td><td>24.58</td></tr><tr><td>AM</td><td>-3.85</td></tr><tr><td>MK</td><td>3.64</td></tr><tr><td>MX</td><td>19.11</td></tr><tr><td>TV</td><td>28.73</td></tr><tr><td>EE</td><td>-0.96</td></tr><tr><td>CN</td><td>-2.69</td></tr><tr><td>AT</td><td>0.26</td></tr><tr><td>RU</td><td>-16.4</td></tr><tr><td>IQ</td><td>12.06</td></tr><tr><td>SJ</td><td>-3.96</td></tr><tr><td>CG</td><td>25.85</td></tr><tr><td>SV</td><td>27.37</td></tr><tr><td>NP</td><td>12.81</td></tr><tr><td>CZ</td><td>1.57</td></tr><tr><td>PT</td><td>14.69</td></tr><tr><td>PG</td><td>28.36</td></tr><tr><td>CX</td><td>24.95</td></tr><tr><td>KY</td><td>26.79</td></tr><tr><td>BN</td><td>26.95</td></tr><tr><td>CV</td><td>22.64</td></tr><tr><td>LR</td><td>27.24</td></tr><tr><td>BD</td><td>18.39</td></tr><tr><td>PY</td><td>27.93</td></tr><tr><td>LB</td><td>14.71</td></tr><tr><td>CL</td><td>18.03</td></tr><tr><td>LY</td><td>14.24</td></tr><tr><td>PK</td><td>10.6</td></tr><tr><td>SA</td><td>15.82</td></tr><tr><td>AU</td><td>23.62</td></tr><tr><td>BM</td><td>19.54</td></tr><tr><td>CA</td><td>-7.73</td></tr><tr><td>MW</td><td>24.86</td></tr><tr><td>NE</td><td>23.92</td></tr><tr><td>UZ</td><td>-3.91</td></tr><tr><td>GB</td><td>5.31</td></tr><tr><td>MT</td><td>12.86</td></tr><tr><td>BR</td><td>25.57</td></tr><tr><td>KZ</td><td>-11.3</td></tr><tr><td>BY</td><td>-1.07</td></tr><tr><td>ZR</td><td>26.22</td></tr><tr><td>MD</td><td>1.91</td></tr><tr><td>ES</td><td>8.82</td></tr><tr><td>BH</td><td>18.02</td></tr><tr><td>MO</td><td>15.95</td></tr><tr><td>EC</td><td>21.31</td></tr><tr><td>IR</td><td>4.45</td></tr><tr><td>IL</td><td>13.89</td></tr><tr><td>TR</td><td>5.34</td></tr><tr><td>MR</td><td>20.95</td></tr><tr><td>VE</td><td>26.39</td></tr><tr><td>ZA</td><td>22.88</td></tr><tr><td>CR</td><td>25.42</td></tr><tr><td>KR</td><td>1.42</td></tr><tr><td>TZ</td><td>24.98</td></tr><tr><td>AQ</td><td>-7.05</td></tr><tr><td>US</td><td>-0.99</td></tr><tr><td>AL</td><td>8.44</td></tr><tr><td>MY</td><td>26.52</td></tr><tr><td>CK</td><td>25.44</td></tr><tr><td>JM</td><td>26.27</td></tr><tr><td>CM</td><td>26.21</td></tr><tr><td>RW</td><td>20.84</td></tr><tr><td>TG</td><td>27.62</td></tr><tr><td>GF</td><td>22.48</td></tr><tr><td>CH</td><td>0.28</td></tr><tr><td>MG</td><td>26.22</td></tr><tr><td>CC</td><td>26.83</td></tr><tr><td>TN</td><td>11.02</td></tr><tr><td>GQ</td><td>27.72</td></tr><tr><td>WF</td><td>27.34</td></tr><tr><td>TD</td><td>27.34</td></tr><tr><td>SD</td><td>24.9</td></tr><tr><td>BA</td><td>4.11</td></tr><tr><td>JO</td><td>9.62</td></tr><tr><td>ET</td><td>19.91</td></tr><tr><td>SG</td><td>26.31</td></tr><tr><td>KP</td><td>-6.88</td></tr><tr><td>BF</td><td>25.39</td></tr><tr><td>GW</td><td>26.35</td></tr><tr><td>CU</td><td>24.55</td></tr><tr><td>IT</td><td>7.04</td></tr><tr><td>MV</td><td>28.25</td></tr><tr><td>SE</td><td>-0.84</td></tr><tr><td>PH</td><td>25.1</td></tr><tr><td>BG</td><td>5.12</td></tr><tr><td>SK</td><td>2.42</td></tr><tr><td>MH</td><td>27.63</td></tr><tr><td>PE</td><td>23.24</td></tr><tr><td>MU</td><td>26.68</td></tr><tr><td>LV</td><td>-0.57</td></tr><tr><td>MZ</td><td>26.6</td></tr><tr><td>QA</td><td>18.89</td></tr><tr><td>BZ</td><td>25.74</td></tr><tr><td>DO</td><td>25.16</td></tr><tr><td>TH</td><td>24.61</td></tr><tr><td>EG</td><td>16.79</td></tr><tr><td>BJ</td><td>27.12</td></tr><tr><td>TM</td><td>-1.25</td></tr><tr><td>JP</td><td>4.42</td></tr><tr><td>ZW</td><td>20.95</td></tr><tr><td>SN</td><td>25.92</td></tr><tr><td>NZ</td><td>17.1</td></tr><tr><td>LK</td><td>24.05</td></tr><tr><td>OM</td><td>19.68</td></tr><tr><td>KE</td><td>25.15</td></tr><tr><td>SI</td><td>-1.41</td></tr><tr><td>CY</td><td>14.23</td></tr><tr><td>ML</td><td>25.85</td></tr><tr><td>IE</td><td>6.47</td></tr><tr><td>KW</td><td>13.62</td></tr><tr><td>GS</td><td>6.23</td></tr><tr><td>VU</td><td>27.4</td></tr><tr><td>BE</td><td>5.2</td></tr><tr><td>MA</td><td>11.6</td></tr><tr><td>AS</td><td>27.88</td></tr><tr><td>NI</td><td>27.22</td></tr><tr><td>KH</td><td>26.62</td></tr><tr><td>KG</td><td>-9.8</td></tr><tr><td>TT</td><td>25.45</td></tr><tr><td>SY</td><td>9.08</td></tr><tr><td>NO</td><td>-0.22</td></tr><tr><td>BO</td><td>25.35</td></tr><tr><td>No Record</td><td>15.23</td></tr><tr><td>CO</td><td>24.21</td></tr><tr><td>UY</td><td>26.33</td></tr><tr><td>NG</td><td>26.45</td></tr><tr><td>YT</td><td>27.19</td></tr><tr><td>AR</td><td>24.67</td></tr><tr><td>CF</td><td>25.25</td></tr><tr><td>NF</td><td>21.61</td></tr><tr><td>SZ</td><td>26.7</td></tr><tr><td>LU</td><td>3.35</td></tr><tr><td>VN</td><td>20.21</td></tr><tr><td>SR</td><td>24.89</td></tr><tr><td>TJ</td><td>-6.35</td></tr><tr><td>DK</td><td>4.11</td></tr><tr><td>AO</td><td>27.18</td></tr><tr><td>FI</td><td>-3.85</td></tr><tr><td>PF</td><td>26.16</td></tr><tr><td>GL</td><td>-16.53</td></tr><tr><td>HR</td><td>6.49</td></tr><tr><td>GH</td><td>28.56</td></tr><tr><td>ID</td><td>26.92</td></tr><tr><td>HN</td><td>24.04</td></tr><tr><td>DE</td><td>4.27</td></tr><tr><td>GN</td><td>26.42</td></tr><tr><td>GU</td><td>27.17</td></tr><tr><td>IN</td><td>19.91</td></tr><tr><td>GM</td><td>25.54</td></tr><tr><td>FR</td><td>6.11</td></tr><tr><td>GR</td><td>11.43</td></tr><tr><td>GI</td><td>13.92</td></tr><tr><td>FJ</td><td>27.27</td></tr><tr><td>GE</td><td>2.58</td></tr><tr><td>GY</td><td>25.92</td></tr><tr><td>HU</td><td>4.23</td></tr><tr><td>GA</td><td>27.4</td></tr><tr><td>IS</td><td>-0.73</td></tr><tr><td>ZM</td><td>26.4</td></tr></tbody></table></div>"
      ]
     },
     "metadata": {
      "application/vnd.databricks.v1+output": {
       "addedWidgets": {},
       "aggData": [],
       "aggError": "",
       "aggOverflow": false,
       "aggSchema": [],
       "aggSeriesLimitReached": false,
       "aggType": "",
       "arguments": {},
       "columnCustomDisplayInfos": {},
       "data": [
        [
         "MM",
         24.29
        ],
        [
         "DZ",
         9.73
        ],
        [
         "LT",
         0.49
        ],
        [
         "CI",
         26.8
        ],
        [
         "PM",
         0.83
        ],
        [
         "SC",
         26.75
        ],
        [
         "AZ",
         2.52
        ],
        [
         "UA",
         0.66
        ],
        [
         "RO",
         3.6
        ],
        [
         "KI",
         28.15
        ],
        [
         "SL",
         27.26
        ],
        [
         "NL",
         5.71
        ],
        [
         "SB",
         27.18
        ],
        [
         "LA",
         22.81
        ],
        [
         "BW",
         25.7
        ],
        [
         "BS",
         22.93
        ],
        [
         "MN",
         -19.84
        ],
        [
         "PL",
         2.82
        ],
        [
         "RE",
         24.58
        ],
        [
         "AM",
         -3.85
        ],
        [
         "MK",
         3.64
        ],
        [
         "MX",
         19.11
        ],
        [
         "TV",
         28.73
        ],
        [
         "EE",
         -0.96
        ],
        [
         "CN",
         -2.69
        ],
        [
         "AT",
         0.26
        ],
        [
         "RU",
         -16.4
        ],
        [
         "IQ",
         12.06
        ],
        [
         "SJ",
         -3.96
        ],
        [
         "CG",
         25.85
        ],
        [
         "SV",
         27.37
        ],
        [
         "NP",
         12.81
        ],
        [
         "CZ",
         1.57
        ],
        [
         "PT",
         14.69
        ],
        [
         "PG",
         28.36
        ],
        [
         "CX",
         24.95
        ],
        [
         "KY",
         26.79
        ],
        [
         "BN",
         26.95
        ],
        [
         "CV",
         22.64
        ],
        [
         "LR",
         27.24
        ],
        [
         "BD",
         18.39
        ],
        [
         "PY",
         27.93
        ],
        [
         "LB",
         14.71
        ],
        [
         "CL",
         18.03
        ],
        [
         "LY",
         14.24
        ],
        [
         "PK",
         10.6
        ],
        [
         "SA",
         15.82
        ],
        [
         "AU",
         23.62
        ],
        [
         "BM",
         19.54
        ],
        [
         "CA",
         -7.73
        ],
        [
         "MW",
         24.86
        ],
        [
         "NE",
         23.92
        ],
        [
         "UZ",
         -3.91
        ],
        [
         "GB",
         5.31
        ],
        [
         "MT",
         12.86
        ],
        [
         "BR",
         25.57
        ],
        [
         "KZ",
         -11.3
        ],
        [
         "BY",
         -1.07
        ],
        [
         "ZR",
         26.22
        ],
        [
         "MD",
         1.91
        ],
        [
         "ES",
         8.82
        ],
        [
         "BH",
         18.02
        ],
        [
         "MO",
         15.95
        ],
        [
         "EC",
         21.31
        ],
        [
         "IR",
         4.45
        ],
        [
         "IL",
         13.89
        ],
        [
         "TR",
         5.34
        ],
        [
         "MR",
         20.95
        ],
        [
         "VE",
         26.39
        ],
        [
         "ZA",
         22.88
        ],
        [
         "CR",
         25.42
        ],
        [
         "KR",
         1.42
        ],
        [
         "TZ",
         24.98
        ],
        [
         "AQ",
         -7.05
        ],
        [
         "US",
         -0.99
        ],
        [
         "AL",
         8.44
        ],
        [
         "MY",
         26.52
        ],
        [
         "CK",
         25.44
        ],
        [
         "JM",
         26.27
        ],
        [
         "CM",
         26.21
        ],
        [
         "RW",
         20.84
        ],
        [
         "TG",
         27.62
        ],
        [
         "GF",
         22.48
        ],
        [
         "CH",
         0.28
        ],
        [
         "MG",
         26.22
        ],
        [
         "CC",
         26.83
        ],
        [
         "TN",
         11.02
        ],
        [
         "GQ",
         27.72
        ],
        [
         "WF",
         27.34
        ],
        [
         "TD",
         27.34
        ],
        [
         "SD",
         24.9
        ],
        [
         "BA",
         4.11
        ],
        [
         "JO",
         9.62
        ],
        [
         "ET",
         19.91
        ],
        [
         "SG",
         26.31
        ],
        [
         "KP",
         -6.88
        ],
        [
         "BF",
         25.39
        ],
        [
         "GW",
         26.35
        ],
        [
         "CU",
         24.55
        ],
        [
         "IT",
         7.04
        ],
        [
         "MV",
         28.25
        ],
        [
         "SE",
         -0.84
        ],
        [
         "PH",
         25.1
        ],
        [
         "BG",
         5.12
        ],
        [
         "SK",
         2.42
        ],
        [
         "MH",
         27.63
        ],
        [
         "PE",
         23.24
        ],
        [
         "MU",
         26.68
        ],
        [
         "LV",
         -0.57
        ],
        [
         "MZ",
         26.6
        ],
        [
         "QA",
         18.89
        ],
        [
         "BZ",
         25.74
        ],
        [
         "DO",
         25.16
        ],
        [
         "TH",
         24.61
        ],
        [
         "EG",
         16.79
        ],
        [
         "BJ",
         27.12
        ],
        [
         "TM",
         -1.25
        ],
        [
         "JP",
         4.42
        ],
        [
         "ZW",
         20.95
        ],
        [
         "SN",
         25.92
        ],
        [
         "NZ",
         17.1
        ],
        [
         "LK",
         24.05
        ],
        [
         "OM",
         19.68
        ],
        [
         "KE",
         25.15
        ],
        [
         "SI",
         -1.41
        ],
        [
         "CY",
         14.23
        ],
        [
         "ML",
         25.85
        ],
        [
         "IE",
         6.47
        ],
        [
         "KW",
         13.62
        ],
        [
         "GS",
         6.23
        ],
        [
         "VU",
         27.4
        ],
        [
         "BE",
         5.2
        ],
        [
         "MA",
         11.6
        ],
        [
         "AS",
         27.88
        ],
        [
         "NI",
         27.22
        ],
        [
         "KH",
         26.62
        ],
        [
         "KG",
         -9.8
        ],
        [
         "TT",
         25.45
        ],
        [
         "SY",
         9.08
        ],
        [
         "NO",
         -0.22
        ],
        [
         "BO",
         25.35
        ],
        [
         "No Record",
         15.23
        ],
        [
         "CO",
         24.21
        ],
        [
         "UY",
         26.33
        ],
        [
         "NG",
         26.45
        ],
        [
         "YT",
         27.19
        ],
        [
         "AR",
         24.67
        ],
        [
         "CF",
         25.25
        ],
        [
         "NF",
         21.61
        ],
        [
         "SZ",
         26.7
        ],
        [
         "LU",
         3.35
        ],
        [
         "VN",
         20.21
        ],
        [
         "SR",
         24.89
        ],
        [
         "TJ",
         -6.35
        ],
        [
         "DK",
         4.11
        ],
        [
         "AO",
         27.18
        ],
        [
         "FI",
         -3.85
        ],
        [
         "PF",
         26.16
        ],
        [
         "GL",
         -16.53
        ],
        [
         "HR",
         6.49
        ],
        [
         "GH",
         28.56
        ],
        [
         "ID",
         26.92
        ],
        [
         "HN",
         24.04
        ],
        [
         "DE",
         4.27
        ],
        [
         "GN",
         26.42
        ],
        [
         "GU",
         27.17
        ],
        [
         "IN",
         19.91
        ],
        [
         "GM",
         25.54
        ],
        [
         "FR",
         6.11
        ],
        [
         "GR",
         11.43
        ],
        [
         "GI",
         13.92
        ],
        [
         "FJ",
         27.27
        ],
        [
         "GE",
         2.58
        ],
        [
         "GY",
         25.92
        ],
        [
         "HU",
         4.23
        ],
        [
         "GA",
         27.4
        ],
        [
         "IS",
         -0.73
        ],
        [
         "ZM",
         26.4
        ]
       ],
       "datasetInfos": [],
       "dbfsResultPath": null,
       "isJsonSchema": true,
       "metadata": {
        "dataframeName": "_sqldf",
        "executionCount": 18
       },
       "overflow": false,
       "plotOptions": {
        "customPlotOptions": {},
        "displayType": "table",
        "pivotAggregation": null,
        "pivotColumns": null,
        "xColumns": null,
        "yColumns": null
       },
       "removedWidgets": [],
       "schema": [
        {
         "metadata": "{}",
         "name": "ISO-2",
         "type": "\"string\""
        },
        {
         "metadata": "{}",
         "name": "AvgTemperature",
         "type": "\"double\""
        }
       ],
       "type": "table"
      }
     },
     "output_type": "display_data"
    },
    {
     "data": {
      "text/plain": [
       "Databricks visualization. Run in Databricks to view."
      ]
     },
     "metadata": {
      "application/vnd.databricks.v1.subcommand+json": {
       "baseErrorDetails": null,
       "bindings": {
        "end_year": "2023"
       },
       "collapsed": false,
       "command": "%sql\nSELECT s.`ISO-2`, round(mean(g.Value) / 10, 2) as AvgTemperature\nFROM ghcn.ghcn_${end_year} g\nJOIN ghcn.station_metadata s\nON g.ID = s.ID \nWHERE g.Element = 'TAVG' AND month(g.Time) == '1'\nGROUP BY s.`ISO-2`",
       "commandTitle": "Temperature in Jan in the world",
       "commandType": "auto",
       "commandVersion": 0,
       "commentThread": [],
       "commentsVisible": false,
       "contentSha256Hex": null,
       "customPlotOptions": {
        "redashChart": [
         {
          "key": "type",
          "value": "CHOROPLETH"
         },
         {
          "key": "options",
          "value": {
           "clusteringMode": "e",
           "colors": {
            "background": "#ffffff",
            "borders": "#ffffff",
            "max": "#002FB4",
            "min": "#799CFF",
            "noValue": "#dddddd"
           },
           "keyColumn": "ISO-2",
           "legend": {
            "alignText": "right",
            "position": "bottom-left",
            "visible": true
           },
           "mapType": "countries",
           "noValuePlaceholder": "N/A",
           "popup": {
            "enabled": true,
            "template": "Region: <b>{{ @@name }}</b>\n<br>\nValue: <b>{{ @@value }}</b>"
           },
           "steps": "10",
           "targetField": "iso_a2",
           "tooltip": {
            "enabled": true,
            "template": "<b>{{ @@name }}</b>: {{ @@value }}"
           },
           "valueColumn": "AvgTemperature",
           "valueFormat": "0,0.00"
          }
         }
        ]
       },
       "datasetPreviewNameToCmdIdMap": {},
       "diffDeletes": [],
       "diffInserts": [],
       "displayType": "redashChart",
       "error": null,
       "errorDetails": null,
       "errorSummary": null,
       "errorTraceType": null,
       "finishTime": 0,
       "globalVars": {},
       "guid": "",
       "height": "auto",
       "hideCommandCode": false,
       "hideCommandResult": false,
       "iPythonMetadata": null,
       "inputWidgets": {},
       "isLockedInExamMode": false,
       "latestUser": "a user",
       "latestUserId": null,
       "listResultMetadata": null,
       "metadata": {},
       "nuid": "fb1680e4-50b1-4a41-9f35-dccf1fbb5144",
       "origId": 0,
       "parentHierarchy": [],
       "pivotAggregation": null,
       "pivotColumns": null,
       "position": 12,
       "resultDbfsErrorMessage": null,
       "resultDbfsStatus": "INLINED_IN_TREE",
       "results": null,
       "showCommandTitle": false,
       "startTime": 0,
       "state": "input",
       "streamStates": {},
       "subcommandOptions": {},
       "submitTime": 0,
       "subtype": "tableResultSubCmd.visualization",
       "tableResultIndex": 0,
       "useConsistentColors": false,
       "version": "CommandV1",
       "width": "auto",
       "workflows": [],
       "xColumns": null,
       "yColumns": null
      }
     },
     "output_type": "display_data"
    }
   ],
   "source": [
    "%sql\n",
    "SELECT s.`ISO-2`, round(mean(g.Value) / 10, 2) as AvgTemperature\n",
    "FROM ghcn.ghcn_${end_year} g\n",
    "JOIN ghcn.station_metadata s\n",
    "ON g.ID = s.ID \n",
    "WHERE g.Element = 'TAVG' AND month(g.Time) == '1'\n",
    "GROUP BY s.`ISO-2`"
   ]
  }
 ],
 "metadata": {
  "application/vnd.databricks.v1+notebook": {
   "dashboards": [],
   "language": "python",
   "notebookMetadata": {
    "mostRecentlyExecutedCommandWithImplicitDF": {
     "commandId": 2712572252342699,
     "dataframes": [
      "_sqldf"
     ]
    },
    "pythonIndentUnit": 4
   },
   "notebookName": "accessing GHCN and run SQL.ipynb",
   "widgets": {
    "end_year": {
     "currentValue": "2023",
     "nuid": "33903582-cf28-4b55-8c47-708b1f149fd3",
     "typedWidgetInfo": null,
     "widgetInfo": {
      "defaultValue": "",
      "label": null,
      "name": "end_year",
      "options": {
       "autoCreated": null,
       "validationRegex": null,
       "widgetType": "text"
      },
      "widgetType": "text"
     }
    },
    "start_year": {
     "currentValue": "2023",
     "nuid": "86b89d73-f5d8-4a0c-a7cb-73218c546da2",
     "typedWidgetInfo": null,
     "widgetInfo": {
      "defaultValue": "",
      "label": null,
      "name": "start_year",
      "options": {
       "autoCreated": null,
       "validationRegex": null,
       "widgetType": "text"
      },
      "widgetType": "text"
     }
    }
   }
  },
  "kernelspec": {
   "display_name": "testenv",
   "language": "python",
   "name": "python3"
  },
  "language_info": {
   "name": "python",
   "version": "3.11.8"
  }
 },
 "nbformat": 4,
 "nbformat_minor": 0
}
