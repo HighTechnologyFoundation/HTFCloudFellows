{
 "cells": [
  {
   "cell_type": "markdown",
   "metadata": {},
   "source": [
    "# Create station metadata from `ghcnd-stations.txt` and `ghcnd-countries.txt`"
   ]
  },
  {
   "cell_type": "code",
   "execution_count": null,
   "metadata": {},
   "outputs": [],
   "source": [
    "with open(\"ghcnd-stations.txt\") as file:\n",
    "    \n",
    "    lines = [line.rstrip() for line in file]\n",
    "\n",
    "    ID_list = [line[:11] for line in lines]\n",
    "\n",
    "    lat_list = [line[12:20].lstrip() for line in lines]\n",
    "\n",
    "    lon_list = [line[21:30].lstrip() for line in lines]\n",
    "    \n",
    "    state_list = [line[38:40].lstrip() for line in lines]\n",
    "\n",
    "    station_name_list = [line[41:71].strip() for line in lines]\n",
    "    \n",
    "import numpy as np\n",
    "import pandas as pd\n",
    "\n",
    "metadata = pd.DataFrame({  \n",
    "    'ID' : ID_list,\n",
    "    'Latitude' : lat_list,\n",
    "    'Longitude' : lon_list,\n",
    "    'State' : state_list,\n",
    "    'StationName' : station_name_list\n",
    "})\n",
    "\n",
    "metadata['State'] = metadata['State'].replace('', np.nan)\n",
    "metadata['FIPS'] = metadata.ID.str[:2]\n",
    "\n",
    "metadata"
   ]
  },
  {
   "cell_type": "code",
   "execution_count": null,
   "metadata": {},
   "outputs": [],
   "source": [
    "with open(\"ghcnd-countries.txt\") as file:\n",
    "    \n",
    "    lines = [line.rstrip().split(\" \", 1) for line in file]\n",
    "    \n",
    "    FIPS = [line[0] for line in lines]\n",
    "    \n",
    "    Country = [line[1] for line in lines]\n",
    "    \n",
    "metadata1 = pd.DataFrame({  \n",
    "    'FIPS' : FIPS,\n",
    "    'Country' : Country\n",
    "})\n",
    "\n",
    "metadata1"
   ]
  },
  {
   "cell_type": "code",
   "execution_count": null,
   "metadata": {},
   "outputs": [],
   "source": [
    "final_metedata = pd.merge(metadata, metadata1, on = 'FIPS')\n",
    "#final_metedata.to_csv('station_metadata.csv', index = False)"
   ]
  }
 ],
 "metadata": {
  "kernelspec": {
   "display_name": "testenv",
   "language": "python",
   "name": "python3"
  },
  "language_info": {
   "codemirror_mode": {
    "name": "ipython",
    "version": 3
   },
   "file_extension": ".py",
   "mimetype": "text/x-python",
   "name": "python",
   "nbconvert_exporter": "python",
   "pygments_lexer": "ipython3",
   "version": "3.11.8"
  }
 },
 "nbformat": 4,
 "nbformat_minor": 2
}
