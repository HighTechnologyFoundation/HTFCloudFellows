{
 "cells": [
  {
   "cell_type": "markdown",
   "metadata": {
    "application/vnd.databricks.v1+cell": {
     "cellMetadata": {},
     "inputWidgets": {},
     "nuid": "f34b8a41-c51a-42d8-ba68-2a22053bf7de",
     "showTitle": false,
     "title": ""
    }
   },
   "source": [
    "# Create, enrich, and clean station metadata from `ghcnd-stations.txt`, `ghcnd-countries.txt`, and `GeoInformation_County.csv`"
   ]
  },
  {
   "cell_type": "code",
   "execution_count": 0,
   "metadata": {
    "application/vnd.databricks.v1+cell": {
     "cellMetadata": {
      "byteLimit": 2048000,
      "rowLimit": 10000
     },
     "inputWidgets": {},
     "nuid": "65b63339-17ab-4b5c-8be0-b5ecd7c743df",
     "showTitle": false,
     "title": ""
    }
   },
   "outputs": [],
   "source": [
    "import urllib.request\n",
    "import numpy as np\n",
    "import pandas as pd\n",
    "\n",
    "URL_station = \"https://www.ncei.noaa.gov/pub/data/ghcn/daily/ghcnd-stations.txt\"\n",
    "\n",
    "with urllib.request.urlopen(URL_station) as file:\n",
    "\n",
    "    lines = [line.decode('utf-8').rstrip() for line in file]\n",
    " \n",
    "    ID_list = [line[:11] for line in lines]\n",
    " \n",
    "    lat_list = [line[12:20].lstrip() for line in lines]\n",
    " \n",
    "    lon_list = [line[21:30].lstrip() for line in lines]\n",
    "   \n",
    "    state_list = [line[38:40].lstrip() for line in lines]\n",
    " \n",
    "    station_name_list = [line[41:71].strip() for line in lines]\n",
    "\n",
    "\n",
    "metadata_station = pd.DataFrame({  \n",
    "    'ID' : ID_list,\n",
    "    'Latitude' : lat_list,\n",
    "    'Longitude' : lon_list,\n",
    "    'State' : state_list,\n",
    "    'StationName' : station_name_list\n",
    "})\n",
    "\n",
    "metadata_station['State'] = metadata_station['State'].replace('', np.nan)\n",
    "metadata_station['FIPS'] = metadata_station.ID.str[:2]"
   ]
  },
  {
   "cell_type": "code",
   "execution_count": 0,
   "metadata": {
    "application/vnd.databricks.v1+cell": {
     "cellMetadata": {
      "byteLimit": 2048000,
      "rowLimit": 10000
     },
     "inputWidgets": {},
     "nuid": "d0e8cf6e-a7d1-49f3-9479-0510fdf0d1aa",
     "showTitle": false,
     "title": ""
    }
   },
   "outputs": [],
   "source": [
    "URL_countries = \"https://www.ncei.noaa.gov/pub/data/ghcn/daily/ghcnd-countries.txt\"\n",
    "\n",
    "with urllib.request.urlopen(URL_countries) as file:\n",
    "    \n",
    "    lines = [line.decode('utf-8').rstrip().split(\" \", 1) for line in file]\n",
    "    \n",
    "    Country_code = [line[0] for line in lines]\n",
    "    \n",
    "    Country = [line[1] for line in lines]\n",
    "    \n",
    "metadata_countries = pd.DataFrame({  \n",
    "    'FIPS' : Country_code,\n",
    "    'Country' : Country\n",
    "})"
   ]
  },
  {
   "cell_type": "code",
   "execution_count": 0,
   "metadata": {
    "application/vnd.databricks.v1+cell": {
     "cellMetadata": {
      "byteLimit": 2048000,
      "rowLimit": 10000
     },
     "inputWidgets": {},
     "nuid": "cec5462a-265d-4d08-ba5d-223a1a89fe61",
     "showTitle": false,
     "title": ""
    }
   },
   "outputs": [],
   "source": [
    "geoinfo = pd.read_csv('GeoInformation_Country.csv')\n",
    "geoinfo.drop('Country', axis=1, inplace = True)"
   ]
  },
  {
   "cell_type": "code",
   "execution_count": 0,
   "metadata": {
    "application/vnd.databricks.v1+cell": {
     "cellMetadata": {
      "byteLimit": 2048000,
      "rowLimit": 10000
     },
     "inputWidgets": {},
     "nuid": "90079a6f-c0cc-4d61-a0df-de8c3f06e1f5",
     "showTitle": false,
     "title": ""
    }
   },
   "outputs": [
    {
     "output_type": "execute_result",
     "data": {
      "text/plain": [
       "ID             0\n",
       "Latitude       0\n",
       "Longitude      0\n",
       "State          0\n",
       "StationName    0\n",
       "FIPS           0\n",
       "Country        0\n",
       "Continent      0\n",
       "Region         0\n",
       "Capital        0\n",
       "ISO-2          0\n",
       "ISO-3          0\n",
       "ISO-No         0\n",
       "Internet       0\n",
       "Note           0\n",
       "dtype: int64"
      ]
     },
     "execution_count": 9,
     "metadata": {},
     "output_type": "execute_result"
    }
   ],
   "source": [
    "middle_metedata = pd.merge(metadata_station, metadata_countries, on = 'FIPS')\n",
    "final_metadata = pd.merge(middle_metedata, geoinfo, on = 'FIPS', how = 'left')\n",
    "\n",
    "missing_data_fips_list = final_metadata[final_metadata.Region.isnull() == True]['FIPS'].unique()\n",
    "missing_data_continent_list = ['Asia', 'Atlantic Ocean', 'Oceania', 'Europe', 'Americas', 'Europe', 'Americas']\n",
    "missing_data_region_list = ['South West Asia', 'South Atlantic Ocean', 'North Pacific Ocean', 'South East Europe', 'North America', 'South East Europe', 'South America']\n",
    "new_dict = {i:[j, k] for i, j, k in zip(missing_data_fips_list, missing_data_continent_list, missing_data_region_list)}\n",
    "\n",
    "for k, v in new_dict.items():\n",
    "    \n",
    "    final_metadata.loc[final_metadata['FIPS'] == k, 'Continent'] = v[0]\n",
    "\n",
    "    final_metadata.loc[final_metadata['FIPS'] == k, 'Region'] = v[1]\n",
    "\n",
    "final_metadata.loc[final_metadata['State'].isna(), 'State'] = 'Out of States'\n",
    "final_metadata.loc[final_metadata['FIPS'] == 'AE', 'Capital'] = 'Abu Dhabi'\n",
    "final_metadata.rename({'ISO (2)' : 'ISO-2', 'ISO (3)' : 'ISO-3', 'ISO (No)' : 'ISO-No'}, axis = 1, inplace = True)\n",
    "final_metadata.fillna('No Record', inplace = True)\n",
    "\n",
    "final_metadata.isna().sum()"
   ]
  },
  {
   "cell_type": "code",
   "execution_count": 0,
   "metadata": {
    "application/vnd.databricks.v1+cell": {
     "cellMetadata": {
      "byteLimit": 2048000,
      "rowLimit": 10000
     },
     "inputWidgets": {},
     "nuid": "b59428d9-9905-4f2b-9cca-bc6c3cec8257",
     "showTitle": false,
     "title": ""
    }
   },
   "outputs": [],
   "source": [
    "final_metadata.to_csv('station_metadata.csv', index = False)"
   ]
  }
 ],
 "metadata": {
  "application/vnd.databricks.v1+notebook": {
   "dashboards": [],
   "language": "python",
   "notebookMetadata": {
    "mostRecentlyExecutedCommandWithImplicitDF": {
     "commandId": 2566475523215445,
     "dataframes": [
      "_sqldf"
     ]
    },
    "pythonIndentUnit": 4
   },
   "notebookName": "metadata_processing",
   "widgets": {}
  },
  "kernelspec": {
   "display_name": "testenv",
   "language": "python",
   "name": "python3"
  },
  "language_info": {
   "codemirror_mode": {
    "name": "ipython",
    "version": 3
   },
   "file_extension": ".py",
   "mimetype": "text/x-python",
   "name": "python",
   "nbconvert_exporter": "python",
   "pygments_lexer": "ipython3",
   "version": "3.11.8"
  }
 },
 "nbformat": 4,
 "nbformat_minor": 0
}
