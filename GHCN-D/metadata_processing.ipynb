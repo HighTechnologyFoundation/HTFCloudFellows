{
 "cells": [
  {
   "cell_type": "markdown",
   "metadata": {},
   "source": [
    "# Create station metadata from `ghcnd-stations.txt` and `ghcnd-countries.txt`"
   ]
  },
  {
   "cell_type": "code",
   "execution_count": null,
   "metadata": {},
   "outputs": [],
   "source": [
    "import urllib.request\n",
    "import numpy as np\n",
    "import pandas as pd\n",
    "\n",
    "URL_station = \"https://www.ncei.noaa.gov/pub/data/ghcn/daily/ghcnd-stations.txt\"\n",
    "\n",
    "with urllib.request.urlopen(URL_station) as file:\n",
    "\n",
    "    lines = [line.decode('utf-8').rstrip() for line in file]\n",
    " \n",
    "    ID_list = [line[:11] for line in lines]\n",
    " \n",
    "    lat_list = [line[12:20].lstrip() for line in lines]\n",
    " \n",
    "    lon_list = [line[21:30].lstrip() for line in lines]\n",
    "   \n",
    "    state_list = [line[38:40].lstrip() for line in lines]\n",
    " \n",
    "    station_name_list = [line[41:71].strip() for line in lines]\n",
    "\n",
    "\n",
    "metadata__station = pd.DataFrame({  \n",
    "    'ID' : ID_list,\n",
    "    'Latitude' : lat_list,\n",
    "    'Longitude' : lon_list,\n",
    "    'State' : state_list,\n",
    "    'StationName' : station_name_list\n",
    "})\n",
    "\n",
    "metadata__station['State'] = metadata__station['State'].replace('', np.nan)\n",
    "metadata__station['Country_code'] = metadata__station.ID.str[:2]\n",
    "\n",
    "metadata__station"
   ]
  },
  {
   "cell_type": "code",
   "execution_count": null,
   "metadata": {},
   "outputs": [],
   "source": [
    "URL_countries = \"https://www.ncei.noaa.gov/pub/data/ghcn/daily/ghcnd-countries.txt\"\n",
    "\n",
    "with urllib.request.urlopen(URL_countries) as file:\n",
    "    \n",
    "    lines = [line.decode('utf-8').rstrip().split(\" \", 1) for line in file]\n",
    "    \n",
    "    Country_code = [line[0] for line in lines]\n",
    "    \n",
    "    Country = [line[1] for line in lines]\n",
    "    \n",
    "metadata_countries = pd.DataFrame({  \n",
    "    'Country_code' : Country_code,\n",
    "    'Country' : Country\n",
    "})\n",
    "\n",
    "metadata_countries"
   ]
  },
  {
   "cell_type": "code",
   "execution_count": null,
   "metadata": {},
   "outputs": [],
   "source": [
    "final_metedata = pd.merge(metadata__station, metadata_countries, on = 'Country_code')\n",
    "#final_metedata.to_csv('station_metadata.csv', index = False)"
   ]
  }
 ],
 "metadata": {
  "kernelspec": {
   "display_name": "testenv",
   "language": "python",
   "name": "python3"
  },
  "language_info": {
   "codemirror_mode": {
    "name": "ipython",
    "version": 3
   },
   "file_extension": ".py",
   "mimetype": "text/x-python",
   "name": "python",
   "nbconvert_exporter": "python",
   "pygments_lexer": "ipython3",
   "version": "3.11.8"
  }
 },
 "nbformat": 4,
 "nbformat_minor": 2
}
