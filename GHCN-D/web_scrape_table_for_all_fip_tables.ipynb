{
 "cells": [
  {
   "cell_type": "code",
   "execution_count": 0,
   "metadata": {
    "application/vnd.databricks.v1+cell": {
     "cellMetadata": {
      "byteLimit": 2048000,
      "rowLimit": 10000
     },
     "inputWidgets": {},
     "nuid": "f8ab0b36-5056-4f39-a0bd-0884de52568c",
     "showTitle": false,
     "title": ""
    }
   },
   "outputs": [],
   "source": [
    "import requests\n",
    "from bs4 import BeautifulSoup\n",
    "import pandas as pd\n",
    "import numpy as np"
   ]
  },
  {
   "cell_type": "code",
   "execution_count": 0,
   "metadata": {
    "application/vnd.databricks.v1+cell": {
     "cellMetadata": {
      "byteLimit": 2048000,
      "rowLimit": 10000
     },
     "inputWidgets": {},
     "nuid": "63f2b300-569c-48f4-b3d8-2f7e03ecee69",
     "showTitle": false,
     "title": ""
    }
   },
   "outputs": [
    {
     "output_type": "stream",
     "name": "stdout",
     "output_type": "stream",
     "text": [
      "There were 3 tables found:\n\nCountry Codes\nAdditional Codes\nAdditional FIPS 10-4 Codes\n"
     ]
    }
   ],
   "source": [
    "global list_of_dataframes \n",
    "list_of_dataframes = []\n",
    "\n",
    "\n",
    "html_element = \"table.outlinetable:nth-child(10)\"\n",
    "page = requests.get(\"https://cloford.com/resources/codes/index.htm\")\n",
    "soup = BeautifulSoup(page.text, 'html.parser')\n",
    "\n",
    "tables = soup.find_all('table',class_='outlinetable')\n",
    "print(f'There were {len(tables)} tables found:\\n')\n",
    "\n",
    "for each_table in tables:\n",
    "    translate_table_to_dataframe(each_table)\n",
    "\n",
    "names = [\"Country Codes\", \"Additional Codes\", \"Additional FIPS 10-4 Codes\"]\n",
    "for one_dataframe, one_name in zip(list_of_dataframes, names):\n",
    "    one_dataframe.name = one_name\n",
    "    print(one_dataframe.name)"
   ]
  },
  {
   "cell_type": "code",
   "execution_count": 0,
   "metadata": {
    "application/vnd.databricks.v1+cell": {
     "cellMetadata": {
      "byteLimit": 2048000,
      "rowLimit": 10000
     },
     "inputWidgets": {},
     "nuid": "e8ced243-1d48-4702-9e31-7a4ba33a7739",
     "showTitle": false,
     "title": ""
    }
   },
   "outputs": [],
   "source": [
    "def translate_table_to_dataframe(table):\n",
    "    dataframe_friendly_array = []\n",
    "    dataframe_ready_headers = []\n",
    "    column_headers = table.find_all('th')\n",
    "    for header in column_headers:\n",
    "        dataframe_ready_headers.append(header.text)\n",
    "\n",
    "    rows = table.find_all('tr')\n",
    "\n",
    "    for row in rows:\n",
    "        row_data = []\n",
    "        for col in row.find_all('td'):\n",
    "            try:\n",
    "                row_data.append(col.text)\n",
    "            except:\n",
    "                continue\n",
    "        dataframe_friendly_array.append(row_data)\n",
    "            \n",
    "    dataframe = pd.DataFrame(data = dataframe_friendly_array, columns = dataframe_ready_headers)\n",
    "    list_of_dataframes.append(dataframe)"
   ]
  },
  {
   "cell_type": "code",
   "execution_count": 0,
   "metadata": {
    "application/vnd.databricks.v1+cell": {
     "cellMetadata": {
      "byteLimit": 2048000,
      "rowLimit": 10000
     },
     "inputWidgets": {},
     "nuid": "b17a421c-97bc-4d06-b300-4a0254c7ac1b",
     "showTitle": false,
     "title": ""
    }
   },
   "outputs": [
    {
     "output_type": "execute_result",
     "data": {
      "text/html": [
       "<div>\n",
       "<style scoped>\n",
       "    .dataframe tbody tr th:only-of-type {\n",
       "        vertical-align: middle;\n",
       "    }\n",
       "\n",
       "    .dataframe tbody tr th {\n",
       "        vertical-align: top;\n",
       "    }\n",
       "\n",
       "    .dataframe thead th {\n",
       "        text-align: right;\n",
       "    }\n",
       "</style>\n",
       "<table border=\"1\" class=\"dataframe\">\n",
       "  <thead>\n",
       "    <tr style=\"text-align: right;\">\n",
       "      <th></th>\n",
       "      <th>Continent</th>\n",
       "      <th>Region</th>\n",
       "      <th>Country</th>\n",
       "      <th>Capital</th>\n",
       "      <th>FIPS</th>\n",
       "      <th>ISO (2)</th>\n",
       "      <th>ISO (3)</th>\n",
       "      <th>ISO (No)</th>\n",
       "      <th>Internet</th>\n",
       "      <th>Note</th>\n",
       "    </tr>\n",
       "  </thead>\n",
       "  <tbody>\n",
       "    <tr>\n",
       "      <th>1</th>\n",
       "      <td>Asia</td>\n",
       "      <td>South Asia</td>\n",
       "      <td>Afghanistan</td>\n",
       "      <td>Kabul</td>\n",
       "      <td>AF</td>\n",
       "      <td>AF</td>\n",
       "      <td>AFG</td>\n",
       "      <td>004</td>\n",
       "      <td>AF</td>\n",
       "      <td>No Record</td>\n",
       "    </tr>\n",
       "    <tr>\n",
       "      <th>2</th>\n",
       "      <td>Europe</td>\n",
       "      <td>South East Europe</td>\n",
       "      <td>Albania</td>\n",
       "      <td>Tirana</td>\n",
       "      <td>AL</td>\n",
       "      <td>AL</td>\n",
       "      <td>ALB</td>\n",
       "      <td>008</td>\n",
       "      <td>AL</td>\n",
       "      <td>No Record</td>\n",
       "    </tr>\n",
       "    <tr>\n",
       "      <th>3</th>\n",
       "      <td>Africa</td>\n",
       "      <td>Northern Africa</td>\n",
       "      <td>Algeria</td>\n",
       "      <td>Algiers</td>\n",
       "      <td>AG</td>\n",
       "      <td>DZ</td>\n",
       "      <td>DZA</td>\n",
       "      <td>012</td>\n",
       "      <td>DZ</td>\n",
       "      <td>No Record</td>\n",
       "    </tr>\n",
       "    <tr>\n",
       "      <th>4</th>\n",
       "      <td>Oceania</td>\n",
       "      <td>Pacific</td>\n",
       "      <td>American Samoa</td>\n",
       "      <td>Pago Pago</td>\n",
       "      <td>AQ</td>\n",
       "      <td>AS</td>\n",
       "      <td>ASM</td>\n",
       "      <td>016</td>\n",
       "      <td>AS</td>\n",
       "      <td>No Record</td>\n",
       "    </tr>\n",
       "    <tr>\n",
       "      <th>5</th>\n",
       "      <td>Europe</td>\n",
       "      <td>South West Europe</td>\n",
       "      <td>Andorra</td>\n",
       "      <td>Andorra la Vella</td>\n",
       "      <td>AN</td>\n",
       "      <td>AD</td>\n",
       "      <td>AND</td>\n",
       "      <td>020</td>\n",
       "      <td>AD</td>\n",
       "      <td>No Record</td>\n",
       "    </tr>\n",
       "    <tr>\n",
       "      <th>...</th>\n",
       "      <td>...</td>\n",
       "      <td>...</td>\n",
       "      <td>...</td>\n",
       "      <td>...</td>\n",
       "      <td>...</td>\n",
       "      <td>...</td>\n",
       "      <td>...</td>\n",
       "      <td>...</td>\n",
       "      <td>...</td>\n",
       "      <td>...</td>\n",
       "    </tr>\n",
       "    <tr>\n",
       "      <th>22</th>\n",
       "      <td>Asia</td>\n",
       "      <td>South East Asia</td>\n",
       "      <td>Paracel Islands</td>\n",
       "      <td>No Record</td>\n",
       "      <td>PF</td>\n",
       "      <td>No Record</td>\n",
       "      <td>No Record</td>\n",
       "      <td>No Record</td>\n",
       "      <td>No Record</td>\n",
       "      <td>No Record</td>\n",
       "    </tr>\n",
       "    <tr>\n",
       "      <th>23</th>\n",
       "      <td>Asia</td>\n",
       "      <td>South East Asia</td>\n",
       "      <td>Spratly Islands</td>\n",
       "      <td>No Record</td>\n",
       "      <td>PG</td>\n",
       "      <td>No Record</td>\n",
       "      <td>No Record</td>\n",
       "      <td>No Record</td>\n",
       "      <td>No Record</td>\n",
       "      <td>No Record</td>\n",
       "    </tr>\n",
       "    <tr>\n",
       "      <th>24</th>\n",
       "      <td>Africa</td>\n",
       "      <td>Indian Ocean</td>\n",
       "      <td>Tromelin Island</td>\n",
       "      <td>No Record</td>\n",
       "      <td>TE</td>\n",
       "      <td>No Record</td>\n",
       "      <td>No Record</td>\n",
       "      <td>No Record</td>\n",
       "      <td>No Record</td>\n",
       "      <td>ISO includes with the Miscellaneous (French) I...</td>\n",
       "    </tr>\n",
       "    <tr>\n",
       "      <th>25</th>\n",
       "      <td>Oceania</td>\n",
       "      <td>North Pacific Ocean</td>\n",
       "      <td>Wake Island (US)</td>\n",
       "      <td>No Record</td>\n",
       "      <td>WQ</td>\n",
       "      <td>No Record</td>\n",
       "      <td>No Record</td>\n",
       "      <td>No Record</td>\n",
       "      <td>No Record</td>\n",
       "      <td>ISO includes with the US Minor Outlying Islands</td>\n",
       "    </tr>\n",
       "    <tr>\n",
       "      <th>26</th>\n",
       "      <td>Asia</td>\n",
       "      <td>South West Asia</td>\n",
       "      <td>West Bank</td>\n",
       "      <td>No Record</td>\n",
       "      <td>WE</td>\n",
       "      <td>No Record</td>\n",
       "      <td>No Record</td>\n",
       "      <td>No Record</td>\n",
       "      <td>No Record</td>\n",
       "      <td>No Record</td>\n",
       "    </tr>\n",
       "  </tbody>\n",
       "</table>\n",
       "<p>272 rows × 10 columns</p>\n",
       "</div>"
      ],
      "text/plain": [
       "   Continent  ...                                               Note\n",
       "1       Asia  ...                                          No Record\n",
       "2     Europe  ...                                          No Record\n",
       "3     Africa  ...                                          No Record\n",
       "4    Oceania  ...                                          No Record\n",
       "5     Europe  ...                                          No Record\n",
       "..       ...  ...                                                ...\n",
       "22      Asia  ...                                          No Record\n",
       "23      Asia  ...                                          No Record\n",
       "24    Africa  ...  ISO includes with the Miscellaneous (French) I...\n",
       "25   Oceania  ...    ISO includes with the US Minor Outlying Islands\n",
       "26      Asia  ...                                          No Record\n",
       "\n",
       "[272 rows x 10 columns]"
      ]
     },
     "execution_count": 4,
     "metadata": {},
     "output_type": "execute_result"
    }
   ],
   "source": [
    "df_list = [list_of_dataframes[i] for i in range(3)]\n",
    "\n",
    "final = pd.concat(df_list).drop(index=0)\n",
    "\n",
    "remove_list = ['-', '--', '\\xa0', np.nan]\n",
    "\n",
    "for column in final.columns:\n",
    "    \n",
    "    final.loc[final[column].isin(remove_list), column] = 'No Record'\n",
    "\n",
    "final.loc[final.Country == 'Namibia', ['ISO (2)', 'Internet']] = 'NA'\n",
    "\n",
    "final.to_csv('GeoInformation_Country.csv', index = False)\n",
    "\n",
    "final"
   ]
  },
  {
   "cell_type": "code",
   "execution_count": 0,
   "metadata": {
    "application/vnd.databricks.v1+cell": {
     "cellMetadata": {
      "byteLimit": 2048000,
      "rowLimit": 10000
     },
     "inputWidgets": {},
     "nuid": "f73827ae-599a-41e3-9556-0095588b6364",
     "showTitle": false,
     "title": ""
    }
   },
   "outputs": [
    {
     "output_type": "execute_result",
     "data": {
      "text/plain": [
       "Continent    0\n",
       "Region       0\n",
       "Country      0\n",
       "Capital      0\n",
       "FIPS         0\n",
       "ISO (2)      0\n",
       "ISO (3)      0\n",
       "ISO (No)     0\n",
       "Internet     0\n",
       "Note         0\n",
       "dtype: int64"
      ]
     },
     "execution_count": 5,
     "metadata": {},
     "output_type": "execute_result"
    }
   ],
   "source": [
    "final.isna().sum()"
   ]
  }
 ],
 "metadata": {
  "application/vnd.databricks.v1+notebook": {
   "dashboards": [],
   "language": "python",
   "notebookMetadata": {
    "pythonIndentUnit": 4
   },
   "notebookName": "web_scrape_table_for_all_fip_tables copy",
   "widgets": {}
  },
  "kernelspec": {
   "display_name": "web-scraping",
   "language": "python",
   "name": "python3"
  },
  "language_info": {
   "codemirror_mode": {
    "name": "ipython",
    "version": 3
   },
   "file_extension": ".py",
   "mimetype": "text/x-python",
   "name": "python",
   "nbconvert_exporter": "python",
   "pygments_lexer": "ipython3",
   "version": "3.11.8"
  }
 },
 "nbformat": 4,
 "nbformat_minor": 0
}
