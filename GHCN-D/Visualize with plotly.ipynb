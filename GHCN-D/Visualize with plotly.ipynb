{
 "cells": [
  {
   "cell_type": "markdown",
   "metadata": {},
   "source": [
    "# NOAA Global Historical Climatology Network Daily (GHCN-D)\n",
    "\n",
    "## Creating interactive charts for visualization using `plotly`\n",
    "\n",
    "## The five core elements are:\n",
    "\n",
    "- PRCP = Precipitation (tenths of mm)\n",
    "- SNOW = Snowfall (mm)\n",
    "- SNWD = Snow depth (mm)\n",
    "- TMAX = Maximum temperature (tenths of degrees C)\n",
    "- TMIN = Minimum temperature (tenths of degrees C)"
   ]
  },
  {
   "cell_type": "code",
   "execution_count": 1,
   "metadata": {},
   "outputs": [
    {
     "data": {
      "text/html": [
       "<div>\n",
       "<style scoped>\n",
       "    .dataframe tbody tr th:only-of-type {\n",
       "        vertical-align: middle;\n",
       "    }\n",
       "\n",
       "    .dataframe tbody tr th {\n",
       "        vertical-align: top;\n",
       "    }\n",
       "\n",
       "    .dataframe thead th {\n",
       "        text-align: right;\n",
       "    }\n",
       "</style>\n",
       "<table border=\"1\" class=\"dataframe\">\n",
       "  <thead>\n",
       "    <tr style=\"text-align: right;\">\n",
       "      <th></th>\n",
       "      <th>ID</th>\n",
       "      <th>Time</th>\n",
       "      <th>Element</th>\n",
       "      <th>Value</th>\n",
       "      <th>M-Flag</th>\n",
       "      <th>Q-Flag</th>\n",
       "      <th>S-Flag</th>\n",
       "      <th>OBS-Time</th>\n",
       "    </tr>\n",
       "  </thead>\n",
       "  <tbody>\n",
       "    <tr>\n",
       "      <th>0</th>\n",
       "      <td>AE000041196</td>\n",
       "      <td>20240101</td>\n",
       "      <td>TMAX</td>\n",
       "      <td>278</td>\n",
       "      <td>NaN</td>\n",
       "      <td>NaN</td>\n",
       "      <td>S</td>\n",
       "      <td>NaN</td>\n",
       "    </tr>\n",
       "    <tr>\n",
       "      <th>1</th>\n",
       "      <td>AE000041196</td>\n",
       "      <td>20240101</td>\n",
       "      <td>TMIN</td>\n",
       "      <td>182</td>\n",
       "      <td>NaN</td>\n",
       "      <td>NaN</td>\n",
       "      <td>S</td>\n",
       "      <td>NaN</td>\n",
       "    </tr>\n",
       "    <tr>\n",
       "      <th>2</th>\n",
       "      <td>AE000041196</td>\n",
       "      <td>20240101</td>\n",
       "      <td>PRCP</td>\n",
       "      <td>0</td>\n",
       "      <td>D</td>\n",
       "      <td>NaN</td>\n",
       "      <td>S</td>\n",
       "      <td>NaN</td>\n",
       "    </tr>\n",
       "    <tr>\n",
       "      <th>3</th>\n",
       "      <td>AE000041196</td>\n",
       "      <td>20240101</td>\n",
       "      <td>TAVG</td>\n",
       "      <td>236</td>\n",
       "      <td>H</td>\n",
       "      <td>NaN</td>\n",
       "      <td>S</td>\n",
       "      <td>NaN</td>\n",
       "    </tr>\n",
       "    <tr>\n",
       "      <th>4</th>\n",
       "      <td>AEM00041194</td>\n",
       "      <td>20240101</td>\n",
       "      <td>TMAX</td>\n",
       "      <td>277</td>\n",
       "      <td>NaN</td>\n",
       "      <td>NaN</td>\n",
       "      <td>S</td>\n",
       "      <td>NaN</td>\n",
       "    </tr>\n",
       "    <tr>\n",
       "      <th>...</th>\n",
       "      <td>...</td>\n",
       "      <td>...</td>\n",
       "      <td>...</td>\n",
       "      <td>...</td>\n",
       "      <td>...</td>\n",
       "      <td>...</td>\n",
       "      <td>...</td>\n",
       "      <td>...</td>\n",
       "    </tr>\n",
       "    <tr>\n",
       "      <th>9455464</th>\n",
       "      <td>VQC00670819</td>\n",
       "      <td>20240421</td>\n",
       "      <td>TMIN</td>\n",
       "      <td>244</td>\n",
       "      <td>NaN</td>\n",
       "      <td>NaN</td>\n",
       "      <td>H</td>\n",
       "      <td>900.0</td>\n",
       "    </tr>\n",
       "    <tr>\n",
       "      <th>9455465</th>\n",
       "      <td>VQC00670819</td>\n",
       "      <td>20240421</td>\n",
       "      <td>TOBS</td>\n",
       "      <td>250</td>\n",
       "      <td>NaN</td>\n",
       "      <td>NaN</td>\n",
       "      <td>H</td>\n",
       "      <td>900.0</td>\n",
       "    </tr>\n",
       "    <tr>\n",
       "      <th>9455466</th>\n",
       "      <td>VQC00670819</td>\n",
       "      <td>20240421</td>\n",
       "      <td>PRCP</td>\n",
       "      <td>0</td>\n",
       "      <td>NaN</td>\n",
       "      <td>NaN</td>\n",
       "      <td>H</td>\n",
       "      <td>900.0</td>\n",
       "    </tr>\n",
       "    <tr>\n",
       "      <th>9455467</th>\n",
       "      <td>VQC00672560</td>\n",
       "      <td>20240421</td>\n",
       "      <td>PRCP</td>\n",
       "      <td>508</td>\n",
       "      <td>NaN</td>\n",
       "      <td>NaN</td>\n",
       "      <td>H</td>\n",
       "      <td>700.0</td>\n",
       "    </tr>\n",
       "    <tr>\n",
       "      <th>9455468</th>\n",
       "      <td>WQW00041606</td>\n",
       "      <td>20240421</td>\n",
       "      <td>TAVG</td>\n",
       "      <td>291</td>\n",
       "      <td>H</td>\n",
       "      <td>NaN</td>\n",
       "      <td>S</td>\n",
       "      <td>NaN</td>\n",
       "    </tr>\n",
       "  </tbody>\n",
       "</table>\n",
       "<p>9455469 rows × 8 columns</p>\n",
       "</div>"
      ],
      "text/plain": [
       "                  ID      Time Element  Value M-Flag Q-Flag S-Flag  OBS-Time\n",
       "0        AE000041196  20240101    TMAX    278    NaN    NaN      S       NaN\n",
       "1        AE000041196  20240101    TMIN    182    NaN    NaN      S       NaN\n",
       "2        AE000041196  20240101    PRCP      0      D    NaN      S       NaN\n",
       "3        AE000041196  20240101    TAVG    236      H    NaN      S       NaN\n",
       "4        AEM00041194  20240101    TMAX    277    NaN    NaN      S       NaN\n",
       "...              ...       ...     ...    ...    ...    ...    ...       ...\n",
       "9455464  VQC00670819  20240421    TMIN    244    NaN    NaN      H     900.0\n",
       "9455465  VQC00670819  20240421    TOBS    250    NaN    NaN      H     900.0\n",
       "9455466  VQC00670819  20240421    PRCP      0    NaN    NaN      H     900.0\n",
       "9455467  VQC00672560  20240421    PRCP    508    NaN    NaN      H     700.0\n",
       "9455468  WQW00041606  20240421    TAVG    291      H    NaN      S       NaN\n",
       "\n",
       "[9455469 rows x 8 columns]"
      ]
     },
     "execution_count": 1,
     "metadata": {},
     "output_type": "execute_result"
    }
   ],
   "source": [
    "import pandas as pd\n",
    "\n",
    "AZ_GHCN_URL = \"https://ghcn.blob.core.windows.net/ghcn/csv/daily/by_year/2024.csv\"\n",
    "\n",
    "new_columns = ['ID', 'Time', 'Element', 'Value', 'M-Flag', 'Q-Flag', 'S-Flag', 'OBS-Time']\n",
    "\n",
    "df = pd.read_csv(AZ_GHCN_URL, names = new_columns)\n",
    "\n",
    "df"
   ]
  },
  {
   "cell_type": "code",
   "execution_count": 2,
   "metadata": {},
   "outputs": [],
   "source": [
    "with open(\"ghcnd-stations.txt\") as file:\n",
    "    \n",
    "    lines = [line.rstrip() for line in file]\n",
    "\n",
    "    ID_list = [line[:11] for line in lines]\n",
    "\n",
    "    lat_list = [line[12:20].lstrip() for line in lines]\n",
    "\n",
    "    lon_list = [line[21:30].lstrip() for line in lines]\n",
    "    \n",
    "    state_list = [line[38:40].lstrip() for line in lines]\n",
    "\n",
    "    station_name_list = [line[41:71].strip() for line in lines]"
   ]
  },
  {
   "cell_type": "code",
   "execution_count": 3,
   "metadata": {},
   "outputs": [
    {
     "data": {
      "text/html": [
       "<div>\n",
       "<style scoped>\n",
       "    .dataframe tbody tr th:only-of-type {\n",
       "        vertical-align: middle;\n",
       "    }\n",
       "\n",
       "    .dataframe tbody tr th {\n",
       "        vertical-align: top;\n",
       "    }\n",
       "\n",
       "    .dataframe thead th {\n",
       "        text-align: right;\n",
       "    }\n",
       "</style>\n",
       "<table border=\"1\" class=\"dataframe\">\n",
       "  <thead>\n",
       "    <tr style=\"text-align: right;\">\n",
       "      <th></th>\n",
       "      <th>ID</th>\n",
       "      <th>Latitude</th>\n",
       "      <th>Longitude</th>\n",
       "      <th>State</th>\n",
       "      <th>StationName</th>\n",
       "    </tr>\n",
       "  </thead>\n",
       "  <tbody>\n",
       "    <tr>\n",
       "      <th>0</th>\n",
       "      <td>ACW00011604</td>\n",
       "      <td>17.1167</td>\n",
       "      <td>-61.7833</td>\n",
       "      <td>NaN</td>\n",
       "      <td>ST JOHNS COOLIDGE FLD</td>\n",
       "    </tr>\n",
       "    <tr>\n",
       "      <th>1</th>\n",
       "      <td>ACW00011647</td>\n",
       "      <td>17.1333</td>\n",
       "      <td>-61.7833</td>\n",
       "      <td>NaN</td>\n",
       "      <td>ST JOHNS</td>\n",
       "    </tr>\n",
       "    <tr>\n",
       "      <th>2</th>\n",
       "      <td>AE000041196</td>\n",
       "      <td>25.3330</td>\n",
       "      <td>55.5170</td>\n",
       "      <td>NaN</td>\n",
       "      <td>SHARJAH INTER. AIRP</td>\n",
       "    </tr>\n",
       "    <tr>\n",
       "      <th>3</th>\n",
       "      <td>AEM00041194</td>\n",
       "      <td>25.2550</td>\n",
       "      <td>55.3640</td>\n",
       "      <td>NaN</td>\n",
       "      <td>DUBAI INTL</td>\n",
       "    </tr>\n",
       "    <tr>\n",
       "      <th>4</th>\n",
       "      <td>AEM00041217</td>\n",
       "      <td>24.4330</td>\n",
       "      <td>54.6510</td>\n",
       "      <td>NaN</td>\n",
       "      <td>ABU DHABI INTL</td>\n",
       "    </tr>\n",
       "    <tr>\n",
       "      <th>...</th>\n",
       "      <td>...</td>\n",
       "      <td>...</td>\n",
       "      <td>...</td>\n",
       "      <td>...</td>\n",
       "      <td>...</td>\n",
       "    </tr>\n",
       "    <tr>\n",
       "      <th>125983</th>\n",
       "      <td>ZI000067969</td>\n",
       "      <td>-21.0500</td>\n",
       "      <td>29.3670</td>\n",
       "      <td>NaN</td>\n",
       "      <td>WEST NICHOLSON</td>\n",
       "    </tr>\n",
       "    <tr>\n",
       "      <th>125984</th>\n",
       "      <td>ZI000067975</td>\n",
       "      <td>-20.0670</td>\n",
       "      <td>30.8670</td>\n",
       "      <td>NaN</td>\n",
       "      <td>MASVINGO</td>\n",
       "    </tr>\n",
       "    <tr>\n",
       "      <th>125985</th>\n",
       "      <td>ZI000067977</td>\n",
       "      <td>-21.0170</td>\n",
       "      <td>31.5830</td>\n",
       "      <td>NaN</td>\n",
       "      <td>BUFFALO RANGE</td>\n",
       "    </tr>\n",
       "    <tr>\n",
       "      <th>125986</th>\n",
       "      <td>ZI000067983</td>\n",
       "      <td>-20.2000</td>\n",
       "      <td>32.6160</td>\n",
       "      <td>NaN</td>\n",
       "      <td>CHIPINGE</td>\n",
       "    </tr>\n",
       "    <tr>\n",
       "      <th>125987</th>\n",
       "      <td>ZI000067991</td>\n",
       "      <td>-22.2170</td>\n",
       "      <td>30.0000</td>\n",
       "      <td>NaN</td>\n",
       "      <td>BEITBRIDGE</td>\n",
       "    </tr>\n",
       "  </tbody>\n",
       "</table>\n",
       "<p>125988 rows × 5 columns</p>\n",
       "</div>"
      ],
      "text/plain": [
       "                 ID  Latitude Longitude State            StationName\n",
       "0       ACW00011604   17.1167  -61.7833   NaN  ST JOHNS COOLIDGE FLD\n",
       "1       ACW00011647   17.1333  -61.7833   NaN               ST JOHNS\n",
       "2       AE000041196   25.3330   55.5170   NaN    SHARJAH INTER. AIRP\n",
       "3       AEM00041194   25.2550   55.3640   NaN             DUBAI INTL\n",
       "4       AEM00041217   24.4330   54.6510   NaN         ABU DHABI INTL\n",
       "...             ...       ...       ...   ...                    ...\n",
       "125983  ZI000067969  -21.0500   29.3670   NaN         WEST NICHOLSON\n",
       "125984  ZI000067975  -20.0670   30.8670   NaN               MASVINGO\n",
       "125985  ZI000067977  -21.0170   31.5830   NaN          BUFFALO RANGE\n",
       "125986  ZI000067983  -20.2000   32.6160   NaN               CHIPINGE\n",
       "125987  ZI000067991  -22.2170   30.0000   NaN             BEITBRIDGE\n",
       "\n",
       "[125988 rows x 5 columns]"
      ]
     },
     "execution_count": 3,
     "metadata": {},
     "output_type": "execute_result"
    }
   ],
   "source": [
    "import numpy as np\n",
    "\n",
    "metadata = pd.DataFrame({\n",
    "    \n",
    "    'ID' : ID_list,\n",
    "    'Latitude' : lat_list,\n",
    "    'Longitude' : lon_list,\n",
    "    'State' : state_list,\n",
    "    'StationName' : station_name_list\n",
    "})\n",
    "\n",
    "metadata['State'] = metadata['State'].replace('', np.nan)\n",
    "\n",
    "metadata"
   ]
  },
  {
   "cell_type": "code",
   "execution_count": 5,
   "metadata": {},
   "outputs": [
    {
     "data": {
      "text/html": [
       "<div>\n",
       "<style scoped>\n",
       "    .dataframe tbody tr th:only-of-type {\n",
       "        vertical-align: middle;\n",
       "    }\n",
       "\n",
       "    .dataframe tbody tr th {\n",
       "        vertical-align: top;\n",
       "    }\n",
       "\n",
       "    .dataframe thead th {\n",
       "        text-align: right;\n",
       "    }\n",
       "</style>\n",
       "<table border=\"1\" class=\"dataframe\">\n",
       "  <thead>\n",
       "    <tr style=\"text-align: right;\">\n",
       "      <th></th>\n",
       "      <th>ID</th>\n",
       "      <th>Time</th>\n",
       "      <th>Element</th>\n",
       "      <th>Value</th>\n",
       "      <th>M-Flag</th>\n",
       "      <th>Q-Flag</th>\n",
       "      <th>S-Flag</th>\n",
       "      <th>OBS-Time</th>\n",
       "      <th>Latitude</th>\n",
       "      <th>Longitude</th>\n",
       "      <th>State</th>\n",
       "      <th>StationName</th>\n",
       "    </tr>\n",
       "  </thead>\n",
       "  <tbody>\n",
       "    <tr>\n",
       "      <th>0</th>\n",
       "      <td>AE000041196</td>\n",
       "      <td>2024-01-01</td>\n",
       "      <td>TMAX</td>\n",
       "      <td>278</td>\n",
       "      <td>NaN</td>\n",
       "      <td>NaN</td>\n",
       "      <td>S</td>\n",
       "      <td>NaN</td>\n",
       "      <td>25.3330</td>\n",
       "      <td>55.5170</td>\n",
       "      <td>NaN</td>\n",
       "      <td>SHARJAH INTER. AIRP</td>\n",
       "    </tr>\n",
       "    <tr>\n",
       "      <th>1</th>\n",
       "      <td>AE000041196</td>\n",
       "      <td>2024-01-01</td>\n",
       "      <td>TMIN</td>\n",
       "      <td>182</td>\n",
       "      <td>NaN</td>\n",
       "      <td>NaN</td>\n",
       "      <td>S</td>\n",
       "      <td>NaN</td>\n",
       "      <td>25.3330</td>\n",
       "      <td>55.5170</td>\n",
       "      <td>NaN</td>\n",
       "      <td>SHARJAH INTER. AIRP</td>\n",
       "    </tr>\n",
       "    <tr>\n",
       "      <th>2</th>\n",
       "      <td>AE000041196</td>\n",
       "      <td>2024-01-01</td>\n",
       "      <td>PRCP</td>\n",
       "      <td>0</td>\n",
       "      <td>D</td>\n",
       "      <td>NaN</td>\n",
       "      <td>S</td>\n",
       "      <td>NaN</td>\n",
       "      <td>25.3330</td>\n",
       "      <td>55.5170</td>\n",
       "      <td>NaN</td>\n",
       "      <td>SHARJAH INTER. AIRP</td>\n",
       "    </tr>\n",
       "    <tr>\n",
       "      <th>3</th>\n",
       "      <td>AE000041196</td>\n",
       "      <td>2024-01-01</td>\n",
       "      <td>TAVG</td>\n",
       "      <td>236</td>\n",
       "      <td>H</td>\n",
       "      <td>NaN</td>\n",
       "      <td>S</td>\n",
       "      <td>NaN</td>\n",
       "      <td>25.3330</td>\n",
       "      <td>55.5170</td>\n",
       "      <td>NaN</td>\n",
       "      <td>SHARJAH INTER. AIRP</td>\n",
       "    </tr>\n",
       "    <tr>\n",
       "      <th>4</th>\n",
       "      <td>AE000041196</td>\n",
       "      <td>2024-01-02</td>\n",
       "      <td>TMAX</td>\n",
       "      <td>267</td>\n",
       "      <td>NaN</td>\n",
       "      <td>NaN</td>\n",
       "      <td>S</td>\n",
       "      <td>NaN</td>\n",
       "      <td>25.3330</td>\n",
       "      <td>55.5170</td>\n",
       "      <td>NaN</td>\n",
       "      <td>SHARJAH INTER. AIRP</td>\n",
       "    </tr>\n",
       "    <tr>\n",
       "      <th>...</th>\n",
       "      <td>...</td>\n",
       "      <td>...</td>\n",
       "      <td>...</td>\n",
       "      <td>...</td>\n",
       "      <td>...</td>\n",
       "      <td>...</td>\n",
       "      <td>...</td>\n",
       "      <td>...</td>\n",
       "      <td>...</td>\n",
       "      <td>...</td>\n",
       "      <td>...</td>\n",
       "      <td>...</td>\n",
       "    </tr>\n",
       "    <tr>\n",
       "      <th>9455464</th>\n",
       "      <td>US1TNWT0009</td>\n",
       "      <td>2024-04-20</td>\n",
       "      <td>PRCP</td>\n",
       "      <td>58</td>\n",
       "      <td>NaN</td>\n",
       "      <td>NaN</td>\n",
       "      <td>N</td>\n",
       "      <td>NaN</td>\n",
       "      <td>36.0641</td>\n",
       "      <td>-85.5601</td>\n",
       "      <td>TN</td>\n",
       "      <td>SPARTA 10.2 NNW</td>\n",
       "    </tr>\n",
       "    <tr>\n",
       "      <th>9455465</th>\n",
       "      <td>US1VAAR0018</td>\n",
       "      <td>2024-04-20</td>\n",
       "      <td>PRCP</td>\n",
       "      <td>0</td>\n",
       "      <td>NaN</td>\n",
       "      <td>NaN</td>\n",
       "      <td>N</td>\n",
       "      <td>NaN</td>\n",
       "      <td>38.8719</td>\n",
       "      <td>-77.1190</td>\n",
       "      <td>VA</td>\n",
       "      <td>ARLINGTON 1.0 WSW</td>\n",
       "    </tr>\n",
       "    <tr>\n",
       "      <th>9455466</th>\n",
       "      <td>US1VAAR0018</td>\n",
       "      <td>2024-04-20</td>\n",
       "      <td>SNOW</td>\n",
       "      <td>0</td>\n",
       "      <td>NaN</td>\n",
       "      <td>NaN</td>\n",
       "      <td>N</td>\n",
       "      <td>NaN</td>\n",
       "      <td>38.8719</td>\n",
       "      <td>-77.1190</td>\n",
       "      <td>VA</td>\n",
       "      <td>ARLINGTON 1.0 WSW</td>\n",
       "    </tr>\n",
       "    <tr>\n",
       "      <th>9455467</th>\n",
       "      <td>US1VAAR0018</td>\n",
       "      <td>2024-04-21</td>\n",
       "      <td>PRCP</td>\n",
       "      <td>0</td>\n",
       "      <td>T</td>\n",
       "      <td>NaN</td>\n",
       "      <td>N</td>\n",
       "      <td>NaN</td>\n",
       "      <td>38.8719</td>\n",
       "      <td>-77.1190</td>\n",
       "      <td>VA</td>\n",
       "      <td>ARLINGTON 1.0 WSW</td>\n",
       "    </tr>\n",
       "    <tr>\n",
       "      <th>9455468</th>\n",
       "      <td>US1TXBXR383</td>\n",
       "      <td>2024-04-21</td>\n",
       "      <td>PRCP</td>\n",
       "      <td>236</td>\n",
       "      <td>NaN</td>\n",
       "      <td>NaN</td>\n",
       "      <td>N</td>\n",
       "      <td>NaN</td>\n",
       "      <td>29.4411</td>\n",
       "      <td>-98.7018</td>\n",
       "      <td>TX</td>\n",
       "      <td>SAN ANTONIO 11.9 W</td>\n",
       "    </tr>\n",
       "  </tbody>\n",
       "</table>\n",
       "<p>9455469 rows × 12 columns</p>\n",
       "</div>"
      ],
      "text/plain": [
       "                  ID       Time Element  Value M-Flag Q-Flag S-Flag  OBS-Time  \\\n",
       "0        AE000041196 2024-01-01    TMAX    278    NaN    NaN      S       NaN   \n",
       "1        AE000041196 2024-01-01    TMIN    182    NaN    NaN      S       NaN   \n",
       "2        AE000041196 2024-01-01    PRCP      0      D    NaN      S       NaN   \n",
       "3        AE000041196 2024-01-01    TAVG    236      H    NaN      S       NaN   \n",
       "4        AE000041196 2024-01-02    TMAX    267    NaN    NaN      S       NaN   \n",
       "...              ...        ...     ...    ...    ...    ...    ...       ...   \n",
       "9455464  US1TNWT0009 2024-04-20    PRCP     58    NaN    NaN      N       NaN   \n",
       "9455465  US1VAAR0018 2024-04-20    PRCP      0    NaN    NaN      N       NaN   \n",
       "9455466  US1VAAR0018 2024-04-20    SNOW      0    NaN    NaN      N       NaN   \n",
       "9455467  US1VAAR0018 2024-04-21    PRCP      0      T    NaN      N       NaN   \n",
       "9455468  US1TXBXR383 2024-04-21    PRCP    236    NaN    NaN      N       NaN   \n",
       "\n",
       "        Latitude Longitude State          StationName  \n",
       "0        25.3330   55.5170   NaN  SHARJAH INTER. AIRP  \n",
       "1        25.3330   55.5170   NaN  SHARJAH INTER. AIRP  \n",
       "2        25.3330   55.5170   NaN  SHARJAH INTER. AIRP  \n",
       "3        25.3330   55.5170   NaN  SHARJAH INTER. AIRP  \n",
       "4        25.3330   55.5170   NaN  SHARJAH INTER. AIRP  \n",
       "...          ...       ...   ...                  ...  \n",
       "9455464  36.0641  -85.5601    TN      SPARTA 10.2 NNW  \n",
       "9455465  38.8719  -77.1190    VA    ARLINGTON 1.0 WSW  \n",
       "9455466  38.8719  -77.1190    VA    ARLINGTON 1.0 WSW  \n",
       "9455467  38.8719  -77.1190    VA    ARLINGTON 1.0 WSW  \n",
       "9455468  29.4411  -98.7018    TX   SAN ANTONIO 11.9 W  \n",
       "\n",
       "[9455469 rows x 12 columns]"
      ]
     },
     "execution_count": 5,
     "metadata": {},
     "output_type": "execute_result"
    }
   ],
   "source": [
    "df.Time = pd.to_datetime(df.Time, format='%Y%m%d')\n",
    "\n",
    "merge_df = pd.merge(df, metadata, on = 'ID')\n",
    "\n",
    "merge_df"
   ]
  },
  {
   "cell_type": "code",
   "execution_count": 22,
   "metadata": {},
   "outputs": [
    {
     "data": {
      "text/html": [
       "<div>\n",
       "<style scoped>\n",
       "    .dataframe tbody tr th:only-of-type {\n",
       "        vertical-align: middle;\n",
       "    }\n",
       "\n",
       "    .dataframe tbody tr th {\n",
       "        vertical-align: top;\n",
       "    }\n",
       "\n",
       "    .dataframe thead th {\n",
       "        text-align: right;\n",
       "    }\n",
       "</style>\n",
       "<table border=\"1\" class=\"dataframe\">\n",
       "  <thead>\n",
       "    <tr style=\"text-align: right;\">\n",
       "      <th></th>\n",
       "      <th>ID</th>\n",
       "      <th>Time</th>\n",
       "      <th>Element</th>\n",
       "      <th>Value</th>\n",
       "      <th>M-Flag</th>\n",
       "      <th>Q-Flag</th>\n",
       "      <th>S-Flag</th>\n",
       "      <th>OBS-Time</th>\n",
       "      <th>Latitude</th>\n",
       "      <th>Longitude</th>\n",
       "      <th>State</th>\n",
       "      <th>StationName</th>\n",
       "    </tr>\n",
       "  </thead>\n",
       "  <tbody>\n",
       "    <tr>\n",
       "      <th>2001116</th>\n",
       "      <td>US1CAAL0001</td>\n",
       "      <td>2024-01-01</td>\n",
       "      <td>PRCP</td>\n",
       "      <td>8</td>\n",
       "      <td>NaN</td>\n",
       "      <td>NaN</td>\n",
       "      <td>N</td>\n",
       "      <td>700.0</td>\n",
       "      <td>37.8123</td>\n",
       "      <td>-122.2160</td>\n",
       "      <td>CA</td>\n",
       "      <td>PIEDMONT 1.0 SE</td>\n",
       "    </tr>\n",
       "    <tr>\n",
       "      <th>2001117</th>\n",
       "      <td>US1CAAL0001</td>\n",
       "      <td>2024-01-02</td>\n",
       "      <td>PRCP</td>\n",
       "      <td>0</td>\n",
       "      <td>NaN</td>\n",
       "      <td>NaN</td>\n",
       "      <td>N</td>\n",
       "      <td>700.0</td>\n",
       "      <td>37.8123</td>\n",
       "      <td>-122.2160</td>\n",
       "      <td>CA</td>\n",
       "      <td>PIEDMONT 1.0 SE</td>\n",
       "    </tr>\n",
       "    <tr>\n",
       "      <th>2001118</th>\n",
       "      <td>US1CAAL0001</td>\n",
       "      <td>2024-01-02</td>\n",
       "      <td>SNOW</td>\n",
       "      <td>0</td>\n",
       "      <td>NaN</td>\n",
       "      <td>NaN</td>\n",
       "      <td>N</td>\n",
       "      <td>700.0</td>\n",
       "      <td>37.8123</td>\n",
       "      <td>-122.2160</td>\n",
       "      <td>CA</td>\n",
       "      <td>PIEDMONT 1.0 SE</td>\n",
       "    </tr>\n",
       "    <tr>\n",
       "      <th>2001119</th>\n",
       "      <td>US1CAAL0001</td>\n",
       "      <td>2024-01-03</td>\n",
       "      <td>PRCP</td>\n",
       "      <td>211</td>\n",
       "      <td>NaN</td>\n",
       "      <td>NaN</td>\n",
       "      <td>N</td>\n",
       "      <td>700.0</td>\n",
       "      <td>37.8123</td>\n",
       "      <td>-122.2160</td>\n",
       "      <td>CA</td>\n",
       "      <td>PIEDMONT 1.0 SE</td>\n",
       "    </tr>\n",
       "    <tr>\n",
       "      <th>2001120</th>\n",
       "      <td>US1CAAL0001</td>\n",
       "      <td>2024-01-04</td>\n",
       "      <td>PRCP</td>\n",
       "      <td>3</td>\n",
       "      <td>NaN</td>\n",
       "      <td>NaN</td>\n",
       "      <td>N</td>\n",
       "      <td>700.0</td>\n",
       "      <td>37.8123</td>\n",
       "      <td>-122.2160</td>\n",
       "      <td>CA</td>\n",
       "      <td>PIEDMONT 1.0 SE</td>\n",
       "    </tr>\n",
       "    <tr>\n",
       "      <th>...</th>\n",
       "      <td>...</td>\n",
       "      <td>...</td>\n",
       "      <td>...</td>\n",
       "      <td>...</td>\n",
       "      <td>...</td>\n",
       "      <td>...</td>\n",
       "      <td>...</td>\n",
       "      <td>...</td>\n",
       "      <td>...</td>\n",
       "      <td>...</td>\n",
       "      <td>...</td>\n",
       "      <td>...</td>\n",
       "    </tr>\n",
       "    <tr>\n",
       "      <th>9453970</th>\n",
       "      <td>USC00043578</td>\n",
       "      <td>2024-04-11</td>\n",
       "      <td>TMAX</td>\n",
       "      <td>244</td>\n",
       "      <td>NaN</td>\n",
       "      <td>NaN</td>\n",
       "      <td>H</td>\n",
       "      <td>800.0</td>\n",
       "      <td>38.4306</td>\n",
       "      <td>-122.8647</td>\n",
       "      <td>CA</td>\n",
       "      <td>GRATON</td>\n",
       "    </tr>\n",
       "    <tr>\n",
       "      <th>9453971</th>\n",
       "      <td>USC00043578</td>\n",
       "      <td>2024-04-11</td>\n",
       "      <td>TOBS</td>\n",
       "      <td>-178</td>\n",
       "      <td>NaN</td>\n",
       "      <td>O</td>\n",
       "      <td>H</td>\n",
       "      <td>800.0</td>\n",
       "      <td>38.4306</td>\n",
       "      <td>-122.8647</td>\n",
       "      <td>CA</td>\n",
       "      <td>GRATON</td>\n",
       "    </tr>\n",
       "    <tr>\n",
       "      <th>9453972</th>\n",
       "      <td>USC00043578</td>\n",
       "      <td>2024-04-11</td>\n",
       "      <td>PRCP</td>\n",
       "      <td>0</td>\n",
       "      <td>NaN</td>\n",
       "      <td>NaN</td>\n",
       "      <td>H</td>\n",
       "      <td>800.0</td>\n",
       "      <td>38.4306</td>\n",
       "      <td>-122.8647</td>\n",
       "      <td>CA</td>\n",
       "      <td>GRATON</td>\n",
       "    </tr>\n",
       "    <tr>\n",
       "      <th>9455420</th>\n",
       "      <td>US1CARV0058</td>\n",
       "      <td>2024-04-19</td>\n",
       "      <td>PRCP</td>\n",
       "      <td>0</td>\n",
       "      <td>NaN</td>\n",
       "      <td>NaN</td>\n",
       "      <td>N</td>\n",
       "      <td>NaN</td>\n",
       "      <td>33.7983</td>\n",
       "      <td>-117.0373</td>\n",
       "      <td>CA</td>\n",
       "      <td>SAN JACINTO 4.2 W</td>\n",
       "    </tr>\n",
       "    <tr>\n",
       "      <th>9455421</th>\n",
       "      <td>US1CARV0058</td>\n",
       "      <td>2024-04-19</td>\n",
       "      <td>SNOW</td>\n",
       "      <td>0</td>\n",
       "      <td>NaN</td>\n",
       "      <td>NaN</td>\n",
       "      <td>N</td>\n",
       "      <td>NaN</td>\n",
       "      <td>33.7983</td>\n",
       "      <td>-117.0373</td>\n",
       "      <td>CA</td>\n",
       "      <td>SAN JACINTO 4.2 W</td>\n",
       "    </tr>\n",
       "  </tbody>\n",
       "</table>\n",
       "<p>323349 rows × 12 columns</p>\n",
       "</div>"
      ],
      "text/plain": [
       "                  ID       Time Element  Value M-Flag Q-Flag S-Flag  OBS-Time  \\\n",
       "2001116  US1CAAL0001 2024-01-01    PRCP      8    NaN    NaN      N     700.0   \n",
       "2001117  US1CAAL0001 2024-01-02    PRCP      0    NaN    NaN      N     700.0   \n",
       "2001118  US1CAAL0001 2024-01-02    SNOW      0    NaN    NaN      N     700.0   \n",
       "2001119  US1CAAL0001 2024-01-03    PRCP    211    NaN    NaN      N     700.0   \n",
       "2001120  US1CAAL0001 2024-01-04    PRCP      3    NaN    NaN      N     700.0   \n",
       "...              ...        ...     ...    ...    ...    ...    ...       ...   \n",
       "9453970  USC00043578 2024-04-11    TMAX    244    NaN    NaN      H     800.0   \n",
       "9453971  USC00043578 2024-04-11    TOBS   -178    NaN      O      H     800.0   \n",
       "9453972  USC00043578 2024-04-11    PRCP      0    NaN    NaN      H     800.0   \n",
       "9455420  US1CARV0058 2024-04-19    PRCP      0    NaN    NaN      N       NaN   \n",
       "9455421  US1CARV0058 2024-04-19    SNOW      0    NaN    NaN      N       NaN   \n",
       "\n",
       "        Latitude  Longitude State        StationName  \n",
       "2001116  37.8123  -122.2160    CA    PIEDMONT 1.0 SE  \n",
       "2001117  37.8123  -122.2160    CA    PIEDMONT 1.0 SE  \n",
       "2001118  37.8123  -122.2160    CA    PIEDMONT 1.0 SE  \n",
       "2001119  37.8123  -122.2160    CA    PIEDMONT 1.0 SE  \n",
       "2001120  37.8123  -122.2160    CA    PIEDMONT 1.0 SE  \n",
       "...          ...        ...   ...                ...  \n",
       "9453970  38.4306  -122.8647    CA             GRATON  \n",
       "9453971  38.4306  -122.8647    CA             GRATON  \n",
       "9453972  38.4306  -122.8647    CA             GRATON  \n",
       "9455420  33.7983  -117.0373    CA  SAN JACINTO 4.2 W  \n",
       "9455421  33.7983  -117.0373    CA  SAN JACINTO 4.2 W  \n",
       "\n",
       "[323349 rows x 12 columns]"
      ]
     },
     "execution_count": 22,
     "metadata": {},
     "output_type": "execute_result"
    }
   ],
   "source": [
    "CA = merge_df[merge_df.State == 'CA'].groupby(CA.Time.dt.month)[]\n",
    "CA"
   ]
  },
  {
   "cell_type": "code",
   "execution_count": 100,
   "metadata": {},
   "outputs": [
    {
     "data": {
      "application/vnd.plotly.v1+json": {
       "config": {
        "plotlyServerURL": "https://plot.ly"
       },
       "data": [
        {
         "line": {
          "color": "#33CFA5"
         },
         "name": "Precipitation",
         "type": "scatter",
         "x": [
          1,
          2,
          3,
          4
         ],
         "y": [
          5.169403072136886,
          8.040842096715254,
          4.8946035523073,
          1.8513194231359313
         ]
        },
        {
         "line": {
          "color": "#F06A6A"
         },
         "name": "SNOW",
         "type": "scatter",
         "x": [
          1,
          2,
          3,
          4
         ],
         "y": [
          1.7477698093405631,
          2.686151704940849,
          2.954698339289468,
          0.972254004576659
         ]
        },
        {
         "line": {
          "color": "#c2c330"
         },
         "name": "TMAX",
         "type": "scatter",
         "x": [
          1,
          2,
          3,
          4
         ],
         "y": [
          12.567177823650841,
          12.893346026655976,
          15.268401937046004,
          18.50759343013568
         ]
        },
        {
         "line": {
          "color": "#003d6c"
         },
         "name": "TMIN",
         "type": "scatter",
         "x": [
          1,
          2,
          3,
          4
         ],
         "y": [
          3.264078014184397,
          3.554785945072698,
          4.286297297297297,
          4.925333969465649
         ]
        },
        {
         "line": {
          "color": "#b8a7ea"
         },
         "name": "SNWD",
         "type": "scatter",
         "x": [
          1,
          2,
          3,
          4
         ],
         "y": [
          138.05825045666734,
          250.54867800778848,
          587.6396540679052,
          528.115894039735
         ]
        }
       ],
       "layout": {
        "height": 700,
        "showlegend": false,
        "template": {
         "data": {
          "bar": [
           {
            "error_x": {
             "color": "#2a3f5f"
            },
            "error_y": {
             "color": "#2a3f5f"
            },
            "marker": {
             "line": {
              "color": "#E5ECF6",
              "width": 0.5
             },
             "pattern": {
              "fillmode": "overlay",
              "size": 10,
              "solidity": 0.2
             }
            },
            "type": "bar"
           }
          ],
          "barpolar": [
           {
            "marker": {
             "line": {
              "color": "#E5ECF6",
              "width": 0.5
             },
             "pattern": {
              "fillmode": "overlay",
              "size": 10,
              "solidity": 0.2
             }
            },
            "type": "barpolar"
           }
          ],
          "carpet": [
           {
            "aaxis": {
             "endlinecolor": "#2a3f5f",
             "gridcolor": "white",
             "linecolor": "white",
             "minorgridcolor": "white",
             "startlinecolor": "#2a3f5f"
            },
            "baxis": {
             "endlinecolor": "#2a3f5f",
             "gridcolor": "white",
             "linecolor": "white",
             "minorgridcolor": "white",
             "startlinecolor": "#2a3f5f"
            },
            "type": "carpet"
           }
          ],
          "choropleth": [
           {
            "colorbar": {
             "outlinewidth": 0,
             "ticks": ""
            },
            "type": "choropleth"
           }
          ],
          "contour": [
           {
            "colorbar": {
             "outlinewidth": 0,
             "ticks": ""
            },
            "colorscale": [
             [
              0,
              "#0d0887"
             ],
             [
              0.1111111111111111,
              "#46039f"
             ],
             [
              0.2222222222222222,
              "#7201a8"
             ],
             [
              0.3333333333333333,
              "#9c179e"
             ],
             [
              0.4444444444444444,
              "#bd3786"
             ],
             [
              0.5555555555555556,
              "#d8576b"
             ],
             [
              0.6666666666666666,
              "#ed7953"
             ],
             [
              0.7777777777777778,
              "#fb9f3a"
             ],
             [
              0.8888888888888888,
              "#fdca26"
             ],
             [
              1,
              "#f0f921"
             ]
            ],
            "type": "contour"
           }
          ],
          "contourcarpet": [
           {
            "colorbar": {
             "outlinewidth": 0,
             "ticks": ""
            },
            "type": "contourcarpet"
           }
          ],
          "heatmap": [
           {
            "colorbar": {
             "outlinewidth": 0,
             "ticks": ""
            },
            "colorscale": [
             [
              0,
              "#0d0887"
             ],
             [
              0.1111111111111111,
              "#46039f"
             ],
             [
              0.2222222222222222,
              "#7201a8"
             ],
             [
              0.3333333333333333,
              "#9c179e"
             ],
             [
              0.4444444444444444,
              "#bd3786"
             ],
             [
              0.5555555555555556,
              "#d8576b"
             ],
             [
              0.6666666666666666,
              "#ed7953"
             ],
             [
              0.7777777777777778,
              "#fb9f3a"
             ],
             [
              0.8888888888888888,
              "#fdca26"
             ],
             [
              1,
              "#f0f921"
             ]
            ],
            "type": "heatmap"
           }
          ],
          "heatmapgl": [
           {
            "colorbar": {
             "outlinewidth": 0,
             "ticks": ""
            },
            "colorscale": [
             [
              0,
              "#0d0887"
             ],
             [
              0.1111111111111111,
              "#46039f"
             ],
             [
              0.2222222222222222,
              "#7201a8"
             ],
             [
              0.3333333333333333,
              "#9c179e"
             ],
             [
              0.4444444444444444,
              "#bd3786"
             ],
             [
              0.5555555555555556,
              "#d8576b"
             ],
             [
              0.6666666666666666,
              "#ed7953"
             ],
             [
              0.7777777777777778,
              "#fb9f3a"
             ],
             [
              0.8888888888888888,
              "#fdca26"
             ],
             [
              1,
              "#f0f921"
             ]
            ],
            "type": "heatmapgl"
           }
          ],
          "histogram": [
           {
            "marker": {
             "pattern": {
              "fillmode": "overlay",
              "size": 10,
              "solidity": 0.2
             }
            },
            "type": "histogram"
           }
          ],
          "histogram2d": [
           {
            "colorbar": {
             "outlinewidth": 0,
             "ticks": ""
            },
            "colorscale": [
             [
              0,
              "#0d0887"
             ],
             [
              0.1111111111111111,
              "#46039f"
             ],
             [
              0.2222222222222222,
              "#7201a8"
             ],
             [
              0.3333333333333333,
              "#9c179e"
             ],
             [
              0.4444444444444444,
              "#bd3786"
             ],
             [
              0.5555555555555556,
              "#d8576b"
             ],
             [
              0.6666666666666666,
              "#ed7953"
             ],
             [
              0.7777777777777778,
              "#fb9f3a"
             ],
             [
              0.8888888888888888,
              "#fdca26"
             ],
             [
              1,
              "#f0f921"
             ]
            ],
            "type": "histogram2d"
           }
          ],
          "histogram2dcontour": [
           {
            "colorbar": {
             "outlinewidth": 0,
             "ticks": ""
            },
            "colorscale": [
             [
              0,
              "#0d0887"
             ],
             [
              0.1111111111111111,
              "#46039f"
             ],
             [
              0.2222222222222222,
              "#7201a8"
             ],
             [
              0.3333333333333333,
              "#9c179e"
             ],
             [
              0.4444444444444444,
              "#bd3786"
             ],
             [
              0.5555555555555556,
              "#d8576b"
             ],
             [
              0.6666666666666666,
              "#ed7953"
             ],
             [
              0.7777777777777778,
              "#fb9f3a"
             ],
             [
              0.8888888888888888,
              "#fdca26"
             ],
             [
              1,
              "#f0f921"
             ]
            ],
            "type": "histogram2dcontour"
           }
          ],
          "mesh3d": [
           {
            "colorbar": {
             "outlinewidth": 0,
             "ticks": ""
            },
            "type": "mesh3d"
           }
          ],
          "parcoords": [
           {
            "line": {
             "colorbar": {
              "outlinewidth": 0,
              "ticks": ""
             }
            },
            "type": "parcoords"
           }
          ],
          "pie": [
           {
            "automargin": true,
            "type": "pie"
           }
          ],
          "scatter": [
           {
            "fillpattern": {
             "fillmode": "overlay",
             "size": 10,
             "solidity": 0.2
            },
            "type": "scatter"
           }
          ],
          "scatter3d": [
           {
            "line": {
             "colorbar": {
              "outlinewidth": 0,
              "ticks": ""
             }
            },
            "marker": {
             "colorbar": {
              "outlinewidth": 0,
              "ticks": ""
             }
            },
            "type": "scatter3d"
           }
          ],
          "scattercarpet": [
           {
            "marker": {
             "colorbar": {
              "outlinewidth": 0,
              "ticks": ""
             }
            },
            "type": "scattercarpet"
           }
          ],
          "scattergeo": [
           {
            "marker": {
             "colorbar": {
              "outlinewidth": 0,
              "ticks": ""
             }
            },
            "type": "scattergeo"
           }
          ],
          "scattergl": [
           {
            "marker": {
             "colorbar": {
              "outlinewidth": 0,
              "ticks": ""
             }
            },
            "type": "scattergl"
           }
          ],
          "scattermapbox": [
           {
            "marker": {
             "colorbar": {
              "outlinewidth": 0,
              "ticks": ""
             }
            },
            "type": "scattermapbox"
           }
          ],
          "scatterpolar": [
           {
            "marker": {
             "colorbar": {
              "outlinewidth": 0,
              "ticks": ""
             }
            },
            "type": "scatterpolar"
           }
          ],
          "scatterpolargl": [
           {
            "marker": {
             "colorbar": {
              "outlinewidth": 0,
              "ticks": ""
             }
            },
            "type": "scatterpolargl"
           }
          ],
          "scatterternary": [
           {
            "marker": {
             "colorbar": {
              "outlinewidth": 0,
              "ticks": ""
             }
            },
            "type": "scatterternary"
           }
          ],
          "surface": [
           {
            "colorbar": {
             "outlinewidth": 0,
             "ticks": ""
            },
            "colorscale": [
             [
              0,
              "#0d0887"
             ],
             [
              0.1111111111111111,
              "#46039f"
             ],
             [
              0.2222222222222222,
              "#7201a8"
             ],
             [
              0.3333333333333333,
              "#9c179e"
             ],
             [
              0.4444444444444444,
              "#bd3786"
             ],
             [
              0.5555555555555556,
              "#d8576b"
             ],
             [
              0.6666666666666666,
              "#ed7953"
             ],
             [
              0.7777777777777778,
              "#fb9f3a"
             ],
             [
              0.8888888888888888,
              "#fdca26"
             ],
             [
              1,
              "#f0f921"
             ]
            ],
            "type": "surface"
           }
          ],
          "table": [
           {
            "cells": {
             "fill": {
              "color": "#EBF0F8"
             },
             "line": {
              "color": "white"
             }
            },
            "header": {
             "fill": {
              "color": "#C8D4E3"
             },
             "line": {
              "color": "white"
             }
            },
            "type": "table"
           }
          ]
         },
         "layout": {
          "annotationdefaults": {
           "arrowcolor": "#2a3f5f",
           "arrowhead": 0,
           "arrowwidth": 1
          },
          "autotypenumbers": "strict",
          "coloraxis": {
           "colorbar": {
            "outlinewidth": 0,
            "ticks": ""
           }
          },
          "colorscale": {
           "diverging": [
            [
             0,
             "#8e0152"
            ],
            [
             0.1,
             "#c51b7d"
            ],
            [
             0.2,
             "#de77ae"
            ],
            [
             0.3,
             "#f1b6da"
            ],
            [
             0.4,
             "#fde0ef"
            ],
            [
             0.5,
             "#f7f7f7"
            ],
            [
             0.6,
             "#e6f5d0"
            ],
            [
             0.7,
             "#b8e186"
            ],
            [
             0.8,
             "#7fbc41"
            ],
            [
             0.9,
             "#4d9221"
            ],
            [
             1,
             "#276419"
            ]
           ],
           "sequential": [
            [
             0,
             "#0d0887"
            ],
            [
             0.1111111111111111,
             "#46039f"
            ],
            [
             0.2222222222222222,
             "#7201a8"
            ],
            [
             0.3333333333333333,
             "#9c179e"
            ],
            [
             0.4444444444444444,
             "#bd3786"
            ],
            [
             0.5555555555555556,
             "#d8576b"
            ],
            [
             0.6666666666666666,
             "#ed7953"
            ],
            [
             0.7777777777777778,
             "#fb9f3a"
            ],
            [
             0.8888888888888888,
             "#fdca26"
            ],
            [
             1,
             "#f0f921"
            ]
           ],
           "sequentialminus": [
            [
             0,
             "#0d0887"
            ],
            [
             0.1111111111111111,
             "#46039f"
            ],
            [
             0.2222222222222222,
             "#7201a8"
            ],
            [
             0.3333333333333333,
             "#9c179e"
            ],
            [
             0.4444444444444444,
             "#bd3786"
            ],
            [
             0.5555555555555556,
             "#d8576b"
            ],
            [
             0.6666666666666666,
             "#ed7953"
            ],
            [
             0.7777777777777778,
             "#fb9f3a"
            ],
            [
             0.8888888888888888,
             "#fdca26"
            ],
            [
             1,
             "#f0f921"
            ]
           ]
          },
          "colorway": [
           "#636efa",
           "#EF553B",
           "#00cc96",
           "#ab63fa",
           "#FFA15A",
           "#19d3f3",
           "#FF6692",
           "#B6E880",
           "#FF97FF",
           "#FECB52"
          ],
          "font": {
           "color": "#2a3f5f"
          },
          "geo": {
           "bgcolor": "white",
           "lakecolor": "white",
           "landcolor": "#E5ECF6",
           "showlakes": true,
           "showland": true,
           "subunitcolor": "white"
          },
          "hoverlabel": {
           "align": "left"
          },
          "hovermode": "closest",
          "mapbox": {
           "style": "light"
          },
          "paper_bgcolor": "white",
          "plot_bgcolor": "#E5ECF6",
          "polar": {
           "angularaxis": {
            "gridcolor": "white",
            "linecolor": "white",
            "ticks": ""
           },
           "bgcolor": "#E5ECF6",
           "radialaxis": {
            "gridcolor": "white",
            "linecolor": "white",
            "ticks": ""
           }
          },
          "scene": {
           "xaxis": {
            "backgroundcolor": "#E5ECF6",
            "gridcolor": "white",
            "gridwidth": 2,
            "linecolor": "white",
            "showbackground": true,
            "ticks": "",
            "zerolinecolor": "white"
           },
           "yaxis": {
            "backgroundcolor": "#E5ECF6",
            "gridcolor": "white",
            "gridwidth": 2,
            "linecolor": "white",
            "showbackground": true,
            "ticks": "",
            "zerolinecolor": "white"
           },
           "zaxis": {
            "backgroundcolor": "#E5ECF6",
            "gridcolor": "white",
            "gridwidth": 2,
            "linecolor": "white",
            "showbackground": true,
            "ticks": "",
            "zerolinecolor": "white"
           }
          },
          "shapedefaults": {
           "line": {
            "color": "#2a3f5f"
           }
          },
          "ternary": {
           "aaxis": {
            "gridcolor": "white",
            "linecolor": "white",
            "ticks": ""
           },
           "baxis": {
            "gridcolor": "white",
            "linecolor": "white",
            "ticks": ""
           },
           "bgcolor": "#E5ECF6",
           "caxis": {
            "gridcolor": "white",
            "linecolor": "white",
            "ticks": ""
           }
          },
          "title": {
           "x": 0.05
          },
          "xaxis": {
           "automargin": true,
           "gridcolor": "white",
           "linecolor": "white",
           "ticks": "",
           "title": {
            "standoff": 15
           },
           "zerolinecolor": "white",
           "zerolinewidth": 2
          },
          "yaxis": {
           "automargin": true,
           "gridcolor": "white",
           "linecolor": "white",
           "ticks": "",
           "title": {
            "standoff": 15
           },
           "zerolinecolor": "white",
           "zerolinewidth": 2
          }
         }
        },
        "title": {
         "font": {
          "size": 25
         },
         "text": "<b>California climate in 2024 to present</b>",
         "x": 0.5,
         "xanchor": "center",
         "y": 0.95,
         "yanchor": "top"
        },
        "updatemenus": [
         {
          "buttons": [
           {
            "args": [
             {
              "visible": [
               true,
               false,
               false,
               false,
               false
              ]
             }
            ],
            "label": "Precipitation (mm)",
            "method": "update"
           },
           {
            "args": [
             {
              "visible": [
               false,
               true,
               false,
               false,
               false
              ]
             }
            ],
            "label": "Snowfall (mm)",
            "method": "update"
           },
           {
            "args": [
             {
              "visible": [
               false,
               false,
               true,
               false,
               false
              ]
             }
            ],
            "label": "Maximum temperature (C)",
            "method": "update"
           },
           {
            "args": [
             {
              "visible": [
               false,
               false,
               false,
               true,
               false
              ]
             }
            ],
            "label": "Minimum temperature (C)",
            "method": "update"
           },
           {
            "args": [
             {
              "visible": [
               false,
               false,
               false,
               false,
               true
              ]
             }
            ],
            "label": "Snow depth (mm)",
            "method": "update"
           },
           {
            "args": [
             {
              "visible": [
               true,
               true,
               true,
               true,
               true
              ]
             }
            ],
            "label": "All",
            "method": "update"
           }
          ],
          "type": "buttons",
          "x": 1.05,
          "xanchor": "left",
          "y": 1,
          "yanchor": "top"
         }
        ],
        "width": 1200,
        "xaxis": {
         "domain": [
          0.05,
          1
         ],
         "tickvals": [
          1,
          2,
          3,
          4
         ],
         "title": {
          "text": "month"
         }
        }
       }
      }
     },
     "metadata": {},
     "output_type": "display_data"
    }
   ],
   "source": [
    "import plotly.graph_objects as go\n",
    "\n",
    "# Initialize figure\n",
    "fig = go.Figure()\n",
    "\n",
    "fig.add_trace(\n",
    "    go.Scatter(x=list(CA.Time.dt.month.unique()),\n",
    "               y=list(CA[CA.Element == 'PRCP'].groupby(CA.Time.dt.month)['Value'].mean() / 10),\n",
    "               name=\"Precipitation\",\n",
    "               line=dict(color=\"#33CFA5\")))\n",
    "\n",
    "fig.add_trace(\n",
    "    go.Scatter(x=list(CA.Time.dt.month.unique()),\n",
    "               y=list(CA[CA.Element == 'SNOW'].groupby(CA.Time.dt.month)['Value'].mean()),\n",
    "               name=\"SNOW\",\n",
    "               line=dict(color=\"#F06A6A\")))\n",
    "\n",
    "fig.add_trace(\n",
    "    go.Scatter(x=list(CA.Time.dt.month.unique()),\n",
    "               y=list(CA[CA.Element == 'TMAX'].groupby(CA.Time.dt.month)['Value'].mean() / 10),\n",
    "               name=\"TMAX\",\n",
    "               line=dict(color=\"#c2c330\")))\n",
    "\n",
    "fig.add_trace(\n",
    "    go.Scatter(x=list(CA.Time.dt.month.unique()),\n",
    "               y=list(CA[CA.Element == 'TMIN'].groupby(CA.Time.dt.month)['Value'].mean() / 10),\n",
    "               name=\"TMIN\",\n",
    "               line=dict(color=\"#003d6c\")))\n",
    "\n",
    "\n",
    "fig.add_trace(\n",
    "    go.Scatter(x=list(CA.Time.dt.month.unique()),\n",
    "               y=list(CA[CA.Element == 'SNWD'].groupby(CA.Time.dt.month)['Value'].mean()),\n",
    "               name=\"SNWD\",\n",
    "               line=dict(color=\"#b8a7ea\")))\n",
    "\n",
    "\n",
    "button1 = dict(method='update', \n",
    "               args=[{\"visible\": [True, False, False, False, False] }], \n",
    "               label=\"Precipitation (mm)\" )\n",
    "button2 = dict(method='update', \n",
    "               args=[{\"visible\": [False, True, False, False, False] }], \n",
    "               label=\"Snowfall (mm)\" )   \n",
    "button3 = dict(method='update', \n",
    "               args=[{\"visible\": [False, False, True, False, False] }], \n",
    "               label=\"Maximum temperature (C)\" ) \n",
    "button4 = dict(method='update', \n",
    "               args=[{\"visible\": [False, False, False, True, False] }], \n",
    "               label=\"Minimum temperature (C)\" ) \n",
    "button5 = dict(method='update', \n",
    "               args=[{\"visible\": [False, False, False, False, True] }], \n",
    "               label=\"Snow depth (mm)\" )\n",
    "button6 = dict(method='update', \n",
    "               args=[{\"visible\": [True, True, True, True, True] }], \n",
    "               label=\"All\" ) \n",
    "\n",
    "fig.update_layout(width=1200, \n",
    "                  height=700,\n",
    "                  template = \"plotly\",\n",
    "                  updatemenus = [dict(type='buttons',\n",
    "                                    buttons=[button1, button2, button3, button4, button5, button6],\n",
    "                                    x=1.05,\n",
    "                                    xanchor=\"left\",\n",
    "                                    y=1,\n",
    "                                    yanchor=\"top\")],\n",
    "                  title={\n",
    "                            'text': \"<b>California climate in 2024 to present</b>\",\n",
    "                            'font': {'size': 25},\n",
    "                            'y':0.95,\n",
    "                            'x':0.5,\n",
    "                            'xanchor': 'center',\n",
    "                            'yanchor': 'top'},\n",
    "                  xaxis_domain = [0.05, 1.0],\n",
    "                  xaxis = dict(tickvals = [i+1 for i in range(4)]),\n",
    "                  xaxis_title=\"month\",\n",
    "                  showlegend = False)\n",
    "\n",
    "\n",
    "fig.show()"
   ]
  }
 ],
 "metadata": {
  "kernelspec": {
   "display_name": "testenv",
   "language": "python",
   "name": "python3"
  },
  "language_info": {
   "codemirror_mode": {
    "name": "ipython",
    "version": 3
   },
   "file_extension": ".py",
   "mimetype": "text/x-python",
   "name": "python",
   "nbconvert_exporter": "python",
   "pygments_lexer": "ipython3",
   "version": "3.11.8"
  }
 },
 "nbformat": 4,
 "nbformat_minor": 2
}
