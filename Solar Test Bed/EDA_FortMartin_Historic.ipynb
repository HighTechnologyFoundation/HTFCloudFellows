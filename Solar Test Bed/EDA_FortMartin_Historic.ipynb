{
 "cells": [
  {
   "cell_type": "markdown",
   "metadata": {},
   "source": [
    "# Exploratary Data Analysis for Fort Martin solar site historic data\n",
    "\n",
    "## Dataset Information:\n",
    "- **Source**: Solcast Web tool kit download (Account needed)\n",
    "- **Location**:\n",
    "    - Latitude: 39.75\n",
    "    - Longitude: -79.95\n",
    "- **Time Span**: 2020/1/1 01:00:00 - 2024/8/6 00:00:00\n",
    "- **Time Interval**: 60 mins \n",
    "- **Attributes**: 'air_temp', 'albedo', 'azimuth', 'clearsky_dhi', 'clearsky_dni',\\\n",
    "       'clearsky_ghi', 'clearsky_gti', 'cloud_opacity', 'dewpoint_temp', 'dhi',\\\n",
    "       'dni', 'ghi', 'gti', 'precipitable_water', 'precipitation_rate', 'relative_humidity',\\\n",
    "       'surface_pressure', 'snow_depth', 'snow_water_equivalent', 'snow_soiling_rooftop',\\\n",
    "       'snow_soiling_ground', 'wind_direction_100m', 'wind_direction_10m',\\\n",
    "       'wind_speed_100m', 'wind_speed_10m', 'zenith', 'cape', 'snowfall_rate', 'wind_gust'"
   ]
  },
  {
   "cell_type": "code",
   "execution_count": null,
   "metadata": {},
   "outputs": [],
   "source": [
    "# import needed libraries\n",
    "import pandas as pd\n",
    "pd.set_option('display.max_columns', None)\n",
    "pd.set_option('display.max_colwidth', None)\n",
    "import matplotlib.pyplot as plt"
   ]
  },
  {
   "cell_type": "markdown",
   "metadata": {},
   "source": [
    "### First take a look at attributes documentations with Units and Description"
   ]
  },
  {
   "cell_type": "code",
   "execution_count": null,
   "metadata": {},
   "outputs": [],
   "source": [
    "# read the CSV file into pandas dataframe\n",
    "file_name = './data/Solcast_Historic_Parameters_Documentation.csv'\n",
    "SOLCAST_PARAMETERS_DOC = pd.read_csv(file_name)\n",
    "SOLCAST_PARAMETERS_DOC"
   ]
  },
  {
   "cell_type": "markdown",
   "metadata": {},
   "source": [
    "### EDA"
   ]
  },
  {
   "cell_type": "code",
   "execution_count": null,
   "metadata": {},
   "outputs": [],
   "source": [
    "# read the CSV file into pandas dataframe\n",
    "file_name = './data/Solcast_FortMartin_20200101_20240805.csv'\n",
    "FM_SOLCAST_HISTORIC = pd.read_csv(file_name)\n",
    "# reorder the columns\n",
    "FM_SOLCAST_HISTORIC = FM_SOLCAST_HISTORIC[ ['period_end'] + [ col for col in FM_SOLCAST_HISTORIC.columns if col != 'period_end' ] ]\n",
    "# drop 'period' column\n",
    "FM_SOLCAST_HISTORIC.drop('period', axis=1, inplace=True)\n",
    "# rename the column from 'period_end' to 'time'\n",
    "FM_SOLCAST_HISTORIC.rename({'period_end':'time'}, axis = 1, inplace=True)\n",
    "# convert the column 'time' to datetime type\n",
    "FM_SOLCAST_HISTORIC['time'] = pd.to_datetime(FM_SOLCAST_HISTORIC.time).dt.strftime('%Y-%m-%d %H:%M:%S')\n",
    "FM_SOLCAST_HISTORIC['time'] = pd.to_datetime(FM_SOLCAST_HISTORIC.time)\n",
    "# set column 'time' as index\n",
    "FM_SOLCAST_HISTORIC.set_index('time', inplace = True)\n",
    "\n",
    "FM_SOLCAST_HISTORIC"
   ]
  },
  {
   "cell_type": "code",
   "execution_count": null,
   "metadata": {},
   "outputs": [],
   "source": [
    "# create a list of variables units \n",
    "name_units = dict(zip(SOLCAST_PARAMETERS_DOC['Name'],\n",
    "                      SOLCAST_PARAMETERS_DOC['Units']))\n",
    "vars = FM_SOLCAST_HISTORIC.columns.to_list()\n",
    "units = []\n",
    "for var in vars:\n",
    "    for k, v in name_units.items():\n",
    "        if var == k:\n",
    "            units.append(v)\n",
    "units"
   ]
  },
  {
   "cell_type": "code",
   "execution_count": null,
   "metadata": {},
   "outputs": [],
   "source": [
    "# see the correlation between variables\n",
    "FM_SOLCAST_HISTORIC.corr()"
   ]
  },
  {
   "cell_type": "code",
   "execution_count": null,
   "metadata": {},
   "outputs": [],
   "source": [
    "# see the statistics of each variables\n",
    "FM_SOLCAST_HISTORIC.describe()"
   ]
  },
  {
   "cell_type": "code",
   "execution_count": null,
   "metadata": {},
   "outputs": [],
   "source": [
    "# plot histogram for each variable\n",
    "fig = plt.figure(figsize = (50, 100))\n",
    "\n",
    "cols = 3\n",
    "rows = len(FM_SOLCAST_HISTORIC.columns) // cols + len(FM_SOLCAST_HISTORIC.columns) % cols\n",
    "\n",
    "for n, col in enumerate(FM_SOLCAST_HISTORIC.columns):\n",
    "    ax = plt.subplot(rows, cols, n + 1)\n",
    "    FM_SOLCAST_HISTORIC[col].plot(ax = ax, kind='hist', edgecolor='black')\n",
    "    ax.xaxis.set_tick_params(labelsize=20)\n",
    "    ax.yaxis.set_tick_params(labelsize=20)\n",
    "    plt.title(f\"Histogram of {col}\", fontdict = {'fontsize' : 40})\n",
    "    plt.ylabel('')\n",
    "    \n",
    "plt.tight_layout()"
   ]
  },
  {
   "cell_type": "code",
   "execution_count": null,
   "metadata": {},
   "outputs": [],
   "source": [
    "# plot histogram for each variable\n",
    "fig = plt.figure(figsize = (50, 100))\n",
    "\n",
    "cols = 3\n",
    "rows = len(FM_SOLCAST_HISTORIC.columns) // cols + len(FM_SOLCAST_HISTORIC.columns) % cols\n",
    "\n",
    "for n, col in enumerate(FM_SOLCAST_HISTORIC.columns):\n",
    "    ax = plt.subplot(rows, cols, n + 1)\n",
    "    FM_SOLCAST_HISTORIC[col].plot(ax = ax, color = 'y')\n",
    "    ax.xaxis.set_tick_params(labelsize=20)\n",
    "    ax.yaxis.set_tick_params(labelsize=20)\n",
    "    plt.title(f\"Time series line plot of {col} [{units[n]}]\", fontdict = {'fontsize' : 40})\n",
    "    plt.xlabel('')\n",
    "     \n",
    "plt.tight_layout()"
   ]
  }
 ],
 "metadata": {
  "kernelspec": {
   "display_name": "testenv",
   "language": "python",
   "name": "python3"
  },
  "language_info": {
   "codemirror_mode": {
    "name": "ipython",
    "version": 3
   },
   "file_extension": ".py",
   "mimetype": "text/x-python",
   "name": "python",
   "nbconvert_exporter": "python",
   "pygments_lexer": "ipython3",
   "version": "3.11.8"
  }
 },
 "nbformat": 4,
 "nbformat_minor": 2
}
