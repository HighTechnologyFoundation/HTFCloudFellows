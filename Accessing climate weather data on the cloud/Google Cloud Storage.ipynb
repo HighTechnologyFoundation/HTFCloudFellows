{
 "cells": [
  {
   "cell_type": "markdown",
   "id": "c3db2e73",
   "metadata": {},
   "source": [
    "## .grib2  .grb2  .grib file"
   ]
  },
  {
   "cell_type": "code",
   "execution_count": null,
   "id": "6d30e2da",
   "metadata": {},
   "outputs": [],
   "source": [
    "#run following code to get authenticated to google cloud\n",
    "#!gcloud auth application-default login"
   ]
  },
  {
   "cell_type": "code",
   "execution_count": null,
   "id": "029f5ce7",
   "metadata": {},
   "outputs": [],
   "source": [
    "import xarray as xr\n",
    "import fsspec\n",
    "Grib_URI = \"simplecache::gs://global-forecast-system/sst.20220627/rtgssthr_grb_0.083.grib2\"\n",
    "Remote_file = fsspec.open_local(Grib_URI, \n",
    "                         gcs = {'anon' : True}, \n",
    "                         filecache = {'cache_storage':'/tmp/files'})\n",
    "\n",
    "GFS_Remote_Grib_ds = xr.open_dataset(Remote_file, engine=\"cfgrib\")\n",
    "\n",
    "GFS_Remote_Grib_ds"
   ]
  },
  {
   "cell_type": "markdown",
   "id": "6c59fda1",
   "metadata": {},
   "source": [
    "## .nc .h5 file "
   ]
  },
  {
   "cell_type": "code",
   "execution_count": null,
   "id": "09d332b8",
   "metadata": {},
   "outputs": [],
   "source": [
    "import gcsfs\n",
    "\n",
    "fs = gcsfs.GCSFileSystem(anon=True)\n",
    "\n",
    "NSRDB_GCS_URI = \"gs://nsrdb-netcdf/philippines/philippines_2017.h5\"\n",
    "\n",
    "ds = xr.open_dataset(fs.open(NSRDB_GCS_URI), backend_kwargs={\"phony_dims\": \"sort\"}, engine='h5netcdf')\n",
    "ds"
   ]
  },
  {
   "cell_type": "markdown",
   "id": "1bfef2a2",
   "metadata": {},
   "source": [
    "### .csv file"
   ]
  },
  {
   "cell_type": "code",
   "execution_count": null,
   "id": "9aa5e634",
   "metadata": {},
   "outputs": [],
   "source": [
    "NclimGrid_csv_GCS_URI = \"gs://noaa-ncei-nclimgrid-daily/v1-0-0/averages/2023/prcp-202306-cty-scaled.csv\"\n",
    "\n",
    "import pandas as pd\n",
    "\n",
    "NclimGrid_csv_GCS_data = pd.read_csv(NclimGrid_csv_GCS_URI)\n",
    "NclimGrid_csv_GCS_data"
   ]
  }
 ],
 "metadata": {
  "kernelspec": {
   "display_name": "testenv",
   "language": "python",
   "name": "testenv"
  },
  "language_info": {
   "codemirror_mode": {
    "name": "ipython",
    "version": 3
   },
   "file_extension": ".py",
   "mimetype": "text/x-python",
   "name": "python",
   "nbconvert_exporter": "python",
   "pygments_lexer": "ipython3",
   "version": "3.11.8"
  }
 },
 "nbformat": 4,
 "nbformat_minor": 5
}
