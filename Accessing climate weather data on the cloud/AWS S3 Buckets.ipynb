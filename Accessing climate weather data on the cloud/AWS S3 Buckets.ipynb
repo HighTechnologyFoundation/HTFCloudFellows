{
 "cells": [
  {
   "cell_type": "markdown",
   "id": "20f57fed",
   "metadata": {},
   "source": [
    "### Accessing different climate weather data file through AWS S3 Bucket.\n",
    "  - grib\n",
    "  - netcdf\n",
    "  - csv\n",
    "\n",
    "Reference:https://climatedataguide.ucar.edu/climate-tools/common-climate-data-formats-overview\n",
    "\n",
    "### DataSets on AWS in this notebook:\n",
    "  - Global Historical Climatology Network (GHCN) https://registry.opendata.aws/noaa-ghcn/\n",
    "  - GOES-16 & GOES 17  & GOES 18 https://registry.opendata.aws/noaa-goes/\n",
    "  - Climate Forecast System (CFS) https://registry.opendata.aws/noaa-cfs/\n",
    "  - Global Forecast System (GFS) https://registry.opendata.aws/noaa-gfs-bdp-pds/\n",
    "  - NREL National Solar Radiation Database (NSRDB) https://registry.opendata.aws/nrel-pds-nsrdb/\n",
    "  \n",
    "Whenever people mention dataset on AWS, retrieve the bucket name and put it after the following URL:\n",
    "https://s3.console.aws.amazon.com/s3/buckets/<br> \n",
    "Take this notebook for example, if we are interested in the \"noaa-gfs-bdp-pds\" bucket,<br> the URL wiil be: https://s3.console.aws.amazon.com/s3/buckets/noaa-gfs-bdp-pds<br> Then you can see the objects details in the bucket, especially S3 URI. "
   ]
  },
  {
   "cell_type": "markdown",
   "id": "69c6f9e7",
   "metadata": {},
   "source": [
    "## .grib2  .grb2  .grib file\n",
    "\n",
    "This is the only way I found to read grib file in S3 Bucket using engine `cfgrib` under `xarray`.......\n",
    "\n",
    "Reference Documentation: https://stackoverflow.com/questions/66229140/xarray-read-remote-grib-file-on-s3-using-cfgrib"
   ]
  },
  {
   "cell_type": "code",
   "execution_count": null,
   "id": "8ee49f8e",
   "metadata": {},
   "outputs": [],
   "source": [
    "import xarray as xr\n",
    "import fsspec\n",
    "import json\n",
    "import s3fs \n",
    "\n",
    "# add \"simplecache::\" to the S3 URI for grib file\n",
    "GFS_Remote_Grib_S3_URI = \"simplecache::s3://noaa-gfs-bdp-pds/sst.20220627/rtgssthr_grb_0.083.grib2\"\n",
    "GFS_My_Grib_S3_URI = \"simplecache::s3://justindemo123/rtgssthr_grb_0.083.grib2\"\n",
    "CFS_Grib_S3_URI = \"simplecache::s3://noaa-cfs-pds/cdas.20240308/cdas1.t00z.sfluxgrbl02.grib2\""
   ]
  },
  {
   "cell_type": "code",
   "execution_count": null,
   "id": "6705a15e",
   "metadata": {},
   "outputs": [],
   "source": [
    "Remote_file = fsspec.open_local(GFS_Remote_Grib_S3_URI, \n",
    "                         s3 = {'anon' : True}, \n",
    "                         filecache = {'cache_storage':'/tmp/files'})\n",
    "\n",
    "GFS_Remote_Grib_ds = xr.open_dataset(Remote_file, engine=\"cfgrib\")\n",
    "\n",
    "GFS_Remote_Grib_ds"
   ]
  },
  {
   "cell_type": "code",
   "execution_count": null,
   "id": "1a31913a",
   "metadata": {},
   "outputs": [],
   "source": [
    "# need access key and secret access key to access data stored in your own S3 Bucket\n",
    "My_file = fsspec.open_local(GFS_My_Grib_S3_URI, \n",
    "                            s3 = {\"key\": {your access key}, \n",
    "                                  \"secret\" : {your secret access key}}, \n",
    "                            filecache = {'cache_storage':'/tmp/files'})\n",
    "\n",
    "GFS_My_Grib_ds = xr.open_dataset(My_file, engine=\"cfgrib\")\n",
    "\n",
    "GFS_My_Grib_ds"
   ]
  },
  {
   "cell_type": "code",
   "execution_count": null,
   "id": "2c4a0f2c",
   "metadata": {},
   "outputs": [],
   "source": [
    "CFS_file = fsspec.open_local(CFS_Grib_S3_URI, \n",
    "                         s3 = {'anon' : True}, \n",
    "                         filecache = {'cache_storage':'/tmp/files'})\n",
    "\n",
    "CFS_Grib_ds = xr.open_dataset(CFS_file, filter_by_keys={'stepType': 'avg', 'typeOfLevel': 'surface'}, engine=\"cfgrib\")\n",
    "\n",
    "CFS_Grib_ds"
   ]
  },
  {
   "cell_type": "markdown",
   "id": "67600d68",
   "metadata": {},
   "source": [
    "## .nc .h5 file "
   ]
  },
  {
   "cell_type": "code",
   "execution_count": null,
   "id": "c868394a",
   "metadata": {},
   "outputs": [],
   "source": [
    "GFS_NC_S3_URI = \"s3://noaa-gfs-bdp-pds/enkfgdas.20210325/12/atmos/mem073/gdas.t12z.sfcf003.nc\"\n",
    "NSRDB_H5_S3_URI = \"s3://nrel-pds-nsrdb/philippines/philippines_2017.h5\"\n",
    "GOES_NC_S3_URI = 's3://noaa-goes18/SEIS-L1b-EHIS/2024/003/02/OR_SEIS-L1b-EHIS_G18_s20240030204360_e20240030209350_c20240030210374.nc'"
   ]
  },
  {
   "cell_type": "code",
   "execution_count": null,
   "id": "69642f3d",
   "metadata": {},
   "outputs": [],
   "source": [
    "fs = s3fs.S3FileSystem(anon=True)\n",
    "\n",
    "with fs.open(GFS_NC_S3_URI) as fileObj:\n",
    "    GFS_nc_ds = xr.open_dataset(fileObj, engine='h5netcdf')\n",
    "\n",
    "GFS_nc_ds"
   ]
  },
  {
   "cell_type": "code",
   "execution_count": null,
   "id": "5c9389f6",
   "metadata": {},
   "outputs": [],
   "source": [
    "with fs.open(NSRDB_H5_S3_URI) as fileObj:\n",
    "    NSRDB_h5_ds = xr.open_dataset(fileObj, backend_kwargs={\"phony_dims\": \"sort\"}, engine='h5netcdf')\n",
    "\n",
    "NSRDB_h5_ds"
   ]
  },
  {
   "cell_type": "code",
   "execution_count": null,
   "id": "11410019",
   "metadata": {},
   "outputs": [],
   "source": [
    "with fs.open(GOES_NC_S3_URI) as fileObj:\n",
    "    goes_nc_ds = xr.open_dataset(fileObj, engine='h5netcdf')\n",
    "\n",
    "goes_nc_ds"
   ]
  },
  {
   "cell_type": "markdown",
   "id": "b7895742",
   "metadata": {},
   "source": [
    "## .csv file"
   ]
  },
  {
   "cell_type": "code",
   "execution_count": null,
   "id": "58536194",
   "metadata": {},
   "outputs": [],
   "source": [
    "GHCN_csv_S3_URI = \"s3://noaa-ghcn-pds/csv/by_year/2024.csv\""
   ]
  },
  {
   "cell_type": "code",
   "execution_count": null,
   "id": "86f6b674",
   "metadata": {},
   "outputs": [],
   "source": [
    "import pandas as pd\n",
    "\n",
    "GHCN_csv_S3_data = pd.read_csv(GHCN_csv_S3_URI)\n",
    "GHCN_csv_S3_data"
   ]
  }
 ],
 "metadata": {
  "kernelspec": {
   "display_name": "testenv",
   "language": "python",
   "name": "python3"
  },
  "language_info": {
   "codemirror_mode": {
    "name": "ipython",
    "version": 3
   },
   "file_extension": ".py",
   "mimetype": "text/x-python",
   "name": "python",
   "nbconvert_exporter": "python",
   "pygments_lexer": "ipython3",
   "version": "3.11.8"
  }
 },
 "nbformat": 4,
 "nbformat_minor": 5
}
