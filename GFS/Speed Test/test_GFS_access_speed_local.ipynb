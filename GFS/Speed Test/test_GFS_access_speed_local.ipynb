{
 "cells": [
  {
   "cell_type": "markdown",
   "metadata": {},
   "source": [
    "# Test the speed of reading GFS data with 0.25 and 1.00 resolution degree into `Xarray dataset` from four sources: `NOMADS server` , `Azure Blob Storage` , `AWS S3 Bucket`, and `Google Cloud Storage` in local environment."
   ]
  },
  {
   "cell_type": "code",
   "execution_count": null,
   "metadata": {},
   "outputs": [],
   "source": [
    "import xarray as xr\n",
    "import urllib.request\n",
    "from datetime import datetime, timedelta"
   ]
  },
  {
   "cell_type": "code",
   "execution_count": null,
   "metadata": {},
   "outputs": [],
   "source": [
    "yesterday = datetime.now() - timedelta(1)\n",
    "yesterday = yesterday.strftime(\"%Y%m%d\")\n",
    "\n",
    "yesterday"
   ]
  },
  {
   "cell_type": "markdown",
   "metadata": {},
   "source": [
    "### 0.25 resolution degree = 515 MB / file \n",
    "- NOMADS: 1m 10.2s\n",
    "- Azure Blob Storage: 51.8s\n",
    "- AWS S3 Bucket: 43.5s\n",
    "- Google Cloud Storage: 44.3s"
   ]
  },
  {
   "cell_type": "code",
   "execution_count": null,
   "metadata": {},
   "outputs": [],
   "source": [
    "URL = f\"https://nomads.ncep.noaa.gov/pub/data/nccf/com/gfs/prod/gfs.{yesterday}/12/atmos/gfs.t12z.pgrb2.0p25.f108\"\n",
    "filename, _ = urllib.request.urlretrieve(URL)\n",
    "\n",
    "ds = xr.open_dataset(\n",
    "        filename,\n",
    "        engine=\"cfgrib\",\n",
    "        filter_by_keys={'typeOfLevel': 'pressureFromGroundLayer'},\n",
    "        backend_kwargs={\"errors\": \"ignore\"}\n",
    ")\n",
    "\n",
    "ds"
   ]
  },
  {
   "cell_type": "code",
   "execution_count": null,
   "metadata": {},
   "outputs": [],
   "source": [
    "URL = f\"https://noaagfs.blob.core.windows.net/gfs/gfs.{yesterday}/12/atmos/gfs.t12z.pgrb2.0p25.f108\"\n",
    "\n",
    "filename, _ = urllib.request.urlretrieve(URL)\n",
    "ds = xr.open_dataset(\n",
    "        filename,\n",
    "        engine=\"cfgrib\",\n",
    "        filter_by_keys={'typeOfLevel': 'pressureFromGroundLayer'},\n",
    "        backend_kwargs={\"errors\": \"ignore\"}\n",
    ")\n",
    "\n",
    "ds"
   ]
  },
  {
   "cell_type": "code",
   "execution_count": null,
   "metadata": {},
   "outputs": [],
   "source": [
    "URL = f\"https://noaa-gfs-bdp-pds.s3.amazonaws.com/gfs.{yesterday}/12/atmos/gfs.t12z.pgrb2.0p25.f108\"\n",
    "\n",
    "filename, _ = urllib.request.urlretrieve(URL)\n",
    "ds = xr.open_dataset(\n",
    "        filename,\n",
    "        engine=\"cfgrib\",\n",
    "        filter_by_keys={'typeOfLevel': 'pressureFromGroundLayer'},\n",
    "        backend_kwargs={\"errors\": \"ignore\"}\n",
    ")\n",
    "\n",
    "ds"
   ]
  },
  {
   "cell_type": "code",
   "execution_count": null,
   "metadata": {},
   "outputs": [],
   "source": [
    "URL = f\"https://storage.googleapis.com/global-forecast-system/gfs.{yesterday}/12/atmos/gfs.t12z.pgrb2.0p25.f108\"\n",
    "\n",
    "filename, _ = urllib.request.urlretrieve(URL)\n",
    "ds = xr.open_dataset(\n",
    "        filename,\n",
    "        engine=\"cfgrib\",\n",
    "        filter_by_keys={'typeOfLevel': 'pressureFromGroundLayer'},\n",
    "        backend_kwargs={\"errors\": \"ignore\"}\n",
    ")\n",
    "\n",
    "ds"
   ]
  },
  {
   "cell_type": "markdown",
   "metadata": {},
   "source": [
    "### 1.00 resolution degree = 42.5 MB / file \n",
    "- NOMADS: 8.3s\n",
    "- Azure Blob Storage: 5s\n",
    "- AWS S3 Bucket: 4.2s\n",
    "- Google Cloud Storage: 4.4s"
   ]
  },
  {
   "cell_type": "code",
   "execution_count": null,
   "metadata": {},
   "outputs": [],
   "source": [
    "URL = f\"https://nomads.ncep.noaa.gov/pub/data/nccf/com/gfs/prod/gfs.{yesterday}/12/atmos/gfs.t12z.pgrb2.1p00.f108\"\n",
    "\n",
    "filename, _ = urllib.request.urlretrieve(URL)\n",
    "ds = xr.open_dataset(\n",
    "        filename,\n",
    "        engine=\"cfgrib\",\n",
    "        filter_by_keys={'typeOfLevel': 'pressureFromGroundLayer'},\n",
    "        backend_kwargs={\"errors\": \"ignore\"}\n",
    ")\n",
    "\n",
    "ds"
   ]
  },
  {
   "cell_type": "code",
   "execution_count": null,
   "metadata": {},
   "outputs": [],
   "source": [
    "URL = f'https://noaagfs.blob.core.windows.net/gfs/gfs.{yesterday}/12/atmos/gfs.t12z.pgrb2.1p00.f108'\n",
    "\n",
    "filename, _ = urllib.request.urlretrieve(URL)\n",
    "ds = xr.open_dataset(\n",
    "        filename,\n",
    "        engine=\"cfgrib\",\n",
    "        filter_by_keys={'typeOfLevel': 'pressureFromGroundLayer'},\n",
    "        backend_kwargs={\"errors\": \"ignore\"}\n",
    ")\n",
    "\n",
    "ds"
   ]
  },
  {
   "cell_type": "code",
   "execution_count": null,
   "metadata": {},
   "outputs": [],
   "source": [
    "URL = f\"https://noaa-gfs-bdp-pds.s3.amazonaws.com/gfs.{yesterday}/12/atmos/gfs.t12z.pgrb2.1p00.f108\"\n",
    "\n",
    "filename, _ = urllib.request.urlretrieve(URL)\n",
    "ds = xr.open_dataset(\n",
    "        filename,\n",
    "        engine=\"cfgrib\",\n",
    "        filter_by_keys={'typeOfLevel': 'pressureFromGroundLayer'},\n",
    "        backend_kwargs={\"errors\": \"ignore\"}\n",
    ")\n",
    "\n",
    "ds"
   ]
  },
  {
   "cell_type": "code",
   "execution_count": null,
   "metadata": {},
   "outputs": [],
   "source": [
    "URL = f\"https://storage.googleapis.com/global-forecast-system/gfs.{yesterday}/12/atmos/gfs.t12z.pgrb2.1p00.f108\"\n",
    "\n",
    "filename, _ = urllib.request.urlretrieve(URL)\n",
    "ds = xr.open_dataset(\n",
    "        filename,\n",
    "        engine=\"cfgrib\",\n",
    "        filter_by_keys={'typeOfLevel': 'pressureFromGroundLayer'},\n",
    "        backend_kwargs={\"errors\": \"ignore\"}\n",
    ")\n",
    "\n",
    "ds"
   ]
  },
  {
   "cell_type": "markdown",
   "metadata": {},
   "source": [
    "### Concatenate 25 GFS file with 1.00 resolution degree (step: 0 - 72 with interval 3)\n",
    "\n",
    "- NOMADS: 2m 27s\n",
    "- Azure Blob Storage: 2m 1.8s\n",
    "- AWS S3 Bucket: 1m 55.3s\n",
    "- Google Cloud Storage: 1m 50s"
   ]
  },
  {
   "cell_type": "code",
   "execution_count": null,
   "metadata": {},
   "outputs": [],
   "source": [
    "import os\n",
    "import warnings\n",
    "warnings.filterwarnings('ignore')\n",
    "\n",
    "def file_path(source: str, cycle_runtime: int, forecast_hour: int, year: int, month: int, day: int, resolution_degree: float) -> str:\n",
    "    \n",
    "    if source == 'nomad':\n",
    "        prefix_path = \"https://nomads.ncep.noaa.gov/pub/data/nccf/com/gfs/prod/\"\n",
    "    elif source == 'az':\n",
    "        prefix_path = \"https://noaagfs.blob.core.windows.net/gfs/\"\n",
    "    elif source == 'aws':\n",
    "        prefix_path = \"https://noaa-gfs-bdp-pds.s3.amazonaws.com/\"\n",
    "    elif source == 'gcs':\n",
    "        prefix_path = \"https://storage.googleapis.com/global-forecast-system/\"\n",
    "\n",
    "    product_name = \"gfs\"\n",
    "    resolution_split = str(resolution_degree).split(\".\")\n",
    "\n",
    "    file_path = (\n",
    "        f\"{product_name}.{year}{month:>02}{day:>02}/\"\n",
    "        f\"{cycle_runtime:>02}/atmos/{product_name}.t{cycle_runtime:>02}z.\"\n",
    "        f\"pgrb2.{resolution_split[0]}p{resolution_split[1]:<02}.f{forecast_hour:>03}\"\n",
    "    )\n",
    "\n",
    "    whole_path = os.path.join(prefix_path, file_path)\n",
    "\n",
    "    return whole_path"
   ]
  },
  {
   "cell_type": "code",
   "execution_count": null,
   "metadata": {},
   "outputs": [],
   "source": [
    "ds_list = []\n",
    "for i in range(0, 72 + 1, 3):\n",
    "    URL = file_path(source='nomad', cycle_runtime=12, forecast_hour=i, year=2024, month=8, day=5, resolution_degree=1.)\n",
    "    filename, _ = urllib.request.urlretrieve(URL)\n",
    "    ds = xr.open_dataset(\n",
    "         filename,\n",
    "         engine=\"cfgrib\",\n",
    "         filter_by_keys={'typeOfLevel': 'pressureFromGroundLayer'},\n",
    "         backend_kwargs={\"errors\": \"ignore\"}\n",
    "    )\n",
    "    ds_list.append(ds)\n",
    "\n",
    "ds_merged = xr.concat(ds_list,  dim='step')\n",
    "\n",
    "ds_merged"
   ]
  },
  {
   "cell_type": "code",
   "execution_count": null,
   "metadata": {},
   "outputs": [],
   "source": [
    "ds_list = []\n",
    "for i in range(0, 72 + 1, 3):\n",
    "    URL = file_path(source='az', cycle_runtime=12, forecast_hour=i, year=2024, month=8, day=5, resolution_degree=1.)\n",
    "    filename, _ = urllib.request.urlretrieve(URL)\n",
    "    ds = xr.open_dataset(\n",
    "         filename,\n",
    "         engine=\"cfgrib\",\n",
    "         filter_by_keys={'typeOfLevel': 'pressureFromGroundLayer'},\n",
    "         backend_kwargs={\"errors\": \"ignore\"}\n",
    "    )\n",
    "    ds_list.append(ds)\n",
    "\n",
    "ds_merged = xr.concat(ds_list,  dim='step')\n",
    "\n",
    "ds_merged"
   ]
  },
  {
   "cell_type": "code",
   "execution_count": null,
   "metadata": {},
   "outputs": [],
   "source": [
    "ds_list = []\n",
    "for i in range(0, 72 + 1, 3):\n",
    "    URL = file_path(source='aws', cycle_runtime=12, forecast_hour=i, year=2024, month=8, day=5, resolution_degree=1.)\n",
    "    filename, _ = urllib.request.urlretrieve(URL)\n",
    "    ds = xr.open_dataset(\n",
    "         filename,\n",
    "         engine=\"cfgrib\",\n",
    "         filter_by_keys={'typeOfLevel': 'pressureFromGroundLayer'},\n",
    "         backend_kwargs={\"errors\": \"ignore\"}\n",
    "    )\n",
    "    ds_list.append(ds)\n",
    "\n",
    "ds_merged = xr.concat(ds_list,  dim='step')\n",
    "\n",
    "ds_merged"
   ]
  },
  {
   "cell_type": "code",
   "execution_count": null,
   "metadata": {},
   "outputs": [],
   "source": [
    "ds_list = []\n",
    "for i in range(0, 72 + 1, 3):\n",
    "    URL = file_path(source='gcs', cycle_runtime=12, forecast_hour=i, year=2024, month=8, day=5, resolution_degree=1.)\n",
    "    filename, _ = urllib.request.urlretrieve(URL)\n",
    "    ds = xr.open_dataset(\n",
    "         filename,\n",
    "         engine=\"cfgrib\",\n",
    "         filter_by_keys={'typeOfLevel': 'pressureFromGroundLayer'},\n",
    "         backend_kwargs={\"errors\": \"ignore\"}\n",
    "    )\n",
    "    ds_list.append(ds)\n",
    "\n",
    "ds_merged = xr.concat(ds_list,  dim='step')\n",
    "\n",
    "ds_merged"
   ]
  }
 ],
 "metadata": {
  "kernelspec": {
   "display_name": "testenv",
   "language": "python",
   "name": "python3"
  },
  "language_info": {
   "codemirror_mode": {
    "name": "ipython",
    "version": 3
   },
   "file_extension": ".py",
   "mimetype": "text/x-python",
   "name": "python",
   "nbconvert_exporter": "python",
   "pygments_lexer": "ipython3",
   "version": "3.11.8"
  }
 },
 "nbformat": 4,
 "nbformat_minor": 2
}
