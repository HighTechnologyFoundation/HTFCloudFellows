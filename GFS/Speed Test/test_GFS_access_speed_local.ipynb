{
 "cells": [
  {
   "cell_type": "markdown",
   "metadata": {},
   "source": [
    "# Test the speed of reading GFS data with 0.25 and 1.00 resolution degree into `Xarray dataset` from four sources: `NOMADS server` , `Azure Blob Storage` , `AWS S3 Bucket`, and `Google Cloud Storage` in local environment."
   ]
  },
  {
   "cell_type": "code",
   "execution_count": 1,
   "metadata": {},
   "outputs": [],
   "source": [
    "import xarray as xr\n",
    "import urllib.request\n",
    "from datetime import datetime, timedelta"
   ]
  },
  {
   "cell_type": "code",
   "execution_count": 2,
   "metadata": {},
   "outputs": [
    {
     "data": {
      "text/plain": [
       "'20240805'"
      ]
     },
     "execution_count": 2,
     "metadata": {},
     "output_type": "execute_result"
    }
   ],
   "source": [
    "yesterday = datetime.now() - timedelta(1)\n",
    "yesterday = yesterday.strftime(\"%Y%m%d\")\n",
    "\n",
    "yesterday"
   ]
  },
  {
   "cell_type": "markdown",
   "metadata": {},
   "source": [
    "### 0.25 resolution degree = 515 MB / file \n",
    "- NOMADS\n",
    "- Azure Blob Storage\n",
    "- AWS S3 Bucket\n",
    "- Google Cloud Storage"
   ]
  },
  {
   "cell_type": "code",
   "execution_count": 3,
   "metadata": {},
   "outputs": [
    {
     "name": "stdout",
     "output_type": "stream",
     "text": [
      "CPU times: total: 2.45 s\n",
      "Wall time: 1min 6s\n"
     ]
    }
   ],
   "source": [
    "%%time\n",
    "URL = f\"https://nomads.ncep.noaa.gov/pub/data/nccf/com/gfs/prod/gfs.{yesterday}/12/atmos/gfs.t12z.pgrb2.0p25.f108\"\n",
    "filename, _ = urllib.request.urlretrieve(URL)\n",
    "\n",
    "ds = xr.open_dataset(\n",
    "        filename,\n",
    "        engine=\"cfgrib\",\n",
    "        filter_by_keys={'typeOfLevel': 'pressureFromGroundLayer'},\n",
    "        backend_kwargs={\"errors\": \"ignore\"}\n",
    ")"
   ]
  },
  {
   "cell_type": "code",
   "execution_count": 4,
   "metadata": {},
   "outputs": [
    {
     "name": "stdout",
     "output_type": "stream",
     "text": [
      "CPU times: total: 1.72 s\n",
      "Wall time: 50.2 s\n"
     ]
    }
   ],
   "source": [
    "%%time\n",
    "URL = f\"https://noaagfs.blob.core.windows.net/gfs/gfs.{yesterday}/12/atmos/gfs.t12z.pgrb2.0p25.f108\"\n",
    "\n",
    "filename, _ = urllib.request.urlretrieve(URL)\n",
    "ds = xr.open_dataset(\n",
    "        filename,\n",
    "        engine=\"cfgrib\",\n",
    "        filter_by_keys={'typeOfLevel': 'pressureFromGroundLayer'},\n",
    "        backend_kwargs={\"errors\": \"ignore\"}\n",
    ")"
   ]
  },
  {
   "cell_type": "code",
   "execution_count": 5,
   "metadata": {},
   "outputs": [
    {
     "name": "stdout",
     "output_type": "stream",
     "text": [
      "CPU times: total: 1.88 s\n",
      "Wall time: 43.2 s\n"
     ]
    }
   ],
   "source": [
    "%%time\n",
    "URL = f\"https://noaa-gfs-bdp-pds.s3.amazonaws.com/gfs.{yesterday}/12/atmos/gfs.t12z.pgrb2.0p25.f108\"\n",
    "\n",
    "filename, _ = urllib.request.urlretrieve(URL)\n",
    "ds = xr.open_dataset(\n",
    "        filename,\n",
    "        engine=\"cfgrib\",\n",
    "        filter_by_keys={'typeOfLevel': 'pressureFromGroundLayer'},\n",
    "        backend_kwargs={\"errors\": \"ignore\"}\n",
    ")"
   ]
  },
  {
   "cell_type": "code",
   "execution_count": 6,
   "metadata": {},
   "outputs": [
    {
     "name": "stdout",
     "output_type": "stream",
     "text": [
      "CPU times: total: 1.48 s\n",
      "Wall time: 44.2 s\n"
     ]
    }
   ],
   "source": [
    "%%time\n",
    "URL = f\"https://storage.googleapis.com/global-forecast-system/gfs.{yesterday}/12/atmos/gfs.t12z.pgrb2.0p25.f108\"\n",
    "\n",
    "filename, _ = urllib.request.urlretrieve(URL)\n",
    "ds = xr.open_dataset(\n",
    "        filename,\n",
    "        engine=\"cfgrib\",\n",
    "        filter_by_keys={'typeOfLevel': 'pressureFromGroundLayer'},\n",
    "        backend_kwargs={\"errors\": \"ignore\"}\n",
    ")"
   ]
  },
  {
   "cell_type": "markdown",
   "metadata": {},
   "source": [
    "### 1.00 resolution degree = 42.5 MB / file \n",
    "- NOMADS\n",
    "- Azure Blob Storage\n",
    "- AWS S3 Bucket\n",
    "- Google Cloud Storage"
   ]
  },
  {
   "cell_type": "code",
   "execution_count": 7,
   "metadata": {},
   "outputs": [
    {
     "name": "stdout",
     "output_type": "stream",
     "text": [
      "CPU times: total: 406 ms\n",
      "Wall time: 6.34 s\n"
     ]
    }
   ],
   "source": [
    "%%time\n",
    "URL = f\"https://nomads.ncep.noaa.gov/pub/data/nccf/com/gfs/prod/gfs.{yesterday}/12/atmos/gfs.t12z.pgrb2.1p00.f108\"\n",
    "\n",
    "filename, _ = urllib.request.urlretrieve(URL)\n",
    "ds = xr.open_dataset(\n",
    "        filename,\n",
    "        engine=\"cfgrib\",\n",
    "        filter_by_keys={'typeOfLevel': 'pressureFromGroundLayer'},\n",
    "        backend_kwargs={\"errors\": \"ignore\"}\n",
    ")"
   ]
  },
  {
   "cell_type": "code",
   "execution_count": 8,
   "metadata": {},
   "outputs": [
    {
     "name": "stdout",
     "output_type": "stream",
     "text": [
      "CPU times: total: 312 ms\n",
      "Wall time: 5.07 s\n"
     ]
    }
   ],
   "source": [
    "%%time\n",
    "URL = f'https://noaagfs.blob.core.windows.net/gfs/gfs.{yesterday}/12/atmos/gfs.t12z.pgrb2.1p00.f108'\n",
    "\n",
    "filename, _ = urllib.request.urlretrieve(URL)\n",
    "ds = xr.open_dataset(\n",
    "        filename,\n",
    "        engine=\"cfgrib\",\n",
    "        filter_by_keys={'typeOfLevel': 'pressureFromGroundLayer'},\n",
    "        backend_kwargs={\"errors\": \"ignore\"}\n",
    ")"
   ]
  },
  {
   "cell_type": "code",
   "execution_count": 9,
   "metadata": {},
   "outputs": [
    {
     "name": "stdout",
     "output_type": "stream",
     "text": [
      "CPU times: total: 266 ms\n",
      "Wall time: 4.34 s\n"
     ]
    }
   ],
   "source": [
    "%%time\n",
    "URL = f\"https://noaa-gfs-bdp-pds.s3.amazonaws.com/gfs.{yesterday}/12/atmos/gfs.t12z.pgrb2.1p00.f108\"\n",
    "\n",
    "filename, _ = urllib.request.urlretrieve(URL)\n",
    "ds = xr.open_dataset(\n",
    "        filename,\n",
    "        engine=\"cfgrib\",\n",
    "        filter_by_keys={'typeOfLevel': 'pressureFromGroundLayer'},\n",
    "        backend_kwargs={\"errors\": \"ignore\"}\n",
    ")"
   ]
  },
  {
   "cell_type": "code",
   "execution_count": 10,
   "metadata": {},
   "outputs": [
    {
     "name": "stdout",
     "output_type": "stream",
     "text": [
      "CPU times: total: 219 ms\n",
      "Wall time: 4.31 s\n"
     ]
    }
   ],
   "source": [
    "%%time\n",
    "URL = f\"https://storage.googleapis.com/global-forecast-system/gfs.{yesterday}/12/atmos/gfs.t12z.pgrb2.1p00.f108\"\n",
    "\n",
    "filename, _ = urllib.request.urlretrieve(URL)\n",
    "ds = xr.open_dataset(\n",
    "        filename,\n",
    "        engine=\"cfgrib\",\n",
    "        filter_by_keys={'typeOfLevel': 'pressureFromGroundLayer'},\n",
    "        backend_kwargs={\"errors\": \"ignore\"}\n",
    ")"
   ]
  },
  {
   "cell_type": "markdown",
   "metadata": {},
   "source": [
    "### Concatenate 25 GFS file with 1.00 resolution degree (step: 0 - 72 with interval 3)\n",
    "\n",
    "- NOMADS\n",
    "- Azure Blob Storage\n",
    "- AWS S3 Bucket\n",
    "- Google Cloud Storage"
   ]
  },
  {
   "cell_type": "code",
   "execution_count": 21,
   "metadata": {},
   "outputs": [],
   "source": [
    "import os\n",
    "import warnings\n",
    "warnings.filterwarnings('ignore')\n",
    "\n",
    "def file_path(source: str, cycle_runtime: int, forecast_hour: int, year: int, month: int, day: int, resolution_degree: float) -> str:\n",
    "    \n",
    "    if source == 'nomads':\n",
    "        prefix_path = \"https://nomads.ncep.noaa.gov/pub/data/nccf/com/gfs/prod/\"\n",
    "    elif source == 'az':\n",
    "        prefix_path = \"https://noaagfs.blob.core.windows.net/gfs/\"\n",
    "    elif source == 'aws':\n",
    "        prefix_path = \"https://noaa-gfs-bdp-pds.s3.amazonaws.com/\"\n",
    "    elif source == 'gcs':\n",
    "        prefix_path = \"https://storage.googleapis.com/global-forecast-system/\"\n",
    "\n",
    "    assert source in ['nomads', 'az', 'aws', 'gcs'], \"input source must be one of ['nomads', 'az', 'aws', 'gcs']\"\n",
    "\n",
    "    product_name = \"gfs\"\n",
    "    resolution_split = str(resolution_degree).split(\".\")\n",
    "\n",
    "    file_path = (\n",
    "        f\"{product_name}.{year}{month:>02}{day:>02}/\"\n",
    "        f\"{cycle_runtime:>02}/atmos/{product_name}.t{cycle_runtime:>02}z.\"\n",
    "        f\"pgrb2.{resolution_split[0]}p{resolution_split[1]:<02}.f{forecast_hour:>03}\"\n",
    "    )\n",
    "\n",
    "    whole_path = os.path.join(prefix_path, file_path)\n",
    "\n",
    "    return whole_path"
   ]
  },
  {
   "cell_type": "code",
   "execution_count": 12,
   "metadata": {},
   "outputs": [
    {
     "name": "stdout",
     "output_type": "stream",
     "text": [
      "CPU times: total: 7.12 s\n",
      "Wall time: 2min 28s\n"
     ]
    }
   ],
   "source": [
    "%%time\n",
    "ds_list = []\n",
    "for i in range(0, 72 + 1, 3):\n",
    "    URL = file_path(source='nomads', cycle_runtime=12, forecast_hour=i, year=2024, month=8, day=5, resolution_degree=1.)\n",
    "    filename, _ = urllib.request.urlretrieve(URL)\n",
    "    ds = xr.open_dataset(\n",
    "         filename,\n",
    "         engine=\"cfgrib\",\n",
    "         filter_by_keys={'typeOfLevel': 'pressureFromGroundLayer'},\n",
    "         backend_kwargs={\"errors\": \"ignore\"}\n",
    "    )\n",
    "    ds_list.append(ds)\n",
    "\n",
    "ds_merged = xr.concat(ds_list,  dim='step')"
   ]
  },
  {
   "cell_type": "code",
   "execution_count": 13,
   "metadata": {},
   "outputs": [
    {
     "name": "stdout",
     "output_type": "stream",
     "text": [
      "CPU times: total: 10.1 s\n",
      "Wall time: 2min 2s\n"
     ]
    }
   ],
   "source": [
    "%%time\n",
    "ds_list = []\n",
    "for i in range(0, 72 + 1, 3):\n",
    "    URL = file_path(source='az', cycle_runtime=12, forecast_hour=i, year=2024, month=8, day=5, resolution_degree=1.)\n",
    "    filename, _ = urllib.request.urlretrieve(URL)\n",
    "    ds = xr.open_dataset(\n",
    "         filename,\n",
    "         engine=\"cfgrib\",\n",
    "         filter_by_keys={'typeOfLevel': 'pressureFromGroundLayer'},\n",
    "         backend_kwargs={\"errors\": \"ignore\"}\n",
    "    )\n",
    "    ds_list.append(ds)\n",
    "\n",
    "ds_merged = xr.concat(ds_list,  dim='step')"
   ]
  },
  {
   "cell_type": "code",
   "execution_count": 14,
   "metadata": {},
   "outputs": [
    {
     "name": "stdout",
     "output_type": "stream",
     "text": [
      "CPU times: total: 9.83 s\n",
      "Wall time: 1min 52s\n"
     ]
    }
   ],
   "source": [
    "%%time\n",
    "ds_list = []\n",
    "for i in range(0, 72 + 1, 3):\n",
    "    URL = file_path(source='aws', cycle_runtime=12, forecast_hour=i, year=2024, month=8, day=5, resolution_degree=1.)\n",
    "    filename, _ = urllib.request.urlretrieve(URL)\n",
    "    ds = xr.open_dataset(\n",
    "         filename,\n",
    "         engine=\"cfgrib\",\n",
    "         filter_by_keys={'typeOfLevel': 'pressureFromGroundLayer'},\n",
    "         backend_kwargs={\"errors\": \"ignore\"}\n",
    "    )\n",
    "    ds_list.append(ds)\n",
    "\n",
    "ds_merged = xr.concat(ds_list,  dim='step')"
   ]
  },
  {
   "cell_type": "code",
   "execution_count": 15,
   "metadata": {},
   "outputs": [
    {
     "name": "stdout",
     "output_type": "stream",
     "text": [
      "CPU times: total: 9.23 s\n",
      "Wall time: 1min 49s\n"
     ]
    }
   ],
   "source": [
    "%%time\n",
    "ds_list = []\n",
    "for i in range(0, 72 + 1, 3):\n",
    "    URL = file_path(source='gcs', cycle_runtime=12, forecast_hour=i, year=2024, month=8, day=5, resolution_degree=1.)\n",
    "    filename, _ = urllib.request.urlretrieve(URL)\n",
    "    ds = xr.open_dataset(\n",
    "         filename,\n",
    "         engine=\"cfgrib\",\n",
    "         filter_by_keys={'typeOfLevel': 'pressureFromGroundLayer'},\n",
    "         backend_kwargs={\"errors\": \"ignore\"}\n",
    "    )\n",
    "    ds_list.append(ds)\n",
    "\n",
    "ds_merged = xr.concat(ds_list,  dim='step')"
   ]
  }
 ],
 "metadata": {
  "kernelspec": {
   "display_name": "testenv",
   "language": "python",
   "name": "python3"
  },
  "language_info": {
   "codemirror_mode": {
    "name": "ipython",
    "version": 3
   },
   "file_extension": ".py",
   "mimetype": "text/x-python",
   "name": "python",
   "nbconvert_exporter": "python",
   "pygments_lexer": "ipython3",
   "version": "3.11.8"
  }
 },
 "nbformat": 4,
 "nbformat_minor": 2
}
