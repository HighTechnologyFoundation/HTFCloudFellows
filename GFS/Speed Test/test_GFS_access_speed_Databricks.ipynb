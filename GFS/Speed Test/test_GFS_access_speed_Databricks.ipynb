{
 "cells": [
  {
   "cell_type": "markdown",
   "metadata": {
    "application/vnd.databricks.v1+cell": {
     "cellMetadata": {
      "byteLimit": 2048000,
      "rowLimit": 10000
     },
     "inputWidgets": {},
     "nuid": "1b5dba87-e726-4a6c-8e03-c7b3b0b14be2",
     "showTitle": false,
     "title": ""
    }
   },
   "source": [
    "# Test the speed of reading GFS data with 0.25 and 1.00 resolution degree into `Xarray dataset` from four sources: `NOMADS server` , `Azure Blob Storage` , `AWS S3 Bucket`, `Google Cloud Storage` in Azure Databricks environment.\n",
    "<br>\n",
    "\n",
    "## The compute cost for this notebook speed test:\n",
    "<img src=\"Databricks_Instance_Cost.png\" width=\"100%\"/>\n",
    "\n",
    "### **Result**:\n",
    "|GFS Data|NOMADs|Azure|AWS|GCS|\n",
    "|----|----|-----|---|---|\n",
    "|1 file with 0.25 res|6.3 s|9.24 s  |22.6 s|8.06 s |\n",
    "|1 file with 1.00 res|1.58 s|1.43 s| 2.24 s |1.58 s  |\n",
    "|25 files with 0.25 res|5 m 50 s|3 m 31 s|6 m 31 s|3 m 20 s  |\n",
    "|25 files with 1.00 res|1 m 19 s|38.7 s|1 m 6 s|49.7 s |\n",
    "\n",
    "---"
   ]
  },
  {
   "cell_type": "code",
   "execution_count": null,
   "metadata": {
    "application/vnd.databricks.v1+cell": {
     "cellMetadata": {
      "byteLimit": 2048000,
      "rowLimit": 10000
     },
     "inputWidgets": {},
     "nuid": "40dbb225-cc1f-439e-a7c2-e5c07a0be2f4",
     "showTitle": false,
     "title": ""
    }
   },
   "outputs": [
    {
     "name": "stdout",
     "output_type": "stream",
     "text": [
      "Requirement already satisfied: pip in /local_disk0/.ephemeral_nfs/envs/pythonEnv-1d282723-2da2-4ea7-ab27-2a668ee7cbe0/lib/python3.10/site-packages (22.2.2)\r\n",
      "Collecting pip\r\n",
      "  Downloading pip-24.2-py3-none-any.whl (1.8 MB)\r\n",
      "\u001b[?25l     \u001b[90m━━━━━━━━━━━━━━━━━━━━━━━━━━━━━━━━━━━━━━━━\u001b[0m \u001b[32m0.0/1.8 MB\u001b[0m \u001b[31m?\u001b[0m eta \u001b[36m-:--:--\u001b[0m\r\u001b[2K     \u001b[91m━━\u001b[0m\u001b[91m╸\u001b[0m\u001b[90m━━━━━━━━━━━━━━━━━━━━━━━━━━━━━━━━━━━━━\u001b[0m \u001b[32m0.1/1.8 MB\u001b[0m \u001b[31m3.5 MB/s\u001b[0m eta \u001b[36m0:00:01\u001b[0m\r\u001b[2K     \u001b[91m━━━━━━━━━━━━━━━━━━━━━━━━━━━━━━━━━━━━━━━\u001b[0m\u001b[91m╸\u001b[0m \u001b[32m1.8/1.8 MB\u001b[0m \u001b[31m28.8 MB/s\u001b[0m eta \u001b[36m0:00:01\u001b[0m\r\u001b[2K     \u001b[90m━━━━━━━━━━━━━━━━━━━━━━━━━━━━━━━━━━━━━━━━\u001b[0m \u001b[32m1.8/1.8 MB\u001b[0m \u001b[31m22.8 MB/s\u001b[0m eta \u001b[36m0:00:00\u001b[0m\r\n",
      "\u001b[?25hInstalling collected packages: pip\r\n",
      "  Attempting uninstall: pip\r\n",
      "    Found existing installation: pip 22.2.2\r\n",
      "    Uninstalling pip-22.2.2:\r\n",
      "      Successfully uninstalled pip-22.2.2\r\n",
      "Successfully installed pip-24.2\r\n",
      "Collecting xarray[complete]\r\n",
      "  Downloading xarray-2024.7.0-py3-none-any.whl.metadata (11 kB)\r\n",
      "Collecting numpy>=1.23 (from xarray[complete])\r\n",
      "  Downloading numpy-2.0.1-cp310-cp310-manylinux_2_17_x86_64.manylinux2014_x86_64.whl.metadata (60 kB)\r\n",
      "Collecting packaging>=23.1 (from xarray[complete])\r\n",
      "  Downloading packaging-24.1-py3-none-any.whl.metadata (3.2 kB)\r\n",
      "Collecting pandas>=2.0 (from xarray[complete])\r\n",
      "  Downloading pandas-2.2.2-cp310-cp310-manylinux_2_17_x86_64.manylinux2014_x86_64.whl.metadata (19 kB)\r\n",
      "Requirement already satisfied: python-dateutil>=2.8.2 in /databricks/python3/lib/python3.10/site-packages (from pandas>=2.0->xarray[complete]) (2.8.2)\r\n",
      "Requirement already satisfied: pytz>=2020.1 in /databricks/python3/lib/python3.10/site-packages (from pandas>=2.0->xarray[complete]) (2022.1)\r\n",
      "Collecting tzdata>=2022.7 (from pandas>=2.0->xarray[complete])\r\n",
      "  Downloading tzdata-2024.1-py2.py3-none-any.whl.metadata (1.4 kB)\r\n",
      "Requirement already satisfied: scipy in /databricks/python3/lib/python3.10/site-packages (from xarray[complete]) (1.9.1)\r\n",
      "Collecting bottleneck (from xarray[complete])\r\n",
      "  Downloading Bottleneck-1.4.0-cp310-cp310-manylinux_2_5_x86_64.manylinux1_x86_64.manylinux_2_17_x86_64.manylinux2014_x86_64.whl.metadata (7.9 kB)\r\n",
      "Collecting numbagg (from xarray[complete])\r\n",
      "  Downloading numbagg-0.8.1-py3-none-any.whl.metadata (47 kB)\r\n",
      "Collecting flox (from xarray[complete])\r\n",
      "  Downloading flox-0.9.9-py3-none-any.whl.metadata (18 kB)\r\n",
      "Collecting opt-einsum (from xarray[complete])\r\n",
      "  Downloading opt_einsum-3.3.0-py3-none-any.whl.metadata (6.5 kB)\r\n",
      "Requirement already satisfied: matplotlib in /databricks/python3/lib/python3.10/site-packages (from xarray[complete]) (3.5.2)\r\n",
      "Requirement already satisfied: seaborn in /databricks/python3/lib/python3.10/site-packages (from xarray[complete]) (0.11.2)\r\n",
      "Collecting nc-time-axis (from xarray[complete])\r\n",
      "  Downloading nc_time_axis-1.4.1-py3-none-any.whl.metadata (4.7 kB)\r\n",
      "Collecting hypothesis (from xarray[complete])\r\n",
      "  Downloading hypothesis-6.111.0-py3-none-any.whl.metadata (6.2 kB)\r\n",
      "Collecting mypy (from xarray[complete])\r\n",
      "  Downloading mypy-1.11.1-cp310-cp310-manylinux_2_17_x86_64.manylinux2014_x86_64.manylinux_2_28_x86_64.whl.metadata (1.9 kB)\r\n",
      "Collecting pre-commit (from xarray[complete])\r\n",
      "  Downloading pre_commit-3.8.0-py2.py3-none-any.whl.metadata (1.3 kB)\r\n",
      "Collecting pytest (from xarray[complete])\r\n",
      "  Downloading pytest-8.3.2-py3-none-any.whl.metadata (7.5 kB)\r\n",
      "Collecting pytest-cov (from xarray[complete])\r\n",
      "  Downloading pytest_cov-5.0.0-py3-none-any.whl.metadata (27 kB)\r\n",
      "Collecting pytest-env (from xarray[complete])\r\n",
      "  Downloading pytest_env-1.1.3-py3-none-any.whl.metadata (5.3 kB)\r\n",
      "Collecting pytest-xdist (from xarray[complete])\r\n",
      "  Downloading pytest_xdist-3.6.1-py3-none-any.whl.metadata (4.3 kB)\r\n",
      "Collecting pytest-timeout (from xarray[complete])\r\n",
      "  Downloading pytest_timeout-2.3.1-py3-none-any.whl.metadata (20 kB)\r\n",
      "Collecting ruff (from xarray[complete])\r\n",
      "  Downloading ruff-0.5.7-py3-none-manylinux_2_17_x86_64.manylinux2014_x86_64.whl.metadata (25 kB)\r\n",
      "Collecting dask[complete] (from xarray[complete])\r\n",
      "  Downloading dask-2024.8.0-py3-none-any.whl.metadata (3.8 kB)\r\n",
      "Collecting netCDF4 (from xarray[complete])\r\n",
      "  Downloading netCDF4-1.7.1.post2-cp310-cp310-manylinux_2_17_x86_64.manylinux2014_x86_64.whl.metadata (1.8 kB)\r\n",
      "Collecting h5netcdf (from xarray[complete])\r\n",
      "  Downloading h5netcdf-1.3.0-py3-none-any.whl.metadata (13 kB)\r\n",
      "Collecting zarr (from xarray[complete])\r\n",
      "  Downloading zarr-2.18.2-py3-none-any.whl.metadata (5.7 kB)\r\n",
      "Collecting fsspec (from xarray[complete])\r\n",
      "  Downloading fsspec-2024.6.1-py3-none-any.whl.metadata (11 kB)\r\n",
      "Collecting cftime (from xarray[complete])\r\n",
      "  Downloading cftime-1.6.4-cp310-cp310-manylinux_2_17_x86_64.manylinux2014_x86_64.whl.metadata (8.7 kB)\r\n",
      "Collecting pooch (from xarray[complete])\r\n",
      "  Downloading pooch-1.8.2-py3-none-any.whl.metadata (10 kB)\r\n",
      "Requirement already satisfied: six>=1.5 in /usr/lib/python3/dist-packages (from python-dateutil>=2.8.2->pandas>=2.0->xarray[complete]) (1.16.0)\r\n",
      "Collecting click>=8.1 (from dask[complete]; extra == \"parallel\"->xarray[complete])\r\n",
      "  Downloading click-8.1.7-py3-none-any.whl.metadata (3.0 kB)\r\n",
      "Collecting cloudpickle>=1.5.0 (from dask[complete]; extra == \"parallel\"->xarray[complete])\r\n",
      "  Downloading cloudpickle-3.0.0-py3-none-any.whl.metadata (7.0 kB)\r\n",
      "Collecting partd>=1.4.0 (from dask[complete]; extra == \"parallel\"->xarray[complete])\r\n",
      "  Downloading partd-1.4.2-py3-none-any.whl.metadata (4.6 kB)\r\n",
      "Collecting pyyaml>=5.3.1 (from dask[complete]; extra == \"parallel\"->xarray[complete])\r\n",
      "  Downloading PyYAML-6.0.2-cp310-cp310-manylinux_2_17_x86_64.manylinux2014_x86_64.whl.metadata (2.1 kB)\r\n",
      "Collecting toolz>=0.10.0 (from dask[complete]; extra == \"parallel\"->xarray[complete])\r\n",
      "  Downloading toolz-0.12.1-py3-none-any.whl.metadata (5.1 kB)\r\n",
      "Collecting importlib-metadata>=4.13.0 (from dask[complete]; extra == \"parallel\"->xarray[complete])\r\n",
      "  Downloading importlib_metadata-8.2.0-py3-none-any.whl.metadata (4.7 kB)\r\n",
      "Requirement already satisfied: pyarrow>=7.0 in /databricks/python3/lib/python3.10/site-packages (from dask[complete]; extra == \"parallel\"->xarray[complete]) (8.0.0)\r\n",
      "Requirement already satisfied: pyarrow-hotfix in /databricks/python3/lib/python3.10/site-packages (from dask[complete]; extra == \"parallel\"->xarray[complete]) (0.5)\r\n",
      "Collecting lz4>=4.3.2 (from dask[complete]; extra == \"parallel\"->xarray[complete])\r\n",
      "  Downloading lz4-4.3.3-cp310-cp310-manylinux_2_17_x86_64.manylinux2014_x86_64.whl.metadata (3.7 kB)\r\n",
      "Collecting numpy-groupies>=0.9.19 (from flox->xarray[complete])\r\n",
      "  Downloading numpy_groupies-0.11.2-py3-none-any.whl.metadata (18 kB)\r\n",
      "Collecting numpy>=1.23 (from xarray[complete])\r\n",
      "  Downloading numpy-1.24.4-cp310-cp310-manylinux_2_17_x86_64.manylinux2014_x86_64.whl.metadata (5.6 kB)\r\n",
      "Collecting h5py (from h5netcdf->xarray[complete])\r\n",
      "  Downloading h5py-3.11.0-cp310-cp310-manylinux_2_17_x86_64.manylinux2014_x86_64.whl.metadata (2.5 kB)\r\n",
      "Collecting attrs>=22.2.0 (from hypothesis->xarray[complete])\r\n",
      "  Downloading attrs-24.2.0-py3-none-any.whl.metadata (11 kB)\r\n",
      "Collecting sortedcontainers<3.0.0,>=2.1.0 (from hypothesis->xarray[complete])\r\n",
      "  Downloading sortedcontainers-2.4.0-py2.py3-none-any.whl.metadata (10 kB)\r\n",
      "Collecting exceptiongroup>=1.0.0 (from hypothesis->xarray[complete])\r\n",
      "  Downloading exceptiongroup-1.2.2-py3-none-any.whl.metadata (6.6 kB)\r\n",
      "Requirement already satisfied: cycler>=0.10 in /databricks/python3/lib/python3.10/site-packages (from matplotlib->xarray[complete]) (0.11.0)\r\n",
      "Requirement already satisfied: fonttools>=4.22.0 in /databricks/python3/lib/python3.10/site-packages (from matplotlib->xarray[complete]) (4.25.0)\r\n",
      "Requirement already satisfied: kiwisolver>=1.0.1 in /databricks/python3/lib/python3.10/site-packages (from matplotlib->xarray[complete]) (1.4.2)\r\n",
      "Requirement already satisfied: pillow>=6.2.0 in /databricks/python3/lib/python3.10/site-packages (from matplotlib->xarray[complete]) (9.2.0)\r\n",
      "Requirement already satisfied: pyparsing>=2.2.1 in /databricks/python3/lib/python3.10/site-packages (from matplotlib->xarray[complete]) (3.0.9)\r\n",
      "Collecting typing-extensions>=4.6.0 (from mypy->xarray[complete])\r\n",
      "  Downloading typing_extensions-4.12.2-py3-none-any.whl.metadata (3.0 kB)\r\n",
      "Collecting mypy-extensions>=1.0.0 (from mypy->xarray[complete])\r\n",
      "  Downloading mypy_extensions-1.0.0-py3-none-any.whl.metadata (1.1 kB)\r\n",
      "Requirement already satisfied: tomli>=1.1.0 in /databricks/python3/lib/python3.10/site-packages (from mypy->xarray[complete]) (2.0.1)\r\n",
      "Requirement already satisfied: certifi in /databricks/python3/lib/python3.10/site-packages (from netCDF4->xarray[complete]) (2022.9.14)\r\n",
      "Collecting numba (from numbagg->xarray[complete])\r\n",
      "  Downloading numba-0.60.0-cp310-cp310-manylinux2014_x86_64.manylinux_2_17_x86_64.whl.metadata (2.7 kB)\r\n",
      "Requirement already satisfied: platformdirs>=2.5.0 in /databricks/python3/lib/python3.10/site-packages (from pooch->xarray[complete]) (2.5.2)\r\n",
      "Requirement already satisfied: requests>=2.19.0 in /databricks/python3/lib/python3.10/site-packages (from pooch->xarray[complete]) (2.28.1)\r\n",
      "Collecting cfgv>=2.0.0 (from pre-commit->xarray[complete])\r\n",
      "  Downloading cfgv-3.4.0-py2.py3-none-any.whl.metadata (8.5 kB)\r\n",
      "Collecting identify>=1.0.0 (from pre-commit->xarray[complete])\r\n",
      "  Downloading identify-2.6.0-py2.py3-none-any.whl.metadata (4.4 kB)\r\n",
      "Requirement already satisfied: nodeenv>=0.11.1 in /databricks/python3/lib/python3.10/site-packages (from pre-commit->xarray[complete]) (1.8.0)\r\n",
      "Requirement already satisfied: virtualenv>=20.10.0 in /usr/local/lib/python3.10/dist-packages (from pre-commit->xarray[complete]) (20.16.3)\r\n",
      "Collecting iniconfig (from pytest->xarray[complete])\r\n",
      "  Downloading iniconfig-2.0.0-py3-none-any.whl.metadata (2.6 kB)\r\n",
      "Collecting pluggy<2,>=1.5 (from pytest->xarray[complete])\r\n",
      "  Downloading pluggy-1.5.0-py3-none-any.whl.metadata (4.8 kB)\r\n",
      "Collecting coverage>=5.2.1 (from coverage[toml]>=5.2.1->pytest-cov->xarray[complete])\r\n",
      "  Downloading coverage-7.6.1-cp310-cp310-manylinux_2_5_x86_64.manylinux1_x86_64.manylinux_2_17_x86_64.manylinux2014_x86_64.whl.metadata (8.3 kB)\r\n",
      "Collecting execnet>=2.1 (from pytest-xdist->xarray[complete])\r\n",
      "  Downloading execnet-2.1.1-py3-none-any.whl.metadata (2.9 kB)\r\n",
      "Collecting asciitree (from zarr->xarray[complete])\r\n",
      "  Downloading asciitree-0.3.3.tar.gz (4.0 kB)\r\n",
      "  Preparing metadata (setup.py) ... \u001b[?25l-\b \bdone\r\n",
      "\u001b[?25hCollecting numcodecs>=0.10.0 (from zarr->xarray[complete])\r\n",
      "  Downloading numcodecs-0.13.0-cp310-cp310-manylinux_2_17_x86_64.manylinux2014_x86_64.whl.metadata (2.9 kB)\r\n",
      "Collecting fasteners (from zarr->xarray[complete])\r\n",
      "  Downloading fasteners-0.19-py3-none-any.whl.metadata (4.9 kB)\r\n",
      "Requirement already satisfied: zipp>=0.5 in /usr/lib/python3/dist-packages (from importlib-metadata>=4.13.0->dask[complete]; extra == \"parallel\"->xarray[complete]) (1.0.0)\r\n",
      "Requirement already satisfied: setuptools in /databricks/python3/lib/python3.10/site-packages (from nodeenv>=0.11.1->pre-commit->xarray[complete]) (63.4.1)\r\n",
      "Collecting locket (from partd>=1.4.0->dask[complete]; extra == \"parallel\"->xarray[complete])\r\n",
      "  Downloading locket-1.0.0-py2.py3-none-any.whl.metadata (2.8 kB)\r\n",
      "Requirement already satisfied: charset-normalizer<3,>=2 in /databricks/python3/lib/python3.10/site-packages (from requests>=2.19.0->pooch->xarray[complete]) (2.0.4)\r\n",
      "Requirement already satisfied: idna<4,>=2.5 in /databricks/python3/lib/python3.10/site-packages (from requests>=2.19.0->pooch->xarray[complete]) (3.3)\r\n",
      "Requirement already satisfied: urllib3<1.27,>=1.21.1 in /databricks/python3/lib/python3.10/site-packages (from requests>=2.19.0->pooch->xarray[complete]) (1.26.11)\r\n",
      "Requirement already satisfied: distlib<1,>=0.3.5 in /usr/local/lib/python3.10/dist-packages (from virtualenv>=20.10.0->pre-commit->xarray[complete]) (0.3.7)\r\n",
      "Requirement already satisfied: filelock<4,>=3.4.1 in /usr/local/lib/python3.10/dist-packages (from virtualenv>=20.10.0->pre-commit->xarray[complete]) (3.12.2)\r\n",
      "Collecting distributed==2024.8.0 (from dask[complete]->xarray[complete])\r\n",
      "  Downloading distributed-2024.8.0-py3-none-any.whl.metadata (3.4 kB)\r\n",
      "Collecting dask-expr<1.2,>=1.1 (from dask[complete]->xarray[complete])\r\n",
      "  Downloading dask_expr-1.1.10-py3-none-any.whl.metadata (2.5 kB)\r\n",
      "Collecting bokeh>=2.4.2 (from dask[complete]->xarray[complete])\r\n",
      "  Downloading bokeh-3.5.1-py3-none-any.whl.metadata (12 kB)\r\n",
      "Requirement already satisfied: jinja2>=2.10.3 in /databricks/python3/lib/python3.10/site-packages (from dask[complete]->xarray[complete]) (2.11.3)\r\n",
      "Collecting msgpack>=1.0.0 (from distributed==2024.8.0->dask[complete]->xarray[complete])\r\n",
      "  Downloading msgpack-1.0.8-cp310-cp310-manylinux_2_17_x86_64.manylinux2014_x86_64.whl.metadata (9.1 kB)\r\n",
      "Requirement already satisfied: psutil>=5.7.2 in /databricks/python3/lib/python3.10/site-packages (from distributed==2024.8.0->dask[complete]->xarray[complete]) (5.9.0)\r\n",
      "Collecting tblib>=1.6.0 (from distributed==2024.8.0->dask[complete]->xarray[complete])\r\n",
      "  Downloading tblib-3.0.0-py3-none-any.whl.metadata (25 kB)\r\n",
      "Requirement already satisfied: tornado>=6.0.4 in /databricks/python3/lib/python3.10/site-packages (from distributed==2024.8.0->dask[complete]->xarray[complete]) (6.1)\r\n",
      "Collecting zict>=3.0.0 (from distributed==2024.8.0->dask[complete]->xarray[complete])\r\n",
      "  Downloading zict-3.0.0-py2.py3-none-any.whl.metadata (899 bytes)\r\n",
      "Collecting llvmlite<0.44,>=0.43.0dev0 (from numba->numbagg->xarray[complete])\r\n",
      "  Downloading llvmlite-0.43.0-cp310-cp310-manylinux_2_17_x86_64.manylinux2014_x86_64.whl.metadata (4.8 kB)\r\n",
      "Collecting contourpy>=1.2 (from bokeh>=2.4.2->dask[complete]->xarray[complete])\r\n",
      "  Downloading contourpy-1.2.1-cp310-cp310-manylinux_2_17_x86_64.manylinux2014_x86_64.whl.metadata (5.8 kB)\r\n",
      "Collecting tornado>=6.0.4 (from distributed==2024.8.0->dask[complete]->xarray[complete])\r\n",
      "  Downloading tornado-6.4.1-cp38-abi3-manylinux_2_5_x86_64.manylinux1_x86_64.manylinux_2_17_x86_64.manylinux2014_x86_64.whl.metadata (2.5 kB)\r\n",
      "Collecting xyzservices>=2021.09.1 (from bokeh>=2.4.2->dask[complete]->xarray[complete])\r\n",
      "  Downloading xyzservices-2024.6.0-py3-none-any.whl.metadata (4.0 kB)\r\n",
      "Requirement already satisfied: MarkupSafe>=0.23 in /databricks/python3/lib/python3.10/site-packages (from jinja2>=2.10.3->dask[complete]->xarray[complete]) (2.0.1)\r\n",
      "Downloading packaging-24.1-py3-none-any.whl (53 kB)\r\n",
      "Downloading pandas-2.2.2-cp310-cp310-manylinux_2_17_x86_64.manylinux2014_x86_64.whl (13.0 MB)\r\n",
      "\u001b[?25l   \u001b[90m━━━━━━━━━━━━━━━━━━━━━━━━━━━━━━━━━━━━━━━━\u001b[0m \u001b[32m0.0/13.0 MB\u001b[0m \u001b[31m?\u001b[0m eta \u001b[36m-:--:--\u001b[0m\r\u001b[2K   \u001b[90m━━━━━━━━━━━━━━━━━━━━━━━━━━━━━━━━━━━━━━━━\u001b[0m \u001b[32m13.0/13.0 MB\u001b[0m \u001b[31m129.6 MB/s\u001b[0m eta \u001b[36m0:00:00\u001b[0m\r\n",
      "\u001b[?25hDownloading xarray-2024.7.0-py3-none-any.whl (1.2 MB)\r\n",
      "\u001b[?25l   \u001b[90m━━━━━━━━━━━━━━━━━━━━━━━━━━━━━━━━━━━━━━━━\u001b[0m \u001b[32m0.0/1.2 MB\u001b[0m \u001b[31m?\u001b[0m eta \u001b[36m-:--:--\u001b[0m\r\u001b[2K   \u001b[90m━━━━━━━━━━━━━━━━━━━━━━━━━━━━━━━━━━━━━━━━\u001b[0m \u001b[32m1.2/1.2 MB\u001b[0m \u001b[31m31.4 MB/s\u001b[0m eta \u001b[36m0:00:00\u001b[0m\r\n",
      "\u001b[?25hDownloading tzdata-2024.1-py2.py3-none-any.whl (345 kB)\r\n",
      "Downloading Bottleneck-1.4.0-cp310-cp310-manylinux_2_5_x86_64.manylinux1_x86_64.manylinux_2_17_x86_64.manylinux2014_x86_64.whl (356 kB)\r\n",
      "Downloading cftime-1.6.4-cp310-cp310-manylinux_2_17_x86_64.manylinux2014_x86_64.whl (1.3 MB)\r\n",
      "\u001b[?25l   \u001b[90m━━━━━━━━━━━━━━━━━━━━━━━━━━━━━━━━━━━━━━━━\u001b[0m \u001b[32m0.0/1.3 MB\u001b[0m \u001b[31m?\u001b[0m eta \u001b[36m-:--:--\u001b[0m\r\u001b[2K   \u001b[90m━━━━━━━━━━━━━━━━━━━━━━━━━━━━━━━━━━━━━━━━\u001b[0m \u001b[32m1.3/1.3 MB\u001b[0m \u001b[31m51.5 MB/s\u001b[0m eta \u001b[36m0:00:00\u001b[0m\r\n",
      "\u001b[?25hDownloading fsspec-2024.6.1-py3-none-any.whl (177 kB)\r\n",
      "Downloading flox-0.9.9-py3-none-any.whl (69 kB)\r\n",
      "Downloading numpy-1.24.4-cp310-cp310-manylinux_2_17_x86_64.manylinux2014_x86_64.whl (17.3 MB)\r\n",
      "\u001b[?25l   \u001b[90m━━━━━━━━━━━━━━━━━━━━━━━━━━━━━━━━━━━━━━━━\u001b[0m \u001b[32m0.0/17.3 MB\u001b[0m \u001b[31m?\u001b[0m eta \u001b[36m-:--:--\u001b[0m\r\u001b[2K   \u001b[90m━━━━━━━━━━━━━━━━━━━━━━━━━━━━━━━━━━━━━━━━\u001b[0m \u001b[32m17.3/17.3 MB\u001b[0m \u001b[31m90.8 MB/s\u001b[0m eta \u001b[36m0:00:00\u001b[0m\r\n",
      "\u001b[?25hDownloading h5netcdf-1.3.0-py3-none-any.whl (43 kB)\r\n",
      "Downloading hypothesis-6.111.0-py3-none-any.whl (468 kB)\r\n",
      "Downloading mypy-1.11.1-cp310-cp310-manylinux_2_17_x86_64.manylinux2014_x86_64.manylinux_2_28_x86_64.whl (12.5 MB)\r\n",
      "\u001b[?25l   \u001b[90m━━━━━━━━━━━━━━━━━━━━━━━━━━━━━━━━━━━━━━━━\u001b[0m \u001b[32m0.0/12.5 MB\u001b[0m \u001b[31m?\u001b[0m eta \u001b[36m-:--:--\u001b[0m\r\u001b[2K   \u001b[90m━━━━━━━━━━━━━━━━━━━━━━━━━━━━━━━━━━━━━━━━\u001b[0m \u001b[32m12.5/12.5 MB\u001b[0m \u001b[31m112.7 MB/s\u001b[0m eta \u001b[36m0:00:00\u001b[0m\r\n",
      "\u001b[?25hDownloading nc_time_axis-1.4.1-py3-none-any.whl (17 kB)\r\n",
      "Downloading netCDF4-1.7.1.post2-cp310-cp310-manylinux_2_17_x86_64.manylinux2014_x86_64.whl (9.0 MB)\r\n",
      "\u001b[?25l   \u001b[90m━━━━━━━━━━━━━━━━━━━━━━━━━━━━━━━━━━━━━━━━\u001b[0m \u001b[32m0.0/9.0 MB\u001b[0m \u001b[31m?\u001b[0m eta \u001b[36m-:--:--\u001b[0m\r\u001b[2K   \u001b[90m━━━━━━━━━━━━━━━━━━━━━━━━━━━━━━━━━━━━━━━━\u001b[0m \u001b[32m9.0/9.0 MB\u001b[0m \u001b[31m73.4 MB/s\u001b[0m eta \u001b[36m0:00:00\u001b[0m\r\n",
      "\u001b[?25hDownloading numbagg-0.8.1-py3-none-any.whl (48 kB)\r\n",
      "Downloading opt_einsum-3.3.0-py3-none-any.whl (65 kB)\r\n",
      "Downloading pooch-1.8.2-py3-none-any.whl (64 kB)\r\n",
      "Downloading pre_commit-3.8.0-py2.py3-none-any.whl (204 kB)\r\n",
      "Downloading pytest-8.3.2-py3-none-any.whl (341 kB)\r\n",
      "Downloading pytest_cov-5.0.0-py3-none-any.whl (21 kB)\r\n",
      "Downloading pytest_env-1.1.3-py3-none-any.whl (6.2 kB)\r\n",
      "Downloading pytest_timeout-2.3.1-py3-none-any.whl (14 kB)\r\n",
      "Downloading pytest_xdist-3.6.1-py3-none-any.whl (46 kB)\r\n",
      "Downloading ruff-0.5.7-py3-none-manylinux_2_17_x86_64.manylinux2014_x86_64.whl (10.2 MB)\r\n",
      "\u001b[?25l   \u001b[90m━━━━━━━━━━━━━━━━━━━━━━━━━━━━━━━━━━━━━━━━\u001b[0m \u001b[32m0.0/10.2 MB\u001b[0m \u001b[31m?\u001b[0m eta \u001b[36m-:--:--\u001b[0m\r\u001b[2K   \u001b[90m━━━━━━━━━━━━━━━━━━━━━━━━━━━━━━━━━━━━━━━━\u001b[0m \u001b[32m10.2/10.2 MB\u001b[0m \u001b[31m79.8 MB/s\u001b[0m eta \u001b[36m0:00:00\u001b[0m\r\n",
      "\u001b[?25hDownloading zarr-2.18.2-py3-none-any.whl (210 kB)\r\n",
      "Downloading attrs-24.2.0-py3-none-any.whl (63 kB)\r\n",
      "Downloading cfgv-3.4.0-py2.py3-none-any.whl (7.2 kB)\r\n",
      "Downloading click-8.1.7-py3-none-any.whl (97 kB)\r\n",
      "Downloading cloudpickle-3.0.0-py3-none-any.whl (20 kB)\r\n",
      "Downloading coverage-7.6.1-cp310-cp310-manylinux_2_5_x86_64.manylinux1_x86_64.manylinux_2_17_x86_64.manylinux2014_x86_64.whl (234 kB)\r\n",
      "Downloading exceptiongroup-1.2.2-py3-none-any.whl (16 kB)\r\n",
      "Downloading execnet-2.1.1-py3-none-any.whl (40 kB)\r\n",
      "Downloading identify-2.6.0-py2.py3-none-any.whl (98 kB)\r\n",
      "Downloading importlib_metadata-8.2.0-py3-none-any.whl (25 kB)\r\n",
      "Downloading lz4-4.3.3-cp310-cp310-manylinux_2_17_x86_64.manylinux2014_x86_64.whl (1.3 MB)\r\n",
      "\u001b[?25l   \u001b[90m━━━━━━━━━━━━━━━━━━━━━━━━━━━━━━━━━━━━━━━━\u001b[0m \u001b[32m0.0/1.3 MB\u001b[0m \u001b[31m?\u001b[0m eta \u001b[36m-:--:--\u001b[0m\r\u001b[2K   \u001b[90m━━━━━━━━━━━━━━━━━━━━━━━━━━━━━━━━━━━━━━━━\u001b[0m \u001b[32m1.3/1.3 MB\u001b[0m \u001b[31m34.3 MB/s\u001b[0m eta \u001b[36m0:00:00\u001b[0m\r\n",
      "\u001b[?25hDownloading mypy_extensions-1.0.0-py3-none-any.whl (4.7 kB)\r\n",
      "Downloading numcodecs-0.13.0-cp310-cp310-manylinux_2_17_x86_64.manylinux2014_x86_64.whl (8.6 MB)\r\n",
      "\u001b[?25l   \u001b[90m━━━━━━━━━━━━━━━━━━━━━━━━━━━━━━━━━━━━━━━━\u001b[0m \u001b[32m0.0/8.6 MB\u001b[0m \u001b[31m?\u001b[0m eta \u001b[36m-:--:--\u001b[0m\r\u001b[2K   \u001b[90m━━━━━━━━━━━━━━━━━━━━━━━━━━━━━━━━━━━━━━━━\u001b[0m \u001b[32m8.6/8.6 MB\u001b[0m \u001b[31m88.9 MB/s\u001b[0m eta \u001b[36m0:00:00\u001b[0m\r\n",
      "\u001b[?25hDownloading numpy_groupies-0.11.2-py3-none-any.whl (40 kB)\r\n",
      "Downloading partd-1.4.2-py3-none-any.whl (18 kB)\r\n",
      "Downloading pluggy-1.5.0-py3-none-any.whl (20 kB)\r\n",
      "Downloading PyYAML-6.0.2-cp310-cp310-manylinux_2_17_x86_64.manylinux2014_x86_64.whl (751 kB)\r\n",
      "\u001b[?25l   \u001b[90m━━━━━━━━━━━━━━━━━━━━━━━━━━━━━━━━━━━━━━━━\u001b[0m \u001b[32m0.0/751.2 kB\u001b[0m \u001b[31m?\u001b[0m eta \u001b[36m-:--:--\u001b[0m\r\u001b[2K   \u001b[90m━━━━━━━━━━━━━━━━━━━━━━━━━━━━━━━━━━━━━━━━\u001b[0m \u001b[32m751.2/751.2 kB\u001b[0m \u001b[31m21.8 MB/s\u001b[0m eta \u001b[36m0:00:00\u001b[0m\r\n",
      "\u001b[?25hDownloading sortedcontainers-2.4.0-py2.py3-none-any.whl (29 kB)\r\n",
      "Downloading toolz-0.12.1-py3-none-any.whl (56 kB)\r\n",
      "Downloading typing_extensions-4.12.2-py3-none-any.whl (37 kB)\r\n",
      "Downloading dask-2024.8.0-py3-none-any.whl (1.2 MB)\r\n",
      "\u001b[?25l   \u001b[90m━━━━━━━━━━━━━━━━━━━━━━━━━━━━━━━━━━━━━━━━\u001b[0m \u001b[32m0.0/1.2 MB\u001b[0m \u001b[31m?\u001b[0m eta \u001b[36m-:--:--\u001b[0m\r\u001b[2K   \u001b[90m━━━━━━━━━━━━━━━━━━━━━━━━━━━━━━━━━━━━━━━━\u001b[0m \u001b[32m1.2/1.2 MB\u001b[0m \u001b[31m51.1 MB/s\u001b[0m eta \u001b[36m0:00:00\u001b[0m\r\n",
      "\u001b[?25hDownloading distributed-2024.8.0-py3-none-any.whl (1.0 MB)\r\n",
      "\u001b[?25l   \u001b[90m━━━━━━━━━━━━━━━━━━━━━━━━━━━━━━━━━━━━━━━━\u001b[0m \u001b[32m0.0/1.0 MB\u001b[0m \u001b[31m?\u001b[0m eta \u001b[36m-:--:--\u001b[0m\r\u001b[2K   \u001b[90m━━━━━━━━━━━━━━━━━━━━━━━━━━━━━━━━━━━━━━━━\u001b[0m \u001b[32m1.0/1.0 MB\u001b[0m \u001b[31m40.5 MB/s\u001b[0m eta \u001b[36m0:00:00\u001b[0m\r\n",
      "\u001b[?25hDownloading fasteners-0.19-py3-none-any.whl (18 kB)\r\n",
      "Downloading h5py-3.11.0-cp310-cp310-manylinux_2_17_x86_64.manylinux2014_x86_64.whl (5.3 MB)\r\n",
      "\u001b[?25l   \u001b[90m━━━━━━━━━━━━━━━━━━━━━━━━━━━━━━━━━━━━━━━━\u001b[0m \u001b[32m0.0/5.3 MB\u001b[0m \u001b[31m?\u001b[0m eta \u001b[36m-:--:--\u001b[0m\r\u001b[2K   \u001b[90m━━━━━━━━━━━━━━━━━━━━━━━━━━━━━━━━━━━━━━━━\u001b[0m \u001b[32m5.3/5.3 MB\u001b[0m \u001b[31m76.4 MB/s\u001b[0m eta \u001b[36m0:00:00\u001b[0m\r\n",
      "\u001b[?25hDownloading iniconfig-2.0.0-py3-none-any.whl (5.9 kB)\r\n",
      "Downloading numba-0.60.0-cp310-cp310-manylinux2014_x86_64.manylinux_2_17_x86_64.whl (3.7 MB)\r\n",
      "\u001b[?25l   \u001b[90m━━━━━━━━━━━━━━━━━━━━━━━━━━━━━━━━━━━━━━━━\u001b[0m \u001b[32m0.0/3.7 MB\u001b[0m \u001b[31m?\u001b[0m eta \u001b[36m-:--:--\u001b[0m\r\u001b[2K   \u001b[90m━━━━━━━━━━━━━━━━━━━━━━━━━━━━━━━━━━━━━━━━\u001b[0m \u001b[32m3.7/3.7 MB\u001b[0m \u001b[31m80.0 MB/s\u001b[0m eta \u001b[36m0:00:00\u001b[0m\r\n",
      "\u001b[?25hDownloading bokeh-3.5.1-py3-none-any.whl (6.8 MB)\r\n",
      "\u001b[?25l   \u001b[90m━━━━━━━━━━━━━━━━━━━━━━━━━━━━━━━━━━━━━━━━\u001b[0m \u001b[32m0.0/6.8 MB\u001b[0m \u001b[31m?\u001b[0m eta \u001b[36m-:--:--\u001b[0m\r\u001b[2K   \u001b[90m━━━━━━━━━━━━━━━━━━━━━━━━━━━━━━━━━━━━━━━━\u001b[0m \u001b[32m6.8/6.8 MB\u001b[0m \u001b[31m106.6 MB/s\u001b[0m eta \u001b[36m0:00:00\u001b[0m\r\n",
      "\u001b[?25hDownloading dask_expr-1.1.10-py3-none-any.whl (242 kB)\r\n",
      "Downloading llvmlite-0.43.0-cp310-cp310-manylinux_2_17_x86_64.manylinux2014_x86_64.whl (43.9 MB)\r\n",
      "\u001b[?25l   \u001b[90m━━━━━━━━━━━━━━━━━━━━━━━━━━━━━━━━━━━━━━━━\u001b[0m \u001b[32m0.0/43.9 MB\u001b[0m \u001b[31m?\u001b[0m eta \u001b[36m-:--:--\u001b[0m\r\u001b[2K   \u001b[91m━━━━━━━━━━━━━━━━━━━━━━━━━━━━━━━━━━━━━━━\u001b[0m\u001b[91m╸\u001b[0m \u001b[32m43.8/43.9 MB\u001b[0m \u001b[31m248.1 MB/s\u001b[0m eta \u001b[36m0:00:01\u001b[0m\r\u001b[2K   \u001b[91m━━━━━━━━━━━━━━━━━━━━━━━━━━━━━━━━━━━━━━━\u001b[0m\u001b[91m╸\u001b[0m \u001b[32m43.8/43.9 MB\u001b[0m \u001b[31m248.1 MB/s\u001b[0m eta \u001b[36m0:00:01\u001b[0m\r\u001b[2K   \u001b[90m━━━━━━━━━━━━━━━━━━━━━━━━━━━━━━━━━━━━━━━━\u001b[0m \u001b[32m43.9/43.9 MB\u001b[0m \u001b[31m84.4 MB/s\u001b[0m eta \u001b[36m0:00:00\u001b[0m\r\n",
      "\u001b[?25hDownloading locket-1.0.0-py2.py3-none-any.whl (4.4 kB)\r\n",
      "Downloading contourpy-1.2.1-cp310-cp310-manylinux_2_17_x86_64.manylinux2014_x86_64.whl (305 kB)\r\n",
      "Downloading msgpack-1.0.8-cp310-cp310-manylinux_2_17_x86_64.manylinux2014_x86_64.whl (385 kB)\r\n",
      "Downloading tblib-3.0.0-py3-none-any.whl (12 kB)\r\n",
      "Downloading tornado-6.4.1-cp38-abi3-manylinux_2_5_x86_64.manylinux1_x86_64.manylinux_2_17_x86_64.manylinux2014_x86_64.whl (436 kB)\r\n",
      "Downloading xyzservices-2024.6.0-py3-none-any.whl (83 kB)\r\n",
      "Downloading zict-3.0.0-py2.py3-none-any.whl (43 kB)\r\n",
      "Building wheels for collected packages: asciitree\r\n",
      "  Building wheel for asciitree (setup.py) ... \u001b[?25l-\b \b\\\b \b|\b \bdone\r\n",
      "\u001b[?25h  Created wheel for asciitree: filename=asciitree-0.3.3-py3-none-any.whl size=5034 sha256=ef230529081dc50c3134c23347eee1bc4534a94f276f56c700ded50195aa3dae\r\n",
      "  Stored in directory: /root/.cache/pip/wheels/7f/4e/be/1171b40f43b918087657ec57cf3b81fa1a2e027d8755baa184\r\n",
      "Successfully built asciitree\r\n",
      "Installing collected packages: sortedcontainers, asciitree, zict, xyzservices, tzdata, typing-extensions, tornado, toolz, tblib, ruff, pyyaml, pluggy, packaging, numpy, mypy-extensions, msgpack, lz4, locket, llvmlite, iniconfig, importlib-metadata, identify, fsspec, fasteners, execnet, exceptiongroup, coverage, cloudpickle, click, cfgv, attrs, pytest, pre-commit, pooch, partd, pandas, opt-einsum, numpy-groupies, numcodecs, numba, mypy, hypothesis, h5py, contourpy, cftime, bottleneck, zarr, xarray, pytest-xdist, pytest-timeout, pytest-env, pytest-cov, numbagg, netCDF4, nc-time-axis, h5netcdf, flox, dask, bokeh, distributed, dask-expr\r\n",
      "  Attempting uninstall: typing-extensions\r\n",
      "    Found existing installation: typing_extensions 4.3.0\r\n",
      "    Not uninstalling typing-extensions at /databricks/python3/lib/python3.10/site-packages, outside environment /local_disk0/.ephemeral_nfs/envs/pythonEnv-1d282723-2da2-4ea7-ab27-2a668ee7cbe0\r\n",
      "    Can't uninstall 'typing_extensions'. No files were found to uninstall.\r\n",
      "  Attempting uninstall: tornado\r\n",
      "    Found existing installation: tornado 6.1\r\n",
      "    Not uninstalling tornado at /databricks/python3/lib/python3.10/site-packages, outside environment /local_disk0/.ephemeral_nfs/envs/pythonEnv-1d282723-2da2-4ea7-ab27-2a668ee7cbe0\r\n",
      "    Can't uninstall 'tornado'. No files were found to uninstall.\r\n",
      "  Attempting uninstall: pluggy\r\n",
      "    Found existing installation: pluggy 1.0.0\r\n",
      "    Not uninstalling pluggy at /databricks/python3/lib/python3.10/site-packages, outside environment /local_disk0/.ephemeral_nfs/envs/pythonEnv-1d282723-2da2-4ea7-ab27-2a668ee7cbe0\r\n",
      "    Can't uninstall 'pluggy'. No files were found to uninstall.\r\n",
      "  Attempting uninstall: packaging\r\n",
      "    Found existing installation: packaging 21.3\r\n",
      "    Not uninstalling packaging at /databricks/python3/lib/python3.10/site-packages, outside environment /local_disk0/.ephemeral_nfs/envs/pythonEnv-1d282723-2da2-4ea7-ab27-2a668ee7cbe0\r\n",
      "    Can't uninstall 'packaging'. No files were found to uninstall.\r\n",
      "  Attempting uninstall: numpy\r\n",
      "    Found existing installation: numpy 1.21.5\r\n",
      "    Not uninstalling numpy at /databricks/python3/lib/python3.10/site-packages, outside environment /local_disk0/.ephemeral_nfs/envs/pythonEnv-1d282723-2da2-4ea7-ab27-2a668ee7cbe0\r\n",
      "    Can't uninstall 'numpy'. No files were found to uninstall.\r\n",
      "  Attempting uninstall: mypy-extensions\r\n",
      "    Found existing installation: mypy-extensions 0.4.3\r\n",
      "    Not uninstalling mypy-extensions at /databricks/python3/lib/python3.10/site-packages, outside environment /local_disk0/.ephemeral_nfs/envs/pythonEnv-1d282723-2da2-4ea7-ab27-2a668ee7cbe0\r\n",
      "    Can't uninstall 'mypy-extensions'. No files were found to uninstall.\r\n",
      "  Attempting uninstall: importlib-metadata\r\n",
      "    Found existing installation: importlib-metadata 4.6.4\r\n",
      "    Not uninstalling importlib-metadata at /usr/lib/python3/dist-packages, outside environment /local_disk0/.ephemeral_nfs/envs/pythonEnv-1d282723-2da2-4ea7-ab27-2a668ee7cbe0\r\n",
      "    Can't uninstall 'importlib-metadata'. No files were found to uninstall.\r\n",
      "  Attempting uninstall: click\r\n",
      "    Found existing installation: click 8.0.4\r\n",
      "    Not uninstalling click at /databricks/python3/lib/python3.10/site-packages, outside environment /local_disk0/.ephemeral_nfs/envs/pythonEnv-1d282723-2da2-4ea7-ab27-2a668ee7cbe0\r\n",
      "    Can't uninstall 'click'. No files were found to uninstall.\r\n",
      "  Attempting uninstall: attrs\r\n",
      "    Found existing installation: attrs 21.4.0\r\n",
      "    Not uninstalling attrs at /databricks/python3/lib/python3.10/site-packages, outside environment /local_disk0/.ephemeral_nfs/envs/pythonEnv-1d282723-2da2-4ea7-ab27-2a668ee7cbe0\r\n",
      "    Can't uninstall 'attrs'. No files were found to uninstall.\r\n",
      "  Attempting uninstall: pandas\r\n",
      "    Found existing installation: pandas 1.4.4\r\n",
      "    Not uninstalling pandas at /databricks/python3/lib/python3.10/site-packages, outside environment /local_disk0/.ephemeral_nfs/envs/pythonEnv-1d282723-2da2-4ea7-ab27-2a668ee7cbe0\r\n",
      "    Can't uninstall 'pandas'. No files were found to uninstall.\r\n",
      "Successfully installed asciitree-0.3.3 attrs-24.2.0 bokeh-3.5.1 bottleneck-1.4.0 cfgv-3.4.0 cftime-1.6.4 click-8.1.7 cloudpickle-3.0.0 contourpy-1.2.1 coverage-7.6.1 dask-2024.8.0 dask-expr-1.1.10 distributed-2024.8.0 exceptiongroup-1.2.2 execnet-2.1.1 fasteners-0.19 flox-0.9.9 fsspec-2024.6.1 h5netcdf-1.3.0 h5py-3.11.0 hypothesis-6.111.0 identify-2.6.0 importlib-metadata-8.2.0 iniconfig-2.0.0 llvmlite-0.43.0 locket-1.0.0 lz4-4.3.3 msgpack-1.0.8 mypy-1.11.1 mypy-extensions-1.0.0 nc-time-axis-1.4.1 netCDF4-1.7.1.post2 numba-0.60.0 numbagg-0.8.1 numcodecs-0.13.0 numpy-1.24.4 numpy-groupies-0.11.2 opt-einsum-3.3.0 packaging-24.1 pandas-2.2.2 partd-1.4.2 pluggy-1.5.0 pooch-1.8.2 pre-commit-3.8.0 pytest-8.3.2 pytest-cov-5.0.0 pytest-env-1.1.3 pytest-timeout-2.3.1 pytest-xdist-3.6.1 pyyaml-6.0.2 ruff-0.5.7 sortedcontainers-2.4.0 tblib-3.0.0 toolz-0.12.1 tornado-6.4.1 typing-extensions-4.12.2 tzdata-2024.1 xarray-2024.7.0 xyzservices-2024.6.0 zarr-2.18.2 zict-3.0.0\r\n",
      "Collecting eccodes\r\n",
      "  Downloading eccodes-1.7.1-py3-none-any.whl.metadata (10 kB)\r\n",
      "Requirement already satisfied: numpy in /local_disk0/.ephemeral_nfs/envs/pythonEnv-1d282723-2da2-4ea7-ab27-2a668ee7cbe0/lib/python3.10/site-packages (from eccodes) (1.24.4)\r\n",
      "Requirement already satisfied: attrs in /local_disk0/.ephemeral_nfs/envs/pythonEnv-1d282723-2da2-4ea7-ab27-2a668ee7cbe0/lib/python3.10/site-packages (from eccodes) (24.2.0)\r\n",
      "Requirement already satisfied: cffi in /databricks/python3/lib/python3.10/site-packages (from eccodes) (1.15.1)\r\n",
      "Collecting findlibs (from eccodes)\r\n",
      "  Downloading findlibs-0.0.5.tar.gz (6.6 kB)\r\n",
      "  Preparing metadata (setup.py) ... \u001b[?25l-\b \bdone\r\n",
      "\u001b[?25hRequirement already satisfied: pycparser in /databricks/python3/lib/python3.10/site-packages (from cffi->eccodes) (2.21)\r\n",
      "Downloading eccodes-1.7.1-py3-none-any.whl (41 kB)\r\n",
      "Building wheels for collected packages: findlibs\r\n",
      "  Building wheel for findlibs (setup.py) ... \u001b[?25l-\b \b\\\b \b|\b \bdone\r\n",
      "\u001b[?25h  Created wheel for findlibs: filename=findlibs-0.0.5-py3-none-any.whl size=6940 sha256=832279dc9c4702bfe274ea3f5162f9fe4e7eba30e6fa9d1b4f3e0b418ed3244e\r\n",
      "  Stored in directory: /root/.cache/pip/wheels/2e/67/14/22fa5b9fd9c41be520b37e908597d6a262803c0fcf2ba7c2c3\r\n",
      "Successfully built findlibs\r\n",
      "Installing collected packages: findlibs, eccodes\r\n",
      "Successfully installed eccodes-1.7.1 findlibs-0.0.5\r\n",
      "Collecting ecmwflibs\r\n",
      "  Downloading ecmwflibs-0.6.3-cp310-cp310-manylinux_2_17_x86_64.manylinux2014_x86_64.whl.metadata (1.9 kB)\r\n",
      "Requirement already satisfied: findlibs in /local_disk0/.ephemeral_nfs/envs/pythonEnv-1d282723-2da2-4ea7-ab27-2a668ee7cbe0/lib/python3.10/site-packages (from ecmwflibs) (0.0.5)\r\n",
      "Downloading ecmwflibs-0.6.3-cp310-cp310-manylinux_2_17_x86_64.manylinux2014_x86_64.whl (78.4 MB)\r\n",
      "\u001b[?25l   \u001b[90m━━━━━━━━━━━━━━━━━━━━━━━━━━━━━━━━━━━━━━━━\u001b[0m \u001b[32m0.0/78.4 MB\u001b[0m \u001b[31m?\u001b[0m eta \u001b[36m-:--:--\u001b[0m\r\u001b[2K   \u001b[91m━━━━━━━━━━━━━━━━━━━━\u001b[0m\u001b[91m╸\u001b[0m\u001b[90m━━━━━━━━━━━━━━━━━━━\u001b[0m \u001b[32m41.2/78.4 MB\u001b[0m \u001b[31m210.6 MB/s\u001b[0m eta \u001b[36m0:00:01\u001b[0m\r\u001b[2K   \u001b[91m━━━━━━━━━━━━━━━━━━━━━━━━━━━━━━━━━━━━━━━\u001b[0m\u001b[91m╸\u001b[0m \u001b[32m78.4/78.4 MB\u001b[0m \u001b[31m202.5 MB/s\u001b[0m eta \u001b[36m0:00:01\u001b[0m\r\u001b[2K   \u001b[91m━━━━━━━━━━━━━━━━━━━━━━━━━━━━━━━━━━━━━━━\u001b[0m\u001b[91m╸\u001b[0m \u001b[32m78.4/78.4 MB\u001b[0m \u001b[31m202.5 MB/s\u001b[0m eta \u001b[36m0:00:01\u001b[0m\r\u001b[2K   \u001b[91m━━━━━━━━━━━━━━━━━━━━━━━━━━━━━━━━━━━━━━━\u001b[0m\u001b[91m╸\u001b[0m \u001b[32m78.4/78.4 MB\u001b[0m \u001b[31m202.5 MB/s\u001b[0m eta \u001b[36m0:00:01\u001b[0m\r\u001b[2K   \u001b[91m━━━━━━━━━━━━━━━━━━━━━━━━━━━━━━━━━━━━━━━\u001b[0m\u001b[91m╸\u001b[0m \u001b[32m78.4/78.4 MB\u001b[0m \u001b[31m202.5 MB/s\u001b[0m eta \u001b[36m0:00:01\u001b[0m\r\u001b[2K   \u001b[90m━━━━━━━━━━━━━━━━━━━━━━━━━━━━━━━━━━━━━━━━\u001b[0m \u001b[32m78.4/78.4 MB\u001b[0m \u001b[31m70.4 MB/s\u001b[0m eta \u001b[36m0:00:00\u001b[0m\r\n",
      "\u001b[?25hInstalling collected packages: ecmwflibs\r\n",
      "Successfully installed ecmwflibs-0.6.3\r\n",
      "Collecting cfgrib\r\n",
      "  Downloading cfgrib-0.9.14.0-py3-none-any.whl.metadata (54 kB)\r\n",
      "Requirement already satisfied: attrs>=19.2 in /local_disk0/.ephemeral_nfs/envs/pythonEnv-1d282723-2da2-4ea7-ab27-2a668ee7cbe0/lib/python3.10/site-packages (from cfgrib) (24.2.0)\r\n",
      "Requirement already satisfied: click in /local_disk0/.ephemeral_nfs/envs/pythonEnv-1d282723-2da2-4ea7-ab27-2a668ee7cbe0/lib/python3.10/site-packages (from cfgrib) (8.1.7)\r\n",
      "Requirement already satisfied: eccodes>=0.9.8 in /local_disk0/.ephemeral_nfs/envs/pythonEnv-1d282723-2da2-4ea7-ab27-2a668ee7cbe0/lib/python3.10/site-packages (from cfgrib) (1.7.1)\r\n",
      "Requirement already satisfied: numpy in /local_disk0/.ephemeral_nfs/envs/pythonEnv-1d282723-2da2-4ea7-ab27-2a668ee7cbe0/lib/python3.10/site-packages (from cfgrib) (1.24.4)\r\n",
      "Requirement already satisfied: cffi in /databricks/python3/lib/python3.10/site-packages (from eccodes>=0.9.8->cfgrib) (1.15.1)\r\n",
      "Requirement already satisfied: findlibs in /local_disk0/.ephemeral_nfs/envs/pythonEnv-1d282723-2da2-4ea7-ab27-2a668ee7cbe0/lib/python3.10/site-packages (from eccodes>=0.9.8->cfgrib) (0.0.5)\r\n",
      "Requirement already satisfied: pycparser in /databricks/python3/lib/python3.10/site-packages (from cffi->eccodes>=0.9.8->cfgrib) (2.21)\r\n",
      "Downloading cfgrib-0.9.14.0-py3-none-any.whl (48 kB)\r\n",
      "Installing collected packages: cfgrib\r\n",
      "Successfully installed cfgrib-0.9.14.0\r\n",
      "Collecting numpy==1.23.0\r\n",
      "  Downloading numpy-1.23.0-cp310-cp310-manylinux_2_17_x86_64.manylinux2014_x86_64.whl.metadata (2.2 kB)\r\n",
      "Downloading numpy-1.23.0-cp310-cp310-manylinux_2_17_x86_64.manylinux2014_x86_64.whl (17.0 MB)\r\n",
      "\u001b[?25l   \u001b[90m━━━━━━━━━━━━━━━━━━━━━━━━━━━━━━━━━━━━━━━━\u001b[0m \u001b[32m0.0/17.0 MB\u001b[0m \u001b[31m?\u001b[0m eta \u001b[36m-:--:--\u001b[0m\r\u001b[2K   \u001b[90m━━━━━━━━━━━━━━━━━━━━━━━━━━━━━━━━━━━━━━━━\u001b[0m \u001b[32m17.0/17.0 MB\u001b[0m \u001b[31m100.0 MB/s\u001b[0m eta \u001b[36m0:00:00\u001b[0m\r\n",
      "\u001b[?25hInstalling collected packages: numpy\r\n",
      "  Attempting uninstall: numpy\r\n",
      "    Found existing installation: numpy 1.24.4\r\n",
      "    Uninstalling numpy-1.24.4:\r\n",
      "      Successfully uninstalled numpy-1.24.4\r\n",
      "Successfully installed numpy-1.23.0\r\n"
     ]
    }
   ],
   "source": [
    "!python -m pip install --upgrade pip\n",
    "!pip install xarray[complete]\n",
    "!pip install eccodes\n",
    "!pip install ecmwflibs\n",
    "!pip install cfgrib\n",
    "!pip install numpy==1.23.0"
   ]
  },
  {
   "cell_type": "code",
   "execution_count": null,
   "metadata": {
    "application/vnd.databricks.v1+cell": {
     "cellMetadata": {
      "byteLimit": 2048000,
      "rowLimit": 10000
     },
     "inputWidgets": {},
     "nuid": "bd1c3c43-ff74-45fc-8bec-53b0e3e863ef",
     "showTitle": false,
     "title": ""
    }
   },
   "outputs": [],
   "source": [
    "dbutils.library.restartPython()"
   ]
  },
  {
   "cell_type": "code",
   "execution_count": null,
   "metadata": {
    "application/vnd.databricks.v1+cell": {
     "cellMetadata": {
      "byteLimit": 2048000,
      "rowLimit": 10000
     },
     "inputWidgets": {},
     "nuid": "73461d83-ef4d-42dc-8e4d-d4bc5733d0e5",
     "showTitle": false,
     "title": ""
    }
   },
   "outputs": [
    {
     "data": {
      "text/plain": [
       "'20240813'"
      ]
     },
     "execution_count": 1,
     "metadata": {},
     "output_type": "execute_result"
    }
   ],
   "source": [
    "import xarray as xr\n",
    "import urllib.request\n",
    "from datetime import datetime, timedelta\n",
    "\n",
    "yesterday = datetime.now() - timedelta(days = 1)\n",
    "yesterday = yesterday.strftime(\"%Y%m%d\")\n",
    "\n",
    "yesterday"
   ]
  },
  {
   "cell_type": "markdown",
   "metadata": {
    "application/vnd.databricks.v1+cell": {
     "cellMetadata": {
      "byteLimit": 2048000,
      "rowLimit": 10000
     },
     "inputWidgets": {},
     "nuid": "a2af4d4d-d43c-469c-b8d3-c354a446f487",
     "showTitle": false,
     "title": ""
    }
   },
   "source": [
    "### 0.25 resolution degree = 515 MB / file "
   ]
  },
  {
   "cell_type": "code",
   "execution_count": null,
   "metadata": {
    "application/vnd.databricks.v1+cell": {
     "cellMetadata": {
      "byteLimit": 2048000,
      "rowLimit": 10000
     },
     "inputWidgets": {},
     "nuid": "aa33c033-f795-49ca-98c0-9e11eed66273",
     "showTitle": false,
     "title": ""
    }
   },
   "outputs": [
    {
     "name": "stdout",
     "output_type": "stream",
     "text": [
      "CPU times: user 3.82 s, sys: 1.84 s, total: 5.66 s\n",
      "Wall time: 6.3 s\n"
     ]
    }
   ],
   "source": [
    "%%time\n",
    "URL = f\"https://nomads.ncep.noaa.gov/pub/data/nccf/com/gfs/prod/gfs.{yesterday}/12/atmos/gfs.t12z.pgrb2.0p25.f108\"\n",
    "filename, _ = urllib.request.urlretrieve(URL)\n",
    "\n",
    "ds = xr.open_dataset(\n",
    "        filename,\n",
    "        engine=\"cfgrib\",\n",
    "        filter_by_keys={'typeOfLevel': 'pressureFromGroundLayer'},\n",
    "        backend_kwargs={\"errors\": \"ignore\"}\n",
    ")"
   ]
  },
  {
   "cell_type": "code",
   "execution_count": null,
   "metadata": {
    "application/vnd.databricks.v1+cell": {
     "cellMetadata": {
      "byteLimit": 2048000,
      "rowLimit": 10000
     },
     "inputWidgets": {},
     "nuid": "7542c863-3d69-4972-9334-b633024e86f6",
     "showTitle": false,
     "title": ""
    }
   },
   "outputs": [
    {
     "name": "stdout",
     "output_type": "stream",
     "text": [
      "CPU times: user 2.23 s, sys: 1.56 s, total: 3.8 s\n",
      "Wall time: 9.24 s\n"
     ]
    }
   ],
   "source": [
    "%%time\n",
    "URL = f\"https://noaagfs.blob.core.windows.net/gfs/gfs.{yesterday}/12/atmos/gfs.t12z.pgrb2.0p25.f108\"\n",
    "\n",
    "filename, _ = urllib.request.urlretrieve(URL)\n",
    "ds = xr.open_dataset(\n",
    "        filename,\n",
    "        engine=\"cfgrib\",\n",
    "        filter_by_keys={'typeOfLevel': 'pressureFromGroundLayer'},\n",
    "        backend_kwargs={\"errors\": \"ignore\"}\n",
    ")"
   ]
  },
  {
   "cell_type": "code",
   "execution_count": null,
   "metadata": {
    "application/vnd.databricks.v1+cell": {
     "cellMetadata": {
      "byteLimit": 2048000,
      "rowLimit": 10000
     },
     "inputWidgets": {},
     "nuid": "5fc0a7a0-a581-4f33-ade1-2ea1d6e0a0e2",
     "showTitle": false,
     "title": ""
    }
   },
   "outputs": [
    {
     "name": "stdout",
     "output_type": "stream",
     "text": [
      "CPU times: user 2.21 s, sys: 1.64 s, total: 3.84 s\n",
      "Wall time: 22.6 s\n"
     ]
    }
   ],
   "source": [
    "%%time\n",
    "URL = f\"https://noaa-gfs-bdp-pds.s3.amazonaws.com/gfs.{yesterday}/12/atmos/gfs.t12z.pgrb2.0p25.f108\"\n",
    "\n",
    "filename, _ = urllib.request.urlretrieve(URL)\n",
    "ds = xr.open_dataset(\n",
    "        filename,\n",
    "        engine=\"cfgrib\",\n",
    "        filter_by_keys={'typeOfLevel': 'pressureFromGroundLayer'},\n",
    "        backend_kwargs={\"errors\": \"ignore\"}\n",
    ")"
   ]
  },
  {
   "cell_type": "code",
   "execution_count": null,
   "metadata": {
    "application/vnd.databricks.v1+cell": {
     "cellMetadata": {
      "byteLimit": 2048000,
      "rowLimit": 10000
     },
     "inputWidgets": {},
     "nuid": "135373d1-aab4-4a5d-b955-c35f8af92c07",
     "showTitle": false,
     "title": ""
    }
   },
   "outputs": [
    {
     "name": "stdout",
     "output_type": "stream",
     "text": [
      "CPU times: user 2.1 s, sys: 1.74 s, total: 3.84 s\n",
      "Wall time: 8.06 s\n"
     ]
    }
   ],
   "source": [
    "%%time\n",
    "URL = f\"https://storage.googleapis.com/global-forecast-system/gfs.{yesterday}/12/atmos/gfs.t12z.pgrb2.0p25.f108\"\n",
    "\n",
    "filename, _ = urllib.request.urlretrieve(URL)\n",
    "ds = xr.open_dataset(\n",
    "        filename,\n",
    "        engine=\"cfgrib\",\n",
    "        filter_by_keys={'typeOfLevel': 'pressureFromGroundLayer'},\n",
    "        backend_kwargs={\"errors\": \"ignore\"}\n",
    ")"
   ]
  },
  {
   "cell_type": "markdown",
   "metadata": {
    "application/vnd.databricks.v1+cell": {
     "cellMetadata": {
      "byteLimit": 2048000,
      "rowLimit": 10000
     },
     "inputWidgets": {},
     "nuid": "8e8b926b-9fc7-4c90-9d90-6b9766eb4736",
     "showTitle": false,
     "title": ""
    }
   },
   "source": [
    "### 1.00 resolution degree = 42.5 MB / file "
   ]
  },
  {
   "cell_type": "code",
   "execution_count": null,
   "metadata": {
    "application/vnd.databricks.v1+cell": {
     "cellMetadata": {
      "byteLimit": 2048000,
      "rowLimit": 10000
     },
     "inputWidgets": {},
     "nuid": "0caf0e8a-ea9d-41bc-871b-2d460003cf6c",
     "showTitle": false,
     "title": ""
    }
   },
   "outputs": [
    {
     "name": "stdout",
     "output_type": "stream",
     "text": [
      "CPU times: user 1.17 s, sys: 139 ms, total: 1.31 s\n",
      "Wall time: 1.58 s\n"
     ]
    }
   ],
   "source": [
    "%%time\n",
    "URL = f\"https://nomads.ncep.noaa.gov/pub/data/nccf/com/gfs/prod/gfs.{yesterday}/12/atmos/gfs.t12z.pgrb2.1p00.f108\"\n",
    "\n",
    "filename, _ = urllib.request.urlretrieve(URL)\n",
    "ds = xr.open_dataset(\n",
    "        filename,\n",
    "        engine=\"cfgrib\",\n",
    "        filter_by_keys={'typeOfLevel': 'pressureFromGroundLayer'},\n",
    "        backend_kwargs={\"errors\": \"ignore\"}\n",
    ")"
   ]
  },
  {
   "cell_type": "code",
   "execution_count": null,
   "metadata": {
    "application/vnd.databricks.v1+cell": {
     "cellMetadata": {
      "byteLimit": 2048000,
      "rowLimit": 10000
     },
     "inputWidgets": {},
     "nuid": "b266ca3a-c451-41ad-af4d-d83cab8f686a",
     "showTitle": false,
     "title": ""
    }
   },
   "outputs": [
    {
     "name": "stdout",
     "output_type": "stream",
     "text": [
      "CPU times: user 1.19 s, sys: 148 ms, total: 1.33 s\n",
      "Wall time: 1.43 s\n"
     ]
    }
   ],
   "source": [
    "%%time\n",
    "URL = f'https://noaagfs.blob.core.windows.net/gfs/gfs.{yesterday}/12/atmos/gfs.t12z.pgrb2.1p00.f108'\n",
    "\n",
    "filename, _ = urllib.request.urlretrieve(URL)\n",
    "ds = xr.open_dataset(\n",
    "        filename,\n",
    "        engine=\"cfgrib\",\n",
    "        filter_by_keys={'typeOfLevel': 'pressureFromGroundLayer'},\n",
    "        backend_kwargs={\"errors\": \"ignore\"}\n",
    ")"
   ]
  },
  {
   "cell_type": "code",
   "execution_count": null,
   "metadata": {
    "application/vnd.databricks.v1+cell": {
     "cellMetadata": {
      "byteLimit": 2048000,
      "rowLimit": 10000
     },
     "inputWidgets": {},
     "nuid": "687ff5ea-efac-474e-ba87-fc765db8904c",
     "showTitle": false,
     "title": ""
    }
   },
   "outputs": [
    {
     "name": "stdout",
     "output_type": "stream",
     "text": [
      "CPU times: user 1.17 s, sys: 160 ms, total: 1.33 s\n",
      "Wall time: 2.24 s\n"
     ]
    }
   ],
   "source": [
    "%%time\n",
    "URL = f\"https://noaa-gfs-bdp-pds.s3.amazonaws.com/gfs.{yesterday}/12/atmos/gfs.t12z.pgrb2.1p00.f108\"\n",
    "\n",
    "filename, _ = urllib.request.urlretrieve(URL)\n",
    "ds = xr.open_dataset(\n",
    "        filename,\n",
    "        engine=\"cfgrib\",\n",
    "        filter_by_keys={'typeOfLevel': 'pressureFromGroundLayer'},\n",
    "        backend_kwargs={\"errors\": \"ignore\"}\n",
    ")"
   ]
  },
  {
   "cell_type": "code",
   "execution_count": null,
   "metadata": {
    "application/vnd.databricks.v1+cell": {
     "cellMetadata": {
      "byteLimit": 2048000,
      "rowLimit": 10000
     },
     "inputWidgets": {},
     "nuid": "f6d638d6-813a-417d-b3aa-2f7ae8b34800",
     "showTitle": false,
     "title": ""
    }
   },
   "outputs": [
    {
     "name": "stdout",
     "output_type": "stream",
     "text": [
      "CPU times: user 1.17 s, sys: 166 ms, total: 1.34 s\n",
      "Wall time: 1.58 s\n"
     ]
    }
   ],
   "source": [
    "%%time\n",
    "URL = f\"https://storage.googleapis.com/global-forecast-system/gfs.{yesterday}/12/atmos/gfs.t12z.pgrb2.1p00.f108\"\n",
    "\n",
    "filename, _ = urllib.request.urlretrieve(URL)\n",
    "ds = xr.open_dataset(\n",
    "        filename,\n",
    "        engine=\"cfgrib\",\n",
    "        filter_by_keys={'typeOfLevel': 'pressureFromGroundLayer'},\n",
    "        backend_kwargs={\"errors\": \"ignore\"}\n",
    ")"
   ]
  },
  {
   "cell_type": "markdown",
   "metadata": {
    "application/vnd.databricks.v1+cell": {
     "cellMetadata": {
      "byteLimit": 2048000,
      "rowLimit": 10000
     },
     "inputWidgets": {},
     "nuid": "f7e1c483-5dde-41ff-a2fd-bc317311d083",
     "showTitle": false,
     "title": ""
    }
   },
   "source": [
    "---"
   ]
  },
  {
   "cell_type": "markdown",
   "metadata": {
    "application/vnd.databricks.v1+cell": {
     "cellMetadata": {
      "byteLimit": 2048000,
      "rowLimit": 10000
     },
     "inputWidgets": {},
     "nuid": "f28c7cb2-2259-42ab-8b78-9f9ccb365abc",
     "showTitle": false,
     "title": ""
    }
   },
   "source": [
    "### Concatenate 25 GFS file with 0.25 resolution degree (step: 0 - 24)"
   ]
  },
  {
   "cell_type": "code",
   "execution_count": null,
   "metadata": {
    "application/vnd.databricks.v1+cell": {
     "cellMetadata": {
      "byteLimit": 2048000,
      "rowLimit": 10000
     },
     "inputWidgets": {},
     "nuid": "5ab33d61-94a2-420f-abfb-fb5477fd177a",
     "showTitle": false,
     "title": ""
    }
   },
   "outputs": [],
   "source": [
    "import os\n",
    "import warnings\n",
    "warnings.filterwarnings('ignore')\n",
    "\n",
    "def file_path(source: str, cycle_runtime: int, forecast_hour: int, year: int, month: int, day: int, resolution_degree: float) -> str:\n",
    "    \n",
    "    if source == 'nomads':\n",
    "        prefix_path = \"https://nomads.ncep.noaa.gov/pub/data/nccf/com/gfs/prod/\"\n",
    "    elif source == 'az':\n",
    "        prefix_path = \"https://noaagfs.blob.core.windows.net/gfs/\"\n",
    "    elif source == 'aws':\n",
    "        prefix_path = \"https://noaa-gfs-bdp-pds.s3.amazonaws.com/\"\n",
    "    elif source == 'gcs':\n",
    "        prefix_path = \"https://storage.googleapis.com/global-forecast-system/\"\n",
    "\n",
    "    assert source in ['nomads', 'az', 'aws', 'gcs'], \"input source must be one of ['nomads', 'az', 'aws', 'gcs']\"\n",
    "\n",
    "    product_name = \"gfs\"\n",
    "    resolution_split = str(resolution_degree).split(\".\")\n",
    "\n",
    "    file_path = (\n",
    "        f\"{product_name}.{year}{month:>02}{day:>02}/\"\n",
    "        f\"{cycle_runtime:>02}/atmos/{product_name}.t{cycle_runtime:>02}z.\"\n",
    "        f\"pgrb2.{resolution_split[0]}p{resolution_split[1]:<02}.f{forecast_hour:>03}\"\n",
    "    )\n",
    "\n",
    "    whole_path = os.path.join(prefix_path, file_path)\n",
    "\n",
    "    return whole_path"
   ]
  },
  {
   "cell_type": "code",
   "execution_count": null,
   "metadata": {
    "application/vnd.databricks.v1+cell": {
     "cellMetadata": {
      "byteLimit": 2048000,
      "rowLimit": 10000
     },
     "inputWidgets": {},
     "nuid": "e51ed54c-0826-4917-a004-dc2a74071c13",
     "showTitle": false,
     "title": ""
    }
   },
   "outputs": [
    {
     "name": "stdout",
     "output_type": "stream",
     "text": [
      "CPU times: user 1min 10s, sys: 46.6 s, total: 1min 57s\n",
      "Wall time: 5min 50s\n"
     ]
    }
   ],
   "source": [
    "%%time\n",
    "ds_list = []\n",
    "for i in range(0, 24 + 1):\n",
    "    URL = file_path(source='nomads', cycle_runtime=12, forecast_hour=i, year=int(yesterday[:4]), month=int(yesterday[4:6]), day=int(yesterday[6:8]), resolution_degree=.25)\n",
    "    filename, _ = urllib.request.urlretrieve(URL)\n",
    "    ds = xr.open_dataset(\n",
    "         filename,\n",
    "         engine=\"cfgrib\",\n",
    "         filter_by_keys={'typeOfLevel': 'pressureFromGroundLayer'},\n",
    "         backend_kwargs={\"errors\": \"ignore\"}\n",
    "    )\n",
    "    ds_list.append(ds)\n",
    "\n",
    "ds_merged = xr.concat(ds_list,  dim='step')"
   ]
  },
  {
   "cell_type": "code",
   "execution_count": null,
   "metadata": {
    "application/vnd.databricks.v1+cell": {
     "cellMetadata": {
      "byteLimit": 2048000,
      "rowLimit": 10000
     },
     "inputWidgets": {},
     "nuid": "04f96a69-d793-4394-9b4a-596e8558c8fe",
     "showTitle": false,
     "title": ""
    }
   },
   "outputs": [
    {
     "name": "stdout",
     "output_type": "stream",
     "text": [
      "CPU times: user 59.3 s, sys: 43.4 s, total: 1min 42s\n",
      "Wall time: 3min 31s\n"
     ]
    }
   ],
   "source": [
    "%%time\n",
    "ds_list = []\n",
    "for i in range(0, 24 + 1):\n",
    "    URL = file_path(source='az', cycle_runtime=12, forecast_hour=i, year=int(yesterday[:4]), month=int(yesterday[4:6]), day=int(yesterday[6:8]), resolution_degree=.25)\n",
    "    filename, _ = urllib.request.urlretrieve(URL)\n",
    "    ds = xr.open_dataset(\n",
    "         filename,\n",
    "         engine=\"cfgrib\",\n",
    "         filter_by_keys={'typeOfLevel': 'pressureFromGroundLayer'},\n",
    "         backend_kwargs={\"errors\": \"ignore\"}\n",
    "    )\n",
    "    ds_list.append(ds)\n",
    "\n",
    "ds_merged = xr.concat(ds_list,  dim='step')"
   ]
  },
  {
   "cell_type": "code",
   "execution_count": null,
   "metadata": {
    "application/vnd.databricks.v1+cell": {
     "cellMetadata": {
      "byteLimit": 2048000,
      "rowLimit": 10000
     },
     "inputWidgets": {},
     "nuid": "02ded707-4c5c-44aa-8dfe-6fac27bae4e5",
     "showTitle": false,
     "title": ""
    }
   },
   "outputs": [
    {
     "name": "stdout",
     "output_type": "stream",
     "text": [
      "CPU times: user 1min 12s, sys: 45.4 s, total: 1min 58s\n",
      "Wall time: 6min 11s\n"
     ]
    }
   ],
   "source": [
    "%%time\n",
    "ds_list = []\n",
    "for i in range(0, 24 + 1):\n",
    "    URL = file_path(source='aws', cycle_runtime=12, forecast_hour=i, year=int(yesterday[:4]), month=int(yesterday[4:6]), day=int(yesterday[6:8]), resolution_degree=.25)\n",
    "    filename, _ = urllib.request.urlretrieve(URL)\n",
    "    ds = xr.open_dataset(\n",
    "         filename,\n",
    "         engine=\"cfgrib\",\n",
    "         filter_by_keys={'typeOfLevel': 'pressureFromGroundLayer'},\n",
    "         backend_kwargs={\"errors\": \"ignore\"}\n",
    "    )\n",
    "    ds_list.append(ds)\n",
    "\n",
    "ds_merged = xr.concat(ds_list,  dim='step')"
   ]
  },
  {
   "cell_type": "code",
   "execution_count": null,
   "metadata": {
    "application/vnd.databricks.v1+cell": {
     "cellMetadata": {
      "byteLimit": 2048000,
      "rowLimit": 10000
     },
     "inputWidgets": {},
     "nuid": "cf6a5e65-a697-436b-aa54-7efe8d6d4c0d",
     "showTitle": false,
     "title": ""
    }
   },
   "outputs": [
    {
     "name": "stdout",
     "output_type": "stream",
     "text": [
      "CPU times: user 1min 5s, sys: 43.5 s, total: 1min 49s\n",
      "Wall time: 3min 20s\n"
     ]
    }
   ],
   "source": [
    "%%time\n",
    "ds_list = []\n",
    "for i in range(0, 24 + 1):\n",
    "    URL = file_path(source='gcs', cycle_runtime=12, forecast_hour=i, year=int(yesterday[:4]), month=int(yesterday[4:6]), day=int(yesterday[6:8]), resolution_degree=.25)\n",
    "    filename, _ = urllib.request.urlretrieve(URL)\n",
    "    ds = xr.open_dataset(\n",
    "         filename,\n",
    "         engine=\"cfgrib\",\n",
    "         filter_by_keys={'typeOfLevel': 'pressureFromGroundLayer'},\n",
    "         backend_kwargs={\"errors\": \"ignore\"}\n",
    "    )\n",
    "    ds_list.append(ds)\n",
    "\n",
    "ds_merged = xr.concat(ds_list,  dim='step')"
   ]
  },
  {
   "cell_type": "markdown",
   "metadata": {
    "application/vnd.databricks.v1+cell": {
     "cellMetadata": {
      "byteLimit": 2048000,
      "rowLimit": 10000
     },
     "inputWidgets": {},
     "nuid": "8a5d0258-08a8-4d06-a5f4-a53606133564",
     "showTitle": false,
     "title": ""
    }
   },
   "source": [
    "### Concatenate 25 GFS file with 1.00 resolution degree (step: 0 - 72 with interval 3)"
   ]
  },
  {
   "cell_type": "code",
   "execution_count": null,
   "metadata": {
    "application/vnd.databricks.v1+cell": {
     "cellMetadata": {
      "byteLimit": 2048000,
      "rowLimit": 10000
     },
     "inputWidgets": {},
     "nuid": "d952c13f-48bf-4ae7-a7a0-72bb1e0b130b",
     "showTitle": false,
     "title": ""
    }
   },
   "outputs": [
    {
     "name": "stdout",
     "output_type": "stream",
     "text": [
      "CPU times: user 30.2 s, sys: 3.98 s, total: 34.2 s\n",
      "Wall time: 1min 19s\n"
     ]
    }
   ],
   "source": [
    "%%time\n",
    "ds_list = []\n",
    "for i in range(0, 72 + 1, 3):\n",
    "    URL = file_path(source='nomads', cycle_runtime=12, forecast_hour=i, year=int(yesterday[:4]), month=int(yesterday[4:6]), day=int(yesterday[6:8]), resolution_degree=1.)\n",
    "    filename, _ = urllib.request.urlretrieve(URL)\n",
    "    ds = xr.open_dataset(\n",
    "         filename,\n",
    "         engine=\"cfgrib\",\n",
    "         filter_by_keys={'typeOfLevel': 'pressureFromGroundLayer'},\n",
    "         backend_kwargs={\"errors\": \"ignore\"}\n",
    "    )\n",
    "    ds_list.append(ds)\n",
    "\n",
    "ds_merged = xr.concat(ds_list,  dim='step')"
   ]
  },
  {
   "cell_type": "code",
   "execution_count": null,
   "metadata": {
    "application/vnd.databricks.v1+cell": {
     "cellMetadata": {
      "byteLimit": 2048000,
      "rowLimit": 10000
     },
     "inputWidgets": {},
     "nuid": "09796be4-479b-470b-b90c-f191a1f09500",
     "showTitle": false,
     "title": ""
    }
   },
   "outputs": [
    {
     "name": "stdout",
     "output_type": "stream",
     "text": [
      "CPU times: user 30.2 s, sys: 3.68 s, total: 33.9 s\n",
      "Wall time: 38.7 s\n"
     ]
    }
   ],
   "source": [
    "%%time\n",
    "ds_list = []\n",
    "for i in range(0, 72 + 1, 3):\n",
    "    URL = file_path(source='az', cycle_runtime=12, forecast_hour=i, year=int(yesterday[:4]), month=int(yesterday[4:6]), day=int(yesterday[6:8]), resolution_degree=1.)\n",
    "    filename, _ = urllib.request.urlretrieve(URL)\n",
    "    ds = xr.open_dataset(\n",
    "         filename,\n",
    "         engine=\"cfgrib\",\n",
    "         filter_by_keys={'typeOfLevel': 'pressureFromGroundLayer'},\n",
    "         backend_kwargs={\"errors\": \"ignore\"}\n",
    "    )\n",
    "    ds_list.append(ds)\n",
    "\n",
    "ds_merged = xr.concat(ds_list,  dim='step')"
   ]
  },
  {
   "cell_type": "code",
   "execution_count": null,
   "metadata": {
    "application/vnd.databricks.v1+cell": {
     "cellMetadata": {
      "byteLimit": 2048000,
      "rowLimit": 10000
     },
     "inputWidgets": {},
     "nuid": "058f7f4c-c886-4667-b478-0191a8cfe238",
     "showTitle": false,
     "title": ""
    }
   },
   "outputs": [
    {
     "name": "stdout",
     "output_type": "stream",
     "text": [
      "CPU times: user 30.9 s, sys: 3.96 s, total: 34.8 s\n",
      "Wall time: 1min 6s\n"
     ]
    }
   ],
   "source": [
    "%%time\n",
    "ds_list = []\n",
    "for i in range(0, 72 + 1, 3):\n",
    "    URL = file_path(source='aws', cycle_runtime=12, forecast_hour=i, year=int(yesterday[:4]), month=int(yesterday[4:6]), day=int(yesterday[6:8]), resolution_degree=1.)\n",
    "    filename, _ = urllib.request.urlretrieve(URL)\n",
    "    ds = xr.open_dataset(\n",
    "         filename,\n",
    "         engine=\"cfgrib\",\n",
    "         filter_by_keys={'typeOfLevel': 'pressureFromGroundLayer'},\n",
    "         backend_kwargs={\"errors\": \"ignore\"}\n",
    "    )\n",
    "    ds_list.append(ds)\n",
    "\n",
    "ds_merged = xr.concat(ds_list,  dim='step')"
   ]
  },
  {
   "cell_type": "code",
   "execution_count": null,
   "metadata": {
    "application/vnd.databricks.v1+cell": {
     "cellMetadata": {
      "byteLimit": 2048000,
      "rowLimit": 10000
     },
     "inputWidgets": {},
     "nuid": "4e878eb9-b77b-40d0-8cdb-1f4de35fabf5",
     "showTitle": false,
     "title": ""
    }
   },
   "outputs": [
    {
     "name": "stdout",
     "output_type": "stream",
     "text": [
      "CPU times: user 31.1 s, sys: 3.73 s, total: 34.8 s\n",
      "Wall time: 49.7 s\n"
     ]
    }
   ],
   "source": [
    "%%time\n",
    "ds_list = []\n",
    "for i in range(0, 72 + 1, 3):\n",
    "    URL = file_path(source='gcs', cycle_runtime=12, forecast_hour=i, year=int(yesterday[:4]), month=int(yesterday[4:6]), day=int(yesterday[6:8]), resolution_degree=1.)\n",
    "    filename, _ = urllib.request.urlretrieve(URL)\n",
    "    ds = xr.open_dataset(\n",
    "         filename,\n",
    "         engine=\"cfgrib\",\n",
    "         filter_by_keys={'typeOfLevel': 'pressureFromGroundLayer'},\n",
    "         backend_kwargs={\"errors\": \"ignore\"}\n",
    "    )\n",
    "    ds_list.append(ds)\n",
    "\n",
    "ds_merged = xr.concat(ds_list,  dim='step')"
   ]
  }
 ],
 "metadata": {
  "application/vnd.databricks.v1+notebook": {
   "dashboards": [],
   "environmentMetadata": null,
   "language": "python",
   "notebookMetadata": {
    "pythonIndentUnit": 4
   },
   "notebookName": "test_GFS_access_speed_Databricks",
   "widgets": {}
  },
  "kernelspec": {
   "display_name": "testenv",
   "language": "python",
   "name": "python3"
  },
  "language_info": {
   "codemirror_mode": {
    "name": "ipython",
    "version": 3
   },
   "file_extension": ".py",
   "mimetype": "text/x-python",
   "name": "python",
   "nbconvert_exporter": "python",
   "pygments_lexer": "ipython3",
   "version": "3.11.8"
  }
 },
 "nbformat": 4,
 "nbformat_minor": 0
}
