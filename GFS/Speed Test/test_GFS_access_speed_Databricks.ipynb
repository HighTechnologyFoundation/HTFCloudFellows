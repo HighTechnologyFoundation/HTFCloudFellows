{
 "cells": [
  {
   "cell_type": "markdown",
   "metadata": {
    "application/vnd.databricks.v1+cell": {
     "cellMetadata": {
      "byteLimit": 2048000,
      "rowLimit": 10000
     },
     "inputWidgets": {},
     "nuid": "1b5dba87-e726-4a6c-8e03-c7b3b0b14be2",
     "showTitle": false,
     "title": ""
    }
   },
   "source": [
    "# Test the speed of reading GFS data with 0.25 and 1.00 resolution degree into `Xarray dataset` from four sources: `NOMADS server` , `Azure Blob Storage` , `AWS S3 Bucket`, `Google Cloud Storage` in Azure Databricks environment.\n",
    "\n",
    "---"
   ]
  },
  {
   "cell_type": "code",
   "execution_count": 0,
   "metadata": {
    "application/vnd.databricks.v1+cell": {
     "cellMetadata": {
      "byteLimit": 2048000,
      "rowLimit": 10000
     },
     "inputWidgets": {},
     "nuid": "40dbb225-cc1f-439e-a7c2-e5c07a0be2f4",
     "showTitle": false,
     "title": ""
    }
   },
   "outputs": [],
   "source": [
    "!python -m pip install --upgrade pip\n",
    "!pip install xarray[complete]\n",
    "!pip install eccodes\n",
    "!pip install ecmwflibs\n",
    "!pip install cfgrib\n",
    "!pip install numpy==1.23.0"
   ]
  },
  {
   "cell_type": "code",
   "execution_count": 0,
   "metadata": {
    "application/vnd.databricks.v1+cell": {
     "cellMetadata": {
      "byteLimit": 2048000,
      "rowLimit": 10000
     },
     "inputWidgets": {},
     "nuid": "bd1c3c43-ff74-45fc-8bec-53b0e3e863ef",
     "showTitle": false,
     "title": ""
    }
   },
   "outputs": [],
   "source": [
    "dbutils.library.restartPython()"
   ]
  },
  {
   "cell_type": "code",
   "execution_count": 0,
   "metadata": {
    "application/vnd.databricks.v1+cell": {
     "cellMetadata": {
      "byteLimit": 2048000,
      "rowLimit": 10000
     },
     "inputWidgets": {},
     "nuid": "73461d83-ef4d-42dc-8e4d-d4bc5733d0e5",
     "showTitle": false,
     "title": ""
    }
   },
   "outputs": [],
   "source": [
    "import xarray as xr\n",
    "import urllib.request"
   ]
  },
  {
   "cell_type": "markdown",
   "metadata": {
    "application/vnd.databricks.v1+cell": {
     "cellMetadata": {
      "byteLimit": 2048000,
      "rowLimit": 10000
     },
     "inputWidgets": {},
     "nuid": "a2af4d4d-d43c-469c-b8d3-c354a446f487",
     "showTitle": false,
     "title": ""
    }
   },
   "source": [
    "### 0.25 resolution degree = 515 MB / file \n",
    "- NOMADS: 31s\n",
    "- Azure Blob Storage: 7s\n",
    "- AWS S3 Bucket: 20s\n",
    "- Google Cloud Storage: 7s"
   ]
  },
  {
   "cell_type": "code",
   "execution_count": 0,
   "metadata": {
    "application/vnd.databricks.v1+cell": {
     "cellMetadata": {
      "byteLimit": 2048000,
      "rowLimit": 10000
     },
     "inputWidgets": {},
     "nuid": "aa33c033-f795-49ca-98c0-9e11eed66273",
     "showTitle": false,
     "title": ""
    }
   },
   "outputs": [],
   "source": [
    "URL = \"https://nomads.ncep.noaa.gov/pub/data/nccf/com/gfs/prod/gfs.20240801/12/atmos/gfs.t12z.pgrb2.0p25.f108\"\n",
    "filename, _ = urllib.request.urlretrieve(URL)\n",
    "\n",
    "ds = xr.open_dataset(\n",
    "        filename,\n",
    "        engine=\"cfgrib\",\n",
    "        filter_by_keys={'typeOfLevel': 'pressureFromGroundLayer'},\n",
    "        backend_kwargs={\"errors\": \"ignore\"}\n",
    ")\n",
    "\n",
    "ds"
   ]
  },
  {
   "cell_type": "code",
   "execution_count": 0,
   "metadata": {
    "application/vnd.databricks.v1+cell": {
     "cellMetadata": {
      "byteLimit": 2048000,
      "rowLimit": 10000
     },
     "inputWidgets": {},
     "nuid": "7542c863-3d69-4972-9334-b633024e86f6",
     "showTitle": false,
     "title": ""
    }
   },
   "outputs": [],
   "source": [
    "URL = \"https://noaagfs.blob.core.windows.net/gfs/gfs.20240801/12/atmos/gfs.t12z.pgrb2.0p25.f108\"\n",
    "\n",
    "filename, _ = urllib.request.urlretrieve(URL)\n",
    "ds = xr.open_dataset(\n",
    "        filename,\n",
    "        engine=\"cfgrib\",\n",
    "        filter_by_keys={'typeOfLevel': 'pressureFromGroundLayer'},\n",
    "        backend_kwargs={\"errors\": \"ignore\"}\n",
    ")\n",
    "\n",
    "ds"
   ]
  },
  {
   "cell_type": "code",
   "execution_count": 0,
   "metadata": {
    "application/vnd.databricks.v1+cell": {
     "cellMetadata": {
      "byteLimit": 2048000,
      "rowLimit": 10000
     },
     "inputWidgets": {},
     "nuid": "5fc0a7a0-a581-4f33-ade1-2ea1d6e0a0e2",
     "showTitle": false,
     "title": ""
    }
   },
   "outputs": [],
   "source": [
    "URL = \"https://noaa-gfs-bdp-pds.s3.amazonaws.com/gfs.20240801/12/atmos/gfs.t12z.pgrb2.0p25.f108\"\n",
    "\n",
    "filename, _ = urllib.request.urlretrieve(URL)\n",
    "ds = xr.open_dataset(\n",
    "        filename,\n",
    "        engine=\"cfgrib\",\n",
    "        filter_by_keys={'typeOfLevel': 'pressureFromGroundLayer'},\n",
    "        backend_kwargs={\"errors\": \"ignore\"}\n",
    ")\n",
    "\n",
    "ds"
   ]
  },
  {
   "cell_type": "code",
   "execution_count": 0,
   "metadata": {
    "application/vnd.databricks.v1+cell": {
     "cellMetadata": {
      "byteLimit": 2048000,
      "rowLimit": 10000
     },
     "inputWidgets": {},
     "nuid": "135373d1-aab4-4a5d-b955-c35f8af92c07",
     "showTitle": false,
     "title": ""
    }
   },
   "outputs": [],
   "source": [
    "URL = \"https://storage.googleapis.com/global-forecast-system/gfs.20240801/12/atmos/gfs.t12z.pgrb2.0p25.f108\"\n",
    "\n",
    "filename, _ = urllib.request.urlretrieve(URL)\n",
    "ds = xr.open_dataset(\n",
    "        filename,\n",
    "        engine=\"cfgrib\",\n",
    "        filter_by_keys={'typeOfLevel': 'pressureFromGroundLayer'},\n",
    "        backend_kwargs={\"errors\": \"ignore\"}\n",
    ")\n",
    "\n",
    "ds\n"
   ]
  },
  {
   "cell_type": "markdown",
   "metadata": {
    "application/vnd.databricks.v1+cell": {
     "cellMetadata": {
      "byteLimit": 2048000,
      "rowLimit": 10000
     },
     "inputWidgets": {},
     "nuid": "8e8b926b-9fc7-4c90-9d90-6b9766eb4736",
     "showTitle": false,
     "title": ""
    }
   },
   "source": [
    "### 1.00 resolution degree = 42.5 MB / file \n",
    "- NOMADS: 4s\n",
    "- Azure Blob Storage: 2s\n",
    "- AWS S3 Bucket: 3s\n",
    "- Google Cloud Storage: 3s"
   ]
  },
  {
   "cell_type": "code",
   "execution_count": 0,
   "metadata": {
    "application/vnd.databricks.v1+cell": {
     "cellMetadata": {
      "byteLimit": 2048000,
      "rowLimit": 10000
     },
     "inputWidgets": {},
     "nuid": "0caf0e8a-ea9d-41bc-871b-2d460003cf6c",
     "showTitle": false,
     "title": ""
    }
   },
   "outputs": [],
   "source": [
    "URL = \"https://nomads.ncep.noaa.gov/pub/data/nccf/com/gfs/prod/gfs.20240801/12/atmos/gfs.t12z.pgrb2.1p00.f108\"\n",
    "\n",
    "filename, _ = urllib.request.urlretrieve(URL)\n",
    "ds = xr.open_dataset(\n",
    "        filename,\n",
    "        engine=\"cfgrib\",\n",
    "        filter_by_keys={'typeOfLevel': 'pressureFromGroundLayer'},\n",
    "        backend_kwargs={\"errors\": \"ignore\"}\n",
    ")\n",
    "\n",
    "ds"
   ]
  },
  {
   "cell_type": "code",
   "execution_count": 0,
   "metadata": {
    "application/vnd.databricks.v1+cell": {
     "cellMetadata": {
      "byteLimit": 2048000,
      "rowLimit": 10000
     },
     "inputWidgets": {},
     "nuid": "b266ca3a-c451-41ad-af4d-d83cab8f686a",
     "showTitle": false,
     "title": ""
    }
   },
   "outputs": [],
   "source": [
    "URL = 'https://noaagfs.blob.core.windows.net/gfs/gfs.20240801/12/atmos/gfs.t12z.pgrb2.1p00.f108'\n",
    "\n",
    "filename, _ = urllib.request.urlretrieve(URL)\n",
    "ds = xr.open_dataset(\n",
    "        filename,\n",
    "        engine=\"cfgrib\",\n",
    "        filter_by_keys={'typeOfLevel': 'pressureFromGroundLayer'},\n",
    "        backend_kwargs={\"errors\": \"ignore\"}\n",
    ")\n",
    "\n",
    "ds"
   ]
  },
  {
   "cell_type": "code",
   "execution_count": 0,
   "metadata": {
    "application/vnd.databricks.v1+cell": {
     "cellMetadata": {
      "byteLimit": 2048000,
      "rowLimit": 10000
     },
     "inputWidgets": {},
     "nuid": "687ff5ea-efac-474e-ba87-fc765db8904c",
     "showTitle": false,
     "title": ""
    }
   },
   "outputs": [],
   "source": [
    "URL = \"https://noaa-gfs-bdp-pds.s3.amazonaws.com/gfs.20240801/12/atmos/gfs.t12z.pgrb2.1p00.f108\"\n",
    "\n",
    "filename, _ = urllib.request.urlretrieve(URL)\n",
    "ds = xr.open_dataset(\n",
    "        filename,\n",
    "        engine=\"cfgrib\",\n",
    "        filter_by_keys={'typeOfLevel': 'pressureFromGroundLayer'},\n",
    "        backend_kwargs={\"errors\": \"ignore\"}\n",
    ")\n",
    "\n",
    "ds"
   ]
  },
  {
   "cell_type": "code",
   "execution_count": 0,
   "metadata": {
    "application/vnd.databricks.v1+cell": {
     "cellMetadata": {
      "byteLimit": 2048000,
      "rowLimit": 10000
     },
     "inputWidgets": {},
     "nuid": "f6d638d6-813a-417d-b3aa-2f7ae8b34800",
     "showTitle": false,
     "title": ""
    }
   },
   "outputs": [],
   "source": [
    "URL = \"https://storage.googleapis.com/global-forecast-system/gfs.20240801/12/atmos/gfs.t12z.pgrb2.1p00.f108\"\n",
    "\n",
    "filename, _ = urllib.request.urlretrieve(URL)\n",
    "ds = xr.open_dataset(\n",
    "        filename,\n",
    "        engine=\"cfgrib\",\n",
    "        filter_by_keys={'typeOfLevel': 'pressureFromGroundLayer'},\n",
    "        backend_kwargs={\"errors\": \"ignore\"}\n",
    ")\n",
    "\n",
    "ds"
   ]
  },
  {
   "cell_type": "markdown",
   "metadata": {
    "application/vnd.databricks.v1+cell": {
     "cellMetadata": {},
     "inputWidgets": {},
     "nuid": "f7e1c483-5dde-41ff-a2fd-bc317311d083",
     "showTitle": false,
     "title": ""
    }
   },
   "source": [
    "---"
   ]
  },
  {
   "cell_type": "code",
   "execution_count": 0,
   "metadata": {
    "application/vnd.databricks.v1+cell": {
     "cellMetadata": {
      "byteLimit": 2048000,
      "rowLimit": 10000
     },
     "inputWidgets": {},
     "nuid": "5ab33d61-94a2-420f-abfb-fb5477fd177a",
     "showTitle": false,
     "title": ""
    }
   },
   "outputs": [],
   "source": [
    "import os\n",
    "import warnings\n",
    "warnings.filterwarnings('ignore')\n",
    "\n",
    "def file_path_azure(cycle_runtime: int, forecast_hour: int, year: int, month: int, day: int, resolution_degree: float) -> str:\n",
    "    prefix_path = \"https://noaagfs.blob.core.windows.net/\"\n",
    "    product_name = \"gfs\"\n",
    "\n",
    "    resolution_split = str(resolution_degree).split(\".\")\n",
    "\n",
    "    file_path = (\n",
    "        f\"{product_name}/{product_name}.{year}{month:>02}{day:>02}/\"\n",
    "        f\"{cycle_runtime:>02}/atmos/{product_name}.t{cycle_runtime:>02}z.\"\n",
    "        f\"pgrb2.{resolution_split[0]}p{resolution_split[1]:<02}.f{forecast_hour:>03}\"\n",
    "    )\n",
    "\n",
    "    whole_path = os.path.join(prefix_path, file_path)\n",
    "\n",
    "    return whole_path"
   ]
  },
  {
   "cell_type": "code",
   "execution_count": 0,
   "metadata": {
    "application/vnd.databricks.v1+cell": {
     "cellMetadata": {
      "byteLimit": 2048000,
      "rowLimit": 10000
     },
     "inputWidgets": {},
     "nuid": "054050ad-e709-441e-9829-b900986a84fc",
     "showTitle": false,
     "title": ""
    }
   },
   "outputs": [],
   "source": [
    "def file_path_nomads(cycle_runtime: int, forecast_hour: int, year: int, month: int, day: int, resolution_degree: float) -> str:\n",
    "    prefix_path = \"https://nomads.ncep.noaa.gov/pub/data/nccf/com/\"\n",
    "    product_name = \"gfs\"\n",
    "    version = \"prod\"\n",
    "\n",
    "    resolution_split = str(resolution_degree).split(\".\")\n",
    "\n",
    "    file_path = (\n",
    "        f\"{product_name}/{version}/{product_name}.{year}{month:>02}{day:>02}/\"\n",
    "        f\"{cycle_runtime:>02}/atmos/{product_name}.t{cycle_runtime:>02}z.\"\n",
    "        f\"pgrb2.{resolution_split[0]}p{resolution_split[1]:<02}.f{forecast_hour:>03}\"\n",
    "    )\n",
    "\n",
    "    whole_path = os.path.join(prefix_path, file_path)\n",
    "\n",
    "    return whole_path"
   ]
  },
  {
   "cell_type": "code",
   "execution_count": 0,
   "metadata": {
    "application/vnd.databricks.v1+cell": {
     "cellMetadata": {
      "byteLimit": 2048000,
      "rowLimit": 10000
     },
     "inputWidgets": {},
     "nuid": "dd1150c1-2326-4eca-b65a-faecbefd7f2d",
     "showTitle": false,
     "title": ""
    }
   },
   "outputs": [],
   "source": [
    "def file_path_aws(cycle_runtime: int, forecast_hour: int, year: int, month: int, day: int, resolution_degree: float) -> str:\n",
    "    prefix_path = \"simplecache::s3://noaa-gfs-bdp-pds/\"\n",
    "    product_name = \"gfs\"\n",
    "\n",
    "    resolution_split = str(resolution_degree).split(\".\")\n",
    "\n",
    "    file_path = (\n",
    "        f\"{product_name}.{year}{month:>02}{day:>02}/\"\n",
    "        f\"{cycle_runtime:>02}/atmos/{product_name}.t{cycle_runtime:>02}z.\"\n",
    "        f\"pgrb2.{resolution_split[0]}p{resolution_split[1]:<02}.f{forecast_hour:>03}\"\n",
    "    )\n",
    "\n",
    "    whole_path = os.path.join(prefix_path, file_path)\n",
    "\n",
    "    return whole_path"
   ]
  },
  {
   "cell_type": "markdown",
   "metadata": {
    "application/vnd.databricks.v1+cell": {
     "cellMetadata": {},
     "inputWidgets": {},
     "nuid": "8a5d0258-08a8-4d06-a5f4-a53606133564",
     "showTitle": false,
     "title": ""
    }
   },
   "source": [
    "### Concatenate 37 GFS file with 0.25 resolution degree (step: 0 - 36)\n",
    "- NOMADS: 25m\n",
    "- Azure Blob: 3m\n",
    "- AWS S3 Bucket: 9m"
   ]
  },
  {
   "cell_type": "code",
   "execution_count": 0,
   "metadata": {
    "application/vnd.databricks.v1+cell": {
     "cellMetadata": {
      "byteLimit": 2048000,
      "rowLimit": 10000
     },
     "inputWidgets": {},
     "nuid": "d952c13f-48bf-4ae7-a7a0-72bb1e0b130b",
     "showTitle": false,
     "title": ""
    }
   },
   "outputs": [],
   "source": [
    "ds_list = []\n",
    "for i in range(0, 36 + 1):\n",
    "    URL = file_path_nomads(cycle_runtime=12, forecast_hour=i, year=2024, month=7, day=30, resolution_degree=.25)\n",
    "    filename, _ = urllib.request.urlretrieve(URL)\n",
    "    ds = xr.open_dataset(\n",
    "         filename,\n",
    "         engine=\"cfgrib\",\n",
    "         filter_by_keys={'typeOfLevel': 'pressureFromGroundLayer'},\n",
    "         backend_kwargs={\"errors\": \"ignore\"}\n",
    "    )\n",
    "    ds_list.append(ds)\n",
    "\n",
    "ds_merged = xr.concat(ds_list,  dim='step')\n",
    "\n",
    "ds_merged"
   ]
  },
  {
   "cell_type": "code",
   "execution_count": 0,
   "metadata": {
    "application/vnd.databricks.v1+cell": {
     "cellMetadata": {
      "byteLimit": 2048000,
      "rowLimit": 10000
     },
     "inputWidgets": {},
     "nuid": "09796be4-479b-470b-b90c-f191a1f09500",
     "showTitle": false,
     "title": ""
    }
   },
   "outputs": [],
   "source": [
    "ds_list = []\n",
    "for i in range(0, 36 + 1):\n",
    "    URL = file_path_azure(cycle_runtime=12, forecast_hour=i, year=2024, month=7, day=30, resolution_degree=.25)\n",
    "    filename, _ = urllib.request.urlretrieve(URL)\n",
    "    ds = xr.open_dataset(\n",
    "         filename,\n",
    "         engine=\"cfgrib\",\n",
    "         filter_by_keys={'typeOfLevel': 'pressureFromGroundLayer'},\n",
    "         backend_kwargs={\"errors\": \"ignore\"}\n",
    "    )\n",
    "    ds_list.append(ds)\n",
    "\n",
    "ds_merged = xr.concat(ds_list,  dim='step')\n",
    "\n",
    "ds_merged"
   ]
  },
  {
   "cell_type": "code",
   "execution_count": 0,
   "metadata": {
    "application/vnd.databricks.v1+cell": {
     "cellMetadata": {
      "byteLimit": 2048000,
      "rowLimit": 10000
     },
     "inputWidgets": {},
     "nuid": "058f7f4c-c886-4667-b478-0191a8cfe238",
     "showTitle": false,
     "title": ""
    }
   },
   "outputs": [],
   "source": [
    "ds_list = []\n",
    "for i in range(0, 36 + 1):\n",
    "    URL = file_path_aws(cycle_runtime=12, forecast_hour=i, year=2024, month=7, day=30, resolution_degree=.25)\n",
    "    file = fsspec.open_local(URL, \n",
    "                            s3 = {'anon' : True}, \n",
    "                            filecache = {'cache_storage':'/tmp/files'})\n",
    "\n",
    "    ds = xr.open_dataset(Remote_file, \n",
    "                        engine=\"cfgrib\",\n",
    "                        filter_by_keys={'typeOfLevel': 'pressureFromGroundLayer'},\n",
    "                        backend_kwargs={\"errors\": \"ignore\"})\n",
    "    ds_list.append(ds)\n",
    "\n",
    "ds_merged = xr.concat(ds_list,  dim='step')\n",
    "\n",
    "ds_merged"
   ]
  }
 ],
 "metadata": {
  "application/vnd.databricks.v1+notebook": {
   "dashboards": [],
   "environmentMetadata": null,
   "language": "python",
   "notebookMetadata": {
    "pythonIndentUnit": 4
   },
   "notebookName": "test_GFS_access_speed_Databricks",
   "widgets": {}
  },
  "kernelspec": {
   "display_name": "testenv",
   "language": "python",
   "name": "python3"
  },
  "language_info": {
   "codemirror_mode": {
    "name": "ipython",
    "version": 3
   },
   "file_extension": ".py",
   "mimetype": "text/x-python",
   "name": "python",
   "nbconvert_exporter": "python",
   "pygments_lexer": "ipython3",
   "version": "3.11.8"
  }
 },
 "nbformat": 4,
 "nbformat_minor": 0
}
