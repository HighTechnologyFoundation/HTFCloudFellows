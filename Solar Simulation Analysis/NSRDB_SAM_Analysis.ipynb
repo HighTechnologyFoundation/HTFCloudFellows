{
 "cells": [
  {
   "cell_type": "markdown",
   "id": "48efb814",
   "metadata": {},
   "source": [
    "# Solar Simulation Application with National Solar Radiance Database and System Advisor Models\n",
    "\n",
    "## Introducing students to solar irradiance data along with other important meteorological variables in NSRDB and the solar power simulation functionality from System Advisor Models \n",
    "\n",
    "### This notebook demonstrates the following process:\n",
    "- Construct a configuration json file that specify the information in each dataset\n",
    "- Create dropdown user interface to customize input variables \n",
    "- Fetch the urls given input parameters \n",
    "- Run solar simulation through PySAM modules\n",
    "- Visualize the results aggregated daily, monthly, and yearly\n",
    "\n",
    "\n",
    "### Prerequisites:\n",
    "This notebook assumes the following:\n",
    "- Understand the dataset in NSRDB through the website : https://nsrdb.nrel.gov\n",
    "    * list the characteristics for different datasets in NSRDB in `DatasetInfo.json` file\n",
    "- Get NSRDB API Key: https://developer.nrel.gov/signup/\n",
    "    * store the key in `API_Key.json` file\n",
    "- The geographical lat lon information is stored in the `Areas_lat_lon.json` file\n",
    "- The following packages need to be installed into your python environment:\n",
    "    * pandas\n",
    "    * numpy\n",
    "    * matplotlib\n",
    "    * ipywidgets\n",
    "    * alive_progress\n",
    "    * nrel-pysam\n",
    "\n",
    "\n",
    "### References:\n",
    "- NSRDB download instructions using API: https://developer.nrel.gov/docs/solar/nsrdb/\n",
    "- PySAM module references: https://nrel-pysam.readthedocs.io/en/main/py-modindex.html\n",
    "\n",
    "\n",
    "<div>\n",
    "<img src=\"SolarPanels_image.jpg\" width=\"600\"/>\n",
    "</div>"
   ]
  },
  {
   "cell_type": "markdown",
   "id": "50f5d773",
   "metadata": {},
   "source": [
    "---\n",
    "### Create Dropdown Interfaces"
   ]
  },
  {
   "cell_type": "code",
   "execution_count": null,
   "id": "d28f5853",
   "metadata": {},
   "outputs": [],
   "source": [
    "from ipywidgets import interact, Dropdown, Layout\n",
    "\n",
    "style = {'description_width': '200px'}\n",
    "layout = Layout(width='325px')\n",
    "\n",
    "InOutChoice = Dropdown(description = 'Inside or Outside the US', style=style, layout=layout)\n",
    "Area = Dropdown(description = 'Area:', style=style, layout=layout)\n",
    "StartYear = Dropdown(description = 'Start Year:', style=style, layout=layout)\n",
    "EndYear = Dropdown(description = 'End Year:', style=style, layout=layout)\n",
    "Interval = Dropdown(description = 'Temporal Resolution (in Minutes):', style=style, layout=layout)\n",
    "Capacity = Dropdown(description = 'Your System Capacity (in MW):', style=style, layout=layout)"
   ]
  },
  {
   "cell_type": "markdown",
   "id": "7654f1b3",
   "metadata": {},
   "source": [
    "### Define relationship between input variables"
   ]
  },
  {
   "cell_type": "code",
   "execution_count": null,
   "id": "97b14366",
   "metadata": {},
   "outputs": [],
   "source": [
    "import json\n",
    "\n",
    "with open('DatasetInfo.json') as f:\n",
    "    DatasetInfo = json.load(f)\n",
    "with open('API_Key.json') as f:\n",
    "    Cred = json.load(f)\n",
    "\n",
    "import pandas as pd\n",
    "pd.set_option('display.max_columns', None)\n",
    "\n",
    "GeoInfo = pd.read_json('Areas_lat_lon.json')\n",
    "InUSName = GeoInfo.state.tolist()[:-4]\n",
    "OutUSName = GeoInfo.state.tolist()[-4:]\n",
    "\n",
    "InOutArea = {'United States': InUSName, 'International': OutUSName}\n",
    "\n",
    "OutUSAreaYear = {}\n",
    "OutUSAreaRes = {}\n",
    "for key, value in DatasetInfo['OutTheUS'].items():\n",
    "    OutUSAreaYear[key] = [str(i) for i in range(int(value['StartYear']), int(value['EndYear']) + 1)]\n",
    "    OutUSAreaRes[key] = value['Resolution']\n",
    "\n",
    "\n",
    "def Convert(tup, di):\n",
    "    for a, b in tup:\n",
    "        di.setdefault(a, []).append(b)\n",
    "    return di\n",
    "\n",
    "EmptyDict = {}\n",
    "from itertools import product\n",
    "InUSAreaYear = Convert([i for i in product(InUSName, [str(i) for i in range(int(DatasetInfo[\"InTheUS\"][\"LowResoluion\"][\"StartYear\"]), int(DatasetInfo[\"InTheUS\"][\"LowResoluion\"][\"EndYear\"]) + 1)])], EmptyDict)    \n",
    "\n",
    "# merge two dictionaries\n",
    "AllAreaYear = OutUSAreaYear | InUSAreaYear                                                                                                                                      \n",
    "\n"
   ]
  },
  {
   "cell_type": "markdown",
   "id": "751ae49c",
   "metadata": {},
   "source": [
    "### Create function to fetch urls given user inputs"
   ]
  },
  {
   "cell_type": "code",
   "execution_count": null,
   "id": "8392319e",
   "metadata": {},
   "outputs": [],
   "source": [
    "def get_url_from_NSRDB():\n",
    "    \n",
    "    UrlList = []\n",
    "    global lat, lon\n",
    "    \n",
    "    for year in range(int(StartYear.value), EndYear.value+1):\n",
    "\n",
    "        # url parameters\n",
    "        lat = GeoInfo[GeoInfo['state'] == Area.value]['latitude'].values[0]\n",
    "        lon = GeoInfo[GeoInfo['state'] == Area.value]['longitude'].values[0]\n",
    "        api_key = Cred[\"key\"]\n",
    "        year = year\n",
    "        interval = str(Interval.value)\n",
    "        leap_year = 'false'\n",
    "        utc = 'false'\n",
    "        your_name = 'Justin+Lin'\n",
    "        reason_for_use = 'beta+testing'\n",
    "        your_affiliation = 'HTF'\n",
    "        your_email = 'slin@wvhtf.org'\n",
    "        mailing_list = 'false'\n",
    "        if Area.value not in OutUSName:\n",
    "            dataset = DatasetInfo['InTheUS']['HighResolution']['Dataset'] if (Interval.value == \"5\") or (Interval.value == \"15\") else DatasetInfo['InTheUS']['LowResoluion']['Dataset']\n",
    "            attributes = DatasetInfo['InTheUS']['HighResolution']['Attributes']\n",
    "        else:\n",
    "            dataset = ', '.join(map(str, [v['Dataset'] for k, v in DatasetInfo['OutTheUS'].items() if Area.value == k]))\n",
    "            attributes = ', '.join(map(str, [v['Attributes'] for k, v in DatasetInfo['OutTheUS'].items() if Area.value == k]))\n",
    "        \n",
    "        url = f\"https://developer.nrel.gov/api/nsrdb/v2/solar/{dataset}.csv?\"\\\n",
    "                f\"wkt=POINT({lon}%20{lat})&names={year}&leap_day={leap_year}&interval={interval}\"\\\n",
    "                f\"&utc={utc}&full_name={your_name}&email={your_email}&affiliation={your_affiliation}\"\\\n",
    "                f\"&mailing_list={mailing_list}&reason={reason_for_use}&api_key={api_key}&attributes={attributes}\"\n",
    "        \n",
    "        UrlList.append(url)\n",
    "\n",
    "    return UrlList\n"
   ]
  },
  {
   "cell_type": "markdown",
   "id": "4ccfd342",
   "metadata": {},
   "source": [
    "### Create function to run solar simulation through PySAM modules"
   ]
  },
  {
   "cell_type": "code",
   "execution_count": null,
   "id": "c43febf3",
   "metadata": {},
   "outputs": [],
   "source": [
    "import numpy as np\n",
    "from alive_progress import alive_bar\n",
    "import warnings\n",
    "warnings.simplefilter(action='ignore', category=FutureWarning)\n",
    "# pip install nrel-pysam\n",
    "import PySAM.PySSC as pssc\n",
    "\n",
    "def solar_power_simulation():\n",
    "    \n",
    "    global final_data\n",
    "    appended_data = []\n",
    "    \n",
    "    with alive_bar(len(get_url_from_NSRDB()), force_tty=True, title='Simulating', length=20, bar = 'smooth') as bar:\n",
    "        \n",
    "        for url in get_url_from_NSRDB():\n",
    "            \n",
    "            info = pd.read_csv(url, nrows=1)\n",
    "            timezone, elevation = info['Local Time Zone'], info['Elevation']\n",
    "        \n",
    "            df = pd.read_csv(url, skiprows=2)\n",
    "\n",
    "            # SAM Model for solar simulation\n",
    "            ssc = pssc.PySSC()\n",
    "            \n",
    "            # Resource inputs for SAM model:\n",
    "            # Must be byte strings\n",
    "            wfd = ssc.data_create()\n",
    "            ssc.data_set_number(wfd, b'lat', lat)\n",
    "            ssc.data_set_number(wfd, b'lon', lon)\n",
    "            ssc.data_set_number(wfd, b'tz', timezone)\n",
    "            ssc.data_set_number(wfd, b'elev', elevation)\n",
    "            ssc.data_set_array(wfd, b'year', df['Year'])\n",
    "            ssc.data_set_array(wfd, b'month', df['Month'])\n",
    "            ssc.data_set_array(wfd, b'day', df['Day'])\n",
    "            ssc.data_set_array(wfd, b'hour', df['Hour'])\n",
    "            ssc.data_set_array(wfd, b'minute', df['Minute'])\n",
    "            ssc.data_set_array(wfd, b'dn', df['DNI'])\n",
    "            ssc.data_set_array(wfd, b'df', df['DHI'])\n",
    "            ssc.data_set_array(wfd, b'wspd', df['Wind Speed'])\n",
    "            if Area.value == 'Puerto Rico':\n",
    "                ssc.data_set_array(wfd, b'tdry', df['Air Temperature'])\n",
    "            else:\n",
    "                ssc.data_set_array(wfd, b'tdry', df['Temperature'])\n",
    "        \n",
    "            # Create SAM compliant object  \n",
    "            dat = ssc.data_create()\n",
    "            ssc.data_set_table(dat, b'solar_resource_data', wfd)\n",
    "            ssc.data_free(wfd)\n",
    "        \n",
    "            # Specify the system Configuration\n",
    "            # Set system capacity in MW\n",
    "            ssc.data_set_number(dat, b'system_capacity', Capacity.value)\n",
    "            # Set DC/AC ratio (or power ratio). See https://sam.nrel.gov/sites/default/files/content/virtual_conf_july_2013/07-sam-virtual-conference-2013-woodcock.pdf\n",
    "            ssc.data_set_number(dat, b'dc_ac_ratio', 1.1)\n",
    "            # Set tilt of system in degrees\n",
    "            ssc.data_set_number(dat, b'tilt', 25)\n",
    "            # Set azimuth angle (in degrees) from north (0 degrees)\n",
    "            ssc.data_set_number(dat, b'azimuth', 180)\n",
    "            # Set the inverter efficency\n",
    "            ssc.data_set_number(dat, b'inv_eff', 96)\n",
    "            # Set the system losses, in percent\n",
    "            ssc.data_set_number(dat, b'losses', 14.0757)\n",
    "            # Specify fixed tilt system (0=Fixed, 1=Fixed Roof, 2=1 Axis Tracker, 3=Backtracted, 4=2 Axis Tracker)\n",
    "            ssc.data_set_number(dat, b'array_type', 0)\n",
    "            # Set ground coverage ratio\n",
    "            ssc.data_set_number(dat, b'gcr', 0.4)\n",
    "            # Set constant loss adjustment\n",
    "            ssc.data_set_number(dat, b'adjust:constant', 0)\n",
    "        \n",
    "            # execute and put generation results back into dataframe\n",
    "            mod = ssc.module_create(b'pvwattsv5')\n",
    "            ssc.module_exec(mod, dat)\n",
    "            df[b'generation'] = np.array(ssc.data_get_array(dat, b'gen'))\n",
    "            \n",
    "            # free the memory\n",
    "            ssc.data_free(dat)\n",
    "            ssc.module_free(mod)\n",
    "            \n",
    "            appended_data.append(df)\n",
    "\n",
    "            bar()\n",
    "        \n",
    "    final_data = pd.concat(appended_data)\n",
    "    \n",
    "    print(f'\\033[1mThis dataset has {final_data.shape[0]} rows and {final_data.shape[1]} columns\\033[0m')\n",
    "    return final_data.head(20)"
   ]
  },
  {
   "cell_type": "markdown",
   "id": "cdffe3f0",
   "metadata": {},
   "source": [
    "### Create functions to visualize the results "
   ]
  },
  {
   "cell_type": "code",
   "execution_count": null,
   "id": "4b646e7c",
   "metadata": {},
   "outputs": [],
   "source": [
    "# create chart to see daily changes for GHI, DNI, DHI, and generation\n",
    "from matplotlib import pyplot as plt\n",
    "plt.style.use('Solarize_Light2')\n",
    "\n",
    "def daily_plot(df):\n",
    "    \n",
    "    fig = plt.figure()\n",
    "    ax = fig.add_subplot(111)\n",
    "    ax2 = ax.twinx()\n",
    "    if (Area.value == 'Vietnam') or (Area.value == 'Philippines'):\n",
    "        df = df.groupby('Hour').sum()[['GHI', 'DNI', 'DHI', b'generation']]\n",
    "        df[['GHI', 'DNI', 'DHI']].plot(ax=ax, figsize=(15,8), style={'DNI': 'c-o', 'DHI': '-o', 'GHI': 'r-o'}, legend=False)\n",
    "    else:\n",
    "        df = df.groupby('Hour').sum()[['GHI', 'DNI', 'DHI', 'Solar Zenith Angle', b'generation']]\n",
    "        df[['GHI', 'DNI', 'DHI', 'Solar Zenith Angle']].plot(ax=ax, figsize=(15,8), style={'Solar Zenith Angle': 'm-o', 'DNI': 'c-o', 'DHI': 'y-o', 'GHI': 'r-o'}, legend=False)\n",
    "    df[b'generation'].plot(ax=ax2, style={b'generation': '-D'})\n",
    "    ax.set_ylabel('W/m2')\n",
    "    ax2.set_ylabel('kW')\n",
    "    ax.grid()\n",
    "    ax.legend(loc=2, ncol=5, frameon=False)\n",
    "    ax2.legend(loc=1, frameon=False)\n",
    "    ax.set_xticks([i for i in range(1, 25, 2)])\n",
    "    if StartYear.value != EndYear.value:\n",
    "        plt.title(f'Aggregated Daily solar simulation results with {Interval.value} min temporal resolution in {Area.value} from {StartYear.value} to {EndYear.value}')\n",
    "    else:\n",
    "        plt.title(f'Aggregated Daily solar simulation results with {Interval.value} min temporal resolution in {Area.value} in {StartYear.value}')\n"
   ]
  },
  {
   "cell_type": "code",
   "execution_count": null,
   "id": "fbd9bb63",
   "metadata": {},
   "outputs": [],
   "source": [
    "# create chart to see monthly changes for GHI and generation\n",
    "def monthly_plot(df):\n",
    "    \n",
    "    fig = plt.figure()\n",
    "    ax = fig.add_subplot(111)\n",
    "    ax2 = ax.twinx()\n",
    "    df = df.groupby('Month').sum()[['GHI', b'generation']]\n",
    "    df['GHI'].plot(ax=ax, figsize=(15,8), color = 'tab:red', style={'GHI': '-o'}, legend=False)\n",
    "    df[b'generation'].plot(ax=ax2, style={b'generation': '-D'})\n",
    "    ax.set_ylabel('W/m2')\n",
    "    ax2.set_ylabel('kW')\n",
    "    ax.grid()\n",
    "    ax.legend(loc=2, ncol=5, frameon=False)\n",
    "    ax2.legend(loc=1, frameon=False)\n",
    "    ax.set_xticks(df.index)\n",
    "    if StartYear.value != EndYear.value:\n",
    "        plt.title(f'Aggregated Monthly solar simulation results with {Interval.value} min temporal resolution in {Area.value} from {StartYear.value} to {EndYear.value}')\n",
    "    else:\n",
    "        plt.title(f'Aggregated Monthly solar simulation results with {Interval.value} min temporal resolution in {Area.value} in {StartYear.value}')"
   ]
  },
  {
   "cell_type": "code",
   "execution_count": null,
   "id": "81325788",
   "metadata": {},
   "outputs": [],
   "source": [
    "# create chart to see yearly changes for GHI and generation\n",
    "def yearly_plot(df):\n",
    "    \n",
    "    fig = plt.figure()\n",
    "    ax = fig.add_subplot(111)\n",
    "    ax2 = ax.twinx()\n",
    "    df = df.groupby('Year').sum()[['GHI', b'generation']]\n",
    "    df['GHI'].plot(ax=ax, figsize=(15,8), color = 'tab:red', style = {'GHI' : '-o'}, legend=False)\n",
    "    df[b'generation'].plot(ax=ax2, style={b'generation': '-D'})\n",
    "    ax.grid()\n",
    "    ax.set_ylabel('W/m2')\n",
    "    ax2.set_ylabel('kW')\n",
    "    ax.legend(loc=2, ncol=5, frameon=False)\n",
    "    ax2.legend(loc=1, frameon=False)\n",
    "    ax.set_xticks(df.index)\n",
    "    if StartYear.value != EndYear.value:\n",
    "        plt.title(f'Aggregated Yearly solar simulation results with {Interval.value} min temporal resolution in {Area.value} from {StartYear.value} to {EndYear.value}')\n",
    "    else:\n",
    "        plt.title(f'Aggregated Yearly solar simulation results with {Interval.value} min temporal resolution in {Area.value} in {StartYear.value}')"
   ]
  },
  {
   "cell_type": "markdown",
   "id": "e9bdb858",
   "metadata": {},
   "source": [
    "---\n",
    "### User Interface for parameters input"
   ]
  },
  {
   "cell_type": "code",
   "execution_count": null,
   "id": "a972d662",
   "metadata": {},
   "outputs": [],
   "source": [
    "@interact(inout = InOutChoice, area = Area, start = StartYear, end = EndYear, interval = Interval, capacity = Capacity)\n",
    "def print_option(inout, area, start, end, interval, capacity):\n",
    "    try:\n",
    "        InOutChoice.options = ['United States', 'International']\n",
    "        Area.options = InOutArea[inout]\n",
    "        StartYear.options = AllAreaYear[Area.value]\n",
    "        EndYear.options = [i for i in range(int(StartYear.value), int(AllAreaYear[Area.value][-1]) + 1)]\n",
    "        if (StartYear.value >= DatasetInfo['InTheUS']['HighResolution']['StartYear']) and (inout == 'United States'):\n",
    "            resolution = DatasetInfo[\"InTheUS\"][\"HighResolution\"][\"Resolution\"]\n",
    "        elif inout == 'United States':\n",
    "            resolution = DatasetInfo[\"InTheUS\"][\"LowResoluion\"][\"Resolution\"]\n",
    "        else:\n",
    "            resolution = OutUSAreaRes[Area.value]\n",
    "        Interval.options = resolution\n",
    "        Capacity.options = [i / 10 for i in range(1, 101)]\n",
    "        \n",
    "        print(inout, area, start, end, interval, capacity)\n",
    "    \n",
    "    except KeyError:\n",
    "        print('Please choose an area')\n",
    "    except TypeError: \n",
    "        print('Please choose a start year')"
   ]
  },
  {
   "cell_type": "markdown",
   "id": "34768b24",
   "metadata": {},
   "source": [
    "### Fetch urls "
   ]
  },
  {
   "cell_type": "code",
   "execution_count": null,
   "id": "780ab3bc",
   "metadata": {},
   "outputs": [],
   "source": [
    "get_url_from_NSRDB()"
   ]
  },
  {
   "cell_type": "markdown",
   "id": "22fb1b46",
   "metadata": {},
   "source": [
    "### Run simulations"
   ]
  },
  {
   "cell_type": "code",
   "execution_count": null,
   "id": "78eb3bc1",
   "metadata": {},
   "outputs": [],
   "source": [
    "solar_power_simulation()"
   ]
  },
  {
   "cell_type": "markdown",
   "id": "e8d26b51",
   "metadata": {},
   "source": [
    "### Visualization for the simulation results aggregated daily monthly yearly\n",
    "\n",
    "Differences Between DNI, DHI, GHI:\n",
    "- Direct Normal Irradiance (DNI) is the amount of solar radiation received per unit area by a surface that is always held perpendicular (or normal) to the rays that come in a straight line from the direction of the sun at its current position in the sky. Typically, you can maximize the amount of irradiance annually received by a surface by keeping it normal to incoming radiation. This quantity is of particular interest to concentrating solar thermal installations and installations that track the position of the sun.\n",
    "\n",
    "- Diffuse Horizontal Irradiance (DHI) is the amount of radiation received per unit area by a surface (not subject to any shade or shadow) that does not arrive on a direct path from the sun, but has been scattered by molecules and particles in the atmosphere and comes equally from all directions.\n",
    "\n",
    "- Global Horizontal Irradiance (GHI) is the total amount of shortwave radiation received from above by a surface horizontal to the ground. This value is of particular interest to photovoltaic installations and includes both Direct Normal Irradiance (DNI) and Diffuse Horizontal Irradiance (DHI)."
   ]
  },
  {
   "cell_type": "code",
   "execution_count": null,
   "id": "20763934",
   "metadata": {},
   "outputs": [],
   "source": [
    "daily_plot(final_data)"
   ]
  },
  {
   "cell_type": "code",
   "execution_count": null,
   "id": "10b617ba",
   "metadata": {},
   "outputs": [],
   "source": [
    "monthly_plot(final_data)"
   ]
  },
  {
   "cell_type": "code",
   "execution_count": null,
   "id": "f4cae138",
   "metadata": {},
   "outputs": [],
   "source": [
    "yearly_plot(final_data)"
   ]
  }
 ],
 "metadata": {
  "kernelspec": {
   "display_name": "myenv",
   "language": "python",
   "name": "python3"
  },
  "language_info": {
   "codemirror_mode": {
    "name": "ipython",
    "version": 3
   },
   "file_extension": ".py",
   "mimetype": "text/x-python",
   "name": "python",
   "nbconvert_exporter": "python",
   "pygments_lexer": "ipython3",
   "version": "3.9.13"
  }
 },
 "nbformat": 4,
 "nbformat_minor": 5
}
